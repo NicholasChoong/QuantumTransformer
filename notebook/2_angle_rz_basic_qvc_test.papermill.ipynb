{
 "cells": [
  {
   "cell_type": "markdown",
   "id": "d7f8c889",
   "metadata": {
    "papermill": {
     "duration": 0.01092,
     "end_time": "2024-08-15T14:17:20.613793",
     "exception": false,
     "start_time": "2024-08-15T14:17:20.602873",
     "status": "completed"
    },
    "tags": []
   },
   "source": [
    "# Classical Transformer\n"
   ]
  },
  {
   "cell_type": "code",
   "execution_count": 1,
   "id": "1ebd3762",
   "metadata": {
    "execution": {
     "iopub.execute_input": "2024-08-15T14:17:20.637101Z",
     "iopub.status.busy": "2024-08-15T14:17:20.636796Z",
     "iopub.status.idle": "2024-08-15T14:17:22.835081Z",
     "shell.execute_reply": "2024-08-15T14:17:22.834515Z"
    },
    "papermill": {
     "duration": 2.210769,
     "end_time": "2024-08-15T14:17:22.836425",
     "exception": false,
     "start_time": "2024-08-15T14:17:20.625656",
     "status": "completed"
    },
    "tags": []
   },
   "outputs": [
    {
     "name": "stderr",
     "output_type": "stream",
     "text": [
      "/home/nchoong/.conda/envs/quant/lib/python3.11/site-packages/torchtext/vocab/__init__.py:4: UserWarning: \n",
      "/!\\ IMPORTANT WARNING ABOUT TORCHTEXT STATUS /!\\ \n",
      "Torchtext is deprecated and the last released version will be 0.18 (this one). You can silence this warning by calling the following at the beginnign of your scripts: `import torchtext; torchtext.disable_torchtext_deprecation_warning()`\n",
      "  warnings.warn(torchtext._TORCHTEXT_DEPRECATION_MSG)\n",
      "/home/nchoong/.conda/envs/quant/lib/python3.11/site-packages/torchtext/utils.py:4: UserWarning: \n",
      "/!\\ IMPORTANT WARNING ABOUT TORCHTEXT STATUS /!\\ \n",
      "Torchtext is deprecated and the last released version will be 0.18 (this one). You can silence this warning by calling the following at the beginnign of your scripts: `import torchtext; torchtext.disable_torchtext_deprecation_warning()`\n",
      "  warnings.warn(torchtext._TORCHTEXT_DEPRECATION_MSG)\n",
      "/home/nchoong/.conda/envs/quant/lib/python3.11/site-packages/torchtext/datasets/__init__.py:4: UserWarning: \n",
      "/!\\ IMPORTANT WARNING ABOUT TORCHTEXT STATUS /!\\ \n",
      "Torchtext is deprecated and the last released version will be 0.18 (this one). You can silence this warning by calling the following at the beginnign of your scripts: `import torchtext; torchtext.disable_torchtext_deprecation_warning()`\n",
      "  warnings.warn(torchtext._TORCHTEXT_DEPRECATION_MSG)\n",
      "/home/nchoong/.conda/envs/quant/lib/python3.11/site-packages/torchtext/data/__init__.py:4: UserWarning: \n",
      "/!\\ IMPORTANT WARNING ABOUT TORCHTEXT STATUS /!\\ \n",
      "Torchtext is deprecated and the last released version will be 0.18 (this one). You can silence this warning by calling the following at the beginnign of your scripts: `import torchtext; torchtext.disable_torchtext_deprecation_warning()`\n",
      "  warnings.warn(torchtext._TORCHTEXT_DEPRECATION_MSG)\n"
     ]
    }
   ],
   "source": [
    "import os\n",
    "import math\n",
    "import random\n",
    "from typing import Callable, Iterable\n",
    "from copy import deepcopy\n",
    "import numpy as np\n",
    "from time import time\n",
    "\n",
    "from tqdm import tqdm\n",
    "\n",
    "from sklearn.metrics import roc_auc_score\n",
    "\n",
    "import torch\n",
    "import torch.nn as nn\n",
    "from torch import Tensor, device\n",
    "from torch.nn.utils.rnn import pad_sequence\n",
    "from torch.utils.data import DataLoader\n",
    "from torch.nn.modules.loss import _Loss\n",
    "from torch.optim import Optimizer\n",
    "\n",
    "from torchtext.vocab import Vocab\n",
    "from torchtext.datasets import IMDB\n",
    "from torchtext.data.utils import get_tokenizer\n",
    "from torchtext.data.functional import to_map_style_dataset\n",
    "from torchtext.vocab import build_vocab_from_iterator"
   ]
  },
  {
   "cell_type": "markdown",
   "id": "5c0e2b97",
   "metadata": {
    "papermill": {
     "duration": 0.010264,
     "end_time": "2024-08-15T14:17:22.857090",
     "exception": false,
     "start_time": "2024-08-15T14:17:22.846826",
     "status": "completed"
    },
    "tags": []
   },
   "source": [
    "## Setting up environment\n"
   ]
  },
  {
   "cell_type": "code",
   "execution_count": 2,
   "id": "996bd96d",
   "metadata": {
    "execution": {
     "iopub.execute_input": "2024-08-15T14:17:22.878878Z",
     "iopub.status.busy": "2024-08-15T14:17:22.878527Z",
     "iopub.status.idle": "2024-08-15T14:17:22.924334Z",
     "shell.execute_reply": "2024-08-15T14:17:22.923748Z"
    },
    "papermill": {
     "duration": 0.058429,
     "end_time": "2024-08-15T14:17:22.925683",
     "exception": false,
     "start_time": "2024-08-15T14:17:22.867254",
     "status": "completed"
    },
    "tags": []
   },
   "outputs": [
    {
     "name": "stdout",
     "output_type": "stream",
     "text": [
      "cuda\n"
     ]
    }
   ],
   "source": [
    "dev = (\n",
    "    torch.device(\"mps\")\n",
    "    if torch.backends.mps.is_available()\n",
    "    else torch.device(\"cuda\") if torch.cuda.is_available() else torch.device(\"cpu\")\n",
    ")\n",
    "\n",
    "print(dev)\n",
    "\n",
    "seed = 42\n",
    "\n",
    "os.environ[\"PYTHONHASHSEED\"] = str(seed)\n",
    "random.seed(seed)\n",
    "np.random.seed(seed)\n",
    "\n",
    "torch.manual_seed(seed)\n",
    "torch.cuda.manual_seed(seed)\n",
    "torch.backends.cudnn.deterministic = True\n",
    "torch.backends.cudnn.benchmark = False"
   ]
  },
  {
   "cell_type": "markdown",
   "id": "72751933",
   "metadata": {
    "papermill": {
     "duration": 0.010466,
     "end_time": "2024-08-15T14:17:22.946459",
     "exception": false,
     "start_time": "2024-08-15T14:17:22.935993",
     "status": "completed"
    },
    "tags": []
   },
   "source": [
    "## Helper functions\n"
   ]
  },
  {
   "cell_type": "markdown",
   "id": "6a070fe7",
   "metadata": {
    "papermill": {
     "duration": 0.009607,
     "end_time": "2024-08-15T14:17:22.966264",
     "exception": false,
     "start_time": "2024-08-15T14:17:22.956657",
     "status": "completed"
    },
    "tags": []
   },
   "source": [
    "### Binary Accuracy\n"
   ]
  },
  {
   "cell_type": "code",
   "execution_count": 3,
   "id": "c7dad8f3",
   "metadata": {
    "execution": {
     "iopub.execute_input": "2024-08-15T14:17:22.987948Z",
     "iopub.status.busy": "2024-08-15T14:17:22.987740Z",
     "iopub.status.idle": "2024-08-15T14:17:22.991423Z",
     "shell.execute_reply": "2024-08-15T14:17:22.990950Z"
    },
    "papermill": {
     "duration": 0.015866,
     "end_time": "2024-08-15T14:17:22.992738",
     "exception": false,
     "start_time": "2024-08-15T14:17:22.976872",
     "status": "completed"
    },
    "tags": []
   },
   "outputs": [],
   "source": [
    "def binary_accuracy(preds: Tensor, y: Tensor):\n",
    "    \"\"\"\n",
    "    Returns accuracy per batch, i.e. if you get 8/10 right, this returns 0.8, NOT 8\n",
    "    \"\"\"\n",
    "    # round predictions to the closest integer\n",
    "    rounded_preds = preds.sigmoid().round()\n",
    "    correct = (rounded_preds == y).float()  # convert into float for division\n",
    "    acc = correct.sum() / len(correct)\n",
    "    return acc"
   ]
  },
  {
   "cell_type": "markdown",
   "id": "3e4f4b4d",
   "metadata": {
    "papermill": {
     "duration": 0.010357,
     "end_time": "2024-08-15T14:17:23.013406",
     "exception": false,
     "start_time": "2024-08-15T14:17:23.003049",
     "status": "completed"
    },
    "tags": []
   },
   "source": [
    "### Clone Model\n"
   ]
  },
  {
   "cell_type": "code",
   "execution_count": 4,
   "id": "5bf45f6d",
   "metadata": {
    "execution": {
     "iopub.execute_input": "2024-08-15T14:17:23.035345Z",
     "iopub.status.busy": "2024-08-15T14:17:23.035132Z",
     "iopub.status.idle": "2024-08-15T14:17:23.038258Z",
     "shell.execute_reply": "2024-08-15T14:17:23.037782Z"
    },
    "papermill": {
     "duration": 0.015369,
     "end_time": "2024-08-15T14:17:23.039448",
     "exception": false,
     "start_time": "2024-08-15T14:17:23.024079",
     "status": "completed"
    },
    "tags": []
   },
   "outputs": [],
   "source": [
    "def get_clones(module: nn.Module, N: int):\n",
    "    return nn.ModuleList([deepcopy(module) for _ in range(N)])"
   ]
  },
  {
   "cell_type": "markdown",
   "id": "3bda343e",
   "metadata": {
    "papermill": {
     "duration": 0.010551,
     "end_time": "2024-08-15T14:17:23.060537",
     "exception": false,
     "start_time": "2024-08-15T14:17:23.049986",
     "status": "completed"
    },
    "tags": []
   },
   "source": [
    "### Data Loader\n"
   ]
  },
  {
   "cell_type": "code",
   "execution_count": 5,
   "id": "bf2c538c",
   "metadata": {
    "execution": {
     "iopub.execute_input": "2024-08-15T14:17:23.082788Z",
     "iopub.status.busy": "2024-08-15T14:17:23.082581Z",
     "iopub.status.idle": "2024-08-15T14:17:23.090622Z",
     "shell.execute_reply": "2024-08-15T14:17:23.090102Z"
    },
    "papermill": {
     "duration": 0.020721,
     "end_time": "2024-08-15T14:17:23.091918",
     "exception": false,
     "start_time": "2024-08-15T14:17:23.071197",
     "status": "completed"
    },
    "tags": []
   },
   "outputs": [],
   "source": [
    "def yield_tokens(data: list[tuple[int, str]], tokenizer: Callable[[str], list[str]]):\n",
    "    for label, text in data:\n",
    "        yield tokenizer(text.lower())\n",
    "\n",
    "\n",
    "def text_transform(text: str, vocab: Vocab, tokenizer: Callable[[str], list[str]]):\n",
    "    return vocab([token for token in tokenizer(text.lower())])\n",
    "\n",
    "\n",
    "def label_transform(label: int):\n",
    "    return torch.tensor(1.0 if label == 2 else 0.0, dtype=torch.float)\n",
    "\n",
    "\n",
    "def collate_batch(\n",
    "    batch: Iterable[tuple[int, str]],\n",
    "    vocab: Vocab,\n",
    "    tokenizer: Callable[[str], list[str]],\n",
    "):\n",
    "    pad_idx = vocab[\"<pad>\"]\n",
    "    label_list, text_list = [], []\n",
    "\n",
    "    for label, text in batch:\n",
    "        label_list.append(label_transform(label))\n",
    "        processed_text = torch.tensor(text_transform(text, vocab, tokenizer))\n",
    "        text_list.append(processed_text)\n",
    "    return torch.tensor(label_list), pad_sequence(text_list, padding_value=pad_idx)\n",
    "\n",
    "\n",
    "def batch_sampler(data: list, batch_size: int, tokenizer: Callable[[str], list[str]]):\n",
    "    indices = [(i, len(tokenizer(s[1]))) for i, s in enumerate(data)]\n",
    "    random.shuffle(indices)\n",
    "    pooled_indices = []\n",
    "    # create pool of indices with similar lengths\n",
    "    for i in range(0, len(indices), batch_size * 100):\n",
    "        pooled_indices.extend(\n",
    "            sorted(indices[i : i + batch_size * 100], key=lambda x: x[1])\n",
    "        )\n",
    "\n",
    "    pooled_indices = [x[0] for x in pooled_indices]\n",
    "\n",
    "    # yield indices for current batch\n",
    "    for i in range(0, len(pooled_indices), batch_size):\n",
    "        yield pooled_indices[i : i + batch_size]"
   ]
  },
  {
   "cell_type": "markdown",
   "id": "a30db08e",
   "metadata": {
    "papermill": {
     "duration": 0.010573,
     "end_time": "2024-08-15T14:17:23.114310",
     "exception": false,
     "start_time": "2024-08-15T14:17:23.103737",
     "status": "completed"
    },
    "tags": []
   },
   "source": [
    "### Parameter Count\n"
   ]
  },
  {
   "cell_type": "code",
   "execution_count": 6,
   "id": "634a086b",
   "metadata": {
    "execution": {
     "iopub.execute_input": "2024-08-15T14:17:23.136222Z",
     "iopub.status.busy": "2024-08-15T14:17:23.135989Z",
     "iopub.status.idle": "2024-08-15T14:17:23.138992Z",
     "shell.execute_reply": "2024-08-15T14:17:23.138534Z"
    },
    "papermill": {
     "duration": 0.015188,
     "end_time": "2024-08-15T14:17:23.140159",
     "exception": false,
     "start_time": "2024-08-15T14:17:23.124971",
     "status": "completed"
    },
    "tags": []
   },
   "outputs": [],
   "source": [
    "def count_parameters(model: nn.Module):\n",
    "    return sum(p.numel() for p in model.parameters() if p.requires_grad)"
   ]
  },
  {
   "cell_type": "markdown",
   "id": "d521b31f",
   "metadata": {
    "papermill": {
     "duration": 0.010431,
     "end_time": "2024-08-15T14:17:23.160944",
     "exception": false,
     "start_time": "2024-08-15T14:17:23.150513",
     "status": "completed"
    },
    "tags": []
   },
   "source": [
    "### Epoch Time\n"
   ]
  },
  {
   "cell_type": "code",
   "execution_count": 7,
   "id": "8560449c",
   "metadata": {
    "execution": {
     "iopub.execute_input": "2024-08-15T14:17:23.183266Z",
     "iopub.status.busy": "2024-08-15T14:17:23.183036Z",
     "iopub.status.idle": "2024-08-15T14:17:23.186160Z",
     "shell.execute_reply": "2024-08-15T14:17:23.185717Z"
    },
    "papermill": {
     "duration": 0.015614,
     "end_time": "2024-08-15T14:17:23.187265",
     "exception": false,
     "start_time": "2024-08-15T14:17:23.171651",
     "status": "completed"
    },
    "tags": []
   },
   "outputs": [],
   "source": [
    "def epoch_time(start_time: float, end_time: float):\n",
    "    elapsed_time = end_time - start_time\n",
    "    elapsed_mins = int(elapsed_time / 60)\n",
    "    elapsed_secs = int(elapsed_time - (elapsed_mins * 60))\n",
    "    return elapsed_mins, elapsed_secs"
   ]
  },
  {
   "cell_type": "markdown",
   "id": "9a1ee003",
   "metadata": {
    "papermill": {
     "duration": 0.01085,
     "end_time": "2024-08-15T14:17:23.208510",
     "exception": false,
     "start_time": "2024-08-15T14:17:23.197660",
     "status": "completed"
    },
    "tags": []
   },
   "source": [
    "### Train\n"
   ]
  },
  {
   "cell_type": "code",
   "execution_count": 8,
   "id": "12f5abf8",
   "metadata": {
    "execution": {
     "iopub.execute_input": "2024-08-15T14:17:23.230752Z",
     "iopub.status.busy": "2024-08-15T14:17:23.230511Z",
     "iopub.status.idle": "2024-08-15T14:17:23.236219Z",
     "shell.execute_reply": "2024-08-15T14:17:23.235728Z"
    },
    "papermill": {
     "duration": 0.018099,
     "end_time": "2024-08-15T14:17:23.237398",
     "exception": false,
     "start_time": "2024-08-15T14:17:23.219299",
     "status": "completed"
    },
    "tags": []
   },
   "outputs": [],
   "source": [
    "def train(\n",
    "    model: nn.Module,\n",
    "    dataloader: DataLoader,\n",
    "    optimizer: Optimizer,\n",
    "    criterion: _Loss,\n",
    "    max_seq_len: int,\n",
    "    progress_bar,\n",
    "):\n",
    "    epoch_loss = []\n",
    "    epoch_acc = []\n",
    "    epoch_true = []\n",
    "    epoch_pred = []\n",
    "\n",
    "    model.train()\n",
    "    for i, (lab, text) in enumerate(dataloader):\n",
    "\n",
    "        optimizer.zero_grad()\n",
    "        inputs = torch.LongTensor(text.T).to(dev)\n",
    "        if inputs.size(1) > max_seq_len:\n",
    "            inputs = inputs[:, :max_seq_len]\n",
    "        model.to(dev)\n",
    "        predictions = model(inputs).squeeze(1)\n",
    "\n",
    "        label = lab.to(dev)\n",
    "        # label = label.unsqueeze(1)\n",
    "        loss = criterion(predictions, label)\n",
    "        # loss = F.nll_loss(predictions, label)\n",
    "        acc = binary_accuracy(predictions, label)\n",
    "\n",
    "        loss.backward()\n",
    "        optimizer.step()\n",
    "\n",
    "        epoch_loss.append(loss.item())\n",
    "        epoch_acc.append(acc.item())\n",
    "        epoch_true.extend(label.tolist())\n",
    "        epoch_pred.extend(predictions.sigmoid().tolist())\n",
    "\n",
    "        progress_bar.update(dataloader.batch_size)\n",
    "\n",
    "    # print(epoch_loss, epoch_acc, len(dataloader.dataset))\n",
    "\n",
    "    epoch_auc = 100.0 * roc_auc_score(epoch_true, epoch_pred, multi_class=\"ovr\")\n",
    "    # divide the total loss by the total number of batches per epoch\n",
    "    return np.mean(epoch_loss), np.mean(epoch_acc), epoch_auc"
   ]
  },
  {
   "cell_type": "markdown",
   "id": "a415a370",
   "metadata": {
    "papermill": {
     "duration": 0.010924,
     "end_time": "2024-08-15T14:17:23.258858",
     "exception": false,
     "start_time": "2024-08-15T14:17:23.247934",
     "status": "completed"
    },
    "tags": []
   },
   "source": [
    "### Evaluate\n"
   ]
  },
  {
   "cell_type": "code",
   "execution_count": 9,
   "id": "4402e52b",
   "metadata": {
    "execution": {
     "iopub.execute_input": "2024-08-15T14:17:23.280912Z",
     "iopub.status.busy": "2024-08-15T14:17:23.280653Z",
     "iopub.status.idle": "2024-08-15T14:17:23.286014Z",
     "shell.execute_reply": "2024-08-15T14:17:23.285555Z"
    },
    "papermill": {
     "duration": 0.018067,
     "end_time": "2024-08-15T14:17:23.287466",
     "exception": false,
     "start_time": "2024-08-15T14:17:23.269399",
     "status": "completed"
    },
    "tags": []
   },
   "outputs": [],
   "source": [
    "def evaluate(\n",
    "    model: nn.Module, dataloader: DataLoader, criterion: _Loss, max_seq_len: int\n",
    "):\n",
    "\n",
    "    epoch_loss = []\n",
    "    epoch_acc = []\n",
    "    epoch_true = []\n",
    "    epoch_pred = []\n",
    "\n",
    "    model.eval()\n",
    "\n",
    "    with torch.no_grad():\n",
    "        for i, (lab, text) in enumerate(dataloader):\n",
    "            inputs = torch.LongTensor(text.T).to(dev)\n",
    "            if inputs.size(1) > max_seq_len:\n",
    "                inputs = inputs[:, :max_seq_len]\n",
    "\n",
    "            predictions = model(inputs).squeeze(1)\n",
    "            label = lab.to(dev)\n",
    "\n",
    "            # label = label.unsqueeze(1)\n",
    "\n",
    "            loss = criterion(predictions, label)\n",
    "            # loss = F.nll_loss(predictions, label)\n",
    "\n",
    "            acc = binary_accuracy(predictions, label)\n",
    "\n",
    "            epoch_loss.append(loss.item())\n",
    "            epoch_acc.append(acc.item())\n",
    "            epoch_true.extend(label.tolist())\n",
    "            epoch_pred.extend(predictions.sigmoid().tolist())\n",
    "\n",
    "    epoch_auc = 100.0 * roc_auc_score(epoch_true, epoch_pred, multi_class=\"ovr\")\n",
    "\n",
    "    # divide the total loss by the total number of batches per epoch\n",
    "\n",
    "    return np.mean(epoch_loss), np.mean(epoch_acc), epoch_auc"
   ]
  },
  {
   "cell_type": "markdown",
   "id": "d176036a",
   "metadata": {
    "papermill": {
     "duration": 0.010797,
     "end_time": "2024-08-15T14:17:23.309064",
     "exception": false,
     "start_time": "2024-08-15T14:17:23.298267",
     "status": "completed"
    },
    "tags": []
   },
   "source": [
    "## Model\n"
   ]
  },
  {
   "cell_type": "markdown",
   "id": "fe44c5ad",
   "metadata": {
    "papermill": {
     "duration": 0.010636,
     "end_time": "2024-08-15T14:17:23.330498",
     "exception": false,
     "start_time": "2024-08-15T14:17:23.319862",
     "status": "completed"
    },
    "tags": []
   },
   "source": [
    "### Positional Encoding\n"
   ]
  },
  {
   "cell_type": "code",
   "execution_count": 10,
   "id": "a24587d6",
   "metadata": {
    "execution": {
     "iopub.execute_input": "2024-08-15T14:17:23.367028Z",
     "iopub.status.busy": "2024-08-15T14:17:23.366785Z",
     "iopub.status.idle": "2024-08-15T14:17:23.371915Z",
     "shell.execute_reply": "2024-08-15T14:17:23.371394Z"
    },
    "papermill": {
     "duration": 0.031927,
     "end_time": "2024-08-15T14:17:23.373158",
     "exception": false,
     "start_time": "2024-08-15T14:17:23.341231",
     "status": "completed"
    },
    "tags": []
   },
   "outputs": [],
   "source": [
    "class PositionalEncoder(nn.Module):\n",
    "\n",
    "    def __init__(self, d_model: int, dropout=0.1, max_len=512, device=device(\"cpu\")):\n",
    "        super().__init__()\n",
    "        self.dropout = nn.Dropout(p=dropout)\n",
    "\n",
    "        position = torch.arange(max_len).unsqueeze(1)\n",
    "        div_term = torch.exp(\n",
    "            torch.arange(0, d_model, 2) * (-math.log(10000.0) / d_model)\n",
    "        )\n",
    "        pe = torch.zeros(max_len, 1, d_model, device=device)\n",
    "        pe[:, 0, 0::2] = torch.sin(position * div_term)\n",
    "        pe[:, 0, 1::2] = torch.cos(position * div_term)\n",
    "        self.register_buffer(\"pe\", pe)\n",
    "\n",
    "    def forward(self, x: Tensor) -> Tensor:\n",
    "        \"\"\"\n",
    "        Arguments:\n",
    "            x: Tensor, shape ``[seq_len, batch_size, embedding_dim]``\n",
    "        \"\"\"\n",
    "        seq_len = x.size(1)\n",
    "        x = x + self.pe[: x.size(0)]\n",
    "        return self.dropout(x)"
   ]
  },
  {
   "cell_type": "markdown",
   "id": "7e9a88e2",
   "metadata": {
    "papermill": {
     "duration": 0.010915,
     "end_time": "2024-08-15T14:17:23.394857",
     "exception": false,
     "start_time": "2024-08-15T14:17:23.383942",
     "status": "completed"
    },
    "tags": []
   },
   "source": [
    "### Attention\n"
   ]
  },
  {
   "cell_type": "code",
   "execution_count": 11,
   "id": "42a07ebd",
   "metadata": {
    "execution": {
     "iopub.execute_input": "2024-08-15T14:17:23.417594Z",
     "iopub.status.busy": "2024-08-15T14:17:23.417358Z",
     "iopub.status.idle": "2024-08-15T14:17:23.421726Z",
     "shell.execute_reply": "2024-08-15T14:17:23.421274Z"
    },
    "papermill": {
     "duration": 0.01709,
     "end_time": "2024-08-15T14:17:23.422897",
     "exception": false,
     "start_time": "2024-08-15T14:17:23.405807",
     "status": "completed"
    },
    "tags": []
   },
   "outputs": [],
   "source": [
    "def attention(\n",
    "    query: Tensor,\n",
    "    key: Tensor,\n",
    "    value: Tensor,\n",
    "    mask: Tensor | None = None,\n",
    "    dropout: nn.Dropout | None = None,\n",
    "):\n",
    "    \"\"\"Scaled Dot Product Attention\"\"\"\n",
    "    dim_k = query.size(-1)\n",
    "    # scaled = torch.matmul(query, key.transpose(-2, -1)) / math.sqrt(dim_k)\n",
    "    scaled = (query @ key.transpose(-2, -1)) / math.sqrt(dim_k)\n",
    "    if mask is not None:\n",
    "        mask = mask.unsqueeze(1)\n",
    "        scaled = scaled.masked_fill(mask == 0, -1e9)\n",
    "    scores = scaled.softmax(-1)\n",
    "    if dropout is not None:\n",
    "        scores: Tensor = dropout(scores)\n",
    "    # attn = torch.matmul(scores, value)\n",
    "    attn = scores @ value\n",
    "    return attn, scores"
   ]
  },
  {
   "cell_type": "markdown",
   "id": "a1cf502b",
   "metadata": {
    "papermill": {
     "duration": 0.011368,
     "end_time": "2024-08-15T14:17:23.447023",
     "exception": false,
     "start_time": "2024-08-15T14:17:23.435655",
     "status": "completed"
    },
    "tags": []
   },
   "source": [
    "### Quantum Multi-Head Attention\n"
   ]
  },
  {
   "cell_type": "code",
   "execution_count": 12,
   "id": "34aadf51",
   "metadata": {
    "execution": {
     "iopub.execute_input": "2024-08-15T14:17:23.470247Z",
     "iopub.status.busy": "2024-08-15T14:17:23.470027Z",
     "iopub.status.idle": "2024-08-15T14:17:24.365713Z",
     "shell.execute_reply": "2024-08-15T14:17:24.365095Z"
    },
    "papermill": {
     "duration": 0.909226,
     "end_time": "2024-08-15T14:17:24.367260",
     "exception": false,
     "start_time": "2024-08-15T14:17:23.458034",
     "status": "completed"
    },
    "tags": []
   },
   "outputs": [],
   "source": [
    "import pennylane as qml\n",
    "import pennylane.templates as qmlt\n",
    "import pennylane.qnn.torch as qml_qnn_torch"
   ]
  },
  {
   "cell_type": "code",
   "execution_count": 13,
   "id": "276e42b5",
   "metadata": {
    "execution": {
     "iopub.execute_input": "2024-08-15T14:17:24.390555Z",
     "iopub.status.busy": "2024-08-15T14:17:24.390204Z",
     "iopub.status.idle": "2024-08-15T14:17:24.395782Z",
     "shell.execute_reply": "2024-08-15T14:17:24.395324Z"
    },
    "papermill": {
     "duration": 0.018747,
     "end_time": "2024-08-15T14:17:24.397049",
     "exception": false,
     "start_time": "2024-08-15T14:17:24.378302",
     "status": "completed"
    },
    "tags": []
   },
   "outputs": [],
   "source": [
    "class QuantumLayer(torch.nn.Module):\n",
    "    def __init__(self, n_qubits, n_qlayers=1, q_device=\"default.qubit\"):\n",
    "        super().__init__()\n",
    "\n",
    "        dev = qml.device(q_device, wires=n_qubits)\n",
    "\n",
    "        @qml.qnode(dev, interface=\"torch\")\n",
    "        def qlayer(inputs, weights):\n",
    "            # qmlt.AngleEmbedding(inputs, wires=range(n_qubits), rotation=\"X\")\n",
    "            qmlt.AngleEmbedding(inputs, wires=range(n_qubits), rotation=\"Z\")\n",
    "            qmlt.BasicEntanglerLayers(weights, wires=range(n_qubits), rotation=qml.RZ)\n",
    "            return [qml.expval(qml.PauliZ(wires=i)) for i in range(n_qubits)]\n",
    "\n",
    "        weight_shapes = {\"weights\": (n_qlayers, n_qubits)}\n",
    "        self.linear = qml_qnn_torch.TorchLayer(qlayer, weight_shapes)\n",
    "\n",
    "    def forward(self, inputs):\n",
    "        inputs = inputs.to('cpu')\n",
    "        return self.linear(inputs).to(dev)\n",
    "\n",
    "    def to(self, *args, **kwargs):\n",
    "        # Override the 'to' method to do nothing, keeping the layer on the CPU\n",
    "        return self"
   ]
  },
  {
   "cell_type": "code",
   "execution_count": 14,
   "id": "6ffd990e",
   "metadata": {
    "execution": {
     "iopub.execute_input": "2024-08-15T14:17:24.420245Z",
     "iopub.status.busy": "2024-08-15T14:17:24.420012Z",
     "iopub.status.idle": "2024-08-15T14:17:24.428470Z",
     "shell.execute_reply": "2024-08-15T14:17:24.428021Z"
    },
    "papermill": {
     "duration": 0.021415,
     "end_time": "2024-08-15T14:17:24.429711",
     "exception": false,
     "start_time": "2024-08-15T14:17:24.408296",
     "status": "completed"
    },
    "tags": []
   },
   "outputs": [],
   "source": [
    "class MultiHeadedAttention(nn.Module):\n",
    "    def __init__(\n",
    "        self,\n",
    "        embed_dim: int,\n",
    "        num_heads: int,\n",
    "        dropout=0.1,\n",
    "        mask: Tensor | None = None,\n",
    "        use_bias=False,\n",
    "        n_qubits=4,\n",
    "        n_qlayers=1,\n",
    "        q_device=\"default.qubit\",\n",
    "    ):\n",
    "        super(MultiHeadedAttention, self).__init__()\n",
    "\n",
    "        self.embed_dim = embed_dim\n",
    "        self.num_heads = num_heads\n",
    "        self.mask = mask\n",
    "        # We assume dim_v always equals dim_k\n",
    "        self.dim_k = embed_dim // num_heads  # projection dimensions\n",
    "\n",
    "        print(f\"weight_shapes = (n_qlayers, n_qubits) = ({n_qlayers}, {n_qubits})\")\n",
    "\n",
    "        # The quantum layers for the query, key, and value projections\n",
    "        self.k_linear = QuantumLayer(n_qubits, n_qlayers, q_device)\n",
    "        self.q_linear = QuantumLayer(n_qubits, n_qlayers, q_device)\n",
    "        self.v_linear = QuantumLayer(n_qubits, n_qlayers, q_device)\n",
    "        # The quantum layer to combine the heads\n",
    "        self.combine_heads = QuantumLayer(n_qubits, n_qlayers, q_device)\n",
    "\n",
    "        self.attn_weights: Tensor | None = None\n",
    "        self.dropout = nn.Dropout(p=dropout)\n",
    "\n",
    "    def forward(\n",
    "        self, query: Tensor, key: Tensor, value: Tensor, mask: Tensor | None = None\n",
    "    ):\n",
    "        batch_size, seq_len, embed_dim = query.size()\n",
    "        assert (\n",
    "            embed_dim == self.embed_dim\n",
    "        ), f\"Input embedding ({embed_dim}) does not match layer embedding size ({self.embed_dim})\"\n",
    "\n",
    "        K = [self.k_linear(key[:, t, :]) for t in range(seq_len)]\n",
    "        Q = [self.q_linear(query[:, t, :]) for t in range(seq_len)]\n",
    "        V = [self.v_linear(value[:, t, :]) for t in range(seq_len)]\n",
    "\n",
    "        K = torch.Tensor(pad_sequence(K))\n",
    "        Q = torch.Tensor(pad_sequence(Q))\n",
    "        V = torch.Tensor(pad_sequence(V))\n",
    "\n",
    "        x: Tensor\n",
    "        x, self.attn_weights = attention(Q, K, V, mask=mask, dropout=self.dropout)\n",
    "        x = x.transpose(1, 2).contiguous().view(batch_size, -1, embed_dim)\n",
    "\n",
    "        output = [self.combine_heads(x[:, t, :]) for t in range(seq_len)]\n",
    "        output = torch.Tensor(pad_sequence(output))\n",
    "        return output"
   ]
  },
  {
   "cell_type": "markdown",
   "id": "71a1e5d1",
   "metadata": {
    "papermill": {
     "duration": 0.011574,
     "end_time": "2024-08-15T14:17:24.453011",
     "exception": false,
     "start_time": "2024-08-15T14:17:24.441437",
     "status": "completed"
    },
    "tags": []
   },
   "source": [
    "### Quantum Feed-Forward Network\n"
   ]
  },
  {
   "cell_type": "code",
   "execution_count": 15,
   "id": "4116d503",
   "metadata": {
    "execution": {
     "iopub.execute_input": "2024-08-15T14:17:24.477082Z",
     "iopub.status.busy": "2024-08-15T14:17:24.476813Z",
     "iopub.status.idle": "2024-08-15T14:17:24.482339Z",
     "shell.execute_reply": "2024-08-15T14:17:24.481882Z"
    },
    "papermill": {
     "duration": 0.019043,
     "end_time": "2024-08-15T14:17:24.483540",
     "exception": false,
     "start_time": "2024-08-15T14:17:24.464497",
     "status": "completed"
    },
    "tags": []
   },
   "outputs": [],
   "source": [
    "class FeedForward(nn.Module):\n",
    "    \"\"\"\n",
    "    The x that is passed to the forward method is a tensor of shape (batch_size, sequence_length, embedding_dimension),\n",
    "    rather than a flattened version of it (with shape (batch_size, sequence_length * embedding_dimension)).\n",
    "    The (same) feed-forward layer applies to the last dimension only (the embedding dimension) for each batch and\n",
    "    for each position in the sequence, hence position-wise.\n",
    "    \"\"\"\n",
    "\n",
    "    def __init__(\n",
    "        self,\n",
    "        embed_dim: int,\n",
    "        n_qubits: int,\n",
    "        n_qlayers=1,\n",
    "        dropout=0.1,\n",
    "        q_device=\"default.qubit\",\n",
    "    ):\n",
    "        super(FeedForward, self).__init__()\n",
    "        self.ffn_dim = n_qubits\n",
    "\n",
    "        self.linear_1 = nn.Linear(embed_dim, self.ffn_dim)\n",
    "        self.linear_2 = nn.Linear(self.ffn_dim, embed_dim)\n",
    "        self.vqc = QuantumLayer(n_qubits, n_qlayers, q_device)\n",
    "        self.gelu = nn.GELU()\n",
    "        self.dropout = nn.Dropout(dropout)\n",
    "\n",
    "    def forward(self, x: Tensor):\n",
    "        batch_size, seq_len, embed_dim = x.size()\n",
    "        x = self.linear_1(x)\n",
    "        X = [self.vqc(x[:, t, :]) for t in range(seq_len)]\n",
    "        x = torch.Tensor(pad_sequence(X))\n",
    "        x = self.gelu(x)\n",
    "        x = self.dropout(x)\n",
    "        x = self.linear_2(x)\n",
    "        return x"
   ]
  },
  {
   "cell_type": "markdown",
   "id": "9e037b93",
   "metadata": {
    "papermill": {
     "duration": 0.011117,
     "end_time": "2024-08-15T14:17:24.506255",
     "exception": false,
     "start_time": "2024-08-15T14:17:24.495138",
     "status": "completed"
    },
    "tags": []
   },
   "source": [
    "### Quantum Encoder\n"
   ]
  },
  {
   "cell_type": "code",
   "execution_count": 16,
   "id": "866680c0",
   "metadata": {
    "execution": {
     "iopub.execute_input": "2024-08-15T14:17:24.530126Z",
     "iopub.status.busy": "2024-08-15T14:17:24.529903Z",
     "iopub.status.idle": "2024-08-15T14:17:24.535711Z",
     "shell.execute_reply": "2024-08-15T14:17:24.535225Z"
    },
    "papermill": {
     "duration": 0.018866,
     "end_time": "2024-08-15T14:17:24.537015",
     "exception": false,
     "start_time": "2024-08-15T14:17:24.518149",
     "status": "completed"
    },
    "tags": []
   },
   "outputs": [],
   "source": [
    "class Encoder(nn.Module):\n",
    "    def __init__(\n",
    "        self,\n",
    "        embed_dim: int,\n",
    "        num_heads: int,\n",
    "        ffn_dim: int,\n",
    "        dropout: float = 0.1,\n",
    "        mask: Tensor | None = None,\n",
    "        n_qubits_transformer=0,\n",
    "        n_qubits_ffn=0,\n",
    "        n_qlayers=1,\n",
    "        q_device=\"default.qubit\",\n",
    "    ):\n",
    "        super(Encoder, self).__init__()\n",
    "\n",
    "        self.n_qubits_transformer = n_qubits_transformer\n",
    "        self.n_qubits_ffn = n_qubits_ffn\n",
    "        self.n_qlayers = n_qlayers\n",
    "\n",
    "        self.attn = MultiHeadedAttention(\n",
    "            embed_dim=embed_dim,\n",
    "            num_heads=num_heads,\n",
    "            dropout=dropout,\n",
    "            mask=mask,\n",
    "            n_qubits=n_qubits_transformer,\n",
    "            n_qlayers=n_qlayers,\n",
    "            q_device=q_device,\n",
    "        )\n",
    "        self.norm1 = nn.LayerNorm(embed_dim)\n",
    "        self.dropout1 = nn.Dropout(dropout)\n",
    "\n",
    "        self.ffn = FeedForward(\n",
    "            embed_dim, n_qubits_ffn, n_qlayers, q_device=q_device, dropout=dropout\n",
    "        )\n",
    "\n",
    "        self.norm2 = nn.LayerNorm(embed_dim)\n",
    "        self.dropout2 = nn.Dropout(dropout)\n",
    "\n",
    "    def forward(self, x: Tensor):\n",
    "        attn_output = self.attn(x, x, x)\n",
    "        x = self.norm1(attn_output + x)\n",
    "        x = self.dropout1(x)\n",
    "\n",
    "        ff_output: Tensor = self.ffn(x)\n",
    "        x = self.norm2(ff_output + x)\n",
    "        x = self.dropout2(x)\n",
    "\n",
    "        return x"
   ]
  },
  {
   "cell_type": "markdown",
   "id": "923458ab",
   "metadata": {
    "papermill": {
     "duration": 0.010907,
     "end_time": "2024-08-15T14:17:24.559094",
     "exception": false,
     "start_time": "2024-08-15T14:17:24.548187",
     "status": "completed"
    },
    "tags": []
   },
   "source": [
    "### Text Classifier\n"
   ]
  },
  {
   "cell_type": "code",
   "execution_count": 17,
   "id": "19cfd48b",
   "metadata": {
    "execution": {
     "iopub.execute_input": "2024-08-15T14:17:24.583000Z",
     "iopub.status.busy": "2024-08-15T14:17:24.582780Z",
     "iopub.status.idle": "2024-08-15T14:17:24.589128Z",
     "shell.execute_reply": "2024-08-15T14:17:24.588626Z"
    },
    "papermill": {
     "duration": 0.019835,
     "end_time": "2024-08-15T14:17:24.590342",
     "exception": false,
     "start_time": "2024-08-15T14:17:24.570507",
     "status": "completed"
    },
    "tags": []
   },
   "outputs": [],
   "source": [
    "class TextClassifier(nn.Module):\n",
    "    def __init__(\n",
    "        self,\n",
    "        embed_dim: int,\n",
    "        num_heads: int,\n",
    "        num_blocks: int,\n",
    "        num_classes: int,\n",
    "        vocab_size: int,\n",
    "        max_seq_len: int,\n",
    "        ffn_dim=32,\n",
    "        dropout=0.1,\n",
    "        n_qubits_transformer=0,\n",
    "        n_qubits_ffn=0,\n",
    "        n_qlayers=1,\n",
    "        q_device=\"default.qubit\",\n",
    "    ):\n",
    "        super(TextClassifier, self).__init__()\n",
    "        self.embed_dim = embed_dim\n",
    "        self.num_heads = num_heads\n",
    "        self.num_blocks = num_blocks\n",
    "        self.num_classes = num_classes\n",
    "        self.vocab_size = vocab_size\n",
    "\n",
    "        self.token_embedding = nn.Embedding(vocab_size, embed_dim)\n",
    "        self.pos_embedding = PositionalEncoder(embed_dim, max_len=max_seq_len)\n",
    "\n",
    "        print(f\"++ There will be {num_blocks} transformer blocks\")\n",
    "\n",
    "        print(\n",
    "            f\"++ Transformer will use {n_qubits_transformer} qubits and {n_qlayers} q layers\"\n",
    "        )\n",
    "\n",
    "        print(f\"The feed-forward head will use {n_qubits_ffn} qubits\")\n",
    "\n",
    "        print(f\"Using quantum device {q_device}\")\n",
    "\n",
    "        self.transformers = get_clones(\n",
    "            Encoder(\n",
    "                embed_dim,\n",
    "                num_heads,\n",
    "                ffn_dim,\n",
    "                n_qubits_transformer=n_qubits_transformer,\n",
    "                n_qubits_ffn=n_qubits_ffn,\n",
    "                n_qlayers=n_qlayers,\n",
    "                q_device=q_device,\n",
    "            ),\n",
    "            num_blocks,\n",
    "        )\n",
    "\n",
    "        self.class_logits = nn.Linear(embed_dim, 1)\n",
    "        self.dropout = nn.Dropout(dropout)\n",
    "\n",
    "    def forward(self, x: Tensor):\n",
    "        tokens = self.token_embedding(x)\n",
    "        x = self.pos_embedding(tokens)\n",
    "\n",
    "        # # Normalise the data to range [0, 2*pi]\n",
    "        # min_val = x.min()\n",
    "        # max_val = x.max()\n",
    "\n",
    "        # x = (x - min_val) / (max_val - min_val) * (2 * torch.pi)\n",
    "\n",
    "        # print(f\"Minimum value: {x.min()}, Maximum value: {x.max()}\")\n",
    "\n",
    "        for transformer in self.transformers:\n",
    "            x = transformer(x)\n",
    "\n",
    "        x = x.mean(dim=1)  # global average pooling, works in 1D\n",
    "        x = self.dropout(x)\n",
    "        x = self.class_logits(x)\n",
    "        return x"
   ]
  },
  {
   "cell_type": "markdown",
   "id": "243d1c2a",
   "metadata": {
    "papermill": {
     "duration": 0.010914,
     "end_time": "2024-08-15T14:17:24.612524",
     "exception": false,
     "start_time": "2024-08-15T14:17:24.601610",
     "status": "completed"
    },
    "tags": []
   },
   "source": [
    "### Main Function\n"
   ]
  },
  {
   "cell_type": "code",
   "execution_count": 18,
   "id": "c496d55d",
   "metadata": {
    "execution": {
     "iopub.execute_input": "2024-08-15T14:17:24.636535Z",
     "iopub.status.busy": "2024-08-15T14:17:24.636308Z",
     "iopub.status.idle": "2024-08-15T14:17:24.659109Z",
     "shell.execute_reply": "2024-08-15T14:17:24.658595Z"
    },
    "papermill": {
     "duration": 0.03609,
     "end_time": "2024-08-15T14:17:24.660343",
     "exception": false,
     "start_time": "2024-08-15T14:17:24.624253",
     "status": "completed"
    },
    "tags": []
   },
   "outputs": [],
   "source": [
    "from torch.optim.lr_scheduler import StepLR\n",
    "from sklearn.model_selection import train_test_split\n",
    "\n",
    "\n",
    "def main(\n",
    "    max_seq_len=128,\n",
    "    batch_size=32,\n",
    "    total_size=3200,\n",
    "    n_epochs=30,\n",
    "    lr=0.001,\n",
    "    embed_dim=8,\n",
    "    num_heads=2,\n",
    "    num_blocks=2,\n",
    "    num_classes=2,\n",
    "    vocab_size=50000,\n",
    "    ffn_dim=16,\n",
    "    n_qubits_transformer=0,\n",
    "    n_qubits_ffn=0,\n",
    "    n_qlayers=0,\n",
    "    q_device=\"default.qubit\",\n",
    "    dropout_rate=0.1,\n",
    "):\n",
    "\n",
    "    # train_iter = IMDB(root=\"./.datatext\", split=\"train\")\n",
    "    # test_iter = IMDB(root=\"./.datatext\", split=\"test\")\n",
    "\n",
    "    # train_data = to_map_style_dataset(train_iter)\n",
    "    # test_data = to_map_style_dataset(test_iter)\n",
    "\n",
    "    size = total_size\n",
    "\n",
    "    # test_data = np.array(test_data)[\n",
    "    #     np.random.choice(len(test_data), size=size, replace=False)\n",
    "    # ].tolist()\n",
    "\n",
    "    train_iter = IMDB(root=\"./.datatext\", split=\"train\")\n",
    "\n",
    "    train_data = to_map_style_dataset(train_iter)\n",
    "    train_data = np.array(train_data)[\n",
    "        np.random.choice(len(train_data), size=size, replace=False)\n",
    "    ].tolist()\n",
    "    \n",
    "    train_data, test_data = train_test_split(train_data, test_size=0.2, random_state=42)\n",
    "\n",
    "    train_data = [(int(label), text) for label, text in train_data]\n",
    "    test_data = [(int(label), text) for label, text in test_data]\n",
    "\n",
    "    print(\"pos: \", len([label for label, text in train_data if label == 1]))\n",
    "    print(\"neg: \", len([label for label, text in train_data if label == 2]))\n",
    "\n",
    "    tokenizer = get_tokenizer(\"basic_english\")\n",
    "    vocab = build_vocab_from_iterator(\n",
    "        yield_tokens(train_data, tokenizer),\n",
    "        specials=[\"<unk>\", \"<pad>\"],\n",
    "        max_tokens=vocab_size,\n",
    "    )\n",
    "    vocab.set_default_index(vocab[\"<unk>\"])\n",
    "\n",
    "    train_loader = DataLoader(\n",
    "        train_data,  # type: ignore\n",
    "        batch_size=batch_size,\n",
    "        shuffle=True,\n",
    "        collate_fn=lambda batch: collate_batch(batch, vocab, tokenizer),\n",
    "    )\n",
    "    test_loader = DataLoader(\n",
    "        test_data,  # type: ignore\n",
    "        batch_size=batch_size,\n",
    "        shuffle=True,\n",
    "        collate_fn=lambda batch: collate_batch(batch, vocab, tokenizer),\n",
    "    )\n",
    "\n",
    "    model = TextClassifier(\n",
    "        embed_dim=embed_dim,\n",
    "        num_heads=num_heads,\n",
    "        num_blocks=num_blocks,\n",
    "        num_classes=num_classes,\n",
    "        vocab_size=vocab_size,\n",
    "        ffn_dim=ffn_dim,\n",
    "        n_qubits_transformer=n_qubits_transformer,\n",
    "        n_qubits_ffn=n_qubits_ffn,\n",
    "        n_qlayers=n_qlayers,\n",
    "        dropout=dropout_rate,\n",
    "        q_device=q_device,\n",
    "        max_seq_len=max_seq_len,\n",
    "    )\n",
    "\n",
    "    print(f\"The model has {count_parameters(model):,} trainable parameters\")\n",
    "    start_time = time()\n",
    "\n",
    "    model.to(dev)\n",
    "\n",
    "    optimizer = torch.optim.Adam(lr=lr, params=model.parameters())\n",
    "    criterion = torch.nn.BCEWithLogitsLoss()  # logits -> sigmoid -> loss\n",
    "    scheduler = StepLR(optimizer, step_size=5, gamma=0.1)\n",
    "\n",
    "    # training loop\n",
    "    best_test_loss = float(\"inf\")\n",
    "    best_test_acc, best_epoch_acc = 0.0, 0\n",
    "    best_test_auc, best_epoch_auc = 0.0, 0\n",
    "    train_loss_list, train_acc_list, test_loss_list, test_acc_list = [], [], [], []\n",
    "    train_auc_list, test_auc_list = [], []\n",
    "    for iepoch in range(n_epochs):\n",
    "        with tqdm(\n",
    "            total=len(train_loader.dataset),\n",
    "            desc=f\"Epoch {iepoch+1:3}/{n_epochs}\",\n",
    "            unit=\"batch\",\n",
    "            bar_format=\"{l_bar}{bar:10}{r_bar}{bar:-10b}\",\n",
    "            # position=0,\n",
    "            # leave=True,\n",
    "        ) as progress_bar:\n",
    "            operation_start_time = time()\n",
    "\n",
    "            train_loss, train_acc, train_auc = train(\n",
    "                model, train_loader, optimizer, criterion, max_seq_len, progress_bar\n",
    "            )\n",
    "\n",
    "            # scheduler.step()\n",
    "\n",
    "            test_loss, test_acc, test_auc = evaluate(\n",
    "                model, test_loader, criterion, max_seq_len\n",
    "            )\n",
    "\n",
    "            end_time = time()\n",
    "\n",
    "            epoch_mins, epoch_secs = epoch_time(operation_start_time, end_time)\n",
    "\n",
    "            train_loss_list.append(train_loss)\n",
    "            train_acc_list.append(train_acc)\n",
    "            test_loss_list.append(test_loss)\n",
    "            test_acc_list.append(test_acc)\n",
    "            train_auc_list.append(train_auc)\n",
    "            test_auc_list.append(test_auc)\n",
    "\n",
    "            progress_bar.set_postfix_str(\n",
    "                f\"Epoch = {epoch_mins}m {epoch_secs}s, Loss = {train_loss:.4f}|{test_loss:.4f}, Acc = {train_acc:.3f}|{test_acc:.3f}, AUC = {train_auc:.3f}|{test_auc:.3f}\"\n",
    "            )\n",
    "            if test_acc > best_test_acc:\n",
    "                best_test_acc = test_acc\n",
    "                best_epoch_acc = iepoch + 1\n",
    "            if test_auc > best_test_auc:\n",
    "                best_test_auc = test_auc\n",
    "                best_epoch_auc = iepoch + 1\n",
    "\n",
    "            # if test_loss < best_test_loss:\n",
    "            #     best_test_loss = test_loss\n",
    "            #     torch.save(model.state_dict(), \"model.pt\")\n",
    "\n",
    "    print(f\"TOTAL TIME = {time()-start_time:.2f}s\")\n",
    "    print(f\"BEST ACC = {best_test_acc:.2f}% AT EPOCH {best_epoch_acc}\")\n",
    "    print(f\"BEST AUC = {best_test_auc:.2f} AT EPOCH {best_epoch_auc}\")\n",
    "\n",
    "    return (\n",
    "        train_loss_list,\n",
    "        train_acc_list,\n",
    "        test_loss_list,\n",
    "        test_acc_list,\n",
    "        train_auc_list,\n",
    "        test_auc_list,\n",
    "    )"
   ]
  },
  {
   "cell_type": "markdown",
   "id": "414b24ab",
   "metadata": {
    "papermill": {
     "duration": 0.011337,
     "end_time": "2024-08-15T14:17:24.684190",
     "exception": false,
     "start_time": "2024-08-15T14:17:24.672853",
     "status": "completed"
    },
    "tags": []
   },
   "source": [
    "## Training\n"
   ]
  },
  {
   "cell_type": "code",
   "execution_count": 19,
   "id": "a07ba654",
   "metadata": {
    "execution": {
     "iopub.execute_input": "2024-08-15T14:17:24.707725Z",
     "iopub.status.busy": "2024-08-15T14:17:24.707174Z",
     "iopub.status.idle": "2024-08-15T14:17:25.192741Z",
     "shell.execute_reply": "2024-08-15T14:17:25.192160Z"
    },
    "papermill": {
     "duration": 0.498546,
     "end_time": "2024-08-15T14:17:25.194023",
     "exception": false,
     "start_time": "2024-08-15T14:17:24.695477",
     "status": "completed"
    },
    "tags": []
   },
   "outputs": [
    {
     "name": "stdout",
     "output_type": "stream",
     "text": [
      "Name: PennyLane\n",
      "Version: 0.37.0\n",
      "Summary: PennyLane is a cross-platform Python library for quantum computing, quantum machine learning, and quantum chemistry. Train a quantum computer the same way as a neural network.\n",
      "Home-page: https://github.com/PennyLaneAI/pennylane\n",
      "Author: \n",
      "Author-email: \n",
      "License: Apache License 2.0\n",
      "Location: /home/nchoong/.conda/envs/quant/lib/python3.11/site-packages\n",
      "Requires: appdirs, autograd, autoray, cachetools, networkx, numpy, packaging, pennylane-lightning, requests, rustworkx, scipy, semantic-version, toml, typing-extensions\n",
      "Required-by: PennyLane_Lightning\n",
      "\n",
      "Platform info:           Linux-4.18.0-348.12.2.el8_5.x86_64-x86_64-with-glibc2.28\n",
      "Python version:          3.11.8\n",
      "Numpy version:           1.26.3\n",
      "Scipy version:           1.14.0\n",
      "Installed devices:\n",
      "- default.clifford (PennyLane-0.37.0)\n",
      "- default.gaussian (PennyLane-0.37.0)\n",
      "- default.mixed (PennyLane-0.37.0)\n",
      "- default.qubit (PennyLane-0.37.0)\n",
      "- default.qubit.autograd (PennyLane-0.37.0)\n",
      "- default.qubit.jax (PennyLane-0.37.0)\n",
      "- default.qubit.legacy (PennyLane-0.37.0)\n",
      "- default.qubit.tf (PennyLane-0.37.0)\n",
      "- default.qubit.torch (PennyLane-0.37.0)\n",
      "- default.qutrit (PennyLane-0.37.0)\n",
      "- default.qutrit.mixed (PennyLane-0.37.0)\n",
      "- default.tensor (PennyLane-0.37.0)\n",
      "- null.qubit (PennyLane-0.37.0)\n",
      "- lightning.qubit (PennyLane_Lightning-0.37.0)\n"
     ]
    }
   ],
   "source": [
    "qml.about()"
   ]
  },
  {
   "cell_type": "code",
   "execution_count": 20,
   "id": "3240bd37",
   "metadata": {
    "execution": {
     "iopub.execute_input": "2024-08-15T14:17:25.218641Z",
     "iopub.status.busy": "2024-08-15T14:17:25.218402Z",
     "iopub.status.idle": "2024-08-15T14:17:25.305495Z",
     "shell.execute_reply": "2024-08-15T14:17:25.304887Z"
    },
    "papermill": {
     "duration": 0.100636,
     "end_time": "2024-08-15T14:17:25.306765",
     "exception": false,
     "start_time": "2024-08-15T14:17:25.206129",
     "status": "completed"
    },
    "tags": []
   },
   "outputs": [],
   "source": [
    "import gc\n",
    "\n",
    "gc.collect()\n",
    "\n",
    "torch.cuda.empty_cache()"
   ]
  },
  {
   "cell_type": "code",
   "execution_count": 21,
   "id": "bc1392ad",
   "metadata": {
    "execution": {
     "iopub.execute_input": "2024-08-15T14:17:25.331123Z",
     "iopub.status.busy": "2024-08-15T14:17:25.330913Z",
     "iopub.status.idle": "2024-08-15T14:19:04.133318Z",
     "shell.execute_reply": "2024-08-15T14:19:04.132583Z"
    },
    "papermill": {
     "duration": 98.815918,
     "end_time": "2024-08-15T14:19:04.134672",
     "exception": false,
     "start_time": "2024-08-15T14:17:25.318754",
     "status": "completed"
    },
    "tags": []
   },
   "outputs": [
    {
     "name": "stderr",
     "output_type": "stream",
     "text": [
      "/home/nchoong/.conda/envs/quant/lib/python3.11/site-packages/torchdata/datapipes/__init__.py:18: UserWarning: \n",
      "################################################################################\n",
      "WARNING!\n",
      "The 'datapipes', 'dataloader2' modules are deprecated and will be removed in a\n",
      "future torchdata release! Please see https://github.com/pytorch/data/issues/1196\n",
      "to learn more and leave feedback.\n",
      "################################################################################\n",
      "\n",
      "  deprecation_warning()\n"
     ]
    },
    {
     "name": "stdout",
     "output_type": "stream",
     "text": [
      "pos:  124\n",
      "neg:  116\n",
      "++ There will be 1 transformer blocks\n",
      "++ Transformer will use 2 qubits and 1 q layers\n",
      "The feed-forward head will use 2 qubits\n",
      "Using quantum device default.qubit\n",
      "weight_shapes = (n_qlayers, n_qubits) = (1, 2)\n",
      "The model has 100,033 trainable parameters\n"
     ]
    },
    {
     "name": "stderr",
     "output_type": "stream",
     "text": [
      "\r",
      "Epoch   1/3:   0%|          | 0/240 [00:00<?, ?batch/s]                         "
     ]
    },
    {
     "name": "stderr",
     "output_type": "stream",
     "text": [
      "\r",
      "Epoch   1/3:  13%|█▎        | 32/240 [00:03<00:24,  8.58batch/s]                "
     ]
    },
    {
     "name": "stderr",
     "output_type": "stream",
     "text": [
      "\r",
      "Epoch   1/3:  27%|██▋       | 64/240 [00:07<00:19,  8.89batch/s]                "
     ]
    },
    {
     "name": "stderr",
     "output_type": "stream",
     "text": [
      "\r",
      "Epoch   1/3:  40%|████      | 96/240 [00:10<00:15,  9.02batch/s]                "
     ]
    },
    {
     "name": "stderr",
     "output_type": "stream",
     "text": [
      "\r",
      "Epoch   1/3:  53%|█████▎    | 128/240 [00:14<00:12,  9.11batch/s]               "
     ]
    },
    {
     "name": "stderr",
     "output_type": "stream",
     "text": [
      "\r",
      "Epoch   1/3:  67%|██████▋   | 160/240 [00:17<00:08,  9.13batch/s]               "
     ]
    },
    {
     "name": "stderr",
     "output_type": "stream",
     "text": [
      "\r",
      "Epoch   1/3:  80%|████████  | 192/240 [00:21<00:05,  9.18batch/s]               "
     ]
    },
    {
     "name": "stderr",
     "output_type": "stream",
     "text": [
      "\r",
      "Epoch   1/3:  93%|█████████▎| 224/240 [00:24<00:01,  9.21batch/s]               "
     ]
    },
    {
     "name": "stderr",
     "output_type": "stream",
     "text": [
      "\r",
      "Epoch   1/3: |          | 256/? [00:28<00:00,  9.20batch/s]                     "
     ]
    },
    {
     "name": "stderr",
     "output_type": "stream",
     "text": [
      "\r",
      "Epoch   1/3: |          | 256/? [00:32<00:00,  9.20batch/s, Epoch = 0m 32s, Loss"
     ]
    },
    {
     "name": "stderr",
     "output_type": "stream",
     "text": [
      "\r",
      "Epoch   1/3: |          | 256/? [00:32<00:00,  7.94batch/s, Epoch = 0m 32s, Loss"
     ]
    },
    {
     "name": "stderr",
     "output_type": "stream",
     "text": [
      "\n"
     ]
    },
    {
     "name": "stderr",
     "output_type": "stream",
     "text": [
      "\r",
      "Epoch   2/3:   0%|          | 0/240 [00:00<?, ?batch/s]                         "
     ]
    },
    {
     "name": "stderr",
     "output_type": "stream",
     "text": [
      "\r",
      "Epoch   2/3:  13%|█▎        | 32/240 [00:03<00:21,  9.70batch/s]                "
     ]
    },
    {
     "name": "stderr",
     "output_type": "stream",
     "text": [
      "\r",
      "Epoch   2/3:  27%|██▋       | 64/240 [00:06<00:19,  9.21batch/s]                "
     ]
    },
    {
     "name": "stderr",
     "output_type": "stream",
     "text": [
      "\r",
      "Epoch   2/3:  40%|████      | 96/240 [00:10<00:15,  9.27batch/s]                "
     ]
    },
    {
     "name": "stderr",
     "output_type": "stream",
     "text": [
      "\r",
      "Epoch   2/3:  53%|█████▎    | 128/240 [00:13<00:12,  9.28batch/s]               "
     ]
    },
    {
     "name": "stderr",
     "output_type": "stream",
     "text": [
      "\r",
      "Epoch   2/3:  67%|██████▋   | 160/240 [00:17<00:08,  9.25batch/s]               "
     ]
    },
    {
     "name": "stderr",
     "output_type": "stream",
     "text": [
      "\r",
      "Epoch   2/3:  80%|████████  | 192/240 [00:20<00:05,  9.22batch/s]               "
     ]
    },
    {
     "name": "stderr",
     "output_type": "stream",
     "text": [
      "\r",
      "Epoch   2/3:  93%|█████████▎| 224/240 [00:24<00:01,  9.23batch/s]               "
     ]
    },
    {
     "name": "stderr",
     "output_type": "stream",
     "text": [
      "\r",
      "Epoch   2/3: |          | 256/? [00:27<00:00,  9.25batch/s]                     "
     ]
    },
    {
     "name": "stderr",
     "output_type": "stream",
     "text": [
      "\r",
      "Epoch   2/3: |          | 256/? [00:31<00:00,  9.25batch/s, Epoch = 0m 31s, Loss"
     ]
    },
    {
     "name": "stderr",
     "output_type": "stream",
     "text": [
      "\r",
      "Epoch   2/3: |          | 256/? [00:31<00:00,  8.03batch/s, Epoch = 0m 31s, Loss"
     ]
    },
    {
     "name": "stderr",
     "output_type": "stream",
     "text": [
      "\n"
     ]
    },
    {
     "name": "stderr",
     "output_type": "stream",
     "text": [
      "\r",
      "Epoch   3/3:   0%|          | 0/240 [00:00<?, ?batch/s]                         "
     ]
    },
    {
     "name": "stderr",
     "output_type": "stream",
     "text": [
      "\r",
      "Epoch   3/3:  13%|█▎        | 32/240 [00:03<00:21,  9.53batch/s]                "
     ]
    },
    {
     "name": "stderr",
     "output_type": "stream",
     "text": [
      "\r",
      "Epoch   3/3:  27%|██▋       | 64/240 [00:06<00:19,  9.14batch/s]                "
     ]
    },
    {
     "name": "stderr",
     "output_type": "stream",
     "text": [
      "\r",
      "Epoch   3/3:  40%|████      | 96/240 [00:10<00:15,  9.24batch/s]                "
     ]
    },
    {
     "name": "stderr",
     "output_type": "stream",
     "text": [
      "\r",
      "Epoch   3/3:  53%|█████▎    | 128/240 [00:13<00:12,  9.27batch/s]               "
     ]
    },
    {
     "name": "stderr",
     "output_type": "stream",
     "text": [
      "\r",
      "Epoch   3/3:  67%|██████▋   | 160/240 [00:17<00:08,  9.27batch/s]               "
     ]
    },
    {
     "name": "stderr",
     "output_type": "stream",
     "text": [
      "\r",
      "Epoch   3/3:  80%|████████  | 192/240 [00:20<00:05,  9.26batch/s]               "
     ]
    },
    {
     "name": "stderr",
     "output_type": "stream",
     "text": [
      "\r",
      "Epoch   3/3:  93%|█████████▎| 224/240 [00:24<00:01,  9.24batch/s]               "
     ]
    },
    {
     "name": "stderr",
     "output_type": "stream",
     "text": [
      "\r",
      "Epoch   3/3: |          | 256/? [00:27<00:00,  9.23batch/s]                     "
     ]
    },
    {
     "name": "stderr",
     "output_type": "stream",
     "text": [
      "\r",
      "Epoch   3/3: |          | 256/? [00:31<00:00,  9.23batch/s, Epoch = 0m 31s, Loss"
     ]
    },
    {
     "name": "stderr",
     "output_type": "stream",
     "text": [
      "\r",
      "Epoch   3/3: |          | 256/? [00:31<00:00,  8.02batch/s, Epoch = 0m 31s, Loss"
     ]
    },
    {
     "name": "stdout",
     "output_type": "stream",
     "text": [
      "TOTAL TIME = 97.22s\n",
      "BEST ACC = 0.59% AT EPOCH 3\n",
      "BEST AUC = 69.02 AT EPOCH 3\n"
     ]
    },
    {
     "name": "stderr",
     "output_type": "stream",
     "text": [
      "\n"
     ]
    }
   ],
   "source": [
    "# train_loss, train_acc, test_loss, test_acc, train_auc, test_auc = main(\n",
    "#     n_epochs=30,\n",
    "#     embed_dim=8,\n",
    "#     n_qubits_transformer=8,\n",
    "#     n_qubits_ffn=8,\n",
    "#     n_qlayers=4,\n",
    "#     num_blocks=4,\n",
    "#     num_heads=2,\n",
    "#     q_device=\"default.qubit.torch\",\n",
    "#     total_size=5000,\n",
    "# )\n",
    "train_loss, train_acc, test_loss, test_acc, train_auc, test_auc = main(\n",
    "    n_epochs=3,\n",
    "    embed_dim=2,\n",
    "    n_qubits_transformer=2,\n",
    "    n_qubits_ffn=2,\n",
    "    n_qlayers=1,\n",
    "    num_blocks=1,\n",
    "    num_heads=1,\n",
    "    q_device=\"default.qubit\",\n",
    "    total_size=300,\n",
    ")\n"
   ]
  },
  {
   "attachments": {
    "image.png": {
     "image/png": "[encoded data removed]"
    }
   },
   "cell_type": "markdown",
   "id": "e07736b4",
   "metadata": {
    "papermill": {
     "duration": 0.012642,
     "end_time": "2024-08-15T14:19:04.160857",
     "exception": false,
     "start_time": "2024-08-15T14:19:04.148215",
     "status": "completed"
    },
    "tags": []
   },
   "source": [
    "![image.png](attachment:image.png)"
   ]
  },
  {
   "cell_type": "markdown",
   "id": "f362070a",
   "metadata": {
    "papermill": {
     "duration": 0.012591,
     "end_time": "2024-08-15T14:19:04.186087",
     "exception": false,
     "start_time": "2024-08-15T14:19:04.173496",
     "status": "completed"
    },
    "tags": []
   },
   "source": [
    "## Evaluation\n"
   ]
  },
  {
   "cell_type": "code",
   "execution_count": 22,
   "id": "6d67b3b1",
   "metadata": {
    "execution": {
     "iopub.execute_input": "2024-08-15T14:19:04.213333Z",
     "iopub.status.busy": "2024-08-15T14:19:04.212381Z",
     "iopub.status.idle": "2024-08-15T14:19:05.265826Z",
     "shell.execute_reply": "2024-08-15T14:19:05.265332Z"
    },
    "papermill": {
     "duration": 1.06847,
     "end_time": "2024-08-15T14:19:05.267079",
     "exception": false,
     "start_time": "2024-08-15T14:19:04.198609",
     "status": "completed"
    },
    "tags": []
   },
   "outputs": [
    {
     "data": {
      "image/png": "[encoded data removed]",
      "text/plain": [
       "<Figure size 1200x500 with 2 Axes>"
      ]
     },
     "metadata": {},
     "output_type": "display_data"
    }
   ],
   "source": [
    "import matplotlib.pyplot as plt\n",
    "import seaborn as sns\n",
    "\n",
    "sns.set_theme()\n",
    "\n",
    "# plt.style.use(\"classic\")\n",
    "# plt.style.use(\"dark_background\")\n",
    "\n",
    "epochs = range(1, len(train_loss) + 1)\n",
    "\n",
    "plt.figure(figsize=(12, 5))\n",
    "plt.subplot(1, 2, 1)\n",
    "plt.plot(epochs, train_loss, \"b-\", label=\"Train Loss\")\n",
    "plt.plot(epochs, test_loss, \"r-\", label=\"Test Loss\")\n",
    "plt.title(\"Train and Test Loss\")\n",
    "plt.xlabel(\"Epochs\")\n",
    "plt.ylabel(\"Loss\")\n",
    "plt.legend()\n",
    "\n",
    "plt.subplot(1, 2, 2)\n",
    "plt.plot(epochs, train_acc, \"b-\", label=\"Train Accuracy\")\n",
    "plt.plot(epochs, test_acc, \"r-\", label=\"Test Accuracy\")\n",
    "plt.title(\"Train and Test Accuracy\")\n",
    "plt.xlabel(\"Epochs\")\n",
    "plt.ylabel(\"Accuracy\")\n",
    "plt.legend()\n",
    "\n",
    "plt.tight_layout()\n",
    "plt.show()"
   ]
  },
  {
   "cell_type": "code",
   "execution_count": 23,
   "id": "1fc2d42c",
   "metadata": {
    "execution": {
     "iopub.execute_input": "2024-08-15T14:19:05.296961Z",
     "iopub.status.busy": "2024-08-15T14:19:05.296510Z",
     "iopub.status.idle": "2024-08-15T14:19:05.509040Z",
     "shell.execute_reply": "2024-08-15T14:19:05.508553Z"
    },
    "papermill": {
     "duration": 0.228644,
     "end_time": "2024-08-15T14:19:05.510278",
     "exception": false,
     "start_time": "2024-08-15T14:19:05.281634",
     "status": "completed"
    },
    "tags": []
   },
   "outputs": [
    {
     "data": {
      "image/png": "[encoded data removed]",
      "text/plain": [
       "<Figure size 640x480 with 1 Axes>"
      ]
     },
     "metadata": {},
     "output_type": "display_data"
    }
   ],
   "source": [
    "plt.plot(epochs, train_auc, \"b-\", label=\"Train\")\n",
    "plt.plot(epochs, test_auc, \"r-\", label=\"Test\")\n",
    "plt.title(\"Train and Test AUC\")\n",
    "plt.xlabel(\"Epochs\")\n",
    "plt.ylabel(\"AUC\")\n",
    "plt.legend()\n",
    "plt.show()"
   ]
  },
  {
   "cell_type": "code",
   "execution_count": 24,
   "id": "6f477b30",
   "metadata": {
    "execution": {
     "iopub.execute_input": "2024-08-15T14:19:05.540345Z",
     "iopub.status.busy": "2024-08-15T14:19:05.540143Z",
     "iopub.status.idle": "2024-08-15T14:19:05.543005Z",
     "shell.execute_reply": "2024-08-15T14:19:05.542536Z"
    },
    "papermill": {
     "duration": 0.019139,
     "end_time": "2024-08-15T14:19:05.544122",
     "exception": false,
     "start_time": "2024-08-15T14:19:05.524983",
     "status": "completed"
    },
    "tags": []
   },
   "outputs": [],
   "source": [
    "# fig, ax = plt.subplots(figsize=(4, 3.5))\n",
    "# # ax.plot(classical_qg_metrics['train_aucs'], label='Classical Training', color='orange', linestyle='--')\n",
    "# # ax.plot(quantum_qg_metrics['train_aucs'], label='Quantum Training', color='purple', linestyle='--')\n",
    "# # ax.plot(classical_qg_metrics['val_aucs'], label='Classical Validation', color='orange')\n",
    "# # ax.plot(quantum_qg_metrics['val_aucs'], label='Quantum Validation', color='purple')\n",
    "# ax.plot(auc, label=\"Quantum Validation\", color=\"purple\")\n",
    "# ax.set_xlabel(\"Epoch\")\n",
    "# ax.set_ylabel(\"AUC\")\n",
    "# ax.legend()\n",
    "# ax.grid()\n",
    "# ax.set_ylim(0.5, 1)"
   ]
  }
 ],
 "metadata": {
  "kernelspec": {
   "display_name": "quant",
   "language": "python",
   "name": "quant"
  },
  "language_info": {
   "codemirror_mode": {
    "name": "ipython",
    "version": 3
   },
   "file_extension": ".py",
   "mimetype": "text/x-python",
   "name": "python",
   "nbconvert_exporter": "python",
   "pygments_lexer": "ipython3",
   "version": "3.11.8"
  },
  "papermill": {
   "default_parameters": {},
   "duration": 107.092001,
   "end_time": "2024-08-15T14:19:06.576555",
   "environment_variables": {},
   "exception": null,
   "input_path": "2_angle_rz_basic_qvc_test.ipynb",
   "output_path": "2_angle_rz_basic_qvc_test.papermill.ipynb",
   "parameters": {},
   "start_time": "2024-08-15T14:17:19.484554",
   "version": "2.6.0"
  }
 },
 "nbformat": 4,
 "nbformat_minor": 5
}