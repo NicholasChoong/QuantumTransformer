{
 "cells": [
  {
   "cell_type": "markdown",
   "id": "2cbd16c9",
   "metadata": {
    "papermill": {
     "duration": 0.009671,
     "end_time": "2024-09-10T15:27:14.624156",
     "exception": false,
     "start_time": "2024-09-10T15:27:14.614485",
     "status": "completed"
    },
    "tags": []
   },
   "source": [
    "# Classical Transformer\n"
   ]
  },
  {
   "cell_type": "code",
   "execution_count": 1,
   "id": "8e82922e",
   "metadata": {
    "execution": {
     "iopub.execute_input": "2024-09-10T15:27:14.641509Z",
     "iopub.status.busy": "2024-09-10T15:27:14.641244Z",
     "iopub.status.idle": "2024-09-10T15:27:17.675775Z",
     "shell.execute_reply": "2024-09-10T15:27:17.675220Z"
    },
    "papermill": {
     "duration": 3.044376,
     "end_time": "2024-09-10T15:27:17.677096",
     "exception": false,
     "start_time": "2024-09-10T15:27:14.632720",
     "status": "completed"
    },
    "tags": []
   },
   "outputs": [
    {
     "name": "stderr",
     "output_type": "stream",
     "text": [
      "/group/pmc026/nchoong/quantum/lib/python3.11/site-packages/torchtext/vocab/__init__.py:4: UserWarning: \n",
      "/!\\ IMPORTANT WARNING ABOUT TORCHTEXT STATUS /!\\ \n",
      "Torchtext is deprecated and the last released version will be 0.18 (this one). You can silence this warning by calling the following at the beginnign of your scripts: `import torchtext; torchtext.disable_torchtext_deprecation_warning()`\n",
      "  warnings.warn(torchtext._TORCHTEXT_DEPRECATION_MSG)\n",
      "/group/pmc026/nchoong/quantum/lib/python3.11/site-packages/torchtext/utils.py:4: UserWarning: \n",
      "/!\\ IMPORTANT WARNING ABOUT TORCHTEXT STATUS /!\\ \n",
      "Torchtext is deprecated and the last released version will be 0.18 (this one). You can silence this warning by calling the following at the beginnign of your scripts: `import torchtext; torchtext.disable_torchtext_deprecation_warning()`\n",
      "  warnings.warn(torchtext._TORCHTEXT_DEPRECATION_MSG)\n",
      "/group/pmc026/nchoong/quantum/lib/python3.11/site-packages/torchtext/datasets/__init__.py:4: UserWarning: \n",
      "/!\\ IMPORTANT WARNING ABOUT TORCHTEXT STATUS /!\\ \n",
      "Torchtext is deprecated and the last released version will be 0.18 (this one). You can silence this warning by calling the following at the beginnign of your scripts: `import torchtext; torchtext.disable_torchtext_deprecation_warning()`\n",
      "  warnings.warn(torchtext._TORCHTEXT_DEPRECATION_MSG)\n",
      "/group/pmc026/nchoong/quantum/lib/python3.11/site-packages/torchtext/data/__init__.py:4: UserWarning: \n",
      "/!\\ IMPORTANT WARNING ABOUT TORCHTEXT STATUS /!\\ \n",
      "Torchtext is deprecated and the last released version will be 0.18 (this one). You can silence this warning by calling the following at the beginnign of your scripts: `import torchtext; torchtext.disable_torchtext_deprecation_warning()`\n",
      "  warnings.warn(torchtext._TORCHTEXT_DEPRECATION_MSG)\n"
     ]
    }
   ],
   "source": [
    "import os\n",
    "import math\n",
    "import random\n",
    "from typing import Callable, Iterable\n",
    "from copy import deepcopy\n",
    "import numpy as np\n",
    "from time import time\n",
    "\n",
    "from tqdm import tqdm\n",
    "from sklearn.metrics import roc_auc_score\n",
    "\n",
    "\n",
    "import torch\n",
    "import torch.nn as nn\n",
    "from torch import Tensor, device\n",
    "from torch.nn.utils.rnn import pad_sequence\n",
    "from torch.utils.data import DataLoader\n",
    "from torch.nn.modules.loss import _Loss\n",
    "from torch.optim import Optimizer\n",
    "\n",
    "from torchtext.vocab import Vocab\n",
    "from torchtext.datasets import IMDB\n",
    "from torchtext.data.utils import get_tokenizer\n",
    "from torchtext.data.functional import to_map_style_dataset\n",
    "from torchtext.vocab import build_vocab_from_iterator"
   ]
  },
  {
   "cell_type": "markdown",
   "id": "035afe98",
   "metadata": {
    "papermill": {
     "duration": 0.007389,
     "end_time": "2024-09-10T15:27:17.692769",
     "exception": false,
     "start_time": "2024-09-10T15:27:17.685380",
     "status": "completed"
    },
    "tags": []
   },
   "source": [
    "## Setting up environment\n"
   ]
  },
  {
   "cell_type": "code",
   "execution_count": 2,
   "id": "ae28d29e",
   "metadata": {
    "execution": {
     "iopub.execute_input": "2024-09-10T15:27:17.709048Z",
     "iopub.status.busy": "2024-09-10T15:27:17.708780Z",
     "iopub.status.idle": "2024-09-10T15:27:17.772603Z",
     "shell.execute_reply": "2024-09-10T15:27:17.772071Z"
    },
    "papermill": {
     "duration": 0.073529,
     "end_time": "2024-09-10T15:27:17.773924",
     "exception": false,
     "start_time": "2024-09-10T15:27:17.700395",
     "status": "completed"
    },
    "tags": []
   },
   "outputs": [
    {
     "name": "stdout",
     "output_type": "stream",
     "text": [
      "cuda\n"
     ]
    }
   ],
   "source": [
    "dev = (\n",
    "    torch.device(\"mps\")\n",
    "    if torch.backends.mps.is_available()\n",
    "    else torch.device(\"cuda\") if torch.cuda.is_available() else torch.device(\"cpu\")\n",
    ")\n",
    "\n",
    "print(dev)\n",
    "\n",
    "seed = 42\n",
    "\n",
    "os.environ[\"PYTHONHASHSEED\"] = str(seed)\n",
    "random.seed(seed)\n",
    "np.random.seed(seed)\n",
    "\n",
    "torch.manual_seed(seed)\n",
    "torch.cuda.manual_seed(seed)\n",
    "torch.backends.cudnn.deterministic = True\n",
    "torch.backends.cudnn.benchmark = False"
   ]
  },
  {
   "cell_type": "code",
   "execution_count": 3,
   "id": "16c7a5c8",
   "metadata": {
    "execution": {
     "iopub.execute_input": "2024-09-10T15:27:17.790502Z",
     "iopub.status.busy": "2024-09-10T15:27:17.790203Z",
     "iopub.status.idle": "2024-09-10T15:27:17.853722Z",
     "shell.execute_reply": "2024-09-10T15:27:17.853021Z"
    },
    "papermill": {
     "duration": 0.073277,
     "end_time": "2024-09-10T15:27:17.855017",
     "exception": false,
     "start_time": "2024-09-10T15:27:17.781740",
     "status": "completed"
    },
    "tags": []
   },
   "outputs": [
    {
     "name": "stdout",
     "output_type": "stream",
     "text": [
      "1\n",
      "0\n",
      "Tesla P100-SXM2-16GB\n"
     ]
    }
   ],
   "source": [
    "print(torch.cuda.device_count())\n",
    "print(torch.cuda.current_device())\n",
    "print(torch.cuda.get_device_name(torch.cuda.current_device()))"
   ]
  },
  {
   "cell_type": "markdown",
   "id": "d018dec7",
   "metadata": {
    "papermill": {
     "duration": 0.00747,
     "end_time": "2024-09-10T15:27:17.870966",
     "exception": false,
     "start_time": "2024-09-10T15:27:17.863496",
     "status": "completed"
    },
    "tags": []
   },
   "source": [
    "## Helper functions\n"
   ]
  },
  {
   "cell_type": "markdown",
   "id": "89af31e7",
   "metadata": {
    "papermill": {
     "duration": 0.007525,
     "end_time": "2024-09-10T15:27:17.886197",
     "exception": false,
     "start_time": "2024-09-10T15:27:17.878672",
     "status": "completed"
    },
    "tags": []
   },
   "source": [
    "### Binary Accuracy\n"
   ]
  },
  {
   "cell_type": "code",
   "execution_count": 4,
   "id": "8eb87d42",
   "metadata": {
    "execution": {
     "iopub.execute_input": "2024-09-10T15:27:17.902786Z",
     "iopub.status.busy": "2024-09-10T15:27:17.902556Z",
     "iopub.status.idle": "2024-09-10T15:27:17.906537Z",
     "shell.execute_reply": "2024-09-10T15:27:17.906061Z"
    },
    "papermill": {
     "duration": 0.013856,
     "end_time": "2024-09-10T15:27:17.907834",
     "exception": false,
     "start_time": "2024-09-10T15:27:17.893978",
     "status": "completed"
    },
    "tags": []
   },
   "outputs": [],
   "source": [
    "def binary_accuracy(preds: Tensor, y: Tensor):\n",
    "    \"\"\"\n",
    "    Returns accuracy per batch, i.e. if you get 8/10 right, this returns 0.8, NOT 8\n",
    "    \"\"\"\n",
    "\n",
    "    # round predictions to the closest integer\n",
    "    rounded_preds = preds.sigmoid().round()\n",
    "\n",
    "    correct = (rounded_preds == y).float()  # convert into float for division\n",
    "    acc = correct.sum() / len(correct)\n",
    "    return acc"
   ]
  },
  {
   "cell_type": "markdown",
   "id": "028328f1",
   "metadata": {
    "papermill": {
     "duration": 0.007647,
     "end_time": "2024-09-10T15:27:17.923203",
     "exception": false,
     "start_time": "2024-09-10T15:27:17.915556",
     "status": "completed"
    },
    "tags": []
   },
   "source": [
    "### Clone Model\n"
   ]
  },
  {
   "cell_type": "code",
   "execution_count": 5,
   "id": "9d4de2df",
   "metadata": {
    "execution": {
     "iopub.execute_input": "2024-09-10T15:27:17.939460Z",
     "iopub.status.busy": "2024-09-10T15:27:17.939190Z",
     "iopub.status.idle": "2024-09-10T15:27:17.942362Z",
     "shell.execute_reply": "2024-09-10T15:27:17.941891Z"
    },
    "papermill": {
     "duration": 0.012577,
     "end_time": "2024-09-10T15:27:17.943603",
     "exception": false,
     "start_time": "2024-09-10T15:27:17.931026",
     "status": "completed"
    },
    "tags": []
   },
   "outputs": [],
   "source": [
    "def get_clones(module: nn.Module, N: int):\n",
    "    return nn.ModuleList([deepcopy(module) for _ in range(N)])"
   ]
  },
  {
   "cell_type": "markdown",
   "id": "adc78adc",
   "metadata": {
    "papermill": {
     "duration": 0.008056,
     "end_time": "2024-09-10T15:27:17.959797",
     "exception": false,
     "start_time": "2024-09-10T15:27:17.951741",
     "status": "completed"
    },
    "tags": []
   },
   "source": [
    "### Data Loader\n"
   ]
  },
  {
   "cell_type": "code",
   "execution_count": 6,
   "id": "a450d9f2",
   "metadata": {
    "execution": {
     "iopub.execute_input": "2024-09-10T15:27:17.975995Z",
     "iopub.status.busy": "2024-09-10T15:27:17.975790Z",
     "iopub.status.idle": "2024-09-10T15:27:17.983322Z",
     "shell.execute_reply": "2024-09-10T15:27:17.982865Z"
    },
    "papermill": {
     "duration": 0.017193,
     "end_time": "2024-09-10T15:27:17.984657",
     "exception": false,
     "start_time": "2024-09-10T15:27:17.967464",
     "status": "completed"
    },
    "tags": []
   },
   "outputs": [],
   "source": [
    "def yield_tokens(data: list[tuple[int, str]], tokenizer: Callable[[str], list[str]]):\n",
    "    for label, text in data:\n",
    "        yield tokenizer(text.lower())\n",
    "\n",
    "\n",
    "def text_transform(text: str, vocab: Vocab, tokenizer: Callable[[str], list[str]]):\n",
    "    return vocab([token for token in tokenizer(text.lower())])\n",
    "\n",
    "\n",
    "def label_transform(label: int):\n",
    "    return torch.tensor(1.0 if label == 2 else 0.0, dtype=torch.float)\n",
    "\n",
    "\n",
    "def collate_batch(\n",
    "    batch: Iterable[tuple[int, str]],\n",
    "    vocab: Vocab,\n",
    "    tokenizer: Callable[[str], list[str]],\n",
    "):\n",
    "    pad_idx = vocab[\"<pad>\"]\n",
    "    label_list, text_list = [], []\n",
    "\n",
    "    for label, text in batch:\n",
    "        label_list.append(label_transform(label))\n",
    "        processed_text = torch.tensor(text_transform(text, vocab, tokenizer))\n",
    "        text_list.append(processed_text)\n",
    "    return torch.tensor(label_list), pad_sequence(text_list, padding_value=pad_idx)\n",
    "\n",
    "\n",
    "def batch_sampler(data: list, batch_size: int, tokenizer: Callable[[str], list[str]]):\n",
    "    indices = [(i, len(tokenizer(s[1]))) for i, s in enumerate(data)]\n",
    "    random.shuffle(indices)\n",
    "    pooled_indices = []\n",
    "    # create pool of indices with similar lengths\n",
    "    for i in range(0, len(indices), batch_size * 100):\n",
    "        pooled_indices.extend(\n",
    "            sorted(indices[i : i + batch_size * 100], key=lambda x: x[1])\n",
    "        )\n",
    "\n",
    "    pooled_indices = [x[0] for x in pooled_indices]\n",
    "\n",
    "    # yield indices for current batch\n",
    "    for i in range(0, len(pooled_indices), batch_size):\n",
    "        yield pooled_indices[i : i + batch_size]"
   ]
  },
  {
   "cell_type": "markdown",
   "id": "642d9c8a",
   "metadata": {
    "papermill": {
     "duration": 0.007624,
     "end_time": "2024-09-10T15:27:18.000066",
     "exception": false,
     "start_time": "2024-09-10T15:27:17.992442",
     "status": "completed"
    },
    "tags": []
   },
   "source": [
    "### Parameter Count\n"
   ]
  },
  {
   "cell_type": "code",
   "execution_count": 7,
   "id": "666734ae",
   "metadata": {
    "execution": {
     "iopub.execute_input": "2024-09-10T15:27:18.016270Z",
     "iopub.status.busy": "2024-09-10T15:27:18.016042Z",
     "iopub.status.idle": "2024-09-10T15:27:18.019062Z",
     "shell.execute_reply": "2024-09-10T15:27:18.018613Z"
    },
    "papermill": {
     "duration": 0.012542,
     "end_time": "2024-09-10T15:27:18.020264",
     "exception": false,
     "start_time": "2024-09-10T15:27:18.007722",
     "status": "completed"
    },
    "tags": []
   },
   "outputs": [],
   "source": [
    "def count_parameters(model: nn.Module):\n",
    "    return sum(p.numel() for p in model.parameters() if p.requires_grad)"
   ]
  },
  {
   "cell_type": "markdown",
   "id": "13b71e46",
   "metadata": {
    "papermill": {
     "duration": 0.00736,
     "end_time": "2024-09-10T15:27:18.035357",
     "exception": false,
     "start_time": "2024-09-10T15:27:18.027997",
     "status": "completed"
    },
    "tags": []
   },
   "source": [
    "### Epoch Time\n"
   ]
  },
  {
   "cell_type": "code",
   "execution_count": 8,
   "id": "777db5f8",
   "metadata": {
    "execution": {
     "iopub.execute_input": "2024-09-10T15:27:18.051730Z",
     "iopub.status.busy": "2024-09-10T15:27:18.051522Z",
     "iopub.status.idle": "2024-09-10T15:27:18.054713Z",
     "shell.execute_reply": "2024-09-10T15:27:18.054242Z"
    },
    "papermill": {
     "duration": 0.012609,
     "end_time": "2024-09-10T15:27:18.055958",
     "exception": false,
     "start_time": "2024-09-10T15:27:18.043349",
     "status": "completed"
    },
    "tags": []
   },
   "outputs": [],
   "source": [
    "def epoch_time(start_time: float, end_time: float):\n",
    "    elapsed_time = end_time - start_time\n",
    "    elapsed_mins = int(elapsed_time / 60)\n",
    "    elapsed_secs = int(elapsed_time - (elapsed_mins * 60))\n",
    "    return elapsed_mins, elapsed_secs"
   ]
  },
  {
   "cell_type": "markdown",
   "id": "77dadee8",
   "metadata": {
    "papermill": {
     "duration": 0.007554,
     "end_time": "2024-09-10T15:27:18.071338",
     "exception": false,
     "start_time": "2024-09-10T15:27:18.063784",
     "status": "completed"
    },
    "tags": []
   },
   "source": [
    "### Train\n"
   ]
  },
  {
   "cell_type": "code",
   "execution_count": 9,
   "id": "903fb39d",
   "metadata": {
    "execution": {
     "iopub.execute_input": "2024-09-10T15:27:18.087520Z",
     "iopub.status.busy": "2024-09-10T15:27:18.087290Z",
     "iopub.status.idle": "2024-09-10T15:27:18.092700Z",
     "shell.execute_reply": "2024-09-10T15:27:18.092221Z"
    },
    "papermill": {
     "duration": 0.014811,
     "end_time": "2024-09-10T15:27:18.093928",
     "exception": false,
     "start_time": "2024-09-10T15:27:18.079117",
     "status": "completed"
    },
    "tags": []
   },
   "outputs": [],
   "source": [
    "def train(\n",
    "    model: nn.Module,\n",
    "    dataloader: DataLoader,\n",
    "    optimizer: Optimizer,\n",
    "    criterion: _Loss,\n",
    "    max_seq_len: int,\n",
    "    progress_bar,\n",
    "):\n",
    "    epoch_loss = []\n",
    "    epoch_acc = []\n",
    "    epoch_true = []\n",
    "    epoch_pred = []\n",
    "\n",
    "    model.train()\n",
    "    for i, (lab, text) in enumerate(dataloader):\n",
    "\n",
    "        optimizer.zero_grad()\n",
    "        inputs = torch.LongTensor(text.T).to(dev)\n",
    "        if inputs.size(1) > max_seq_len:\n",
    "            inputs = inputs[:, :max_seq_len]\n",
    "        model.to(dev)\n",
    "        predictions = model(inputs).squeeze(1)\n",
    "\n",
    "        label = lab.to(dev)\n",
    "        # label = label.unsqueeze(1)\n",
    "        loss = criterion(predictions, label)\n",
    "        # loss = F.nll_loss(predictions, label)\n",
    "        acc = binary_accuracy(predictions, label)\n",
    "\n",
    "        loss.backward()\n",
    "        optimizer.step()\n",
    "\n",
    "        epoch_loss.append(loss.item())\n",
    "        epoch_acc.append(acc.item())\n",
    "        epoch_true.extend(label.tolist())\n",
    "        epoch_pred.extend(predictions.sigmoid().tolist())\n",
    "\n",
    "        progress_bar.update(dataloader.batch_size)\n",
    "\n",
    "    # print(epoch_loss, epoch_acc, len(dataloader.dataset))\n",
    "\n",
    "    epoch_auc = 100.0 * roc_auc_score(epoch_true, epoch_pred, multi_class=\"ovr\")\n",
    "    # divide the total loss by the total number of batches per epoch\n",
    "    return np.mean(epoch_loss), np.mean(epoch_acc), epoch_auc"
   ]
  },
  {
   "cell_type": "markdown",
   "id": "00d9773c",
   "metadata": {
    "papermill": {
     "duration": 0.007408,
     "end_time": "2024-09-10T15:27:18.109349",
     "exception": false,
     "start_time": "2024-09-10T15:27:18.101941",
     "status": "completed"
    },
    "tags": []
   },
   "source": [
    "### Evaluate\n"
   ]
  },
  {
   "cell_type": "code",
   "execution_count": 10,
   "id": "5778ba88",
   "metadata": {
    "execution": {
     "iopub.execute_input": "2024-09-10T15:27:18.126414Z",
     "iopub.status.busy": "2024-09-10T15:27:18.126137Z",
     "iopub.status.idle": "2024-09-10T15:27:18.131295Z",
     "shell.execute_reply": "2024-09-10T15:27:18.130831Z"
    },
    "papermill": {
     "duration": 0.015207,
     "end_time": "2024-09-10T15:27:18.132568",
     "exception": false,
     "start_time": "2024-09-10T15:27:18.117361",
     "status": "completed"
    },
    "tags": []
   },
   "outputs": [],
   "source": [
    "def evaluate(\n",
    "    model: nn.Module, dataloader: DataLoader, criterion: _Loss, max_seq_len: int\n",
    "):\n",
    "\n",
    "    epoch_loss = []\n",
    "    epoch_acc = []\n",
    "    epoch_true = []\n",
    "    epoch_pred = []\n",
    "\n",
    "    model.eval()\n",
    "    with torch.no_grad():\n",
    "        for i, (lab, text) in enumerate(dataloader):\n",
    "            inputs = torch.LongTensor(text.T).to(dev)\n",
    "            if inputs.size(1) > max_seq_len:\n",
    "                inputs = inputs[:, :max_seq_len]\n",
    "            predictions = model(inputs).squeeze(1)\n",
    "\n",
    "            label = lab.to(dev)\n",
    "            # label = label.unsqueeze(1)\n",
    "            loss = criterion(predictions, label)\n",
    "            # loss = F.nll_loss(predictions, label)\n",
    "            acc = binary_accuracy(predictions, label)\n",
    "\n",
    "            epoch_loss.append(loss.item())\n",
    "            epoch_acc.append(acc.item())\n",
    "            epoch_true.extend(label.tolist())\n",
    "            epoch_pred.extend(predictions.sigmoid().tolist())\n",
    "\n",
    "    epoch_auc = 100.0 * roc_auc_score(epoch_true, epoch_pred, multi_class=\"ovr\")\n",
    "\n",
    "    # divide the total loss by the total number of batches per epoch\n",
    "    return np.mean(epoch_loss), np.mean(epoch_acc), epoch_auc"
   ]
  },
  {
   "cell_type": "markdown",
   "id": "89abb8b2",
   "metadata": {
    "papermill": {
     "duration": 0.007606,
     "end_time": "2024-09-10T15:27:18.147819",
     "exception": false,
     "start_time": "2024-09-10T15:27:18.140213",
     "status": "completed"
    },
    "tags": []
   },
   "source": [
    "## Model\n"
   ]
  },
  {
   "cell_type": "markdown",
   "id": "d5d76c8e",
   "metadata": {
    "papermill": {
     "duration": 0.007597,
     "end_time": "2024-09-10T15:27:18.163081",
     "exception": false,
     "start_time": "2024-09-10T15:27:18.155484",
     "status": "completed"
    },
    "tags": []
   },
   "source": [
    "### Positional Encoding\n"
   ]
  },
  {
   "cell_type": "code",
   "execution_count": 11,
   "id": "2fd28a72",
   "metadata": {
    "execution": {
     "iopub.execute_input": "2024-09-10T15:27:18.179833Z",
     "iopub.status.busy": "2024-09-10T15:27:18.179632Z",
     "iopub.status.idle": "2024-09-10T15:27:18.184431Z",
     "shell.execute_reply": "2024-09-10T15:27:18.183983Z"
    },
    "papermill": {
     "duration": 0.01484,
     "end_time": "2024-09-10T15:27:18.185675",
     "exception": false,
     "start_time": "2024-09-10T15:27:18.170835",
     "status": "completed"
    },
    "tags": []
   },
   "outputs": [],
   "source": [
    "class PositionalEncoder(nn.Module):\n",
    "\n",
    "    def __init__(self, d_model: int, dropout=0.1, max_len=512, device=device(\"cpu\")):\n",
    "        super().__init__()\n",
    "        self.dropout = nn.Dropout(p=dropout)\n",
    "\n",
    "        position = torch.arange(max_len).unsqueeze(1)\n",
    "        div_term = torch.exp(\n",
    "            torch.arange(0, d_model, 2) * (-math.log(10000.0) / d_model)\n",
    "        )\n",
    "        pe = torch.zeros(max_len, 1, d_model, device=device)\n",
    "        pe[:, 0, 0::2] = torch.sin(position * div_term)\n",
    "        pe[:, 0, 1::2] = torch.cos(position * div_term)\n",
    "        self.register_buffer(\"pe\", pe)\n",
    "\n",
    "    def forward(self, x: Tensor) -> Tensor:\n",
    "        \"\"\"\n",
    "        Arguments:\n",
    "            x: Tensor, shape ``[seq_len, batch_size, embedding_dim]``\n",
    "        \"\"\"\n",
    "        seq_len = x.size(1)\n",
    "        x = x + self.pe[: x.size(0)]\n",
    "        return self.dropout(x)"
   ]
  },
  {
   "cell_type": "markdown",
   "id": "dcf9395e",
   "metadata": {
    "papermill": {
     "duration": 0.00777,
     "end_time": "2024-09-10T15:27:18.201448",
     "exception": false,
     "start_time": "2024-09-10T15:27:18.193678",
     "status": "completed"
    },
    "tags": []
   },
   "source": [
    "### Attention\n"
   ]
  },
  {
   "cell_type": "code",
   "execution_count": 12,
   "id": "0e533dd0",
   "metadata": {
    "execution": {
     "iopub.execute_input": "2024-09-10T15:27:18.217899Z",
     "iopub.status.busy": "2024-09-10T15:27:18.217698Z",
     "iopub.status.idle": "2024-09-10T15:27:18.221790Z",
     "shell.execute_reply": "2024-09-10T15:27:18.221349Z"
    },
    "papermill": {
     "duration": 0.013891,
     "end_time": "2024-09-10T15:27:18.222997",
     "exception": false,
     "start_time": "2024-09-10T15:27:18.209106",
     "status": "completed"
    },
    "tags": []
   },
   "outputs": [],
   "source": [
    "def attention(\n",
    "    query: Tensor,\n",
    "    key: Tensor,\n",
    "    value: Tensor,\n",
    "    mask: Tensor | None = None,\n",
    "    dropout: nn.Dropout | None = None,\n",
    "):\n",
    "    \"\"\"Scaled Dot Product Attention\"\"\"\n",
    "    dim_k = query.size(-1)\n",
    "    # scaled = torch.matmul(query, key.transpose(-2, -1)) / math.sqrt(dim_k)\n",
    "    scaled = (query @ key.transpose(-2, -1)) / math.sqrt(dim_k)\n",
    "    if mask is not None:\n",
    "        mask = mask.unsqueeze(1)\n",
    "        scaled = scaled.masked_fill(mask == 0, -1e9)\n",
    "    scores = scaled.softmax(-1)\n",
    "    if dropout is not None:\n",
    "        scores: Tensor = dropout(scores)\n",
    "    # attn = torch.matmul(scores, value)\n",
    "    attn = scores @ value\n",
    "    return attn, scores"
   ]
  },
  {
   "cell_type": "markdown",
   "id": "19c399ce",
   "metadata": {
    "papermill": {
     "duration": 0.007764,
     "end_time": "2024-09-10T15:27:18.238737",
     "exception": false,
     "start_time": "2024-09-10T15:27:18.230973",
     "status": "completed"
    },
    "tags": []
   },
   "source": [
    "### Multi-Head Attention\n"
   ]
  },
  {
   "cell_type": "code",
   "execution_count": 13,
   "id": "a7de0ee2",
   "metadata": {
    "execution": {
     "iopub.execute_input": "2024-09-10T15:27:18.255547Z",
     "iopub.status.busy": "2024-09-10T15:27:18.255314Z",
     "iopub.status.idle": "2024-09-10T15:27:18.261492Z",
     "shell.execute_reply": "2024-09-10T15:27:18.261011Z"
    },
    "papermill": {
     "duration": 0.016021,
     "end_time": "2024-09-10T15:27:18.262774",
     "exception": false,
     "start_time": "2024-09-10T15:27:18.246753",
     "status": "completed"
    },
    "tags": []
   },
   "outputs": [],
   "source": [
    "class MultiHeadedAttention(nn.Module):\n",
    "    def __init__(\n",
    "        self,\n",
    "        embed_dim: int,\n",
    "        num_heads: int,\n",
    "        dropout=0.1,\n",
    "        mask: Tensor | None = None,\n",
    "        use_bias=False,\n",
    "    ):\n",
    "        super(MultiHeadedAttention, self).__init__()\n",
    "        assert (\n",
    "            embed_dim % num_heads == 0\n",
    "        ), f\"Embedding dimension ({embed_dim}) should be divisible by number of heads ({num_heads})\"\n",
    "\n",
    "        self.embed_dim = embed_dim\n",
    "        self.num_heads = num_heads\n",
    "        self.mask = mask\n",
    "        # We assume dim_v always equals dim_k\n",
    "        self.dim_k = embed_dim // num_heads  # projection dimensions\n",
    "\n",
    "        # The linear layers for the query, key, and value projections\n",
    "        self.linears = get_clones(nn.Linear(embed_dim, embed_dim, bias=use_bias), 3)\n",
    "        # The linear layer to combine the heads\n",
    "        self.combine_heads = nn.Linear(embed_dim, embed_dim, bias=use_bias)\n",
    "        self.attn_weights: Tensor | None = None\n",
    "        self.dropout = nn.Dropout(p=dropout)\n",
    "\n",
    "    def forward(\n",
    "        self, query: Tensor, key: Tensor, value: Tensor, mask: Tensor | None = None\n",
    "    ):\n",
    "        batch_size, seq_len, embed_dim = query.size()\n",
    "        # 1) Do all the linear projections in batch from embed_dim => num_heads x dim_k\n",
    "        query, key, value = [\n",
    "            lin(x).view(batch_size, -1, self.num_heads, self.dim_k).transpose(1, 2)\n",
    "            for lin, x in zip(self.linears, (query, key, value))\n",
    "        ]\n",
    "\n",
    "        # 2) Apply attention on all the projected vectors in batch.\n",
    "        x: Tensor\n",
    "        x, self.attn_weights = attention(\n",
    "            query, key, value, mask=mask, dropout=self.dropout\n",
    "        )\n",
    "\n",
    "        # 3) \"Concat\" using a view and apply a final linear.\n",
    "        x = x.transpose(1, 2).contiguous().view(batch_size, -1, embed_dim)\n",
    "        x = self.combine_heads(x)\n",
    "        return x"
   ]
  },
  {
   "cell_type": "markdown",
   "id": "98e4ee28",
   "metadata": {
    "papermill": {
     "duration": 0.007915,
     "end_time": "2024-09-10T15:27:18.278855",
     "exception": false,
     "start_time": "2024-09-10T15:27:18.270940",
     "status": "completed"
    },
    "tags": []
   },
   "source": [
    "### Feed-Forward Network\n"
   ]
  },
  {
   "cell_type": "code",
   "execution_count": 14,
   "id": "88725634",
   "metadata": {
    "execution": {
     "iopub.execute_input": "2024-09-10T15:27:18.295482Z",
     "iopub.status.busy": "2024-09-10T15:27:18.295268Z",
     "iopub.status.idle": "2024-09-10T15:27:18.299368Z",
     "shell.execute_reply": "2024-09-10T15:27:18.298920Z"
    },
    "papermill": {
     "duration": 0.013707,
     "end_time": "2024-09-10T15:27:18.300609",
     "exception": false,
     "start_time": "2024-09-10T15:27:18.286902",
     "status": "completed"
    },
    "tags": []
   },
   "outputs": [],
   "source": [
    "class FeedForward(nn.Module):\n",
    "    \"\"\"\n",
    "    The x that is passed to the forward method is a tensor of shape (batch_size, sequence_length, embedding_dimension),\n",
    "    rather than a flattened version of it (with shape (batch_size, sequence_length * embedding_dimension)).\n",
    "    The (same) feed-forward layer applies to the last dimension only (the embedding dimension) for each batch and\n",
    "    for each position in the sequence, hence position-wise.\n",
    "    \"\"\"\n",
    "\n",
    "    def __init__(self, embed_dim: int, ffn_dim: int, dropout=0.1):\n",
    "        super(FeedForward, self).__init__()\n",
    "        self.linear_1 = nn.Linear(embed_dim, ffn_dim)\n",
    "        self.linear_2 = nn.Linear(ffn_dim, embed_dim)\n",
    "        self.dropout = nn.Dropout(dropout)\n",
    "\n",
    "    def forward(self, x: Tensor):\n",
    "        x = self.linear_1(x).relu()\n",
    "        x = self.dropout(x)\n",
    "        x = self.linear_2(x)\n",
    "        return x"
   ]
  },
  {
   "cell_type": "markdown",
   "id": "2ca44e2f",
   "metadata": {
    "papermill": {
     "duration": 0.008082,
     "end_time": "2024-09-10T15:27:18.317453",
     "exception": false,
     "start_time": "2024-09-10T15:27:18.309371",
     "status": "completed"
    },
    "tags": []
   },
   "source": [
    "### Encoder\n"
   ]
  },
  {
   "cell_type": "code",
   "execution_count": 15,
   "id": "26243480",
   "metadata": {
    "execution": {
     "iopub.execute_input": "2024-09-10T15:27:18.334369Z",
     "iopub.status.busy": "2024-09-10T15:27:18.334149Z",
     "iopub.status.idle": "2024-09-10T15:27:18.339009Z",
     "shell.execute_reply": "2024-09-10T15:27:18.338568Z"
    },
    "papermill": {
     "duration": 0.014709,
     "end_time": "2024-09-10T15:27:18.340217",
     "exception": false,
     "start_time": "2024-09-10T15:27:18.325508",
     "status": "completed"
    },
    "tags": []
   },
   "outputs": [],
   "source": [
    "class Encoder(nn.Module):\n",
    "    def __init__(\n",
    "        self,\n",
    "        embed_dim: int,\n",
    "        num_heads: int,\n",
    "        ffn_dim: int,\n",
    "        dropout: float = 0.1,\n",
    "        mask: Tensor | None = None,\n",
    "    ):\n",
    "        super(Encoder, self).__init__()\n",
    "\n",
    "        self.attn = MultiHeadedAttention(\n",
    "            embed_dim=embed_dim, num_heads=num_heads, dropout=dropout, mask=mask\n",
    "        )\n",
    "        self.norm1 = nn.LayerNorm(embed_dim)\n",
    "        self.dropout1 = nn.Dropout(dropout)\n",
    "\n",
    "        self.ffn = FeedForward(embed_dim, ffn_dim, dropout=dropout)\n",
    "        self.norm2 = nn.LayerNorm(embed_dim)\n",
    "        self.dropout2 = nn.Dropout(dropout)\n",
    "\n",
    "    def forward(self, x: Tensor):\n",
    "        attn_output: Tensor = self.attn(x, x, x)\n",
    "        x = self.norm1(attn_output + x)\n",
    "        x = self.dropout1(x)\n",
    "\n",
    "        ff_output: Tensor = self.ffn(x)\n",
    "        x = self.norm2(ff_output + x)\n",
    "        x = self.dropout2(x)\n",
    "\n",
    "        return x"
   ]
  },
  {
   "cell_type": "markdown",
   "id": "ac723704",
   "metadata": {
    "papermill": {
     "duration": 0.007879,
     "end_time": "2024-09-10T15:27:18.356265",
     "exception": false,
     "start_time": "2024-09-10T15:27:18.348386",
     "status": "completed"
    },
    "tags": []
   },
   "source": [
    "### Text Classifier\n"
   ]
  },
  {
   "cell_type": "code",
   "execution_count": 16,
   "id": "dca28602",
   "metadata": {
    "execution": {
     "iopub.execute_input": "2024-09-10T15:27:18.373964Z",
     "iopub.status.busy": "2024-09-10T15:27:18.373763Z",
     "iopub.status.idle": "2024-09-10T15:27:18.378765Z",
     "shell.execute_reply": "2024-09-10T15:27:18.378328Z"
    },
    "papermill": {
     "duration": 0.015361,
     "end_time": "2024-09-10T15:27:18.380012",
     "exception": false,
     "start_time": "2024-09-10T15:27:18.364651",
     "status": "completed"
    },
    "tags": []
   },
   "outputs": [],
   "source": [
    "class TextClassifier(nn.Module):\n",
    "    def __init__(\n",
    "        self,\n",
    "        embed_dim: int,\n",
    "        max_seq_len: int,\n",
    "        num_heads: int,\n",
    "        num_blocks: int,\n",
    "        num_classes: int,\n",
    "        vocab_size: int,\n",
    "        ffn_dim=32,\n",
    "        dropout=0.1,\n",
    "    ):\n",
    "        super(TextClassifier, self).__init__()\n",
    "\n",
    "        self.token_embedding = nn.Embedding(vocab_size, embed_dim)\n",
    "        self.pos_embedding = PositionalEncoder(embed_dim, max_len=max_seq_len)\n",
    "\n",
    "        print(f\"++ There will be {num_blocks} transformer blocks\")\n",
    "\n",
    "        self.transformers = get_clones(\n",
    "            Encoder(embed_dim, num_heads, ffn_dim), num_blocks\n",
    "        )\n",
    "        self.class_logits = nn.Linear(embed_dim, 1)\n",
    "        self.dropout = nn.Dropout(dropout)\n",
    "\n",
    "    def forward(self, x: Tensor):\n",
    "        tokens = self.token_embedding(x)\n",
    "        x = self.pos_embedding(tokens)\n",
    "\n",
    "        # x = self.dropout1(x)\n",
    "\n",
    "        for transformer in self.transformers:\n",
    "            x = transformer(x)\n",
    "\n",
    "        x = x.mean(dim=1)  # global average pooling, works in 1D\n",
    "        x = self.dropout(x)\n",
    "        x = self.class_logits(x)\n",
    "        return x"
   ]
  },
  {
   "cell_type": "markdown",
   "id": "08c76f92",
   "metadata": {
    "papermill": {
     "duration": 0.008148,
     "end_time": "2024-09-10T15:27:18.396588",
     "exception": false,
     "start_time": "2024-09-10T15:27:18.388440",
     "status": "completed"
    },
    "tags": []
   },
   "source": [
    "### Main Function\n"
   ]
  },
  {
   "cell_type": "code",
   "execution_count": 17,
   "id": "3e95413b",
   "metadata": {
    "execution": {
     "iopub.execute_input": "2024-09-10T15:27:18.413771Z",
     "iopub.status.busy": "2024-09-10T15:27:18.413572Z",
     "iopub.status.idle": "2024-09-10T15:27:18.447115Z",
     "shell.execute_reply": "2024-09-10T15:27:18.446618Z"
    },
    "papermill": {
     "duration": 0.043709,
     "end_time": "2024-09-10T15:27:18.448352",
     "exception": false,
     "start_time": "2024-09-10T15:27:18.404643",
     "status": "completed"
    },
    "tags": []
   },
   "outputs": [],
   "source": [
    "from torch.optim.lr_scheduler import StepLR\n",
    "from sklearn.model_selection import train_test_split\n",
    "\n",
    "save_dir = \".models\"\n",
    "save_path = os.path.join(save_dir, \"model_and_metrics_epoch_{}.pt\")\n",
    "os.makedirs(save_dir, exist_ok=True)\n",
    "\n",
    "\n",
    "def main(\n",
    "    max_seq_len=128,\n",
    "    batch_size=32,\n",
    "    total_size=3200,\n",
    "    n_epochs=10,\n",
    "    lr=0.001,\n",
    "    embed_dim=8,\n",
    "    num_heads=4,\n",
    "    num_blocks=6,\n",
    "    num_classes=2,\n",
    "    vocab_size=50000,\n",
    "    ffn_dim=16,\n",
    "    dropout=0.1,\n",
    "    tqdm_disabled=True,\n",
    "):\n",
    "\n",
    "    train_iter = IMDB(root=\"./.datatext\", split=\"train\")\n",
    "\n",
    "    train_data = to_map_style_dataset(train_iter)\n",
    "    train_data, test_data = train_test_split(train_data, test_size=0.2, random_state=42)\n",
    "\n",
    "    # size = total_size\n",
    "    # train_data = np.array(train_data)[\n",
    "    #     np.random.choice(len(train_data), size=size, replace=False)\n",
    "    # ].tolist()\n",
    "    # test_data = np.array(test_data)[\n",
    "    #     np.random.choice(len(test_data), size=size, replace=False)\n",
    "    # ].tolist()\n",
    "\n",
    "    train_data = [(int(label), text) for label, text in train_data]\n",
    "    test_data = [(int(label), text) for label, text in test_data]\n",
    "\n",
    "    print(\"train pos: \", len([label for label, text in train_data if label == 1]))\n",
    "    print(\"train neg: \", len([label for label, text in train_data if label == 2]))\n",
    "    print(\"test pos: \", len([label for label, text in test_data if label == 1]))\n",
    "    print(\"test neg: \", len([label for label, text in test_data if label == 2]))\n",
    "\n",
    "    tokenizer = get_tokenizer(\"basic_english\")\n",
    "\n",
    "    vocab = build_vocab_from_iterator(\n",
    "        yield_tokens(train_data, tokenizer),\n",
    "        specials=[\"<unk>\", \"<pad>\"],\n",
    "        max_tokens=vocab_size,\n",
    "    )\n",
    "    vocab.set_default_index(vocab[\"<unk>\"])\n",
    "\n",
    "    train_loader = DataLoader(\n",
    "        train_data,\n",
    "        batch_size=batch_size,\n",
    "        shuffle=True,\n",
    "        collate_fn=lambda batch: collate_batch(batch, vocab, tokenizer),\n",
    "    )\n",
    "\n",
    "    test_loader = DataLoader(\n",
    "        test_data,\n",
    "        batch_size=batch_size,\n",
    "        shuffle=True,\n",
    "        collate_fn=lambda batch: collate_batch(batch, vocab, tokenizer),\n",
    "    )\n",
    "\n",
    "    # train_loader = DataLoader(\n",
    "    #     train_data,\n",
    "    #     batch_sampler=batch_sampler(train_data, batch_size, tokenizer),\n",
    "    #     collate_fn=lambda batch: collate_batch(batch, vocab, tokenizer),\n",
    "    # )\n",
    "\n",
    "    # test_loader = DataLoader(\n",
    "    #     test_data,\n",
    "    #     batch_sampler=batch_sampler(test_data, batch_size, tokenizer),\n",
    "    #     collate_fn=lambda batch: collate_batch(batch, vocab, tokenizer),\n",
    "    # )\n",
    "\n",
    "    model = TextClassifier(\n",
    "        embed_dim=embed_dim,\n",
    "        num_heads=num_heads,\n",
    "        num_blocks=num_blocks,\n",
    "        num_classes=num_classes,\n",
    "        vocab_size=vocab_size,\n",
    "        ffn_dim=ffn_dim,\n",
    "        dropout=dropout,\n",
    "        max_seq_len=max_seq_len,\n",
    "    )\n",
    "    print(f\"The model has {count_parameters(model):,} trainable parameters\")\n",
    "    start_time = time()\n",
    "\n",
    "    model.to(dev)\n",
    "\n",
    "    optimizer = torch.optim.Adam(lr=lr, params=model.parameters(), weight_decay=1e-4)\n",
    "    criterion = torch.nn.BCEWithLogitsLoss()  # logits -> sigmoid -> loss\n",
    "    scheduler = StepLR(optimizer, step_size=5, gamma=0.1)\n",
    "\n",
    "    # training loop\n",
    "    best_test_loss = float(\"inf\")\n",
    "    best_test_acc, best_epoch_acc = 0.0, 0\n",
    "    best_test_auc, best_epoch_auc = 0.0, 0\n",
    "\n",
    "    train_loss_list, train_acc_list, test_loss_list, test_acc_list = [], [], [], []\n",
    "    train_auc_list, test_auc_list = [], []\n",
    "\n",
    "    dataset_size = len(train_loader.dataset)\n",
    "    print(f\"Training on {dataset_size} samples\")\n",
    "    print(f\"batch_num = {len(train_loader)}\")\n",
    "\n",
    "    for iepoch in range(n_epochs):\n",
    "        with tqdm(\n",
    "            total=dataset_size,\n",
    "            desc=f\"Epoch {iepoch+1:3}/{n_epochs}\",\n",
    "            unit=\"batch\",\n",
    "            bar_format=\"{l_bar}{bar:10}{r_bar}{bar:-10b}\",\n",
    "            disable=tqdm_disabled,\n",
    "            # miniters=dataset_size,\n",
    "            # file=sys.stdout,\n",
    "            # dynamic_ncols=False,\n",
    "            # ascii=True,\n",
    "            # position=0,\n",
    "            # leave=True,\n",
    "        ) as progress_bar:\n",
    "            operation_start_time = time()\n",
    "\n",
    "            # print(f\"Epoch {iepoch+1}/{n_epochs}\")\n",
    "            train_loss, train_acc, train_auc = train(\n",
    "                model, train_loader, optimizer, criterion, max_seq_len, progress_bar\n",
    "            )\n",
    "            # GPUtil.showUtilization()\n",
    "\n",
    "            scheduler.step()\n",
    "\n",
    "            test_loss, test_acc, test_auc = evaluate(\n",
    "                model, test_loader, criterion, max_seq_len\n",
    "            )\n",
    "\n",
    "            end_time = time()\n",
    "\n",
    "            epoch_mins, epoch_secs = epoch_time(operation_start_time, end_time)\n",
    "\n",
    "            # if test_loss < best_test_loss:\n",
    "            #     best_test_loss = test_loss\n",
    "            #     torch.save(model.state_dict(), \"model.pt\")\n",
    "\n",
    "            # print(f\"Epoch: {iepoch+1:02} | Epoch Time: {epoch_mins}m {epoch_secs}s\")\n",
    "            # print(f\"\\tTrain Loss: {train_loss:.3f} | Train Acc: {train_acc*100:.2f}%\")\n",
    "            # print(f\"\\tTest Loss: {test_loss:.3f} |  Test Acc: {test_acc*100:.2f}%\")\n",
    "\n",
    "            train_loss_list.append(train_loss)\n",
    "            train_acc_list.append(train_acc)\n",
    "            test_loss_list.append(test_loss)\n",
    "            test_acc_list.append(test_acc)\n",
    "            train_auc_list.append(train_auc)\n",
    "            test_auc_list.append(test_auc)\n",
    "\n",
    "            progress_bar.set_postfix_str(\n",
    "                f\"Epoch = {epoch_mins}m {epoch_secs}s, Loss = {train_loss:.4f}|{test_loss:.4f}, Acc = {train_acc:.3f}|{test_acc:.3f}, AUC = {train_auc:.3f}|{test_auc:.3f}\"\n",
    "            )\n",
    "            if tqdm_disabled:\n",
    "                ep_time = end_time - operation_start_time\n",
    "                batch_time = len(train_loader.dataset) / ep_time\n",
    "\n",
    "                print(\n",
    "                    f\"Epoch {iepoch+1:02}: {batch_time:.2f}batch/s, Epoch = {epoch_mins}m {epoch_secs}s, Loss = {train_loss:.4f}|{test_loss:.4f}, Acc = {train_acc:.3f}|{test_acc:.3f}, AUC = {train_auc:.3f}|{test_auc:.3f}\"\n",
    "                )\n",
    "\n",
    "            if test_acc > best_test_acc:\n",
    "                best_test_acc = test_acc\n",
    "                best_epoch_acc = iepoch + 1\n",
    "            if test_auc > best_test_auc:\n",
    "                best_test_auc = test_auc\n",
    "                best_epoch_auc = iepoch + 1\n",
    "\n",
    "            torch.save(\n",
    "                {\n",
    "                    \"epoch\": iepoch + 1,\n",
    "                    \"model_state_dict\": model.state_dict(),\n",
    "                    \"optimizer_state_dict\": optimizer.state_dict(),\n",
    "                    \"scheduler_state_dict\": scheduler.state_dict(),\n",
    "                    \"train_loss\": train_loss_list,\n",
    "                    \"train_acc\": train_acc_list,\n",
    "                    \"train_auc\": train_auc_list,\n",
    "                    \"test_loss\": test_loss_list,\n",
    "                    \"test_acc\": test_acc_list,\n",
    "                    \"test_auc\": test_auc_list,\n",
    "                },\n",
    "                save_path.format(iepoch + 1),\n",
    "            )\n",
    "\n",
    "    print(f\"TOTAL TIME = {time()-start_time:.2f}s\")\n",
    "    print(f\"BEST ACC = {best_test_acc:.2f}% AT EPOCH {best_epoch_acc}\")\n",
    "    print(f\"BEST AUC = {best_test_auc:.2f} AT EPOCH {best_epoch_auc}\")\n",
    "\n",
    "    return (\n",
    "        train_loss_list,\n",
    "        train_acc_list,\n",
    "        test_loss_list,\n",
    "        test_acc_list,\n",
    "        train_auc_list,\n",
    "        test_auc_list,\n",
    "    )"
   ]
  },
  {
   "cell_type": "markdown",
   "id": "6260bfb7",
   "metadata": {
    "papermill": {
     "duration": 0.007718,
     "end_time": "2024-09-10T15:27:18.464791",
     "exception": false,
     "start_time": "2024-09-10T15:27:18.457073",
     "status": "completed"
    },
    "tags": []
   },
   "source": [
    "## Training\n"
   ]
  },
  {
   "cell_type": "code",
   "execution_count": 18,
   "id": "a0e7433b",
   "metadata": {
    "execution": {
     "iopub.execute_input": "2024-09-10T15:27:18.482454Z",
     "iopub.status.busy": "2024-09-10T15:27:18.482106Z",
     "iopub.status.idle": "2024-09-10T15:29:55.090330Z",
     "shell.execute_reply": "2024-09-10T15:29:55.089650Z"
    },
    "papermill": {
     "duration": 156.628493,
     "end_time": "2024-09-10T15:29:55.101566",
     "exception": false,
     "start_time": "2024-09-10T15:27:18.473073",
     "status": "completed"
    },
    "scrolled": true,
    "tags": []
   },
   "outputs": [
    {
     "name": "stderr",
     "output_type": "stream",
     "text": [
      "/group/pmc026/nchoong/quantum/lib/python3.11/site-packages/torchdata/datapipes/__init__.py:18: UserWarning: \n",
      "################################################################################\n",
      "WARNING!\n",
      "The 'datapipes', 'dataloader2' modules are deprecated and will be removed in a\n",
      "future torchdata release! Please see https://github.com/pytorch/data/issues/1196\n",
      "to learn more and leave feedback.\n",
      "################################################################################\n",
      "\n",
      "  deprecation_warning()\n"
     ]
    },
    {
     "name": "stdout",
     "output_type": "stream",
     "text": [
      "train pos:  9985\n",
      "train neg:  10015\n",
      "test pos:  2515\n",
      "test neg:  2485\n"
     ]
    },
    {
     "name": "stdout",
     "output_type": "stream",
     "text": [
      "++ There will be 6 transformer blocks\n",
      "The model has 403,417 trainable parameters\n"
     ]
    },
    {
     "name": "stdout",
     "output_type": "stream",
     "text": [
      "Training on 20000 samples\n",
      "batch_num = 625\n"
     ]
    },
    {
     "name": "stdout",
     "output_type": "stream",
     "text": [
      "Epoch 01: 1312.40batch/s, Epoch = 0m 15s, Loss = 0.6958|0.6932, Acc = 0.498|0.511, AUC = 49.760|51.578\n"
     ]
    },
    {
     "name": "stdout",
     "output_type": "stream",
     "text": [
      "Epoch 02: 1333.94batch/s, Epoch = 0m 14s, Loss = 0.6933|0.6899, Acc = 0.505|0.526, AUC = 50.837|54.877\n"
     ]
    },
    {
     "name": "stdout",
     "output_type": "stream",
     "text": [
      "Epoch 03: 1332.81batch/s, Epoch = 0m 15s, Loss = 0.6387|0.5350, Acc = 0.621|0.740, AUC = 67.944|81.634\n"
     ]
    },
    {
     "name": "stdout",
     "output_type": "stream",
     "text": [
      "Epoch 04: 1332.76batch/s, Epoch = 0m 15s, Loss = 0.4939|0.4545, Acc = 0.769|0.785, AUC = 84.137|87.754\n"
     ]
    },
    {
     "name": "stdout",
     "output_type": "stream",
     "text": [
      "Epoch 05: 1331.89batch/s, Epoch = 0m 15s, Loss = 0.4130|0.4073, Acc = 0.818|0.814, AUC = 89.311|89.704\n"
     ]
    },
    {
     "name": "stdout",
     "output_type": "stream",
     "text": [
      "Epoch 06: 1344.05batch/s, Epoch = 0m 14s, Loss = 0.3601|0.3983, Acc = 0.849|0.822, AUC = 92.001|90.133\n"
     ]
    },
    {
     "name": "stdout",
     "output_type": "stream",
     "text": [
      "Epoch 07: 1342.72batch/s, Epoch = 0m 14s, Loss = 0.3555|0.3999, Acc = 0.850|0.819, AUC = 92.181|90.101\n"
     ]
    },
    {
     "name": "stdout",
     "output_type": "stream",
     "text": [
      "Epoch 08: 1343.06batch/s, Epoch = 0m 14s, Loss = 0.3512|0.4001, Acc = 0.854|0.820, AUC = 92.350|90.175\n"
     ]
    },
    {
     "name": "stdout",
     "output_type": "stream",
     "text": [
      "Epoch 09: 1345.28batch/s, Epoch = 0m 14s, Loss = 0.3444|0.3941, Acc = 0.858|0.819, AUC = 92.663|90.394\n"
     ]
    },
    {
     "name": "stdout",
     "output_type": "stream",
     "text": [
      "Epoch 10: 1344.76batch/s, Epoch = 0m 14s, Loss = 0.3416|0.3965, Acc = 0.859|0.822, AUC = 92.774|90.285\n",
      "TOTAL TIME = 151.33s\n",
      "BEST ACC = 0.82% AT EPOCH 10\n",
      "BEST AUC = 90.39 AT EPOCH 9\n"
     ]
    }
   ],
   "source": [
    "train_loss, train_acc, test_loss, test_acc, train_auc, test_auc = main()"
   ]
  },
  {
   "cell_type": "markdown",
   "id": "c704a202",
   "metadata": {
    "papermill": {
     "duration": 0.008752,
     "end_time": "2024-09-10T15:29:55.119229",
     "exception": false,
     "start_time": "2024-09-10T15:29:55.110477",
     "status": "completed"
    },
    "tags": []
   },
   "source": [
    "## Evaluation\n"
   ]
  },
  {
   "cell_type": "code",
   "execution_count": 19,
   "id": "2e6a5d81",
   "metadata": {
    "execution": {
     "iopub.execute_input": "2024-09-10T15:29:55.138579Z",
     "iopub.status.busy": "2024-09-10T15:29:55.137846Z",
     "iopub.status.idle": "2024-09-10T15:29:56.309121Z",
     "shell.execute_reply": "2024-09-10T15:29:56.308667Z"
    },
    "papermill": {
     "duration": 1.182268,
     "end_time": "2024-09-10T15:29:56.310484",
     "exception": false,
     "start_time": "2024-09-10T15:29:55.128216",
     "status": "completed"
    },
    "tags": []
   },
   "outputs": [
    {
     "data": {
      "image/png": "[encoded data removed]",
      "text/plain": [
       "<Figure size 1200x500 with 2 Axes>"
      ]
     },
     "metadata": {},
     "output_type": "display_data"
    }
   ],
   "source": [
    "import matplotlib.pyplot as plt\n",
    "import seaborn as sns\n",
    "\n",
    "sns.set_theme()\n",
    "\n",
    "# plt.style.use(\"classic\")\n",
    "# plt.style.use(\"dark_background\")\n",
    "\n",
    "epochs = range(1, len(train_loss) + 1)\n",
    "\n",
    "plt.figure(figsize=(12, 5))\n",
    "plt.subplot(1, 2, 1)\n",
    "plt.plot(epochs, train_loss, \"b-\", label=\"Train Loss\")\n",
    "plt.plot(epochs, test_loss, \"r-\", label=\"Test Loss\")\n",
    "plt.title(\"Train and Test Loss\")\n",
    "plt.xlabel(\"Epochs\")\n",
    "plt.ylabel(\"Loss\")\n",
    "plt.legend()\n",
    "\n",
    "plt.subplot(1, 2, 2)\n",
    "plt.plot(epochs, train_acc, \"b-\", label=\"Train Accuracy\")\n",
    "plt.plot(epochs, test_acc, \"r-\", label=\"Test Accuracy\")\n",
    "plt.title(\"Train and Test Accuracy\")\n",
    "plt.xlabel(\"Epochs\")\n",
    "plt.ylabel(\"Accuracy\")\n",
    "plt.legend()\n",
    "\n",
    "plt.tight_layout()\n",
    "plt.show()"
   ]
  },
  {
   "cell_type": "code",
   "execution_count": 20,
   "id": "d872577e",
   "metadata": {
    "execution": {
     "iopub.execute_input": "2024-09-10T15:29:56.332130Z",
     "iopub.status.busy": "2024-09-10T15:29:56.331837Z",
     "iopub.status.idle": "2024-09-10T15:29:56.491356Z",
     "shell.execute_reply": "2024-09-10T15:29:56.490885Z"
    },
    "papermill": {
     "duration": 0.171352,
     "end_time": "2024-09-10T15:29:56.492613",
     "exception": false,
     "start_time": "2024-09-10T15:29:56.321261",
     "status": "completed"
    },
    "tags": []
   },
   "outputs": [
    {
     "data": {
      "image/png": "[encoded data removed]",
      "text/plain": [
       "<Figure size 640x480 with 1 Axes>"
      ]
     },
     "metadata": {},
     "output_type": "display_data"
    }
   ],
   "source": [
    "plt.plot(epochs, train_auc, \"b-\", label=\"Train\")\n",
    "plt.plot(epochs, test_auc, \"r-\", label=\"Test\")\n",
    "plt.title(\"Train and Test AUC\")\n",
    "plt.xlabel(\"Epochs\")\n",
    "plt.ylabel(\"AUC\")\n",
    "plt.legend()\n",
    "plt.show()"
   ]
  },
  {
   "cell_type": "code",
   "execution_count": 21,
   "id": "1c37c361",
   "metadata": {
    "execution": {
     "iopub.execute_input": "2024-09-10T15:29:56.514719Z",
     "iopub.status.busy": "2024-09-10T15:29:56.514523Z",
     "iopub.status.idle": "2024-09-10T15:29:56.732681Z",
     "shell.execute_reply": "2024-09-10T15:29:56.732226Z"
    },
    "papermill": {
     "duration": 0.230421,
     "end_time": "2024-09-10T15:29:56.733920",
     "exception": false,
     "start_time": "2024-09-10T15:29:56.503499",
     "status": "completed"
    },
    "tags": []
   },
   "outputs": [
    {
     "data": {
      "text/plain": [
       "[0.5105493630573248,\n",
       " 0.5262738853503185,\n",
       " 0.7402468152866242,\n",
       " 0.7848328025477707,\n",
       " 0.8136942675159236,\n",
       " 0.821656050955414,\n",
       " 0.8192675159235668,\n",
       " 0.8200636942675159,\n",
       " 0.8192675159235668,\n",
       " 0.8220541401273885]"
      ]
     },
     "execution_count": 21,
     "metadata": {},
     "output_type": "execute_result"
    }
   ],
   "source": [
    "checkpoint = torch.load(\n",
    "    \".models/model_and_metrics_epoch_10.pt\"\n",
    ")  # Replace x with the epoch number\n",
    "\n",
    "# Load the metrics\n",
    "epoch = checkpoint[\"epoch\"]\n",
    "train_loss = checkpoint[\"train_loss\"]\n",
    "train_acc = checkpoint[\"train_acc\"]\n",
    "train_auc = checkpoint[\"train_auc\"]\n",
    "test_loss = checkpoint[\"test_loss\"]\n",
    "test_acc = checkpoint[\"test_acc\"]\n",
    "test_auc = checkpoint[\"test_auc\"]\n",
    "\n",
    "test_acc"
   ]
  },
  {
   "cell_type": "code",
   "execution_count": 22,
   "id": "6abaa745",
   "metadata": {
    "execution": {
     "iopub.execute_input": "2024-09-10T15:29:56.757141Z",
     "iopub.status.busy": "2024-09-10T15:29:56.756940Z",
     "iopub.status.idle": "2024-09-10T15:29:56.759656Z",
     "shell.execute_reply": "2024-09-10T15:29:56.759219Z"
    },
    "papermill": {
     "duration": 0.015546,
     "end_time": "2024-09-10T15:29:56.760871",
     "exception": false,
     "start_time": "2024-09-10T15:29:56.745325",
     "status": "completed"
    },
    "tags": []
   },
   "outputs": [],
   "source": [
    "# fig, ax = plt.subplots(figsize=(4, 3.5))\n",
    "# # ax.plot(classical_qg_metrics['train_aucs'], label='Classical Training', color='orange', linestyle='--')\n",
    "# # ax.plot(quantum_qg_metrics['train_aucs'], label='Quantum Training', color='purple', linestyle='--')\n",
    "# # ax.plot(classical_qg_metrics['val_aucs'], label='Classical Validation', color='orange')\n",
    "# # ax.plot(quantum_qg_metrics['val_aucs'], label='Quantum Validation', color='purple')\n",
    "# ax.plot(epochs, train_auc, label=\"Classical Training\", color=\"purple\")\n",
    "# ax.plot(epochs, test_auc, label=\"Classical Validation\", color=\"purple\")\n",
    "# ax.set_xlabel(\"Epoch\")\n",
    "# ax.set_ylabel(\"AUC\")\n",
    "# ax.legend()\n",
    "# ax.grid()\n",
    "# ax.set_ylim(0.5, 1)"
   ]
  }
 ],
 "metadata": {
  "kernelspec": {
   "display_name": "quant",
   "language": "python",
   "name": "python3"
  },
  "language_info": {
   "codemirror_mode": {
    "name": "ipython",
    "version": 3
   },
   "file_extension": ".py",
   "mimetype": "text/x-python",
   "name": "python",
   "nbconvert_exporter": "python",
   "pygments_lexer": "ipython3",
   "version": "3.11.8"
  },
  "papermill": {
   "default_parameters": {},
   "duration": 165.597059,
   "end_time": "2024-09-10T15:29:57.789795",
   "environment_variables": {},
   "exception": null,
   "input_path": "../notebook/0_classic_old.ipynb",
   "output_path": "../notebook/0_classic_old.papermill.ipynb",
   "parameters": {},
   "start_time": "2024-09-10T15:27:12.192736",
   "version": "2.6.0"
  }
 },
 "nbformat": 4,
 "nbformat_minor": 5
}