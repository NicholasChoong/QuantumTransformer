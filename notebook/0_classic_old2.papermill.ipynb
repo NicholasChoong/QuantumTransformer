{
 "cells": [
  {
   "cell_type": "markdown",
   "id": "a58051ca",
   "metadata": {
    "papermill": {
     "duration": 0.014303,
     "end_time": "2024-09-10T07:12:32.741575",
     "exception": false,
     "start_time": "2024-09-10T07:12:32.727272",
     "status": "completed"
    },
    "tags": []
   },
   "source": [
    "# Classical Transformer\n"
   ]
  },
  {
   "cell_type": "code",
   "execution_count": 1,
   "id": "ef0bc3fb",
   "metadata": {
    "execution": {
     "iopub.execute_input": "2024-09-10T07:12:32.759867Z",
     "iopub.status.busy": "2024-09-10T07:12:32.759337Z",
     "iopub.status.idle": "2024-09-10T07:12:35.571943Z",
     "shell.execute_reply": "2024-09-10T07:12:35.570725Z"
    },
    "papermill": {
     "duration": 2.824052,
     "end_time": "2024-09-10T07:12:35.574587",
     "exception": false,
     "start_time": "2024-09-10T07:12:32.750535",
     "status": "completed"
    },
    "tags": []
   },
   "outputs": [
    {
     "name": "stderr",
     "output_type": "stream",
     "text": [
      "/group/pmc026/nchoong/quantum/lib/python3.11/site-packages/torchtext/vocab/__init__.py:4: UserWarning: \n",
      "/!\\ IMPORTANT WARNING ABOUT TORCHTEXT STATUS /!\\ \n",
      "Torchtext is deprecated and the last released version will be 0.18 (this one). You can silence this warning by calling the following at the beginnign of your scripts: `import torchtext; torchtext.disable_torchtext_deprecation_warning()`\n",
      "  warnings.warn(torchtext._TORCHTEXT_DEPRECATION_MSG)\n",
      "/group/pmc026/nchoong/quantum/lib/python3.11/site-packages/torchtext/utils.py:4: UserWarning: \n",
      "/!\\ IMPORTANT WARNING ABOUT TORCHTEXT STATUS /!\\ \n",
      "Torchtext is deprecated and the last released version will be 0.18 (this one). You can silence this warning by calling the following at the beginnign of your scripts: `import torchtext; torchtext.disable_torchtext_deprecation_warning()`\n",
      "  warnings.warn(torchtext._TORCHTEXT_DEPRECATION_MSG)\n",
      "/group/pmc026/nchoong/quantum/lib/python3.11/site-packages/torchtext/datasets/__init__.py:4: UserWarning: \n",
      "/!\\ IMPORTANT WARNING ABOUT TORCHTEXT STATUS /!\\ \n",
      "Torchtext is deprecated and the last released version will be 0.18 (this one). You can silence this warning by calling the following at the beginnign of your scripts: `import torchtext; torchtext.disable_torchtext_deprecation_warning()`\n",
      "  warnings.warn(torchtext._TORCHTEXT_DEPRECATION_MSG)\n",
      "/group/pmc026/nchoong/quantum/lib/python3.11/site-packages/torchtext/data/__init__.py:4: UserWarning: \n",
      "/!\\ IMPORTANT WARNING ABOUT TORCHTEXT STATUS /!\\ \n",
      "Torchtext is deprecated and the last released version will be 0.18 (this one). You can silence this warning by calling the following at the beginnign of your scripts: `import torchtext; torchtext.disable_torchtext_deprecation_warning()`\n",
      "  warnings.warn(torchtext._TORCHTEXT_DEPRECATION_MSG)\n"
     ]
    }
   ],
   "source": [
    "import os\n",
    "import math\n",
    "import random\n",
    "from typing import Callable, Iterable\n",
    "from copy import deepcopy\n",
    "import numpy as np\n",
    "from time import time\n",
    "\n",
    "from tqdm import tqdm\n",
    "from sklearn.metrics import roc_auc_score\n",
    "\n",
    "\n",
    "import torch\n",
    "import torch.nn as nn\n",
    "from torch import Tensor, device\n",
    "from torch.nn.utils.rnn import pad_sequence\n",
    "from torch.utils.data import DataLoader\n",
    "from torch.nn.modules.loss import _Loss\n",
    "from torch.optim import Optimizer\n",
    "\n",
    "from torchtext.vocab import Vocab\n",
    "from torchtext.datasets import IMDB\n",
    "from torchtext.data.utils import get_tokenizer\n",
    "from torchtext.data.functional import to_map_style_dataset\n",
    "from torchtext.vocab import build_vocab_from_iterator"
   ]
  },
  {
   "cell_type": "markdown",
   "id": "af47ad12",
   "metadata": {
    "papermill": {
     "duration": 0.007879,
     "end_time": "2024-09-10T07:12:35.596422",
     "exception": false,
     "start_time": "2024-09-10T07:12:35.588543",
     "status": "completed"
    },
    "tags": []
   },
   "source": [
    "## Setting up environment\n"
   ]
  },
  {
   "cell_type": "code",
   "execution_count": 2,
   "id": "2cde8380",
   "metadata": {
    "execution": {
     "iopub.execute_input": "2024-09-10T07:12:35.611835Z",
     "iopub.status.busy": "2024-09-10T07:12:35.611155Z",
     "iopub.status.idle": "2024-09-10T07:12:35.680976Z",
     "shell.execute_reply": "2024-09-10T07:12:35.680300Z"
    },
    "papermill": {
     "duration": 0.080326,
     "end_time": "2024-09-10T07:12:35.683103",
     "exception": false,
     "start_time": "2024-09-10T07:12:35.602777",
     "status": "completed"
    },
    "tags": []
   },
   "outputs": [
    {
     "name": "stdout",
     "output_type": "stream",
     "text": [
      "cuda\n"
     ]
    }
   ],
   "source": [
    "dev = (\n",
    "    torch.device(\"mps\")\n",
    "    if torch.backends.mps.is_available()\n",
    "    else torch.device(\"cuda\") if torch.cuda.is_available() else torch.device(\"cpu\")\n",
    ")\n",
    "\n",
    "print(dev)\n",
    "\n",
    "seed = 42\n",
    "\n",
    "os.environ[\"PYTHONHASHSEED\"] = str(seed)\n",
    "random.seed(seed)\n",
    "np.random.seed(seed)\n",
    "\n",
    "torch.manual_seed(seed)\n",
    "torch.cuda.manual_seed(seed)\n",
    "torch.backends.cudnn.deterministic = True\n",
    "torch.backends.cudnn.benchmark = False"
   ]
  },
  {
   "cell_type": "code",
   "execution_count": 3,
   "id": "cdf253c2",
   "metadata": {
    "execution": {
     "iopub.execute_input": "2024-09-10T07:12:35.703083Z",
     "iopub.status.busy": "2024-09-10T07:12:35.702736Z",
     "iopub.status.idle": "2024-09-10T07:12:35.788728Z",
     "shell.execute_reply": "2024-09-10T07:12:35.787330Z"
    },
    "papermill": {
     "duration": 0.096874,
     "end_time": "2024-09-10T07:12:35.790969",
     "exception": false,
     "start_time": "2024-09-10T07:12:35.694095",
     "status": "completed"
    },
    "tags": []
   },
   "outputs": [
    {
     "name": "stdout",
     "output_type": "stream",
     "text": [
      "1\n",
      "0\n",
      "Tesla V100-PCIE-32GB\n"
     ]
    }
   ],
   "source": [
    "print(torch.cuda.device_count())\n",
    "print(torch.cuda.current_device())\n",
    "print(torch.cuda.get_device_name(torch.cuda.current_device()))"
   ]
  },
  {
   "cell_type": "markdown",
   "id": "522b0e94",
   "metadata": {
    "papermill": {
     "duration": 0.00798,
     "end_time": "2024-09-10T07:12:35.810571",
     "exception": false,
     "start_time": "2024-09-10T07:12:35.802591",
     "status": "completed"
    },
    "tags": []
   },
   "source": [
    "## Helper functions\n"
   ]
  },
  {
   "cell_type": "markdown",
   "id": "df255e35",
   "metadata": {
    "papermill": {
     "duration": 0.011572,
     "end_time": "2024-09-10T07:12:35.828373",
     "exception": false,
     "start_time": "2024-09-10T07:12:35.816801",
     "status": "completed"
    },
    "tags": []
   },
   "source": [
    "### Binary Accuracy\n"
   ]
  },
  {
   "cell_type": "code",
   "execution_count": 4,
   "id": "a9487308",
   "metadata": {
    "execution": {
     "iopub.execute_input": "2024-09-10T07:12:35.849171Z",
     "iopub.status.busy": "2024-09-10T07:12:35.848569Z",
     "iopub.status.idle": "2024-09-10T07:12:35.856113Z",
     "shell.execute_reply": "2024-09-10T07:12:35.855187Z"
    },
    "papermill": {
     "duration": 0.020423,
     "end_time": "2024-09-10T07:12:35.857406",
     "exception": false,
     "start_time": "2024-09-10T07:12:35.836983",
     "status": "completed"
    },
    "tags": []
   },
   "outputs": [],
   "source": [
    "def binary_accuracy(preds: Tensor, y: Tensor):\n",
    "    \"\"\"\n",
    "    Returns accuracy per batch, i.e. if you get 8/10 right, this returns 0.8, NOT 8\n",
    "    \"\"\"\n",
    "\n",
    "    # round predictions to the closest integer\n",
    "    rounded_preds = preds.sigmoid().round()\n",
    "\n",
    "    correct = (rounded_preds == y).float()  # convert into float for division\n",
    "    acc = correct.sum() / len(correct)\n",
    "    return acc"
   ]
  },
  {
   "cell_type": "markdown",
   "id": "a87ac5da",
   "metadata": {
    "papermill": {
     "duration": 0.007109,
     "end_time": "2024-09-10T07:12:35.873012",
     "exception": false,
     "start_time": "2024-09-10T07:12:35.865903",
     "status": "completed"
    },
    "tags": []
   },
   "source": [
    "### Clone Model\n"
   ]
  },
  {
   "cell_type": "code",
   "execution_count": 5,
   "id": "06840317",
   "metadata": {
    "execution": {
     "iopub.execute_input": "2024-09-10T07:12:35.891092Z",
     "iopub.status.busy": "2024-09-10T07:12:35.890752Z",
     "iopub.status.idle": "2024-09-10T07:12:35.895865Z",
     "shell.execute_reply": "2024-09-10T07:12:35.895016Z"
    },
    "papermill": {
     "duration": 0.018,
     "end_time": "2024-09-10T07:12:35.897284",
     "exception": false,
     "start_time": "2024-09-10T07:12:35.879284",
     "status": "completed"
    },
    "tags": []
   },
   "outputs": [],
   "source": [
    "def get_clones(module: nn.Module, N: int):\n",
    "    return nn.ModuleList([deepcopy(module) for _ in range(N)])"
   ]
  },
  {
   "cell_type": "markdown",
   "id": "4b9937a4",
   "metadata": {
    "papermill": {
     "duration": 0.008031,
     "end_time": "2024-09-10T07:12:35.913513",
     "exception": false,
     "start_time": "2024-09-10T07:12:35.905482",
     "status": "completed"
    },
    "tags": []
   },
   "source": [
    "### Data Loader\n"
   ]
  },
  {
   "cell_type": "code",
   "execution_count": 6,
   "id": "ac992708",
   "metadata": {
    "execution": {
     "iopub.execute_input": "2024-09-10T07:12:35.932292Z",
     "iopub.status.busy": "2024-09-10T07:12:35.931779Z",
     "iopub.status.idle": "2024-09-10T07:12:35.946060Z",
     "shell.execute_reply": "2024-09-10T07:12:35.944985Z"
    },
    "papermill": {
     "duration": 0.027547,
     "end_time": "2024-09-10T07:12:35.947645",
     "exception": false,
     "start_time": "2024-09-10T07:12:35.920098",
     "status": "completed"
    },
    "tags": []
   },
   "outputs": [],
   "source": [
    "def yield_tokens(data: list[tuple[int, str]], tokenizer: Callable[[str], list[str]]):\n",
    "    for label, text in data:\n",
    "        yield tokenizer(text.lower())\n",
    "\n",
    "\n",
    "def text_transform(text: str, vocab: Vocab, tokenizer: Callable[[str], list[str]]):\n",
    "    return vocab([token for token in tokenizer(text.lower())])\n",
    "\n",
    "\n",
    "def label_transform(label: int):\n",
    "    return torch.tensor(1.0 if label == 2 else 0.0, dtype=torch.float)\n",
    "\n",
    "\n",
    "def collate_batch(\n",
    "    batch: Iterable[tuple[int, str]],\n",
    "    vocab: Vocab,\n",
    "    tokenizer: Callable[[str], list[str]],\n",
    "):\n",
    "    pad_idx = vocab[\"<pad>\"]\n",
    "    label_list, text_list = [], []\n",
    "\n",
    "    for label, text in batch:\n",
    "        label_list.append(label_transform(label))\n",
    "        processed_text = torch.tensor(text_transform(text, vocab, tokenizer))\n",
    "        text_list.append(processed_text)\n",
    "    return torch.tensor(label_list), pad_sequence(text_list, padding_value=pad_idx)\n",
    "\n",
    "\n",
    "def batch_sampler(data: list, batch_size: int, tokenizer: Callable[[str], list[str]]):\n",
    "    indices = [(i, len(tokenizer(s[1]))) for i, s in enumerate(data)]\n",
    "    random.shuffle(indices)\n",
    "    pooled_indices = []\n",
    "    # create pool of indices with similar lengths\n",
    "    for i in range(0, len(indices), batch_size * 100):\n",
    "        pooled_indices.extend(\n",
    "            sorted(indices[i : i + batch_size * 100], key=lambda x: x[1])\n",
    "        )\n",
    "\n",
    "    pooled_indices = [x[0] for x in pooled_indices]\n",
    "\n",
    "    # yield indices for current batch\n",
    "    for i in range(0, len(pooled_indices), batch_size):\n",
    "        yield pooled_indices[i : i + batch_size]"
   ]
  },
  {
   "cell_type": "markdown",
   "id": "872a0d4e",
   "metadata": {
    "papermill": {
     "duration": 0.007948,
     "end_time": "2024-09-10T07:12:35.965756",
     "exception": false,
     "start_time": "2024-09-10T07:12:35.957808",
     "status": "completed"
    },
    "tags": []
   },
   "source": [
    "### Parameter Count\n"
   ]
  },
  {
   "cell_type": "code",
   "execution_count": 7,
   "id": "27f66fba",
   "metadata": {
    "execution": {
     "iopub.execute_input": "2024-09-10T07:12:35.981987Z",
     "iopub.status.busy": "2024-09-10T07:12:35.981668Z",
     "iopub.status.idle": "2024-09-10T07:12:35.985717Z",
     "shell.execute_reply": "2024-09-10T07:12:35.984992Z"
    },
    "papermill": {
     "duration": 0.014105,
     "end_time": "2024-09-10T07:12:35.987393",
     "exception": false,
     "start_time": "2024-09-10T07:12:35.973288",
     "status": "completed"
    },
    "tags": []
   },
   "outputs": [],
   "source": [
    "def count_parameters(model: nn.Module):\n",
    "    return sum(p.numel() for p in model.parameters() if p.requires_grad)"
   ]
  },
  {
   "cell_type": "markdown",
   "id": "ea5e281d",
   "metadata": {
    "papermill": {
     "duration": 0.007986,
     "end_time": "2024-09-10T07:12:36.004747",
     "exception": false,
     "start_time": "2024-09-10T07:12:35.996761",
     "status": "completed"
    },
    "tags": []
   },
   "source": [
    "### Epoch Time\n"
   ]
  },
  {
   "cell_type": "code",
   "execution_count": 8,
   "id": "d89b8a6a",
   "metadata": {
    "execution": {
     "iopub.execute_input": "2024-09-10T07:12:36.019779Z",
     "iopub.status.busy": "2024-09-10T07:12:36.019387Z",
     "iopub.status.idle": "2024-09-10T07:12:36.024202Z",
     "shell.execute_reply": "2024-09-10T07:12:36.023453Z"
    },
    "papermill": {
     "duration": 0.013263,
     "end_time": "2024-09-10T07:12:36.025300",
     "exception": false,
     "start_time": "2024-09-10T07:12:36.012037",
     "status": "completed"
    },
    "tags": []
   },
   "outputs": [],
   "source": [
    "def epoch_time(start_time: float, end_time: float):\n",
    "    elapsed_time = end_time - start_time\n",
    "    elapsed_mins = int(elapsed_time / 60)\n",
    "    elapsed_secs = int(elapsed_time - (elapsed_mins * 60))\n",
    "    return elapsed_mins, elapsed_secs"
   ]
  },
  {
   "cell_type": "markdown",
   "id": "0d43cd73",
   "metadata": {
    "papermill": {
     "duration": 0.006749,
     "end_time": "2024-09-10T07:12:36.038452",
     "exception": false,
     "start_time": "2024-09-10T07:12:36.031703",
     "status": "completed"
    },
    "tags": []
   },
   "source": [
    "### Train\n"
   ]
  },
  {
   "cell_type": "code",
   "execution_count": 9,
   "id": "de89b40f",
   "metadata": {
    "execution": {
     "iopub.execute_input": "2024-09-10T07:12:36.053550Z",
     "iopub.status.busy": "2024-09-10T07:12:36.053155Z",
     "iopub.status.idle": "2024-09-10T07:12:36.063776Z",
     "shell.execute_reply": "2024-09-10T07:12:36.063017Z"
    },
    "papermill": {
     "duration": 0.020811,
     "end_time": "2024-09-10T07:12:36.065925",
     "exception": false,
     "start_time": "2024-09-10T07:12:36.045114",
     "status": "completed"
    },
    "tags": []
   },
   "outputs": [],
   "source": [
    "def train(\n",
    "    model: nn.Module,\n",
    "    dataloader: DataLoader,\n",
    "    optimizer: Optimizer,\n",
    "    criterion: _Loss,\n",
    "    max_seq_len: int,\n",
    "    progress_bar,\n",
    "):\n",
    "    epoch_loss = []\n",
    "    epoch_acc = []\n",
    "    epoch_true = []\n",
    "    epoch_pred = []\n",
    "\n",
    "    model.train()\n",
    "    for i, (lab, text) in enumerate(dataloader):\n",
    "\n",
    "        optimizer.zero_grad()\n",
    "        inputs = torch.LongTensor(text.T).to(dev)\n",
    "        if inputs.size(1) > max_seq_len:\n",
    "            inputs = inputs[:, :max_seq_len]\n",
    "        model.to(dev)\n",
    "        predictions = model(inputs).squeeze(1)\n",
    "\n",
    "        label = lab.to(dev)\n",
    "        # label = label.unsqueeze(1)\n",
    "        loss = criterion(predictions, label)\n",
    "        # loss = F.nll_loss(predictions, label)\n",
    "        acc = binary_accuracy(predictions, label)\n",
    "\n",
    "        loss.backward()\n",
    "        optimizer.step()\n",
    "\n",
    "        epoch_loss.append(loss.item())\n",
    "        epoch_acc.append(acc.item())\n",
    "        epoch_true.extend(label.tolist())\n",
    "        epoch_pred.extend(predictions.sigmoid().tolist())\n",
    "\n",
    "        progress_bar.update(dataloader.batch_size)\n",
    "\n",
    "    # print(epoch_loss, epoch_acc, len(dataloader.dataset))\n",
    "\n",
    "    epoch_auc = 100.0 * roc_auc_score(epoch_true, epoch_pred, multi_class=\"ovr\")\n",
    "    # divide the total loss by the total number of batches per epoch\n",
    "    return np.mean(epoch_loss), np.mean(epoch_acc), epoch_auc"
   ]
  },
  {
   "cell_type": "markdown",
   "id": "608c45b4",
   "metadata": {
    "papermill": {
     "duration": 0.008338,
     "end_time": "2024-09-10T07:12:36.084940",
     "exception": false,
     "start_time": "2024-09-10T07:12:36.076602",
     "status": "completed"
    },
    "tags": []
   },
   "source": [
    "### Evaluate\n"
   ]
  },
  {
   "cell_type": "code",
   "execution_count": 10,
   "id": "eacbb788",
   "metadata": {
    "execution": {
     "iopub.execute_input": "2024-09-10T07:12:36.101505Z",
     "iopub.status.busy": "2024-09-10T07:12:36.100776Z",
     "iopub.status.idle": "2024-09-10T07:12:36.110761Z",
     "shell.execute_reply": "2024-09-10T07:12:36.109892Z"
    },
    "papermill": {
     "duration": 0.021015,
     "end_time": "2024-09-10T07:12:36.113051",
     "exception": false,
     "start_time": "2024-09-10T07:12:36.092036",
     "status": "completed"
    },
    "tags": []
   },
   "outputs": [],
   "source": [
    "def evaluate(\n",
    "    model: nn.Module, dataloader: DataLoader, criterion: _Loss, max_seq_len: int\n",
    "):\n",
    "\n",
    "    epoch_loss = []\n",
    "    epoch_acc = []\n",
    "    epoch_true = []\n",
    "    epoch_pred = []\n",
    "\n",
    "    model.eval()\n",
    "    with torch.no_grad():\n",
    "        for i, (lab, text) in enumerate(dataloader):\n",
    "            inputs = torch.LongTensor(text.T).to(dev)\n",
    "            if inputs.size(1) > max_seq_len:\n",
    "                inputs = inputs[:, :max_seq_len]\n",
    "            predictions = model(inputs).squeeze(1)\n",
    "\n",
    "            label = lab.to(dev)\n",
    "            # label = label.unsqueeze(1)\n",
    "            loss = criterion(predictions, label)\n",
    "            # loss = F.nll_loss(predictions, label)\n",
    "            acc = binary_accuracy(predictions, label)\n",
    "\n",
    "            epoch_loss.append(loss.item())\n",
    "            epoch_acc.append(acc.item())\n",
    "            epoch_true.extend(label.tolist())\n",
    "            epoch_pred.extend(predictions.sigmoid().tolist())\n",
    "\n",
    "    epoch_auc = 100.0 * roc_auc_score(epoch_true, epoch_pred, multi_class=\"ovr\")\n",
    "\n",
    "    # divide the total loss by the total number of batches per epoch\n",
    "    return np.mean(epoch_loss), np.mean(epoch_acc), epoch_auc"
   ]
  },
  {
   "cell_type": "markdown",
   "id": "8323ccb1",
   "metadata": {
    "papermill": {
     "duration": 0.008421,
     "end_time": "2024-09-10T07:12:36.133799",
     "exception": false,
     "start_time": "2024-09-10T07:12:36.125378",
     "status": "completed"
    },
    "tags": []
   },
   "source": [
    "## Model\n"
   ]
  },
  {
   "cell_type": "markdown",
   "id": "acf368c7",
   "metadata": {
    "papermill": {
     "duration": 0.011468,
     "end_time": "2024-09-10T07:12:36.152510",
     "exception": false,
     "start_time": "2024-09-10T07:12:36.141042",
     "status": "completed"
    },
    "tags": []
   },
   "source": [
    "### Positional Encoding\n"
   ]
  },
  {
   "cell_type": "code",
   "execution_count": 11,
   "id": "58178617",
   "metadata": {
    "execution": {
     "iopub.execute_input": "2024-09-10T07:12:36.173807Z",
     "iopub.status.busy": "2024-09-10T07:12:36.173415Z",
     "iopub.status.idle": "2024-09-10T07:12:36.181155Z",
     "shell.execute_reply": "2024-09-10T07:12:36.180359Z"
    },
    "papermill": {
     "duration": 0.02157,
     "end_time": "2024-09-10T07:12:36.183039",
     "exception": false,
     "start_time": "2024-09-10T07:12:36.161469",
     "status": "completed"
    },
    "tags": []
   },
   "outputs": [],
   "source": [
    "class PositionalEncoder(nn.Module):\n",
    "\n",
    "    def __init__(self, d_model: int, dropout=0.1, max_len=512, device=device(\"cpu\")):\n",
    "        super().__init__()\n",
    "        self.dropout = nn.Dropout(p=dropout)\n",
    "\n",
    "        position = torch.arange(max_len).unsqueeze(1)\n",
    "        div_term = torch.exp(\n",
    "            torch.arange(0, d_model, 2) * (-math.log(10000.0) / d_model)\n",
    "        )\n",
    "        pe = torch.zeros(max_len, 1, d_model, device=device)\n",
    "        pe[:, 0, 0::2] = torch.sin(position * div_term)\n",
    "        pe[:, 0, 1::2] = torch.cos(position * div_term)\n",
    "        self.register_buffer(\"pe\", pe)\n",
    "\n",
    "    def forward(self, x: Tensor) -> Tensor:\n",
    "        \"\"\"\n",
    "        Arguments:\n",
    "            x: Tensor, shape ``[seq_len, batch_size, embedding_dim]``\n",
    "        \"\"\"\n",
    "        seq_len = x.size(1)\n",
    "        x = x + self.pe[: x.size(0)]\n",
    "        return self.dropout(x)"
   ]
  },
  {
   "cell_type": "markdown",
   "id": "88399387",
   "metadata": {
    "papermill": {
     "duration": 0.007837,
     "end_time": "2024-09-10T07:12:36.202471",
     "exception": false,
     "start_time": "2024-09-10T07:12:36.194634",
     "status": "completed"
    },
    "tags": []
   },
   "source": [
    "### Attention\n"
   ]
  },
  {
   "cell_type": "code",
   "execution_count": 12,
   "id": "e674bd92",
   "metadata": {
    "execution": {
     "iopub.execute_input": "2024-09-10T07:12:36.223461Z",
     "iopub.status.busy": "2024-09-10T07:12:36.223082Z",
     "iopub.status.idle": "2024-09-10T07:12:36.229465Z",
     "shell.execute_reply": "2024-09-10T07:12:36.228681Z"
    },
    "papermill": {
     "duration": 0.01879,
     "end_time": "2024-09-10T07:12:36.231224",
     "exception": false,
     "start_time": "2024-09-10T07:12:36.212434",
     "status": "completed"
    },
    "tags": []
   },
   "outputs": [],
   "source": [
    "def attention(\n",
    "    query: Tensor,\n",
    "    key: Tensor,\n",
    "    value: Tensor,\n",
    "    mask: Tensor | None = None,\n",
    "    dropout: nn.Dropout | None = None,\n",
    "):\n",
    "    \"\"\"Scaled Dot Product Attention\"\"\"\n",
    "    dim_k = query.size(-1)\n",
    "    # scaled = torch.matmul(query, key.transpose(-2, -1)) / math.sqrt(dim_k)\n",
    "    scaled = (query @ key.transpose(-2, -1)) / math.sqrt(dim_k)\n",
    "    if mask is not None:\n",
    "        mask = mask.unsqueeze(1)\n",
    "        scaled = scaled.masked_fill(mask == 0, -1e9)\n",
    "    scores = scaled.softmax(-1)\n",
    "    if dropout is not None:\n",
    "        scores: Tensor = dropout(scores)\n",
    "    # attn = torch.matmul(scores, value)\n",
    "    attn = scores @ value\n",
    "    return attn, scores"
   ]
  },
  {
   "cell_type": "markdown",
   "id": "29d79a90",
   "metadata": {
    "papermill": {
     "duration": 0.0074,
     "end_time": "2024-09-10T07:12:36.252006",
     "exception": false,
     "start_time": "2024-09-10T07:12:36.244606",
     "status": "completed"
    },
    "tags": []
   },
   "source": [
    "### Multi-Head Attention\n"
   ]
  },
  {
   "cell_type": "code",
   "execution_count": 13,
   "id": "ef10c50c",
   "metadata": {
    "execution": {
     "iopub.execute_input": "2024-09-10T07:12:36.268424Z",
     "iopub.status.busy": "2024-09-10T07:12:36.268059Z",
     "iopub.status.idle": "2024-09-10T07:12:36.278429Z",
     "shell.execute_reply": "2024-09-10T07:12:36.277457Z"
    },
    "papermill": {
     "duration": 0.020107,
     "end_time": "2024-09-10T07:12:36.279785",
     "exception": false,
     "start_time": "2024-09-10T07:12:36.259678",
     "status": "completed"
    },
    "tags": []
   },
   "outputs": [],
   "source": [
    "class MultiHeadedAttention(nn.Module):\n",
    "    def __init__(\n",
    "        self,\n",
    "        embed_dim: int,\n",
    "        num_heads: int,\n",
    "        dropout=0.1,\n",
    "        mask: Tensor | None = None,\n",
    "        use_bias=False,\n",
    "    ):\n",
    "        super(MultiHeadedAttention, self).__init__()\n",
    "        assert (\n",
    "            embed_dim % num_heads == 0\n",
    "        ), f\"Embedding dimension ({embed_dim}) should be divisible by number of heads ({num_heads})\"\n",
    "\n",
    "        self.embed_dim = embed_dim\n",
    "        self.num_heads = num_heads\n",
    "        self.mask = mask\n",
    "        # We assume dim_v always equals dim_k\n",
    "        self.dim_k = embed_dim // num_heads  # projection dimensions\n",
    "\n",
    "        # The linear layers for the query, key, and value projections\n",
    "        self.linears = get_clones(nn.Linear(embed_dim, embed_dim, bias=use_bias), 3)\n",
    "        # The linear layer to combine the heads\n",
    "        self.combine_heads = nn.Linear(embed_dim, embed_dim, bias=use_bias)\n",
    "        self.attn_weights: Tensor | None = None\n",
    "        self.dropout = nn.Dropout(p=dropout)\n",
    "\n",
    "    def forward(\n",
    "        self, query: Tensor, key: Tensor, value: Tensor, mask: Tensor | None = None\n",
    "    ):\n",
    "        batch_size, seq_len, embed_dim = query.size()\n",
    "        # 1) Do all the linear projections in batch from embed_dim => num_heads x dim_k\n",
    "        query, key, value = [\n",
    "            lin(x).view(batch_size, -1, self.num_heads, self.dim_k).transpose(1, 2)\n",
    "            for lin, x in zip(self.linears, (query, key, value))\n",
    "        ]\n",
    "\n",
    "        # 2) Apply attention on all the projected vectors in batch.\n",
    "        x: Tensor\n",
    "        x, self.attn_weights = attention(\n",
    "            query, key, value, mask=mask, dropout=self.dropout\n",
    "        )\n",
    "\n",
    "        # 3) \"Concat\" using a view and apply a final linear.\n",
    "        x = x.transpose(1, 2).contiguous().view(batch_size, -1, embed_dim)\n",
    "        x = self.combine_heads(x)\n",
    "        return x"
   ]
  },
  {
   "cell_type": "markdown",
   "id": "5a80d2b4",
   "metadata": {
    "papermill": {
     "duration": 0.008472,
     "end_time": "2024-09-10T07:12:36.296731",
     "exception": false,
     "start_time": "2024-09-10T07:12:36.288259",
     "status": "completed"
    },
    "tags": []
   },
   "source": [
    "### Feed-Forward Network\n"
   ]
  },
  {
   "cell_type": "code",
   "execution_count": 14,
   "id": "bf17eaf4",
   "metadata": {
    "execution": {
     "iopub.execute_input": "2024-09-10T07:12:36.316421Z",
     "iopub.status.busy": "2024-09-10T07:12:36.316021Z",
     "iopub.status.idle": "2024-09-10T07:12:36.324045Z",
     "shell.execute_reply": "2024-09-10T07:12:36.323273Z"
    },
    "papermill": {
     "duration": 0.022414,
     "end_time": "2024-09-10T07:12:36.326030",
     "exception": false,
     "start_time": "2024-09-10T07:12:36.303616",
     "status": "completed"
    },
    "tags": []
   },
   "outputs": [],
   "source": [
    "class FeedForward(nn.Module):\n",
    "    \"\"\"\n",
    "    The x that is passed to the forward method is a tensor of shape (batch_size, sequence_length, embedding_dimension),\n",
    "    rather than a flattened version of it (with shape (batch_size, sequence_length * embedding_dimension)).\n",
    "    The (same) feed-forward layer applies to the last dimension only (the embedding dimension) for each batch and\n",
    "    for each position in the sequence, hence position-wise.\n",
    "    \"\"\"\n",
    "\n",
    "    def __init__(self, embed_dim: int, ffn_dim: int, dropout=0.1):\n",
    "        super(FeedForward, self).__init__()\n",
    "        self.linear_1 = nn.Linear(embed_dim, ffn_dim)\n",
    "        self.linear_2 = nn.Linear(ffn_dim, embed_dim)\n",
    "        self.dropout = nn.Dropout(dropout)\n",
    "\n",
    "    def forward(self, x: Tensor):\n",
    "        x = self.linear_1(x).relu()\n",
    "        x = self.dropout(x)\n",
    "        x = self.linear_2(x)\n",
    "        return x"
   ]
  },
  {
   "cell_type": "markdown",
   "id": "129b4a37",
   "metadata": {
    "papermill": {
     "duration": 0.007608,
     "end_time": "2024-09-10T07:12:36.344628",
     "exception": false,
     "start_time": "2024-09-10T07:12:36.337020",
     "status": "completed"
    },
    "tags": []
   },
   "source": [
    "### Encoder\n"
   ]
  },
  {
   "cell_type": "code",
   "execution_count": 15,
   "id": "18968737",
   "metadata": {
    "execution": {
     "iopub.execute_input": "2024-09-10T07:12:36.367759Z",
     "iopub.status.busy": "2024-09-10T07:12:36.366962Z",
     "iopub.status.idle": "2024-09-10T07:12:36.376884Z",
     "shell.execute_reply": "2024-09-10T07:12:36.375932Z"
    },
    "papermill": {
     "duration": 0.022556,
     "end_time": "2024-09-10T07:12:36.378349",
     "exception": false,
     "start_time": "2024-09-10T07:12:36.355793",
     "status": "completed"
    },
    "tags": []
   },
   "outputs": [],
   "source": [
    "class Encoder(nn.Module):\n",
    "    def __init__(\n",
    "        self,\n",
    "        embed_dim: int,\n",
    "        num_heads: int,\n",
    "        ffn_dim: int,\n",
    "        dropout: float = 0.1,\n",
    "        mask: Tensor | None = None,\n",
    "    ):\n",
    "        super(Encoder, self).__init__()\n",
    "\n",
    "        self.attn = MultiHeadedAttention(\n",
    "            embed_dim=embed_dim, num_heads=num_heads, dropout=dropout, mask=mask\n",
    "        )\n",
    "        self.norm1 = nn.LayerNorm(embed_dim)\n",
    "        self.dropout1 = nn.Dropout(dropout)\n",
    "\n",
    "        self.ffn = FeedForward(embed_dim, ffn_dim, dropout=dropout)\n",
    "        self.norm2 = nn.LayerNorm(embed_dim)\n",
    "        self.dropout2 = nn.Dropout(dropout)\n",
    "\n",
    "    def forward(self, x: Tensor):\n",
    "        attn_output: Tensor = self.attn(x, x, x)\n",
    "        x = self.norm1(attn_output + x)\n",
    "        x = self.dropout1(x)\n",
    "\n",
    "        ff_output: Tensor = self.ffn(x)\n",
    "        x = self.norm2(ff_output + x)\n",
    "        x = self.dropout2(x)\n",
    "\n",
    "        return x"
   ]
  },
  {
   "cell_type": "markdown",
   "id": "ee325732",
   "metadata": {
    "papermill": {
     "duration": 0.007633,
     "end_time": "2024-09-10T07:12:36.394449",
     "exception": false,
     "start_time": "2024-09-10T07:12:36.386816",
     "status": "completed"
    },
    "tags": []
   },
   "source": [
    "### Text Classifier\n"
   ]
  },
  {
   "cell_type": "code",
   "execution_count": 16,
   "id": "e3f339a1",
   "metadata": {
    "execution": {
     "iopub.execute_input": "2024-09-10T07:12:36.416619Z",
     "iopub.status.busy": "2024-09-10T07:12:36.416207Z",
     "iopub.status.idle": "2024-09-10T07:12:36.426120Z",
     "shell.execute_reply": "2024-09-10T07:12:36.425373Z"
    },
    "papermill": {
     "duration": 0.021783,
     "end_time": "2024-09-10T07:12:36.428311",
     "exception": false,
     "start_time": "2024-09-10T07:12:36.406528",
     "status": "completed"
    },
    "tags": []
   },
   "outputs": [],
   "source": [
    "class TextClassifier(nn.Module):\n",
    "    def __init__(\n",
    "        self,\n",
    "        embed_dim: int,\n",
    "        max_seq_len: int,\n",
    "        num_heads: int,\n",
    "        num_blocks: int,\n",
    "        num_classes: int,\n",
    "        vocab_size: int,\n",
    "        ffn_dim=32,\n",
    "        dropout=0.1,\n",
    "    ):\n",
    "        super(TextClassifier, self).__init__()\n",
    "\n",
    "        self.token_embedding = nn.Embedding(vocab_size, embed_dim)\n",
    "        self.pos_embedding = PositionalEncoder(embed_dim, max_len=max_seq_len)\n",
    "\n",
    "        print(f\"++ There will be {num_blocks} transformer blocks\")\n",
    "\n",
    "        self.transformers = get_clones(\n",
    "            Encoder(embed_dim, num_heads, ffn_dim), num_blocks\n",
    "        )\n",
    "        self.class_logits = nn.Linear(embed_dim, 1)\n",
    "        self.dropout = nn.Dropout(dropout)\n",
    "\n",
    "    def forward(self, x: Tensor):\n",
    "        tokens = self.token_embedding(x)\n",
    "        x = self.pos_embedding(tokens)\n",
    "\n",
    "        # x = self.dropout1(x)\n",
    "\n",
    "        for transformer in self.transformers:\n",
    "            x = transformer(x)\n",
    "\n",
    "        x = x.mean(dim=1)  # global average pooling, works in 1D\n",
    "        x = self.dropout(x)\n",
    "        x = self.class_logits(x)\n",
    "        return x"
   ]
  },
  {
   "cell_type": "markdown",
   "id": "df132b73",
   "metadata": {
    "papermill": {
     "duration": 0.008289,
     "end_time": "2024-09-10T07:12:36.448355",
     "exception": false,
     "start_time": "2024-09-10T07:12:36.440066",
     "status": "completed"
    },
    "tags": []
   },
   "source": [
    "### Main Function\n"
   ]
  },
  {
   "cell_type": "code",
   "execution_count": 17,
   "id": "0e8b867b",
   "metadata": {
    "execution": {
     "iopub.execute_input": "2024-09-10T07:12:36.468647Z",
     "iopub.status.busy": "2024-09-10T07:12:36.468141Z",
     "iopub.status.idle": "2024-09-10T07:12:36.513078Z",
     "shell.execute_reply": "2024-09-10T07:12:36.512111Z"
    },
    "papermill": {
     "duration": 0.05938,
     "end_time": "2024-09-10T07:12:36.515363",
     "exception": false,
     "start_time": "2024-09-10T07:12:36.455983",
     "status": "completed"
    },
    "tags": []
   },
   "outputs": [],
   "source": [
    "from torch.optim.lr_scheduler import StepLR\n",
    "from sklearn.model_selection import train_test_split\n",
    "\n",
    "save_dir = \".models\"\n",
    "save_path = os.path.join(save_dir, \"model_and_metrics_epoch_{}.pt\")\n",
    "os.makedirs(save_dir, exist_ok=True)\n",
    "\n",
    "\n",
    "def main(\n",
    "    max_seq_len=128,\n",
    "    batch_size=32,\n",
    "    total_size=3200,\n",
    "    n_epochs=30,\n",
    "    lr=0.001,\n",
    "    embed_dim=8,\n",
    "    num_heads=4,\n",
    "    num_blocks=6,\n",
    "    num_classes=2,\n",
    "    vocab_size=50000,\n",
    "    ffn_dim=16,\n",
    "    dropout=0.1,\n",
    "    tqdm_disabled=False,\n",
    "):\n",
    "\n",
    "    train_iter = IMDB(root=\"./.datatext\", split=\"train\")\n",
    "\n",
    "    train_data = to_map_style_dataset(train_iter)\n",
    "    train_data, test_data = train_test_split(train_data, test_size=0.2, random_state=42)\n",
    "\n",
    "    # size = total_size\n",
    "    # train_data = np.array(train_data)[\n",
    "    #     np.random.choice(len(train_data), size=size, replace=False)\n",
    "    # ].tolist()\n",
    "    # test_data = np.array(test_data)[\n",
    "    #     np.random.choice(len(test_data), size=size, replace=False)\n",
    "    # ].tolist()\n",
    "\n",
    "    train_data = [(int(label), text) for label, text in train_data]\n",
    "    test_data = [(int(label), text) for label, text in test_data]\n",
    "\n",
    "    print(\"train pos: \", len([label for label, text in train_data if label == 1]))\n",
    "    print(\"train neg: \", len([label for label, text in train_data if label == 2]))\n",
    "    print(\"test pos: \", len([label for label, text in test_data if label == 1]))\n",
    "    print(\"test neg: \", len([label for label, text in test_data if label == 2]))\n",
    "\n",
    "    tokenizer = get_tokenizer(\"basic_english\")\n",
    "\n",
    "    vocab = build_vocab_from_iterator(\n",
    "        yield_tokens(train_data, tokenizer),\n",
    "        specials=[\"<unk>\", \"<pad>\"],\n",
    "        max_tokens=vocab_size,\n",
    "    )\n",
    "    vocab.set_default_index(vocab[\"<unk>\"])\n",
    "\n",
    "    train_loader = DataLoader(\n",
    "        train_data,\n",
    "        batch_size=batch_size,\n",
    "        shuffle=True,\n",
    "        collate_fn=lambda batch: collate_batch(batch, vocab, tokenizer),\n",
    "    )\n",
    "\n",
    "    test_loader = DataLoader(\n",
    "        test_data,\n",
    "        batch_size=batch_size,\n",
    "        shuffle=True,\n",
    "        collate_fn=lambda batch: collate_batch(batch, vocab, tokenizer),\n",
    "    )\n",
    "\n",
    "    # train_loader = DataLoader(\n",
    "    #     train_data,\n",
    "    #     batch_sampler=batch_sampler(train_data, batch_size, tokenizer),\n",
    "    #     collate_fn=lambda batch: collate_batch(batch, vocab, tokenizer),\n",
    "    # )\n",
    "\n",
    "    # test_loader = DataLoader(\n",
    "    #     test_data,\n",
    "    #     batch_sampler=batch_sampler(test_data, batch_size, tokenizer),\n",
    "    #     collate_fn=lambda batch: collate_batch(batch, vocab, tokenizer),\n",
    "    # )\n",
    "\n",
    "    model = TextClassifier(\n",
    "        embed_dim=embed_dim,\n",
    "        num_heads=num_heads,\n",
    "        num_blocks=num_blocks,\n",
    "        num_classes=num_classes,\n",
    "        vocab_size=vocab_size,\n",
    "        ffn_dim=ffn_dim,\n",
    "        dropout=dropout,\n",
    "        max_seq_len=max_seq_len,\n",
    "    )\n",
    "    print(f\"The model has {count_parameters(model):,} trainable parameters\")\n",
    "    start_time = time()\n",
    "\n",
    "    model.to(dev)\n",
    "\n",
    "    optimizer = torch.optim.Adam(lr=lr, params=model.parameters(), weight_decay=1e-4)\n",
    "    criterion = torch.nn.BCEWithLogitsLoss()  # logits -> sigmoid -> loss\n",
    "    scheduler = StepLR(optimizer, step_size=5, gamma=0.1)\n",
    "\n",
    "    # training loop\n",
    "    best_test_loss = float(\"inf\")\n",
    "    best_test_acc, best_epoch_acc = 0.0, 0\n",
    "    best_test_auc, best_epoch_auc = 0.0, 0\n",
    "\n",
    "    train_loss_list, train_acc_list, test_loss_list, test_acc_list = [], [], [], []\n",
    "    train_auc_list, test_auc_list = [], []\n",
    "\n",
    "    dataset_size = len(train_loader.dataset)\n",
    "    print(f\"Training on {dataset_size} samples\")\n",
    "    print(f\"batch_num = {len(train_loader)}\")\n",
    "\n",
    "    for iepoch in range(n_epochs):\n",
    "        with tqdm(\n",
    "            total=dataset_size,\n",
    "            desc=f\"Epoch {iepoch+1:3}/{n_epochs}\",\n",
    "            unit=\"batch\",\n",
    "            bar_format=\"{l_bar}{bar:10}{r_bar}{bar:-10b}\",\n",
    "            disable=tqdm_disabled,\n",
    "            miniters=dataset_size,\n",
    "            # file=sys.stdout,\n",
    "            # dynamic_ncols=False,\n",
    "            # ascii=True,\n",
    "            # position=0,\n",
    "            # leave=True,\n",
    "        ) as progress_bar:\n",
    "            operation_start_time = time()\n",
    "\n",
    "            # print(f\"Epoch {iepoch+1}/{n_epochs}\")\n",
    "            train_loss, train_acc, train_auc = train(\n",
    "                model, train_loader, optimizer, criterion, max_seq_len, progress_bar\n",
    "            )\n",
    "            # GPUtil.showUtilization()\n",
    "\n",
    "            scheduler.step()\n",
    "\n",
    "            test_loss, test_acc, test_auc = evaluate(\n",
    "                model, test_loader, criterion, max_seq_len\n",
    "            )\n",
    "\n",
    "            end_time = time()\n",
    "\n",
    "            epoch_mins, epoch_secs = epoch_time(operation_start_time, end_time)\n",
    "\n",
    "            # if test_loss < best_test_loss:\n",
    "            #     best_test_loss = test_loss\n",
    "            #     torch.save(model.state_dict(), \"model.pt\")\n",
    "\n",
    "            # print(f\"Epoch: {iepoch+1:02} | Epoch Time: {epoch_mins}m {epoch_secs}s\")\n",
    "            # print(f\"\\tTrain Loss: {train_loss:.3f} | Train Acc: {train_acc*100:.2f}%\")\n",
    "            # print(f\"\\tTest Loss: {test_loss:.3f} |  Test Acc: {test_acc*100:.2f}%\")\n",
    "\n",
    "            train_loss_list.append(train_loss)\n",
    "            train_acc_list.append(train_acc)\n",
    "            test_loss_list.append(test_loss)\n",
    "            test_acc_list.append(test_acc)\n",
    "            train_auc_list.append(train_auc)\n",
    "            test_auc_list.append(test_auc)\n",
    "\n",
    "            progress_bar.set_postfix_str(\n",
    "                f\"Epoch = {epoch_mins}m {epoch_secs}s, Loss = {train_loss:.4f}|{test_loss:.4f}, Acc = {train_acc:.3f}|{test_acc:.3f}, AUC = {train_auc:.3f}|{test_auc:.3f}\"\n",
    "            )\n",
    "            if tqdm_disabled:\n",
    "                ep_time = end_time - operation_start_time\n",
    "                batch_time = len(train_loader.dataset) / ep_time\n",
    "\n",
    "                print(\n",
    "                    f\"Epoch {iepoch+1:02}: {batch_time:.2f}batch/s, Epoch = {epoch_mins}m {epoch_secs}s, Loss = {train_loss:.4f}|{test_loss:.4f}, Acc = {train_acc:.3f}|{test_acc:.3f}, AUC = {train_auc:.3f}|{test_auc:.3f}\"\n",
    "                )\n",
    "\n",
    "            if test_acc > best_test_acc:\n",
    "                best_test_acc = test_acc\n",
    "                best_epoch_acc = iepoch + 1\n",
    "            if test_auc > best_test_auc:\n",
    "                best_test_auc = test_auc\n",
    "                best_epoch_auc = iepoch + 1\n",
    "\n",
    "            torch.save(\n",
    "                {\n",
    "                    \"epoch\": iepoch + 1,\n",
    "                    \"model_state_dict\": model.state_dict(),\n",
    "                    \"optimizer_state_dict\": optimizer.state_dict(),\n",
    "                    \"scheduler_state_dict\": scheduler.state_dict(),\n",
    "                    \"train_loss\": train_loss_list,\n",
    "                    \"train_acc\": train_acc_list,\n",
    "                    \"train_auc\": train_auc_list,\n",
    "                    \"test_loss\": test_loss_list,\n",
    "                    \"test_acc\": test_acc_list,\n",
    "                    \"test_auc\": test_auc_list,\n",
    "                },\n",
    "                save_path.format(iepoch + 1),\n",
    "            )\n",
    "\n",
    "    print(f\"TOTAL TIME = {time()-start_time:.2f}s\")\n",
    "    print(f\"BEST ACC = {best_test_acc:.2f}% AT EPOCH {best_epoch_acc}\")\n",
    "    print(f\"BEST AUC = {best_test_auc:.2f} AT EPOCH {best_epoch_auc}\")\n",
    "\n",
    "    return (\n",
    "        train_loss_list,\n",
    "        train_acc_list,\n",
    "        test_loss_list,\n",
    "        test_acc_list,\n",
    "        train_auc_list,\n",
    "        test_auc_list,\n",
    "    )"
   ]
  },
  {
   "cell_type": "markdown",
   "id": "5d3f91be",
   "metadata": {
    "papermill": {
     "duration": 0.008556,
     "end_time": "2024-09-10T07:12:36.537726",
     "exception": false,
     "start_time": "2024-09-10T07:12:36.529170",
     "status": "completed"
    },
    "tags": []
   },
   "source": [
    "## Training\n"
   ]
  },
  {
   "cell_type": "code",
   "execution_count": 18,
   "id": "af643d75",
   "metadata": {
    "execution": {
     "iopub.execute_input": "2024-09-10T07:12:36.559065Z",
     "iopub.status.busy": "2024-09-10T07:12:36.558420Z",
     "iopub.status.idle": "2024-09-10T07:17:42.788351Z",
     "shell.execute_reply": "2024-09-10T07:17:42.787587Z"
    },
    "papermill": {
     "duration": 306.244854,
     "end_time": "2024-09-10T07:17:42.789741",
     "exception": false,
     "start_time": "2024-09-10T07:12:36.544887",
     "status": "completed"
    },
    "scrolled": true,
    "tags": []
   },
   "outputs": [
    {
     "name": "stderr",
     "output_type": "stream",
     "text": [
      "/group/pmc026/nchoong/quantum/lib/python3.11/site-packages/torchdata/datapipes/__init__.py:18: UserWarning: \n",
      "################################################################################\n",
      "WARNING!\n",
      "The 'datapipes', 'dataloader2' modules are deprecated and will be removed in a\n",
      "future torchdata release! Please see https://github.com/pytorch/data/issues/1196\n",
      "to learn more and leave feedback.\n",
      "################################################################################\n",
      "\n",
      "  deprecation_warning()\n"
     ]
    },
    {
     "name": "stdout",
     "output_type": "stream",
     "text": [
      "train pos:  9985\n",
      "train neg:  10015\n",
      "test pos:  2515\n",
      "test neg:  2485\n"
     ]
    },
    {
     "name": "stdout",
     "output_type": "stream",
     "text": [
      "++ There will be 6 transformer blocks\n",
      "The model has 403,417 trainable parameters\n"
     ]
    },
    {
     "name": "stdout",
     "output_type": "stream",
     "text": [
      "Training on 20000 samples\n",
      "batch_num = 625\n"
     ]
    },
    {
     "name": "stderr",
     "output_type": "stream",
     "text": [
      "\r\n",
      "Epoch   1/20:   0%|          | 0/20000 [00:00<?, ?batch/s]                                                                "
     ]
    },
    {
     "name": "stderr",
     "output_type": "stream",
     "text": [
      "\r\n",
      "Epoch   1/20:  71%|███████   | 14208/20000 [00:10<00:04, 1420.47batch/s]                                                  "
     ]
    },
    {
     "name": "stderr",
     "output_type": "stream",
     "text": [
      "\r\n",
      "Epoch   1/20:  71%|███████   | 14240/20000 [00:10<00:04, 1420.70batch/s]                                                  "
     ]
    },
    {
     "name": "stderr",
     "output_type": "stream",
     "text": [
      "\r\n",
      "Epoch   1/20:  72%|███████▏  | 14400/20000 [00:10<00:03, 1422.63batch/s]                                                  "
     ]
    },
    {
     "name": "stderr",
     "output_type": "stream",
     "text": [
      "\r\n",
      "Epoch   1/20:  73%|███████▎  | 14592/20000 [00:10<00:03, 1428.10batch/s]                                                  "
     ]
    },
    {
     "name": "stderr",
     "output_type": "stream",
     "text": [
      "\r\n",
      "Epoch   1/20:  74%|███████▍  | 14784/20000 [00:10<00:03, 1438.60batch/s]                                                  "
     ]
    },
    {
     "name": "stderr",
     "output_type": "stream",
     "text": [
      "\r\n",
      "Epoch   1/20:  75%|███████▍  | 14976/20000 [00:10<00:03, 1450.50batch/s]                                                  "
     ]
    },
    {
     "name": "stderr",
     "output_type": "stream",
     "text": [
      "\r\n",
      "Epoch   1/20:  76%|███████▌  | 15168/20000 [00:10<00:03, 1463.16batch/s]                                                  "
     ]
    },
    {
     "name": "stderr",
     "output_type": "stream",
     "text": [
      "\r\n",
      "Epoch   1/20:  77%|███████▋  | 15360/20000 [00:10<00:03, 1479.06batch/s]                                                  "
     ]
    },
    {
     "name": "stderr",
     "output_type": "stream",
     "text": [
      "\r\n",
      "Epoch   1/20:  78%|███████▊  | 15520/20000 [00:10<00:03, 1479.58batch/s]                                                  "
     ]
    },
    {
     "name": "stderr",
     "output_type": "stream",
     "text": [
      "\r\n",
      "Epoch   1/20:  79%|███████▊  | 15712/20000 [00:10<00:02, 1505.43batch/s]                                                  "
     ]
    },
    {
     "name": "stderr",
     "output_type": "stream",
     "text": [
      "\r\n",
      "Epoch   1/20:  80%|███████▉  | 15904/20000 [00:11<00:02, 1549.53batch/s]                                                  "
     ]
    },
    {
     "name": "stderr",
     "output_type": "stream",
     "text": [
      "\r\n",
      "Epoch   1/20:  80%|████████  | 16096/20000 [00:11<00:02, 1595.42batch/s]                                                  "
     ]
    },
    {
     "name": "stderr",
     "output_type": "stream",
     "text": [
      "\r\n",
      "Epoch   1/20:  81%|████████▏ | 16256/20000 [00:11<00:02, 1565.63batch/s]                                                  "
     ]
    },
    {
     "name": "stderr",
     "output_type": "stream",
     "text": [
      "\r\n",
      "Epoch   1/20:  82%|████████▏ | 16448/20000 [00:11<00:02, 1600.97batch/s]                                                  "
     ]
    },
    {
     "name": "stderr",
     "output_type": "stream",
     "text": [
      "\r\n",
      "Epoch   1/20:  83%|████████▎ | 16640/20000 [00:11<00:02, 1638.26batch/s]                                                  "
     ]
    },
    {
     "name": "stderr",
     "output_type": "stream",
     "text": [
      "\r\n",
      "Epoch   1/20:  84%|████████▍ | 16800/20000 [00:11<00:01, 1609.90batch/s]                                                  "
     ]
    },
    {
     "name": "stderr",
     "output_type": "stream",
     "text": [
      "\r\n",
      "Epoch   1/20:  85%|████████▍ | 16960/20000 [00:11<00:01, 1579.93batch/s]                                                  "
     ]
    },
    {
     "name": "stderr",
     "output_type": "stream",
     "text": [
      "\r\n",
      "Epoch   1/20:  86%|████████▌ | 17152/20000 [00:11<00:01, 1632.46batch/s]                                                  "
     ]
    },
    {
     "name": "stderr",
     "output_type": "stream",
     "text": [
      "\r\n",
      "Epoch   1/20:  87%|████████▋ | 17312/20000 [00:11<00:01, 1598.99batch/s]                                                  "
     ]
    },
    {
     "name": "stderr",
     "output_type": "stream",
     "text": [
      "\r\n",
      "Epoch   1/20:  88%|████████▊ | 17504/20000 [00:11<00:01, 1632.25batch/s]                                                  "
     ]
    },
    {
     "name": "stderr",
     "output_type": "stream",
     "text": [
      "\r\n",
      "Epoch   1/20:  88%|████████▊ | 17696/20000 [00:12<00:01, 1639.54batch/s]                                                  "
     ]
    },
    {
     "name": "stderr",
     "output_type": "stream",
     "text": [
      "\r\n",
      "Epoch   1/20:  89%|████████▉ | 17888/20000 [00:12<00:01, 1666.24batch/s]                                                  "
     ]
    },
    {
     "name": "stderr",
     "output_type": "stream",
     "text": [
      "\r\n",
      "Epoch   1/20:  90%|█████████ | 18048/20000 [00:12<00:01, 1639.24batch/s]                                                  "
     ]
    },
    {
     "name": "stderr",
     "output_type": "stream",
     "text": [
      "\r\n",
      "Epoch   1/20:  91%|█████████ | 18240/20000 [00:12<00:01, 1673.78batch/s]                                                  "
     ]
    },
    {
     "name": "stderr",
     "output_type": "stream",
     "text": [
      "\r\n",
      "Epoch   1/20:  92%|█████████▏| 18400/20000 [00:12<00:00, 1650.24batch/s]                                                  "
     ]
    },
    {
     "name": "stderr",
     "output_type": "stream",
     "text": [
      "\r\n",
      "Epoch   1/20:  93%|█████████▎| 18592/20000 [00:12<00:00, 1677.03batch/s]                                                  "
     ]
    },
    {
     "name": "stderr",
     "output_type": "stream",
     "text": [
      "\r\n",
      "Epoch   1/20:  94%|█████████▍| 18752/20000 [00:12<00:00, 1646.09batch/s]                                                  "
     ]
    },
    {
     "name": "stderr",
     "output_type": "stream",
     "text": [
      "\r\n",
      "Epoch   1/20:  94%|█████████▍| 18880/20000 [00:12<00:00, 1524.63batch/s]                                                  "
     ]
    },
    {
     "name": "stderr",
     "output_type": "stream",
     "text": [
      "\r\n",
      "Epoch   1/20:  95%|█████████▌| 19072/20000 [00:12<00:00, 1615.50batch/s]                                                  "
     ]
    },
    {
     "name": "stderr",
     "output_type": "stream",
     "text": [
      "\r\n",
      "Epoch   1/20:  96%|█████████▌| 19232/20000 [00:13<00:00, 1578.26batch/s]                                                  "
     ]
    },
    {
     "name": "stderr",
     "output_type": "stream",
     "text": [
      "\r\n",
      "Epoch   1/20:  97%|█████████▋| 19424/20000 [00:13<00:00, 1600.70batch/s]                                                  "
     ]
    },
    {
     "name": "stderr",
     "output_type": "stream",
     "text": [
      "\r\n",
      "Epoch   1/20:  98%|█████████▊| 19584/20000 [00:13<00:00, 1591.28batch/s]                                                  "
     ]
    },
    {
     "name": "stderr",
     "output_type": "stream",
     "text": [
      "\r\n",
      "Epoch   1/20:  99%|█████████▉| 19776/20000 [00:13<00:00, 1634.96batch/s]                                                  "
     ]
    },
    {
     "name": "stderr",
     "output_type": "stream",
     "text": [
      "\r\n",
      "Epoch   1/20: 100%|█████████▉| 19936/20000 [00:13<00:00, 1590.99batch/s]                                                  "
     ]
    },
    {
     "name": "stderr",
     "output_type": "stream",
     "text": [
      "\r\n",
      "Epoch   1/20: 100%|██████████| 20000/20000 [00:15<00:00, 1590.99batch/s, Epoch = 0m 15s, Loss = 0.6957|0.6932, Acc = 0.502"
     ]
    },
    {
     "name": "stderr",
     "output_type": "stream",
     "text": [
      "\r\n",
      "Epoch   1/20: 100%|██████████| 20000/20000 [00:15<00:00, 1327.11batch/s, Epoch = 0m 15s, Loss = 0.6957|0.6932, Acc = 0.502"
     ]
    },
    {
     "name": "stderr",
     "output_type": "stream",
     "text": [
      "\n"
     ]
    },
    {
     "name": "stderr",
     "output_type": "stream",
     "text": [
      "\r\n",
      "Epoch   2/20:   0%|          | 0/20000 [00:00<?, ?batch/s]                                                                "
     ]
    },
    {
     "name": "stderr",
     "output_type": "stream",
     "text": [
      "\r\n",
      "Epoch   2/20: 100%|██████████| 20000/20000 [00:11<00:00, 1723.96batch/s]                                                  "
     ]
    },
    {
     "name": "stderr",
     "output_type": "stream",
     "text": [
      "\r\n",
      "Epoch   2/20: 100%|██████████| 20000/20000 [00:13<00:00, 1723.96batch/s, Epoch = 0m 13s, Loss = 0.6940|0.6911, Acc = 0.500"
     ]
    },
    {
     "name": "stderr",
     "output_type": "stream",
     "text": [
      "\r\n",
      "Epoch   2/20: 100%|██████████| 20000/20000 [00:13<00:00, 1508.43batch/s, Epoch = 0m 13s, Loss = 0.6940|0.6911, Acc = 0.500"
     ]
    },
    {
     "name": "stderr",
     "output_type": "stream",
     "text": [
      "\n"
     ]
    },
    {
     "name": "stderr",
     "output_type": "stream",
     "text": [
      "\r\n",
      "Epoch   3/20:   0%|          | 0/20000 [00:00<?, ?batch/s]                                                                "
     ]
    },
    {
     "name": "stderr",
     "output_type": "stream",
     "text": [
      "\r\n",
      "Epoch   3/20: 100%|██████████| 20000/20000 [00:11<00:00, 1753.49batch/s]                                                  "
     ]
    },
    {
     "name": "stderr",
     "output_type": "stream",
     "text": [
      "\r\n",
      "Epoch   3/20: 100%|██████████| 20000/20000 [00:12<00:00, 1753.49batch/s, Epoch = 0m 12s, Loss = 0.6488|0.5535, Acc = 0.607"
     ]
    },
    {
     "name": "stderr",
     "output_type": "stream",
     "text": [
      "\r\n",
      "Epoch   3/20: 100%|██████████| 20000/20000 [00:12<00:00, 1546.78batch/s, Epoch = 0m 12s, Loss = 0.6488|0.5535, Acc = 0.607"
     ]
    },
    {
     "name": "stderr",
     "output_type": "stream",
     "text": [
      "\n"
     ]
    },
    {
     "name": "stderr",
     "output_type": "stream",
     "text": [
      "\r\n",
      "Epoch   4/20:   0%|          | 0/20000 [00:00<?, ?batch/s]                                                                "
     ]
    },
    {
     "name": "stderr",
     "output_type": "stream",
     "text": [
      "\r\n",
      "Epoch   4/20: 100%|██████████| 20000/20000 [00:12<00:00, 1591.95batch/s]                                                  "
     ]
    },
    {
     "name": "stderr",
     "output_type": "stream",
     "text": [
      "\r\n",
      "Epoch   4/20: 100%|██████████| 20000/20000 [00:14<00:00, 1591.95batch/s, Epoch = 0m 14s, Loss = 0.5058|0.4487, Acc = 0.761"
     ]
    },
    {
     "name": "stderr",
     "output_type": "stream",
     "text": [
      "\r\n",
      "Epoch   4/20: 100%|██████████| 20000/20000 [00:14<00:00, 1409.65batch/s, Epoch = 0m 14s, Loss = 0.5058|0.4487, Acc = 0.761"
     ]
    },
    {
     "name": "stderr",
     "output_type": "stream",
     "text": [
      "\n"
     ]
    },
    {
     "name": "stderr",
     "output_type": "stream",
     "text": [
      "\r\n",
      "Epoch   5/20:   0%|          | 0/20000 [00:00<?, ?batch/s]                                                                "
     ]
    },
    {
     "name": "stderr",
     "output_type": "stream",
     "text": [
      "\r\n",
      "Epoch   5/20: 100%|██████████| 20000/20000 [00:11<00:00, 1673.22batch/s]                                                  "
     ]
    },
    {
     "name": "stderr",
     "output_type": "stream",
     "text": [
      "\r\n",
      "Epoch   5/20: 100%|██████████| 20000/20000 [00:13<00:00, 1673.22batch/s, Epoch = 0m 13s, Loss = 0.4134|0.4088, Acc = 0.821"
     ]
    },
    {
     "name": "stderr",
     "output_type": "stream",
     "text": [
      "\r\n",
      "Epoch   5/20: 100%|██████████| 20000/20000 [00:13<00:00, 1509.29batch/s, Epoch = 0m 13s, Loss = 0.4134|0.4088, Acc = 0.821"
     ]
    },
    {
     "name": "stderr",
     "output_type": "stream",
     "text": [
      "\n"
     ]
    },
    {
     "name": "stderr",
     "output_type": "stream",
     "text": [
      "\r\n",
      "Epoch   6/20:   0%|          | 0/20000 [00:00<?, ?batch/s]                                                                "
     ]
    },
    {
     "name": "stderr",
     "output_type": "stream",
     "text": [
      "\r\n",
      "Epoch   6/20:  54%|█████▍    | 10816/20000 [00:11<00:09, 957.08batch/s]                                                   "
     ]
    },
    {
     "name": "stderr",
     "output_type": "stream",
     "text": [
      "\r\n",
      "Epoch   6/20:  54%|█████▍    | 10848/20000 [00:11<00:09, 959.48batch/s]                                                   "
     ]
    },
    {
     "name": "stderr",
     "output_type": "stream",
     "text": [
      "\r\n",
      "Epoch   6/20:  55%|█████▌    | 11040/20000 [00:11<00:09, 969.07batch/s]                                                   "
     ]
    },
    {
     "name": "stderr",
     "output_type": "stream",
     "text": [
      "\r\n",
      "Epoch   6/20:  56%|█████▌    | 11168/20000 [00:11<00:09, 968.52batch/s]                                                   "
     ]
    },
    {
     "name": "stderr",
     "output_type": "stream",
     "text": [
      "\r\n",
      "Epoch   6/20:  56%|█████▋    | 11264/20000 [00:11<00:09, 964.32batch/s]                                                   "
     ]
    },
    {
     "name": "stderr",
     "output_type": "stream",
     "text": [
      "\r\n",
      "Epoch   6/20:  57%|█████▋    | 11360/20000 [00:11<00:09, 955.50batch/s]                                                   "
     ]
    },
    {
     "name": "stderr",
     "output_type": "stream",
     "text": [
      "\r\n",
      "Epoch   6/20:  57%|█████▋    | 11456/20000 [00:11<00:09, 944.89batch/s]                                                   "
     ]
    },
    {
     "name": "stderr",
     "output_type": "stream",
     "text": [
      "\r\n",
      "Epoch   6/20:  58%|█████▊    | 11552/20000 [00:12<00:08, 941.51batch/s]                                                   "
     ]
    },
    {
     "name": "stderr",
     "output_type": "stream",
     "text": [
      "\r\n",
      "Epoch   6/20:  58%|█████▊    | 11648/20000 [00:12<00:09, 922.60batch/s]                                                   "
     ]
    },
    {
     "name": "stderr",
     "output_type": "stream",
     "text": [
      "\r\n",
      "Epoch   6/20:  59%|█████▊    | 11744/20000 [00:12<00:08, 920.94batch/s]                                                   "
     ]
    },
    {
     "name": "stderr",
     "output_type": "stream",
     "text": [
      "\r\n",
      "Epoch   6/20:  59%|█████▉    | 11840/20000 [00:12<00:08, 915.81batch/s]                                                   "
     ]
    },
    {
     "name": "stderr",
     "output_type": "stream",
     "text": [
      "\r\n",
      "Epoch   6/20:  60%|█████▉    | 11936/20000 [00:12<00:09, 886.10batch/s]                                                   "
     ]
    },
    {
     "name": "stderr",
     "output_type": "stream",
     "text": [
      "\r\n",
      "Epoch   6/20:  60%|██████    | 12032/20000 [00:12<00:09, 877.41batch/s]                                                   "
     ]
    },
    {
     "name": "stderr",
     "output_type": "stream",
     "text": [
      "\r\n",
      "Epoch   6/20:  61%|██████    | 12128/20000 [00:12<00:09, 845.75batch/s]                                                   "
     ]
    },
    {
     "name": "stderr",
     "output_type": "stream",
     "text": [
      "\r\n",
      "Epoch   6/20:  61%|██████    | 12224/20000 [00:12<00:09, 834.52batch/s]                                                   "
     ]
    },
    {
     "name": "stderr",
     "output_type": "stream",
     "text": [
      "\r\n",
      "Epoch   6/20:  62%|██████▏   | 12320/20000 [00:12<00:09, 824.58batch/s]                                                   "
     ]
    },
    {
     "name": "stderr",
     "output_type": "stream",
     "text": [
      "\r\n",
      "Epoch   6/20:  62%|██████▏   | 12416/20000 [00:13<00:09, 807.16batch/s]                                                   "
     ]
    },
    {
     "name": "stderr",
     "output_type": "stream",
     "text": [
      "\r\n",
      "Epoch   6/20:  63%|██████▎   | 12544/20000 [00:13<00:08, 845.78batch/s]                                                   "
     ]
    },
    {
     "name": "stderr",
     "output_type": "stream",
     "text": [
      "\r\n",
      "Epoch   6/20:  63%|██████▎   | 12640/20000 [00:13<00:08, 847.20batch/s]                                                   "
     ]
    },
    {
     "name": "stderr",
     "output_type": "stream",
     "text": [
      "\r\n",
      "Epoch   6/20:  64%|██████▎   | 12736/20000 [00:13<00:08, 848.05batch/s]                                                   "
     ]
    },
    {
     "name": "stderr",
     "output_type": "stream",
     "text": [
      "\r\n",
      "Epoch   6/20:  64%|██████▍   | 12832/20000 [00:13<00:08, 843.98batch/s]                                                   "
     ]
    },
    {
     "name": "stderr",
     "output_type": "stream",
     "text": [
      "\r\n",
      "Epoch   6/20:  65%|██████▍   | 12928/20000 [00:13<00:08, 847.40batch/s]                                                   "
     ]
    },
    {
     "name": "stderr",
     "output_type": "stream",
     "text": [
      "\r\n",
      "Epoch   6/20:  65%|██████▌   | 13024/20000 [00:13<00:08, 848.85batch/s]                                                   "
     ]
    },
    {
     "name": "stderr",
     "output_type": "stream",
     "text": [
      "\r\n",
      "Epoch   6/20:  66%|██████▌   | 13120/20000 [00:13<00:08, 851.54batch/s]                                                   "
     ]
    },
    {
     "name": "stderr",
     "output_type": "stream",
     "text": [
      "\r\n",
      "Epoch   6/20:  66%|██████▌   | 13216/20000 [00:14<00:08, 846.96batch/s]                                                   "
     ]
    },
    {
     "name": "stderr",
     "output_type": "stream",
     "text": [
      "\r\n",
      "Epoch   6/20:  67%|██████▋   | 13344/20000 [00:14<00:07, 942.32batch/s]                                                   "
     ]
    },
    {
     "name": "stderr",
     "output_type": "stream",
     "text": [
      "\r\n",
      "Epoch   6/20:  68%|██████▊   | 13536/20000 [00:14<00:05, 1169.66batch/s]                                                  "
     ]
    },
    {
     "name": "stderr",
     "output_type": "stream",
     "text": [
      "\r\n",
      "Epoch   6/20:  69%|██████▊   | 13728/20000 [00:14<00:04, 1362.25batch/s]                                                  "
     ]
    },
    {
     "name": "stderr",
     "output_type": "stream",
     "text": [
      "\r\n",
      "Epoch   6/20:  70%|██████▉   | 13920/20000 [00:14<00:04, 1498.96batch/s]                                                  "
     ]
    },
    {
     "name": "stderr",
     "output_type": "stream",
     "text": [
      "\r\n",
      "Epoch   6/20:  71%|███████   | 14112/20000 [00:14<00:03, 1599.35batch/s]                                                  "
     ]
    },
    {
     "name": "stderr",
     "output_type": "stream",
     "text": [
      "\r\n",
      "Epoch   6/20:  71%|███████▏  | 14272/20000 [00:14<00:03, 1587.05batch/s]                                                  "
     ]
    },
    {
     "name": "stderr",
     "output_type": "stream",
     "text": [
      "\r\n",
      "Epoch   6/20:  72%|███████▏  | 14464/20000 [00:14<00:03, 1579.31batch/s]                                                  "
     ]
    },
    {
     "name": "stderr",
     "output_type": "stream",
     "text": [
      "\r\n",
      "Epoch   6/20:  73%|███████▎  | 14592/20000 [00:14<00:03, 1376.42batch/s]                                                  "
     ]
    },
    {
     "name": "stderr",
     "output_type": "stream",
     "text": [
      "\r\n",
      "Epoch   6/20:  73%|███████▎  | 14688/20000 [00:15<00:04, 1248.30batch/s]                                                  "
     ]
    },
    {
     "name": "stderr",
     "output_type": "stream",
     "text": [
      "\r\n",
      "Epoch   6/20:  74%|███████▍  | 14816/20000 [00:15<00:04, 1171.29batch/s]                                                  "
     ]
    },
    {
     "name": "stderr",
     "output_type": "stream",
     "text": [
      "\r\n",
      "Epoch   6/20:  75%|███████▍  | 14912/20000 [00:15<00:04, 1072.43batch/s]                                                  "
     ]
    },
    {
     "name": "stderr",
     "output_type": "stream",
     "text": [
      "\r\n",
      "Epoch   6/20:  75%|███████▌  | 15008/20000 [00:15<00:04, 1013.06batch/s]                                                  "
     ]
    },
    {
     "name": "stderr",
     "output_type": "stream",
     "text": [
      "\r\n",
      "Epoch   6/20:  76%|███████▌  | 15136/20000 [00:15<00:04, 1023.29batch/s]                                                  "
     ]
    },
    {
     "name": "stderr",
     "output_type": "stream",
     "text": [
      "\r\n",
      "Epoch   6/20:  76%|███████▌  | 15232/20000 [00:15<00:04, 965.49batch/s]                                                   "
     ]
    },
    {
     "name": "stderr",
     "output_type": "stream",
     "text": [
      "\r\n",
      "Epoch   6/20:  77%|███████▋  | 15328/20000 [00:15<00:05, 924.43batch/s]                                                   "
     ]
    },
    {
     "name": "stderr",
     "output_type": "stream",
     "text": [
      "\r\n",
      "Epoch   6/20:  77%|███████▋  | 15424/20000 [00:15<00:05, 887.44batch/s]                                                   "
     ]
    },
    {
     "name": "stderr",
     "output_type": "stream",
     "text": [
      "\r\n",
      "Epoch   6/20:  78%|███████▊  | 15520/20000 [00:15<00:05, 892.90batch/s]                                                   "
     ]
    },
    {
     "name": "stderr",
     "output_type": "stream",
     "text": [
      "\r\n",
      "Epoch   6/20:  78%|███████▊  | 15616/20000 [00:16<00:04, 899.86batch/s]                                                   "
     ]
    },
    {
     "name": "stderr",
     "output_type": "stream",
     "text": [
      "\r\n",
      "Epoch   6/20:  79%|███████▊  | 15712/20000 [00:16<00:04, 885.21batch/s]                                                   "
     ]
    },
    {
     "name": "stderr",
     "output_type": "stream",
     "text": [
      "\r\n",
      "Epoch   6/20:  79%|███████▉  | 15808/20000 [00:16<00:04, 891.10batch/s]                                                   "
     ]
    },
    {
     "name": "stderr",
     "output_type": "stream",
     "text": [
      "\r\n",
      "Epoch   6/20:  80%|███████▉  | 15904/20000 [00:16<00:04, 907.36batch/s]                                                   "
     ]
    },
    {
     "name": "stderr",
     "output_type": "stream",
     "text": [
      "\r\n",
      "Epoch   6/20:  80%|████████  | 16000/20000 [00:16<00:04, 875.38batch/s]                                                   "
     ]
    },
    {
     "name": "stderr",
     "output_type": "stream",
     "text": [
      "\r\n",
      "Epoch   6/20:  81%|████████  | 16128/20000 [00:16<00:04, 902.37batch/s]                                                   "
     ]
    },
    {
     "name": "stderr",
     "output_type": "stream",
     "text": [
      "\r\n",
      "Epoch   6/20:  81%|████████▏ | 16256/20000 [00:16<00:03, 955.09batch/s]                                                   "
     ]
    },
    {
     "name": "stderr",
     "output_type": "stream",
     "text": [
      "\r\n",
      "Epoch   6/20:  82%|████████▏ | 16384/20000 [00:16<00:03, 969.84batch/s]                                                   "
     ]
    },
    {
     "name": "stderr",
     "output_type": "stream",
     "text": [
      "\r\n",
      "Epoch   6/20:  83%|████████▎ | 16512/20000 [00:17<00:03, 956.04batch/s]                                                   "
     ]
    },
    {
     "name": "stderr",
     "output_type": "stream",
     "text": [
      "\r\n",
      "Epoch   6/20:  83%|████████▎ | 16608/20000 [00:17<00:03, 918.40batch/s]                                                   "
     ]
    },
    {
     "name": "stderr",
     "output_type": "stream",
     "text": [
      "\r\n",
      "Epoch   6/20:  84%|████████▎ | 16736/20000 [00:17<00:03, 922.01batch/s]                                                   "
     ]
    },
    {
     "name": "stderr",
     "output_type": "stream",
     "text": [
      "\r\n",
      "Epoch   6/20:  84%|████████▍ | 16832/20000 [00:17<00:03, 922.18batch/s]                                                   "
     ]
    },
    {
     "name": "stderr",
     "output_type": "stream",
     "text": [
      "\r\n",
      "Epoch   6/20:  85%|████████▍ | 16960/20000 [00:17<00:03, 983.90batch/s]                                                   "
     ]
    },
    {
     "name": "stderr",
     "output_type": "stream",
     "text": [
      "\r\n",
      "Epoch   6/20:  85%|████████▌ | 17088/20000 [00:17<00:02, 1004.97batch/s]                                                  "
     ]
    },
    {
     "name": "stderr",
     "output_type": "stream",
     "text": [
      "\r\n",
      "Epoch   6/20:  86%|████████▌ | 17216/20000 [00:17<00:02, 1057.04batch/s]                                                  "
     ]
    },
    {
     "name": "stderr",
     "output_type": "stream",
     "text": [
      "\r\n",
      "Epoch   6/20:  87%|████████▋ | 17344/20000 [00:17<00:02, 1046.40batch/s]                                                  "
     ]
    },
    {
     "name": "stderr",
     "output_type": "stream",
     "text": [
      "\r\n",
      "Epoch   6/20:  87%|████████▋ | 17440/20000 [00:17<00:02, 1010.27batch/s]                                                  "
     ]
    },
    {
     "name": "stderr",
     "output_type": "stream",
     "text": [
      "\r\n",
      "Epoch   6/20:  88%|████████▊ | 17568/20000 [00:18<00:02, 1018.61batch/s]                                                  "
     ]
    },
    {
     "name": "stderr",
     "output_type": "stream",
     "text": [
      "\r\n",
      "Epoch   6/20:  88%|████████▊ | 17696/20000 [00:18<00:02, 1009.16batch/s]                                                  "
     ]
    },
    {
     "name": "stderr",
     "output_type": "stream",
     "text": [
      "\r\n",
      "Epoch   6/20:  89%|████████▉ | 17824/20000 [00:18<00:02, 1006.41batch/s]                                                  "
     ]
    },
    {
     "name": "stderr",
     "output_type": "stream",
     "text": [
      "\r\n",
      "Epoch   6/20:  90%|████████▉ | 17920/20000 [00:18<00:02, 967.43batch/s]                                                   "
     ]
    },
    {
     "name": "stderr",
     "output_type": "stream",
     "text": [
      "\r\n",
      "Epoch   6/20:  90%|█████████ | 18016/20000 [00:18<00:02, 953.24batch/s]                                                   "
     ]
    },
    {
     "name": "stderr",
     "output_type": "stream",
     "text": [
      "\r\n",
      "Epoch   6/20:  91%|█████████ | 18112/20000 [00:18<00:02, 923.94batch/s]                                                   "
     ]
    },
    {
     "name": "stderr",
     "output_type": "stream",
     "text": [
      "\r\n",
      "Epoch   6/20:  91%|█████████ | 18240/20000 [00:18<00:01, 927.69batch/s]                                                   "
     ]
    },
    {
     "name": "stderr",
     "output_type": "stream",
     "text": [
      "\r\n",
      "Epoch   6/20:  92%|█████████▏| 18336/20000 [00:18<00:01, 904.21batch/s]                                                   "
     ]
    },
    {
     "name": "stderr",
     "output_type": "stream",
     "text": [
      "\r\n",
      "Epoch   6/20:  92%|█████████▏| 18432/20000 [00:19<00:01, 909.14batch/s]                                                   "
     ]
    },
    {
     "name": "stderr",
     "output_type": "stream",
     "text": [
      "\r\n",
      "Epoch   6/20:  93%|█████████▎| 18528/20000 [00:19<00:01, 922.73batch/s]                                                   "
     ]
    },
    {
     "name": "stderr",
     "output_type": "stream",
     "text": [
      "\r\n",
      "Epoch   6/20:  93%|█████████▎| 18624/20000 [00:19<00:01, 918.81batch/s]                                                   "
     ]
    },
    {
     "name": "stderr",
     "output_type": "stream",
     "text": [
      "\r\n",
      "Epoch   6/20:  94%|█████████▍| 18752/20000 [00:19<00:01, 961.37batch/s]                                                   "
     ]
    },
    {
     "name": "stderr",
     "output_type": "stream",
     "text": [
      "\r\n",
      "Epoch   6/20:  94%|█████████▍| 18880/20000 [00:19<00:01, 985.05batch/s]                                                   "
     ]
    },
    {
     "name": "stderr",
     "output_type": "stream",
     "text": [
      "\r\n",
      "Epoch   6/20:  95%|█████████▍| 18976/20000 [00:19<00:01, 956.46batch/s]                                                   "
     ]
    },
    {
     "name": "stderr",
     "output_type": "stream",
     "text": [
      "\r\n",
      "Epoch   6/20:  96%|█████████▌| 19104/20000 [00:19<00:00, 974.07batch/s]                                                   "
     ]
    },
    {
     "name": "stderr",
     "output_type": "stream",
     "text": [
      "\r\n",
      "Epoch   6/20:  96%|█████████▌| 19200/20000 [00:19<00:00, 934.56batch/s]                                                   "
     ]
    },
    {
     "name": "stderr",
     "output_type": "stream",
     "text": [
      "\r\n",
      "Epoch   6/20:  96%|█████████▋| 19296/20000 [00:19<00:00, 912.88batch/s]                                                   "
     ]
    },
    {
     "name": "stderr",
     "output_type": "stream",
     "text": [
      "\r\n",
      "Epoch   6/20:  97%|█████████▋| 19392/20000 [00:20<00:00, 891.93batch/s]                                                   "
     ]
    },
    {
     "name": "stderr",
     "output_type": "stream",
     "text": [
      "\r\n",
      "Epoch   6/20:  97%|█████████▋| 19488/20000 [00:20<00:00, 899.68batch/s]                                                   "
     ]
    },
    {
     "name": "stderr",
     "output_type": "stream",
     "text": [
      "\r\n",
      "Epoch   6/20:  98%|█████████▊| 19616/20000 [00:20<00:00, 955.58batch/s]                                                   "
     ]
    },
    {
     "name": "stderr",
     "output_type": "stream",
     "text": [
      "\r\n",
      "Epoch   6/20:  99%|█████████▊| 19712/20000 [00:20<00:00, 950.67batch/s]                                                   "
     ]
    },
    {
     "name": "stderr",
     "output_type": "stream",
     "text": [
      "\r\n",
      "Epoch   6/20:  99%|█████████▉| 19840/20000 [00:20<00:00, 976.37batch/s]                                                   "
     ]
    },
    {
     "name": "stderr",
     "output_type": "stream",
     "text": [
      "\r\n",
      "Epoch   6/20: 100%|█████████▉| 19936/20000 [00:20<00:00, 951.19batch/s]                                                   "
     ]
    },
    {
     "name": "stderr",
     "output_type": "stream",
     "text": [
      "\r\n",
      "Epoch   6/20: 100%|██████████| 20000/20000 [00:21<00:00, 951.19batch/s, Epoch = 0m 21s, Loss = 0.3620|0.3985, Acc = 0.849|"
     ]
    },
    {
     "name": "stderr",
     "output_type": "stream",
     "text": [
      "\r\n",
      "Epoch   6/20: 100%|██████████| 20000/20000 [00:21<00:00, 909.27batch/s, Epoch = 0m 21s, Loss = 0.3620|0.3985, Acc = 0.849|"
     ]
    },
    {
     "name": "stderr",
     "output_type": "stream",
     "text": [
      "\n"
     ]
    },
    {
     "name": "stderr",
     "output_type": "stream",
     "text": [
      "\r\n",
      "Epoch   7/20:   0%|          | 0/20000 [00:00<?, ?batch/s]                                                                "
     ]
    },
    {
     "name": "stderr",
     "output_type": "stream",
     "text": [
      "\r\n",
      "Epoch   7/20:  90%|█████████ | 18016/20000 [00:19<00:02, 932.98batch/s]                                                   "
     ]
    },
    {
     "name": "stderr",
     "output_type": "stream",
     "text": [
      "\r\n",
      "Epoch   7/20:  90%|█████████ | 18048/20000 [00:19<00:02, 933.35batch/s]                                                   "
     ]
    },
    {
     "name": "stderr",
     "output_type": "stream",
     "text": [
      "\r\n",
      "Epoch   7/20:  91%|█████████ | 18144/20000 [00:19<00:01, 932.37batch/s]                                                   "
     ]
    },
    {
     "name": "stderr",
     "output_type": "stream",
     "text": [
      "\r\n",
      "Epoch   7/20:  91%|█████████ | 18240/20000 [00:19<00:01, 929.85batch/s]                                                   "
     ]
    },
    {
     "name": "stderr",
     "output_type": "stream",
     "text": [
      "\r\n",
      "Epoch   7/20:  92%|█████████▏| 18336/20000 [00:19<00:01, 927.81batch/s]                                                   "
     ]
    },
    {
     "name": "stderr",
     "output_type": "stream",
     "text": [
      "\r\n",
      "Epoch   7/20:  92%|█████████▏| 18432/20000 [00:19<00:01, 925.72batch/s]                                                   "
     ]
    },
    {
     "name": "stderr",
     "output_type": "stream",
     "text": [
      "\r\n",
      "Epoch   7/20:  93%|█████████▎| 18528/20000 [00:19<00:01, 926.66batch/s]                                                   "
     ]
    },
    {
     "name": "stderr",
     "output_type": "stream",
     "text": [
      "\r\n",
      "Epoch   7/20:  93%|█████████▎| 18624/20000 [00:20<00:01, 926.18batch/s]                                                   "
     ]
    },
    {
     "name": "stderr",
     "output_type": "stream",
     "text": [
      "\r\n",
      "Epoch   7/20:  94%|█████████▍| 18752/20000 [00:20<00:01, 929.03batch/s]                                                   "
     ]
    },
    {
     "name": "stderr",
     "output_type": "stream",
     "text": [
      "\r\n",
      "Epoch   7/20:  94%|█████████▍| 18848/20000 [00:20<00:01, 929.82batch/s]                                                   "
     ]
    },
    {
     "name": "stderr",
     "output_type": "stream",
     "text": [
      "\r\n",
      "Epoch   7/20:  95%|█████████▍| 18976/20000 [00:20<00:01, 939.33batch/s]                                                   "
     ]
    },
    {
     "name": "stderr",
     "output_type": "stream",
     "text": [
      "\r\n",
      "Epoch   7/20:  96%|█████████▌| 19104/20000 [00:20<00:00, 966.06batch/s]                                                   "
     ]
    },
    {
     "name": "stderr",
     "output_type": "stream",
     "text": [
      "\r\n",
      "Epoch   7/20:  96%|█████████▌| 19232/20000 [00:20<00:00, 986.23batch/s]                                                   "
     ]
    },
    {
     "name": "stderr",
     "output_type": "stream",
     "text": [
      "\r\n",
      "Epoch   7/20:  97%|█████████▋| 19360/20000 [00:20<00:00, 989.64batch/s]                                                   "
     ]
    },
    {
     "name": "stderr",
     "output_type": "stream",
     "text": [
      "\r\n",
      "Epoch   7/20:  97%|█████████▋| 19456/20000 [00:20<00:00, 957.28batch/s]                                                   "
     ]
    },
    {
     "name": "stderr",
     "output_type": "stream",
     "text": [
      "\r\n",
      "Epoch   7/20:  98%|█████████▊| 19552/20000 [00:20<00:00, 922.19batch/s]                                                   "
     ]
    },
    {
     "name": "stderr",
     "output_type": "stream",
     "text": [
      "\r\n",
      "Epoch   7/20:  98%|█████████▊| 19648/20000 [00:21<00:00, 889.12batch/s]                                                   "
     ]
    },
    {
     "name": "stderr",
     "output_type": "stream",
     "text": [
      "\r\n",
      "Epoch   7/20:  99%|█████████▊| 19744/20000 [00:21<00:00, 875.07batch/s]                                                   "
     ]
    },
    {
     "name": "stderr",
     "output_type": "stream",
     "text": [
      "\r\n",
      "Epoch   7/20:  99%|█████████▉| 19872/20000 [00:21<00:00, 897.86batch/s]                                                   "
     ]
    },
    {
     "name": "stderr",
     "output_type": "stream",
     "text": [
      "\r\n",
      "Epoch   7/20: 100%|█████████▉| 19968/20000 [00:21<00:00, 906.05batch/s]                                                   "
     ]
    },
    {
     "name": "stderr",
     "output_type": "stream",
     "text": [
      "\r\n",
      "Epoch   7/20: 100%|██████████| 20000/20000 [00:22<00:00, 906.05batch/s, Epoch = 0m 22s, Loss = 0.3562|0.3960, Acc = 0.852|"
     ]
    },
    {
     "name": "stderr",
     "output_type": "stream",
     "text": [
      "\r\n",
      "Epoch   7/20: 100%|██████████| 20000/20000 [00:22<00:00, 873.88batch/s, Epoch = 0m 22s, Loss = 0.3562|0.3960, Acc = 0.852|"
     ]
    },
    {
     "name": "stderr",
     "output_type": "stream",
     "text": [
      "\n"
     ]
    },
    {
     "name": "stderr",
     "output_type": "stream",
     "text": [
      "\r\n",
      "Epoch   8/20:   0%|          | 0/20000 [00:00<?, ?batch/s]                                                                "
     ]
    },
    {
     "name": "stderr",
     "output_type": "stream",
     "text": [
      "\r\n",
      "Epoch   8/20: 100%|██████████| 20000/20000 [00:13<00:00, 1490.87batch/s]                                                  "
     ]
    },
    {
     "name": "stderr",
     "output_type": "stream",
     "text": [
      "\r\n",
      "Epoch   8/20: 100%|██████████| 20000/20000 [00:14<00:00, 1490.87batch/s, Epoch = 0m 14s, Loss = 0.3497|0.3957, Acc = 0.855"
     ]
    },
    {
     "name": "stderr",
     "output_type": "stream",
     "text": [
      "\r\n",
      "Epoch   8/20: 100%|██████████| 20000/20000 [00:14<00:00, 1348.07batch/s, Epoch = 0m 14s, Loss = 0.3497|0.3957, Acc = 0.855"
     ]
    },
    {
     "name": "stderr",
     "output_type": "stream",
     "text": [
      "\n"
     ]
    },
    {
     "name": "stderr",
     "output_type": "stream",
     "text": [
      "\r\n",
      "Epoch   9/20:   0%|          | 0/20000 [00:00<?, ?batch/s]                                                                "
     ]
    },
    {
     "name": "stderr",
     "output_type": "stream",
     "text": [
      "\r\n",
      "Epoch   9/20:  84%|████████▍ | 16800/20000 [00:11<00:02, 1449.28batch/s]                                                  "
     ]
    },
    {
     "name": "stderr",
     "output_type": "stream",
     "text": [
      "\r\n",
      "Epoch   9/20:  84%|████████▍ | 16832/20000 [00:11<00:02, 1448.63batch/s]                                                  "
     ]
    },
    {
     "name": "stderr",
     "output_type": "stream",
     "text": [
      "\r\n",
      "Epoch   9/20:  85%|████████▍ | 16928/20000 [00:11<00:02, 1441.58batch/s]                                                  "
     ]
    },
    {
     "name": "stderr",
     "output_type": "stream",
     "text": [
      "\r\n",
      "Epoch   9/20:  85%|████████▌ | 17024/20000 [00:11<00:02, 1431.65batch/s]                                                  "
     ]
    },
    {
     "name": "stderr",
     "output_type": "stream",
     "text": [
      "\r\n",
      "Epoch   9/20:  86%|████████▌ | 17120/20000 [00:11<00:02, 1417.72batch/s]                                                  "
     ]
    },
    {
     "name": "stderr",
     "output_type": "stream",
     "text": [
      "\r\n",
      "Epoch   9/20:  86%|████████▌ | 17216/20000 [00:12<00:01, 1395.10batch/s]                                                  "
     ]
    },
    {
     "name": "stderr",
     "output_type": "stream",
     "text": [
      "\r\n",
      "Epoch   9/20:  87%|████████▋ | 17312/20000 [00:12<00:01, 1370.92batch/s]                                                  "
     ]
    },
    {
     "name": "stderr",
     "output_type": "stream",
     "text": [
      "\r\n",
      "Epoch   9/20:  87%|████████▋ | 17408/20000 [00:12<00:01, 1335.99batch/s]                                                  "
     ]
    },
    {
     "name": "stderr",
     "output_type": "stream",
     "text": [
      "\r\n",
      "Epoch   9/20:  88%|████████▊ | 17504/20000 [00:12<00:01, 1297.07batch/s]                                                  "
     ]
    },
    {
     "name": "stderr",
     "output_type": "stream",
     "text": [
      "\r\n",
      "Epoch   9/20:  88%|████████▊ | 17600/20000 [00:12<00:01, 1240.20batch/s]                                                  "
     ]
    },
    {
     "name": "stderr",
     "output_type": "stream",
     "text": [
      "\r\n",
      "Epoch   9/20:  88%|████████▊ | 17696/20000 [00:12<00:01, 1160.80batch/s]                                                  "
     ]
    },
    {
     "name": "stderr",
     "output_type": "stream",
     "text": [
      "\r\n",
      "Epoch   9/20:  89%|████████▉ | 17792/20000 [00:12<00:02, 1101.63batch/s]                                                  "
     ]
    },
    {
     "name": "stderr",
     "output_type": "stream",
     "text": [
      "\r\n",
      "Epoch   9/20:  89%|████████▉ | 17888/20000 [00:12<00:02, 1046.88batch/s]                                                  "
     ]
    },
    {
     "name": "stderr",
     "output_type": "stream",
     "text": [
      "\r\n",
      "Epoch   9/20:  90%|████████▉ | 17984/20000 [00:12<00:02, 1002.25batch/s]                                                  "
     ]
    },
    {
     "name": "stderr",
     "output_type": "stream",
     "text": [
      "\r\n",
      "Epoch   9/20:  90%|█████████ | 18080/20000 [00:13<00:02, 951.93batch/s]                                                   "
     ]
    },
    {
     "name": "stderr",
     "output_type": "stream",
     "text": [
      "\r\n",
      "Epoch   9/20:  91%|█████████ | 18176/20000 [00:13<00:01, 918.77batch/s]                                                   "
     ]
    },
    {
     "name": "stderr",
     "output_type": "stream",
     "text": [
      "\r\n",
      "Epoch   9/20:  91%|█████████▏| 18272/20000 [00:13<00:01, 915.87batch/s]                                                   "
     ]
    },
    {
     "name": "stderr",
     "output_type": "stream",
     "text": [
      "\r\n",
      "Epoch   9/20:  92%|█████████▏| 18368/20000 [00:13<00:01, 882.75batch/s]                                                   "
     ]
    },
    {
     "name": "stderr",
     "output_type": "stream",
     "text": [
      "\r\n",
      "Epoch   9/20:  92%|█████████▏| 18464/20000 [00:13<00:01, 888.72batch/s]                                                   "
     ]
    },
    {
     "name": "stderr",
     "output_type": "stream",
     "text": [
      "\r\n",
      "Epoch   9/20:  93%|█████████▎| 18560/20000 [00:13<00:01, 893.47batch/s]                                                   "
     ]
    },
    {
     "name": "stderr",
     "output_type": "stream",
     "text": [
      "\r\n",
      "Epoch   9/20:  93%|█████████▎| 18656/20000 [00:13<00:01, 885.79batch/s]                                                   "
     ]
    },
    {
     "name": "stderr",
     "output_type": "stream",
     "text": [
      "\r\n",
      "Epoch   9/20:  94%|█████████▍| 18752/20000 [00:13<00:01, 857.48batch/s]                                                   "
     ]
    },
    {
     "name": "stderr",
     "output_type": "stream",
     "text": [
      "\r\n",
      "Epoch   9/20:  94%|█████████▍| 18848/20000 [00:14<00:01, 836.42batch/s]                                                   "
     ]
    },
    {
     "name": "stderr",
     "output_type": "stream",
     "text": [
      "\r\n",
      "Epoch   9/20:  95%|█████████▍| 18944/20000 [00:14<00:01, 850.62batch/s]                                                   "
     ]
    },
    {
     "name": "stderr",
     "output_type": "stream",
     "text": [
      "\r\n",
      "Epoch   9/20:  95%|█████████▌| 19040/20000 [00:14<00:01, 837.36batch/s]                                                   "
     ]
    },
    {
     "name": "stderr",
     "output_type": "stream",
     "text": [
      "\r\n",
      "Epoch   9/20:  96%|█████████▌| 19136/20000 [00:14<00:01, 834.65batch/s]                                                   "
     ]
    },
    {
     "name": "stderr",
     "output_type": "stream",
     "text": [
      "\r\n",
      "Epoch   9/20:  96%|█████████▌| 19232/20000 [00:14<00:00, 843.82batch/s]                                                   "
     ]
    },
    {
     "name": "stderr",
     "output_type": "stream",
     "text": [
      "\r\n",
      "Epoch   9/20:  97%|█████████▋| 19328/20000 [00:14<00:00, 848.74batch/s]                                                   "
     ]
    },
    {
     "name": "stderr",
     "output_type": "stream",
     "text": [
      "\r\n",
      "Epoch   9/20:  97%|█████████▋| 19424/20000 [00:14<00:00, 827.72batch/s]                                                   "
     ]
    },
    {
     "name": "stderr",
     "output_type": "stream",
     "text": [
      "\r\n",
      "Epoch   9/20:  98%|█████████▊| 19520/20000 [00:14<00:00, 839.60batch/s]                                                   "
     ]
    },
    {
     "name": "stderr",
     "output_type": "stream",
     "text": [
      "\r\n",
      "Epoch   9/20:  98%|█████████▊| 19616/20000 [00:14<00:00, 862.18batch/s]                                                   "
     ]
    },
    {
     "name": "stderr",
     "output_type": "stream",
     "text": [
      "\r\n",
      "Epoch   9/20:  99%|█████████▊| 19744/20000 [00:15<00:00, 902.13batch/s]                                                   "
     ]
    },
    {
     "name": "stderr",
     "output_type": "stream",
     "text": [
      "\r\n",
      "Epoch   9/20:  99%|█████████▉| 19872/20000 [00:15<00:00, 950.68batch/s]                                                   "
     ]
    },
    {
     "name": "stderr",
     "output_type": "stream",
     "text": [
      "\r\n",
      "Epoch   9/20: 100%|█████████▉| 19968/20000 [00:15<00:00, 911.47batch/s]                                                   "
     ]
    },
    {
     "name": "stderr",
     "output_type": "stream",
     "text": [
      "\r\n",
      "Epoch   9/20: 100%|██████████| 20000/20000 [00:16<00:00, 911.47batch/s, Epoch = 0m 16s, Loss = 0.3453|0.3951, Acc = 0.857|"
     ]
    },
    {
     "name": "stderr",
     "output_type": "stream",
     "text": [
      "\r\n",
      "Epoch   9/20: 100%|██████████| 20000/20000 [00:16<00:00, 1189.56batch/s, Epoch = 0m 16s, Loss = 0.3453|0.3951, Acc = 0.857"
     ]
    },
    {
     "name": "stderr",
     "output_type": "stream",
     "text": [
      "\n"
     ]
    },
    {
     "name": "stderr",
     "output_type": "stream",
     "text": [
      "\r\n",
      "Epoch  10/20:   0%|          | 0/20000 [00:00<?, ?batch/s]                                                                "
     ]
    },
    {
     "name": "stderr",
     "output_type": "stream",
     "text": [
      "\r\n",
      "Epoch  10/20:  81%|████████▏ | 16256/20000 [00:14<00:03, 1099.44batch/s]                                                  "
     ]
    },
    {
     "name": "stderr",
     "output_type": "stream",
     "text": [
      "\r\n",
      "Epoch  10/20:  81%|████████▏ | 16288/20000 [00:14<00:03, 1099.79batch/s]                                                  "
     ]
    },
    {
     "name": "stderr",
     "output_type": "stream",
     "text": [
      "\r\n",
      "Epoch  10/20:  82%|████████▏ | 16480/20000 [00:14<00:03, 1106.23batch/s]                                                  "
     ]
    },
    {
     "name": "stderr",
     "output_type": "stream",
     "text": [
      "\r\n",
      "Epoch  10/20:  83%|████████▎ | 16640/20000 [00:15<00:03, 1110.41batch/s]                                                  "
     ]
    },
    {
     "name": "stderr",
     "output_type": "stream",
     "text": [
      "\r\n",
      "Epoch  10/20:  84%|████████▍ | 16800/20000 [00:15<00:02, 1119.32batch/s]                                                  "
     ]
    },
    {
     "name": "stderr",
     "output_type": "stream",
     "text": [
      "\r\n",
      "Epoch  10/20:  85%|████████▍ | 16992/20000 [00:15<00:02, 1135.83batch/s]                                                  "
     ]
    },
    {
     "name": "stderr",
     "output_type": "stream",
     "text": [
      "\r\n",
      "Epoch  10/20:  86%|████████▌ | 17184/20000 [00:15<00:02, 1161.35batch/s]                                                  "
     ]
    },
    {
     "name": "stderr",
     "output_type": "stream",
     "text": [
      "\r\n",
      "Epoch  10/20:  87%|████████▋ | 17344/20000 [00:15<00:02, 1177.71batch/s]                                                  "
     ]
    },
    {
     "name": "stderr",
     "output_type": "stream",
     "text": [
      "\r\n",
      "Epoch  10/20:  88%|████████▊ | 17536/20000 [00:15<00:02, 1215.54batch/s]                                                  "
     ]
    },
    {
     "name": "stderr",
     "output_type": "stream",
     "text": [
      "\r\n",
      "Epoch  10/20:  89%|████████▊ | 17728/20000 [00:15<00:01, 1271.21batch/s]                                                  "
     ]
    },
    {
     "name": "stderr",
     "output_type": "stream",
     "text": [
      "\r\n",
      "Epoch  10/20:  90%|████████▉ | 17920/20000 [00:15<00:01, 1321.68batch/s]                                                  "
     ]
    },
    {
     "name": "stderr",
     "output_type": "stream",
     "text": [
      "\r\n",
      "Epoch  10/20:  91%|█████████ | 18112/20000 [00:15<00:01, 1372.51batch/s]                                                  "
     ]
    },
    {
     "name": "stderr",
     "output_type": "stream",
     "text": [
      "\r\n",
      "Epoch  10/20:  92%|█████████▏| 18304/20000 [00:16<00:01, 1440.83batch/s]                                                  "
     ]
    },
    {
     "name": "stderr",
     "output_type": "stream",
     "text": [
      "\r\n",
      "Epoch  10/20:  92%|█████████▏| 18496/20000 [00:16<00:01, 1495.29batch/s]                                                  "
     ]
    },
    {
     "name": "stderr",
     "output_type": "stream",
     "text": [
      "\r\n",
      "Epoch  10/20:  93%|█████████▎| 18688/20000 [00:16<00:00, 1569.73batch/s]                                                  "
     ]
    },
    {
     "name": "stderr",
     "output_type": "stream",
     "text": [
      "\r\n",
      "Epoch  10/20:  94%|█████████▍| 18880/20000 [00:16<00:00, 1639.48batch/s]                                                  "
     ]
    },
    {
     "name": "stderr",
     "output_type": "stream",
     "text": [
      "\r\n",
      "Epoch  10/20:  95%|█████████▌| 19072/20000 [00:16<00:00, 1685.13batch/s]                                                  "
     ]
    },
    {
     "name": "stderr",
     "output_type": "stream",
     "text": [
      "\r\n",
      "Epoch  10/20:  96%|█████████▋| 19264/20000 [00:16<00:00, 1691.64batch/s]                                                  "
     ]
    },
    {
     "name": "stderr",
     "output_type": "stream",
     "text": [
      "\r\n",
      "Epoch  10/20:  97%|█████████▋| 19424/20000 [00:16<00:00, 1659.00batch/s]                                                  "
     ]
    },
    {
     "name": "stderr",
     "output_type": "stream",
     "text": [
      "\r\n",
      "Epoch  10/20:  98%|█████████▊| 19616/20000 [00:16<00:00, 1704.61batch/s]                                                  "
     ]
    },
    {
     "name": "stderr",
     "output_type": "stream",
     "text": [
      "\r\n",
      "Epoch  10/20:  99%|█████████▉| 19808/20000 [00:16<00:00, 1749.24batch/s]                                                  "
     ]
    },
    {
     "name": "stderr",
     "output_type": "stream",
     "text": [
      "\r\n",
      "Epoch  10/20: 100%|█████████▉| 19968/20000 [00:16<00:00, 1661.48batch/s]                                                  "
     ]
    },
    {
     "name": "stderr",
     "output_type": "stream",
     "text": [
      "\r\n",
      "Epoch  10/20: 100%|██████████| 20000/20000 [00:18<00:00, 1661.48batch/s, Epoch = 0m 18s, Loss = 0.3403|0.3934, Acc = 0.860"
     ]
    },
    {
     "name": "stderr",
     "output_type": "stream",
     "text": [
      "\r\n",
      "Epoch  10/20: 100%|██████████| 20000/20000 [00:18<00:00, 1090.54batch/s, Epoch = 0m 18s, Loss = 0.3403|0.3934, Acc = 0.860"
     ]
    },
    {
     "name": "stderr",
     "output_type": "stream",
     "text": [
      "\n"
     ]
    },
    {
     "name": "stderr",
     "output_type": "stream",
     "text": [
      "\r\n",
      "Epoch  11/20:   0%|          | 0/20000 [00:00<?, ?batch/s]                                                                "
     ]
    },
    {
     "name": "stderr",
     "output_type": "stream",
     "text": [
      "\r\n",
      "Epoch  11/20: 100%|██████████| 20000/20000 [00:14<00:00, 1368.87batch/s]                                                  "
     ]
    },
    {
     "name": "stderr",
     "output_type": "stream",
     "text": [
      "\r\n",
      "Epoch  11/20: 100%|██████████| 20000/20000 [00:15<00:00, 1368.87batch/s, Epoch = 0m 15s, Loss = 0.3378|0.3944, Acc = 0.862"
     ]
    },
    {
     "name": "stderr",
     "output_type": "stream",
     "text": [
      "\r\n",
      "Epoch  11/20: 100%|██████████| 20000/20000 [00:15<00:00, 1252.25batch/s, Epoch = 0m 15s, Loss = 0.3378|0.3944, Acc = 0.862"
     ]
    },
    {
     "name": "stderr",
     "output_type": "stream",
     "text": [
      "\n"
     ]
    },
    {
     "name": "stderr",
     "output_type": "stream",
     "text": [
      "\r\n",
      "Epoch  12/20:   0%|          | 0/20000 [00:00<?, ?batch/s]                                                                "
     ]
    },
    {
     "name": "stderr",
     "output_type": "stream",
     "text": [
      "\r\n",
      "Epoch  12/20:  82%|████████▏ | 16384/20000 [00:10<00:02, 1563.52batch/s]                                                  "
     ]
    },
    {
     "name": "stderr",
     "output_type": "stream",
     "text": [
      "\r\n",
      "Epoch  12/20:  82%|████████▏ | 16416/20000 [00:10<00:02, 1566.27batch/s]                                                  "
     ]
    },
    {
     "name": "stderr",
     "output_type": "stream",
     "text": [
      "\r\n",
      "Epoch  12/20:  83%|████████▎ | 16576/20000 [00:10<00:02, 1562.34batch/s]                                                  "
     ]
    },
    {
     "name": "stderr",
     "output_type": "stream",
     "text": [
      "\r\n",
      "Epoch  12/20:  84%|████████▍ | 16768/20000 [00:10<00:02, 1565.00batch/s]                                                  "
     ]
    },
    {
     "name": "stderr",
     "output_type": "stream",
     "text": [
      "\r\n",
      "Epoch  12/20:  85%|████████▍ | 16960/20000 [00:10<00:01, 1572.07batch/s]                                                  "
     ]
    },
    {
     "name": "stderr",
     "output_type": "stream",
     "text": [
      "\r\n",
      "Epoch  12/20:  86%|████████▌ | 17152/20000 [00:10<00:01, 1582.96batch/s]                                                  "
     ]
    },
    {
     "name": "stderr",
     "output_type": "stream",
     "text": [
      "\r\n",
      "Epoch  12/20:  87%|████████▋ | 17376/20000 [00:11<00:01, 1601.41batch/s]                                                  "
     ]
    },
    {
     "name": "stderr",
     "output_type": "stream",
     "text": [
      "\r\n",
      "Epoch  12/20:  88%|████████▊ | 17568/20000 [00:11<00:01, 1615.06batch/s]                                                  "
     ]
    },
    {
     "name": "stderr",
     "output_type": "stream",
     "text": [
      "\r\n",
      "Epoch  12/20:  89%|████████▉ | 17760/20000 [00:11<00:01, 1596.58batch/s]                                                  "
     ]
    },
    {
     "name": "stderr",
     "output_type": "stream",
     "text": [
      "\r\n",
      "Epoch  12/20:  90%|████████▉ | 17920/20000 [00:11<00:01, 1587.94batch/s]                                                  "
     ]
    },
    {
     "name": "stderr",
     "output_type": "stream",
     "text": [
      "\r\n",
      "Epoch  12/20:  91%|█████████ | 18112/20000 [00:11<00:01, 1621.11batch/s]                                                  "
     ]
    },
    {
     "name": "stderr",
     "output_type": "stream",
     "text": [
      "\r\n",
      "Epoch  12/20:  92%|█████████▏| 18304/20000 [00:11<00:01, 1650.29batch/s]                                                  "
     ]
    },
    {
     "name": "stderr",
     "output_type": "stream",
     "text": [
      "\r\n",
      "Epoch  12/20:  92%|█████████▏| 18496/20000 [00:11<00:00, 1693.72batch/s]                                                  "
     ]
    },
    {
     "name": "stderr",
     "output_type": "stream",
     "text": [
      "\r\n",
      "Epoch  12/20:  93%|█████████▎| 18688/20000 [00:11<00:00, 1724.19batch/s]                                                  "
     ]
    },
    {
     "name": "stderr",
     "output_type": "stream",
     "text": [
      "\r\n",
      "Epoch  12/20:  94%|█████████▍| 18880/20000 [00:11<00:00, 1756.92batch/s]                                                  "
     ]
    },
    {
     "name": "stderr",
     "output_type": "stream",
     "text": [
      "\r\n",
      "Epoch  12/20:  95%|█████████▌| 19072/20000 [00:12<00:00, 1709.79batch/s]                                                  "
     ]
    },
    {
     "name": "stderr",
     "output_type": "stream",
     "text": [
      "\r\n",
      "Epoch  12/20:  96%|█████████▋| 19264/20000 [00:12<00:00, 1716.35batch/s]                                                  "
     ]
    },
    {
     "name": "stderr",
     "output_type": "stream",
     "text": [
      "\r\n",
      "Epoch  12/20:  97%|█████████▋| 19456/20000 [00:12<00:00, 1702.36batch/s]                                                  "
     ]
    },
    {
     "name": "stderr",
     "output_type": "stream",
     "text": [
      "\r\n",
      "Epoch  12/20:  98%|█████████▊| 19648/20000 [00:12<00:00, 1721.28batch/s]                                                  "
     ]
    },
    {
     "name": "stderr",
     "output_type": "stream",
     "text": [
      "\r\n",
      "Epoch  12/20:  99%|█████████▉| 19840/20000 [00:12<00:00, 1770.88batch/s]                                                  "
     ]
    },
    {
     "name": "stderr",
     "output_type": "stream",
     "text": [
      "\r\n",
      "Epoch  12/20: 100%|██████████| 20000/20000 [00:13<00:00, 1770.88batch/s, Epoch = 0m 13s, Loss = 0.3374|0.3925, Acc = 0.860"
     ]
    },
    {
     "name": "stderr",
     "output_type": "stream",
     "text": [
      "\r\n",
      "Epoch  12/20: 100%|██████████| 20000/20000 [00:13<00:00, 1440.11batch/s, Epoch = 0m 13s, Loss = 0.3374|0.3925, Acc = 0.860"
     ]
    },
    {
     "name": "stderr",
     "output_type": "stream",
     "text": [
      "\n"
     ]
    },
    {
     "name": "stderr",
     "output_type": "stream",
     "text": [
      "\r\n",
      "Epoch  13/20:   0%|          | 0/20000 [00:00<?, ?batch/s]                                                                "
     ]
    },
    {
     "name": "stderr",
     "output_type": "stream",
     "text": [
      "\r\n",
      "Epoch  13/20: 100%|██████████| 20000/20000 [00:11<00:00, 1732.66batch/s]                                                  "
     ]
    },
    {
     "name": "stderr",
     "output_type": "stream",
     "text": [
      "\r\n",
      "Epoch  13/20: 100%|██████████| 20000/20000 [00:13<00:00, 1732.66batch/s, Epoch = 0m 13s, Loss = 0.3404|0.3940, Acc = 0.861"
     ]
    },
    {
     "name": "stderr",
     "output_type": "stream",
     "text": [
      "\r\n",
      "Epoch  13/20: 100%|██████████| 20000/20000 [00:13<00:00, 1519.03batch/s, Epoch = 0m 13s, Loss = 0.3404|0.3940, Acc = 0.861"
     ]
    },
    {
     "name": "stderr",
     "output_type": "stream",
     "text": [
      "\n"
     ]
    },
    {
     "name": "stderr",
     "output_type": "stream",
     "text": [
      "\r\n",
      "Epoch  14/20:   0%|          | 0/20000 [00:00<?, ?batch/s]                                                                "
     ]
    },
    {
     "name": "stderr",
     "output_type": "stream",
     "text": [
      "\r\n",
      "Epoch  14/20: 100%|██████████| 20000/20000 [00:12<00:00, 1657.80batch/s]                                                  "
     ]
    },
    {
     "name": "stderr",
     "output_type": "stream",
     "text": [
      "\r\n",
      "Epoch  14/20: 100%|██████████| 20000/20000 [00:13<00:00, 1657.80batch/s, Epoch = 0m 13s, Loss = 0.3384|0.3941, Acc = 0.864"
     ]
    },
    {
     "name": "stderr",
     "output_type": "stream",
     "text": [
      "\r\n",
      "Epoch  14/20: 100%|██████████| 20000/20000 [00:13<00:00, 1462.75batch/s, Epoch = 0m 13s, Loss = 0.3384|0.3941, Acc = 0.864"
     ]
    },
    {
     "name": "stderr",
     "output_type": "stream",
     "text": [
      "\n"
     ]
    },
    {
     "name": "stderr",
     "output_type": "stream",
     "text": [
      "\r\n",
      "Epoch  15/20:   0%|          | 0/20000 [00:00<?, ?batch/s]                                                                "
     ]
    },
    {
     "name": "stderr",
     "output_type": "stream",
     "text": [
      "\r\n",
      "Epoch  15/20: 100%|██████████| 20000/20000 [00:12<00:00, 1621.91batch/s]                                                  "
     ]
    },
    {
     "name": "stderr",
     "output_type": "stream",
     "text": [
      "\r\n",
      "Epoch  15/20: 100%|██████████| 20000/20000 [00:13<00:00, 1621.91batch/s, Epoch = 0m 13s, Loss = 0.3355|0.3942, Acc = 0.862"
     ]
    },
    {
     "name": "stderr",
     "output_type": "stream",
     "text": [
      "\r\n",
      "Epoch  15/20: 100%|██████████| 20000/20000 [00:13<00:00, 1451.74batch/s, Epoch = 0m 13s, Loss = 0.3355|0.3942, Acc = 0.862"
     ]
    },
    {
     "name": "stderr",
     "output_type": "stream",
     "text": [
      "\n"
     ]
    },
    {
     "name": "stderr",
     "output_type": "stream",
     "text": [
      "\r\n",
      "Epoch  16/20:   0%|          | 0/20000 [00:00<?, ?batch/s]                                                                "
     ]
    },
    {
     "name": "stderr",
     "output_type": "stream",
     "text": [
      "\r\n",
      "Epoch  16/20: 100%|██████████| 20000/20000 [00:12<00:00, 1641.33batch/s]                                                  "
     ]
    },
    {
     "name": "stderr",
     "output_type": "stream",
     "text": [
      "\r\n",
      "Epoch  16/20: 100%|██████████| 20000/20000 [00:13<00:00, 1641.33batch/s, Epoch = 0m 13s, Loss = 0.3367|0.3958, Acc = 0.862"
     ]
    },
    {
     "name": "stderr",
     "output_type": "stream",
     "text": [
      "\r\n",
      "Epoch  16/20: 100%|██████████| 20000/20000 [00:13<00:00, 1461.88batch/s, Epoch = 0m 13s, Loss = 0.3367|0.3958, Acc = 0.862"
     ]
    },
    {
     "name": "stderr",
     "output_type": "stream",
     "text": [
      "\n"
     ]
    },
    {
     "name": "stderr",
     "output_type": "stream",
     "text": [
      "\r\n",
      "Epoch  17/20:   0%|          | 0/20000 [00:00<?, ?batch/s]                                                                "
     ]
    },
    {
     "name": "stderr",
     "output_type": "stream",
     "text": [
      "\r\n",
      "Epoch  17/20: 100%|██████████| 20000/20000 [00:11<00:00, 1732.43batch/s]                                                  "
     ]
    },
    {
     "name": "stderr",
     "output_type": "stream",
     "text": [
      "\r\n",
      "Epoch  17/20: 100%|██████████| 20000/20000 [00:12<00:00, 1732.43batch/s, Epoch = 0m 12s, Loss = 0.3397|0.3943, Acc = 0.862"
     ]
    },
    {
     "name": "stderr",
     "output_type": "stream",
     "text": [
      "\r\n",
      "Epoch  17/20: 100%|██████████| 20000/20000 [00:12<00:00, 1550.59batch/s, Epoch = 0m 12s, Loss = 0.3397|0.3943, Acc = 0.862"
     ]
    },
    {
     "name": "stderr",
     "output_type": "stream",
     "text": [
      "\n"
     ]
    },
    {
     "name": "stderr",
     "output_type": "stream",
     "text": [
      "\r\n",
      "Epoch  18/20:   0%|          | 0/20000 [00:00<?, ?batch/s]                                                                "
     ]
    },
    {
     "name": "stderr",
     "output_type": "stream",
     "text": [
      "\r\n",
      "Epoch  18/20: 100%|██████████| 20000/20000 [00:11<00:00, 1704.95batch/s]                                                  "
     ]
    },
    {
     "name": "stderr",
     "output_type": "stream",
     "text": [
      "\r\n",
      "Epoch  18/20: 100%|██████████| 20000/20000 [00:13<00:00, 1704.95batch/s, Epoch = 0m 13s, Loss = 0.3347|0.3958, Acc = 0.862"
     ]
    },
    {
     "name": "stderr",
     "output_type": "stream",
     "text": [
      "\r\n",
      "Epoch  18/20: 100%|██████████| 20000/20000 [00:13<00:00, 1501.61batch/s, Epoch = 0m 13s, Loss = 0.3347|0.3958, Acc = 0.862"
     ]
    },
    {
     "name": "stderr",
     "output_type": "stream",
     "text": [
      "\n"
     ]
    },
    {
     "name": "stderr",
     "output_type": "stream",
     "text": [
      "\r\n",
      "Epoch  19/20:   0%|          | 0/20000 [00:00<?, ?batch/s]                                                                "
     ]
    },
    {
     "name": "stderr",
     "output_type": "stream",
     "text": [
      "\r\n",
      "Epoch  19/20: 100%|██████████| 20000/20000 [00:11<00:00, 1690.51batch/s]                                                  "
     ]
    },
    {
     "name": "stderr",
     "output_type": "stream",
     "text": [
      "\r\n",
      "Epoch  19/20: 100%|██████████| 20000/20000 [00:13<00:00, 1690.51batch/s, Epoch = 0m 13s, Loss = 0.3363|0.3916, Acc = 0.861"
     ]
    },
    {
     "name": "stderr",
     "output_type": "stream",
     "text": [
      "\r\n",
      "Epoch  19/20: 100%|██████████| 20000/20000 [00:13<00:00, 1525.29batch/s, Epoch = 0m 13s, Loss = 0.3363|0.3916, Acc = 0.861"
     ]
    },
    {
     "name": "stderr",
     "output_type": "stream",
     "text": [
      "\n"
     ]
    },
    {
     "name": "stderr",
     "output_type": "stream",
     "text": [
      "\r\n",
      "Epoch  20/20:   0%|          | 0/20000 [00:00<?, ?batch/s]                                                                "
     ]
    },
    {
     "name": "stderr",
     "output_type": "stream",
     "text": [
      "\r\n",
      "Epoch  20/20: 100%|██████████| 20000/20000 [00:11<00:00, 1700.29batch/s]                                                  "
     ]
    },
    {
     "name": "stderr",
     "output_type": "stream",
     "text": [
      "\r\n",
      "Epoch  20/20: 100%|██████████| 20000/20000 [00:13<00:00, 1700.29batch/s, Epoch = 0m 13s, Loss = 0.3405|0.3916, Acc = 0.859"
     ]
    },
    {
     "name": "stderr",
     "output_type": "stream",
     "text": [
      "\r\n",
      "Epoch  20/20: 100%|██████████| 20000/20000 [00:13<00:00, 1498.66batch/s, Epoch = 0m 13s, Loss = 0.3405|0.3916, Acc = 0.859"
     ]
    },
    {
     "name": "stdout",
     "output_type": "stream",
     "text": [
      "TOTAL TIME = 301.46s\n",
      "BEST ACC = 0.83% AT EPOCH 12\n",
      "BEST AUC = 90.60 AT EPOCH 19\n"
     ]
    },
    {
     "name": "stderr",
     "output_type": "stream",
     "text": [
      "\n"
     ]
    }
   ],
   "source": [
    "train_loss, train_acc, test_loss, test_acc, train_auc, test_auc = main()"
   ]
  },
  {
   "cell_type": "markdown",
   "id": "24afd3b2",
   "metadata": {
    "papermill": {
     "duration": 0.047684,
     "end_time": "2024-09-10T07:17:42.856022",
     "exception": false,
     "start_time": "2024-09-10T07:17:42.808338",
     "status": "completed"
    },
    "tags": []
   },
   "source": [
    "## Evaluation\n"
   ]
  },
  {
   "cell_type": "code",
   "execution_count": 19,
   "id": "4fa4fbd1",
   "metadata": {
    "execution": {
     "iopub.execute_input": "2024-09-10T07:17:42.894140Z",
     "iopub.status.busy": "2024-09-10T07:17:42.892763Z",
     "iopub.status.idle": "2024-09-10T07:17:44.152874Z",
     "shell.execute_reply": "2024-09-10T07:17:44.152418Z"
    },
    "papermill": {
     "duration": 1.281876,
     "end_time": "2024-09-10T07:17:44.156634",
     "exception": false,
     "start_time": "2024-09-10T07:17:42.874758",
     "status": "completed"
    },
    "tags": []
   },
   "outputs": [
    {
     "data": {
      "image/png": "[encoded data removed]",
      "text/plain": [
       "<Figure size 1200x500 with 2 Axes>"
      ]
     },
     "metadata": {},
     "output_type": "display_data"
    }
   ],
   "source": [
    "import matplotlib.pyplot as plt\n",
    "import seaborn as sns\n",
    "\n",
    "sns.set_theme()\n",
    "\n",
    "# plt.style.use(\"classic\")\n",
    "# plt.style.use(\"dark_background\")\n",
    "\n",
    "epochs = range(1, len(train_loss) + 1)\n",
    "\n",
    "plt.figure(figsize=(12, 5))\n",
    "plt.subplot(1, 2, 1)\n",
    "plt.plot(epochs, train_loss, \"b-\", label=\"Train Loss\")\n",
    "plt.plot(epochs, test_loss, \"r-\", label=\"Test Loss\")\n",
    "plt.title(\"Train and Test Loss\")\n",
    "plt.xlabel(\"Epochs\")\n",
    "plt.ylabel(\"Loss\")\n",
    "plt.legend()\n",
    "\n",
    "plt.subplot(1, 2, 2)\n",
    "plt.plot(epochs, train_acc, \"b-\", label=\"Train Accuracy\")\n",
    "plt.plot(epochs, test_acc, \"r-\", label=\"Test Accuracy\")\n",
    "plt.title(\"Train and Test Accuracy\")\n",
    "plt.xlabel(\"Epochs\")\n",
    "plt.ylabel(\"Accuracy\")\n",
    "plt.legend()\n",
    "\n",
    "plt.tight_layout()\n",
    "plt.show()"
   ]
  },
  {
   "cell_type": "code",
   "execution_count": 20,
   "id": "0972cde4",
   "metadata": {
    "execution": {
     "iopub.execute_input": "2024-09-10T07:17:44.203104Z",
     "iopub.status.busy": "2024-09-10T07:17:44.202645Z",
     "iopub.status.idle": "2024-09-10T07:17:44.342318Z",
     "shell.execute_reply": "2024-09-10T07:17:44.341779Z"
    },
    "papermill": {
     "duration": 0.163431,
     "end_time": "2024-09-10T07:17:44.344921",
     "exception": false,
     "start_time": "2024-09-10T07:17:44.181490",
     "status": "completed"
    },
    "tags": []
   },
   "outputs": [
    {
     "data": {
      "image/png": "[encoded data removed]",
      "text/plain": [
       "<Figure size 640x480 with 1 Axes>"
      ]
     },
     "metadata": {},
     "output_type": "display_data"
    }
   ],
   "source": [
    "plt.plot(epochs, train_auc, \"b-\", label=\"Train\")\n",
    "plt.plot(epochs, test_auc, \"r-\", label=\"Test\")\n",
    "plt.title(\"Train and Test AUC\")\n",
    "plt.xlabel(\"Epochs\")\n",
    "plt.ylabel(\"AUC\")\n",
    "plt.legend()\n",
    "plt.show()"
   ]
  },
  {
   "cell_type": "code",
   "execution_count": 21,
   "id": "1f4fb3db",
   "metadata": {
    "execution": {
     "iopub.execute_input": "2024-09-10T07:17:44.394601Z",
     "iopub.status.busy": "2024-09-10T07:17:44.394361Z",
     "iopub.status.idle": "2024-09-10T07:17:44.456357Z",
     "shell.execute_reply": "2024-09-10T07:17:44.455826Z"
    },
    "papermill": {
     "duration": 0.087155,
     "end_time": "2024-09-10T07:17:44.458418",
     "exception": false,
     "start_time": "2024-09-10T07:17:44.371263",
     "status": "completed"
    },
    "tags": []
   },
   "outputs": [
    {
     "data": {
      "text/plain": [
       "[0.5067675159235668,\n",
       " 0.5352308917197452,\n",
       " 0.7227308917197452,\n",
       " 0.7951831210191083,\n",
       " 0.8194665605095541,\n",
       " 0.8242436305732485,\n",
       " 0.8240445859872612,\n",
       " 0.8220541401273885,\n",
       " 0.8200636942675159,\n",
       " 0.8232484076433121]"
      ]
     },
     "execution_count": 21,
     "metadata": {},
     "output_type": "execute_result"
    }
   ],
   "source": [
    "checkpoint = torch.load(\n",
    "    \".models/model_and_metrics_epoch_10.pt\"\n",
    ")  # Replace x with the epoch number\n",
    "\n",
    "# Load the metrics\n",
    "epoch = checkpoint[\"epoch\"]\n",
    "train_loss = checkpoint[\"train_loss\"]\n",
    "train_acc = checkpoint[\"train_acc\"]\n",
    "train_auc = checkpoint[\"train_auc\"]\n",
    "test_loss = checkpoint[\"test_loss\"]\n",
    "test_acc = checkpoint[\"test_acc\"]\n",
    "test_auc = checkpoint[\"test_auc\"]\n",
    "\n",
    "test_acc"
   ]
  },
  {
   "cell_type": "code",
   "execution_count": 22,
   "id": "cbf35787",
   "metadata": {
    "execution": {
     "iopub.execute_input": "2024-09-10T07:17:44.507563Z",
     "iopub.status.busy": "2024-09-10T07:17:44.507176Z",
     "iopub.status.idle": "2024-09-10T07:17:44.511963Z",
     "shell.execute_reply": "2024-09-10T07:17:44.511110Z"
    },
    "papermill": {
     "duration": 0.027895,
     "end_time": "2024-09-10T07:17:44.513596",
     "exception": false,
     "start_time": "2024-09-10T07:17:44.485701",
     "status": "completed"
    },
    "tags": []
   },
   "outputs": [],
   "source": [
    "# fig, ax = plt.subplots(figsize=(4, 3.5))\n",
    "# # ax.plot(classical_qg_metrics['train_aucs'], label='Classical Training', color='orange', linestyle='--')\n",
    "# # ax.plot(quantum_qg_metrics['train_aucs'], label='Quantum Training', color='purple', linestyle='--')\n",
    "# # ax.plot(classical_qg_metrics['val_aucs'], label='Classical Validation', color='orange')\n",
    "# # ax.plot(quantum_qg_metrics['val_aucs'], label='Quantum Validation', color='purple')\n",
    "# ax.plot(epochs, train_auc, label=\"Classical Training\", color=\"purple\")\n",
    "# ax.plot(epochs, test_auc, label=\"Classical Validation\", color=\"purple\")\n",
    "# ax.set_xlabel(\"Epoch\")\n",
    "# ax.set_ylabel(\"AUC\")\n",
    "# ax.legend()\n",
    "# ax.grid()\n",
    "# ax.set_ylim(0.5, 1)"
   ]
  }
 ],
 "metadata": {
  "kernelspec": {
   "display_name": "quant",
   "language": "python",
   "name": "python3"
  },
  "language_info": {
   "codemirror_mode": {
    "name": "ipython",
    "version": 3
   },
   "file_extension": ".py",
   "mimetype": "text/x-python",
   "name": "python",
   "nbconvert_exporter": "python",
   "pygments_lexer": "ipython3",
   "version": "3.11.8"
  },
  "papermill": {
   "default_parameters": {},
   "duration": 315.580712,
   "end_time": "2024-09-10T07:17:45.758279",
   "environment_variables": {},
   "exception": null,
   "input_path": "0_classic_old.ipynb",
   "output_path": "0_classic_old2.papermill.ipynb",
   "parameters": {},
   "start_time": "2024-09-10T07:12:30.177567",
   "version": "2.6.0"
  }
 },
 "nbformat": 4,
 "nbformat_minor": 5
}
