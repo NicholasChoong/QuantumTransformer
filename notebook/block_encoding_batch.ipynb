{
 "cells": [
  {
   "cell_type": "code",
   "execution_count": 1,
   "metadata": {},
   "outputs": [],
   "source": [
    "import warnings\n",
    "\n",
    "import pennylane as qml\n",
    "from pennylane.operation import AnyWires, Operation\n",
    "from pennylane.templates.state_preparations.mottonen import compute_theta, gray_code\n",
    "from pennylane.wires import Wires\n",
    "\n",
    "import numpy as np\n",
    "import matplotlib.pyplot as plt\n",
    "\n",
    "import torch"
   ]
  },
  {
   "cell_type": "code",
   "execution_count": 47,
   "metadata": {},
   "outputs": [],
   "source": [
    "# type: ignore\n",
    "\n",
    "\n",
    "class FABLE(Operation):\n",
    "\n",
    "    num_wires = AnyWires\n",
    "\n",
    "    num_params = 1\n",
    "\n",
    "    grad_method = None\n",
    "\n",
    "    def __init__(self, input_matrix, wires, tol=0, id=None):\n",
    "        wires = Wires(wires)\n",
    "        if not qml.math.is_abstract(input_matrix):\n",
    "            if qml.math.any(qml.math.iscomplex(input_matrix)):\n",
    "                raise ValueError(\n",
    "                    \"Support for imaginary values has not been implemented.\"\n",
    "                )\n",
    "\n",
    "            alpha = qml.math.linalg.norm(qml.math.ravel(input_matrix), np.inf)\n",
    "            if alpha > 1:\n",
    "                raise ValueError(\n",
    "                    \"The subnormalization factor should be lower than 1.\"\n",
    "                    + \"Ensure that the values of the input matrix are within [-1, 1].\"\n",
    "                )\n",
    "        else:\n",
    "            if tol != 0:\n",
    "                raise ValueError(\n",
    "                    \"JIT is not supported for tolerance values greater than 0. Set tol = 0 to run.\"\n",
    "                )\n",
    "\n",
    "        batch, row, col = qml.math.shape(input_matrix)\n",
    "        if row != col:\n",
    "            warnings.warn(\n",
    "                f\"The input matrix should be of shape NxN, got {input_matrix.shape}.\"\n",
    "                + \"Zeroes were padded automatically.\"\n",
    "            )\n",
    "            dimension = max(row, col)\n",
    "            input_matrix = qml.math.pad(\n",
    "                input_matrix, ((0, dimension - row), (0, dimension - col))\n",
    "            )\n",
    "            batch, row, col = qml.math.shape(input_matrix)\n",
    "        n = int(qml.math.ceil(qml.math.log2(col)))\n",
    "        if n == 0:\n",
    "            n = 1\n",
    "        if col < 2**n:\n",
    "            input_matrix = qml.math.pad(\n",
    "                input_matrix, ((0, 2**n - col), (0, 2**n - col))\n",
    "            )\n",
    "            col = 2**n\n",
    "            warnings.warn(\n",
    "                \"The input matrix should be of shape NxN, where N is a power of 2.\"\n",
    "                + f\"Zeroes were padded automatically. Input is now of shape {input_matrix.shape}.\"\n",
    "            )\n",
    "\n",
    "        if len(wires) != 2 * n + 1:\n",
    "            raise ValueError(\n",
    "                f\"Number of wires is incorrect, expected {2*n+1} but got {len(wires)}\"\n",
    "            )\n",
    "\n",
    "        self._hyperparameters = {\"tol\": tol}\n",
    "\n",
    "        super().__init__(input_matrix, wires=wires, id=id)\n",
    "\n",
    "    @staticmethod\n",
    "    def compute_decomposition(\n",
    "        inputs_matrix, wires, tol=0\n",
    "    ):  # pylint:disable=arguments-differ\n",
    "        op_list = []\n",
    "        alphas = torch.arccos(inputs_matrix).reshape(inputs_matrix.shape[0], -1)\n",
    "        thetas = torch.stack([compute_theta(alpha) for alpha in alphas])\n",
    "\n",
    "        batched = qml.math.ndim(thetas) > 1\n",
    "\n",
    "        thetas_batch = qml.math.T(thetas) if batched else [thetas]\n",
    "\n",
    "        ancilla = [wires[0]]\n",
    "        wires_i = wires[1 : 1 + len(wires) // 2][::-1]\n",
    "        wires_j = wires[1 + len(wires) // 2 : len(wires)][::-1]\n",
    "\n",
    "        code = gray_code((2 * qml.math.log2(len(inputs_matrix[0]))))\n",
    "        n_selections = len(code)\n",
    "\n",
    "        control_wires = [\n",
    "            int(qml.math.log2(int(code[i], 2) ^ int(code[(i + 1) % n_selections], 2)))\n",
    "            for i in range(n_selections)\n",
    "        ]\n",
    "        wire_map = dict(enumerate(wires_j + wires_i))\n",
    "        for w in wires_i:\n",
    "            op_list.append(qml.Hadamard(w))\n",
    "\n",
    "        # for thetas in thetas_batch:\n",
    "        for i, (thetas, control_index) in enumerate(zip(thetas_batch, control_wires)):\n",
    "            op_list.append(qml.RZ(2 * thetas, wires=ancilla))\n",
    "            op_list.append(qml.CNOT(wires=[wire_map[control_index]] + ancilla))\n",
    "\n",
    "        for w_i, w_j in zip(wires_i, wires_j):\n",
    "            op_list.append(qml.SWAP(wires=[w_i, w_j]))\n",
    "\n",
    "        for w in wires_i:\n",
    "            op_list.append(qml.Hadamard(w))\n",
    "\n",
    "        return op_list"
   ]
  },
  {
   "cell_type": "code",
   "execution_count": 40,
   "metadata": {},
   "outputs": [
    {
     "name": "stdout",
     "output_type": "stream",
     "text": [
      "tensor([[ 1.0000,  0.3826,  0.6964,  0.6841],\n",
      "        [-0.5085, -0.0844,  1.0000, -0.2889]])\n",
      "tensor([[[ 1.0000,  0.3826],\n",
      "         [ 0.6964,  0.6841]],\n",
      "\n",
      "        [[-0.5085, -0.0844],\n",
      "         [ 1.0000, -0.2889]]])\n"
     ]
    }
   ],
   "source": [
    "np.random.seed(42)\n",
    "torch.manual_seed(42)\n",
    "n = 1\n",
    "batch = 2\n",
    "embed_dim = 2**n * 2**n\n",
    "\n",
    "input = torch.randn(batch, embed_dim)\n",
    "input_norm = torch.vmap(lambda x: x / torch.max(torch.abs(x)))(input)\n",
    "\n",
    "input_matrix = input.reshape(-1, 2**n, 2**n)\n",
    "input_norm_matrix = torch.vmap(lambda x: x / torch.max(torch.abs(x)))(input_matrix)\n",
    "\n",
    "print(input_norm)\n",
    "print(input_norm_matrix)"
   ]
  },
  {
   "cell_type": "code",
   "execution_count": 41,
   "metadata": {},
   "outputs": [],
   "source": [
    "ancilla_wires = [\"ancilla\"]\n",
    "\n",
    "matrix_dim = int(np.log2(embed_dim)) // 2\n",
    "wires_i = [f\"i{index}\" for index in range(matrix_dim)]\n",
    "wires_j = [f\"j{index}\" for index in range(matrix_dim)]"
   ]
  },
  {
   "cell_type": "code",
   "execution_count": 48,
   "metadata": {},
   "outputs": [],
   "source": [
    "dev = qml.device(\"default.qubit\", wires=ancilla_wires + wires_i + wires_j)\n",
    "\n",
    "\n",
    "@qml.qnode(dev, interface=\"torch\")\n",
    "def circuit(inputs):\n",
    "    FABLE(inputs, wires=ancilla_wires + wires_i + wires_j, tol=0)\n",
    "    return qml.probs(wires=ancilla_wires + wires_i)"
   ]
  },
  {
   "cell_type": "code",
   "execution_count": 43,
   "metadata": {},
   "outputs": [
    {
     "name": "stdout",
     "output_type": "stream",
     "text": [
      "tensor([[ 1.3980, -0.5976, -0.5806, -0.2198],\n",
      "        [ 2.8117, -0.7075,  1.1564,  0.9478]], dtype=torch.float64)\n"
     ]
    }
   ],
   "source": [
    "alphas_A = torch.arccos(input_norm_matrix).reshape(input_norm_matrix.shape[0], -1)\n",
    "thetas_A = torch.stack([compute_theta(alpha) for alpha in alphas_A])\n",
    "print(2 * thetas_A)"
   ]
  },
  {
   "cell_type": "code",
   "execution_count": 49,
   "metadata": {},
   "outputs": [
    {
     "name": "stdout",
     "output_type": "stream",
     "text": [
      "ancilla: ──RZ(M0)─╭X──RZ(M1)─╭X──RZ(M2)─╭X──RZ(M3)─╭X──────────┤ ╭Probs\n",
      "     i0: ──H──────│──────────╰●─────────│──────────╰●─╭SWAP──H─┤ ╰Probs\n",
      "     j0: ─────────╰●────────────────────╰●────────────╰SWAP────┤       \n",
      "\n",
      "M0 = \n",
      "tensor([1.3980, 2.8117], dtype=torch.float64)\n",
      "M1 = \n",
      "tensor([-0.5976, -0.7075], dtype=torch.float64)\n",
      "M2 = \n",
      "tensor([-0.5806,  1.1564], dtype=torch.float64)\n",
      "M3 = \n",
      "tensor([-0.2198,  0.9478], dtype=torch.float64)\n"
     ]
    },
    {
     "data": {
      "image/png": "[encoded data removed]",
      "text/plain": [
       "<Figure size 400x400 with 1 Axes>"
      ]
     },
     "metadata": {},
     "output_type": "display_data"
    },
    {
     "data": {
      "image/png": "[encoded data removed]",
      "text/plain": [
       "<Figure size 1300x400 with 1 Axes>"
      ]
     },
     "metadata": {},
     "output_type": "display_data"
    }
   ],
   "source": [
    "print(qml.draw(circuit, expansion_strategy=\"device\")(input_norm_matrix))\n",
    "fig1, ax = qml.draw_mpl(circuit)(input_norm_matrix)\n",
    "fig2, ax = qml.draw_mpl(circuit, expansion_strategy=\"device\")(input_norm_matrix)"
   ]
  },
  {
   "cell_type": "code",
   "execution_count": 31,
   "metadata": {},
   "outputs": [
    {
     "name": "stdout",
     "output_type": "stream",
     "text": [
      "Original matrix:\n",
      "tensor([[[ 1.0000,  0.3826],\n",
      "         [ 0.6964,  0.6841]],\n",
      "\n",
      "        [[-0.5085, -0.0844],\n",
      "         [ 1.0000, -0.2889]]]) \n",
      "\n",
      "Block-encoded matrix:\n",
      "tensor([[[ 1.0000,  0.3826],\n",
      "         [ 0.6964,  0.6841]],\n",
      "\n",
      "        [[-0.5085, -0.0844],\n",
      "         [ 1.0000, -0.2889]]], dtype=torch.float64) \n",
      "\n"
     ]
    }
   ],
   "source": [
    "print(f\"Original matrix:\\n{input_norm_matrix}\", \"\\n\")\n",
    "wire_order = ancilla_wires + wires_i[::-1] + wires_j[::-1]\n",
    "M = (\n",
    "    len(input_norm_matrix)\n",
    "    * qml.matrix(circuit, wire_order=wire_order)(input_norm_matrix).real[\n",
    "        :, 0 : len(input_norm_matrix), 0 : len(input_norm_matrix)\n",
    "    ]\n",
    ")\n",
    "print(f\"Block-encoded matrix:\\n{M}\", \"\\n\")"
   ]
  }
 ],
 "metadata": {
  "kernelspec": {
   "display_name": "quantum2",
   "language": "python",
   "name": "python3"
  },
  "language_info": {
   "codemirror_mode": {
    "name": "ipython",
    "version": 3
   },
   "file_extension": ".py",
   "mimetype": "text/x-python",
   "name": "python",
   "nbconvert_exporter": "python",
   "pygments_lexer": "ipython3",
   "version": "3.11.8"
  }
 },
 "nbformat": 4,
 "nbformat_minor": 2
}
