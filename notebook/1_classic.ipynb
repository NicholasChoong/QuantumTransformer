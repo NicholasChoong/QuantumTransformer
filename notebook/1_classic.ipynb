{
 "cells": [
  {
   "cell_type": "markdown",
   "metadata": {},
   "source": [
    "# Classical Transformer\n"
   ]
  },
  {
   "cell_type": "code",
   "execution_count": 1,
   "metadata": {},
   "outputs": [
    {
     "name": "stderr",
     "output_type": "stream",
     "text": [
      "f:\\web-dev\\qt\\Lib\\site-packages\\tqdm\\auto.py:21: TqdmWarning: IProgress not found. Please update jupyter and ipywidgets. See https://ipywidgets.readthedocs.io/en/stable/user_install.html\n",
      "  from .autonotebook import tqdm as notebook_tqdm\n"
     ]
    }
   ],
   "source": [
    "import os\n",
    "import math\n",
    "import random\n",
    "import re\n",
    "from typing import Callable, Iterable\n",
    "from copy import deepcopy\n",
    "import numpy as np\n",
    "from time import time\n",
    "\n",
    "from tqdm import tqdm\n",
    "from sklearn.metrics import roc_auc_score\n",
    "\n",
    "\n",
    "import torch\n",
    "import torch.nn as nn\n",
    "from torch import Tensor, device\n",
    "from torch.nn.utils.rnn import pad_sequence\n",
    "from torch.utils.data import DataLoader\n",
    "from torch.nn.modules.loss import _Loss\n",
    "from torch.optim import Optimizer\n",
    "\n",
    "\n",
    "from datasets import load_dataset\n",
    "from sentence_transformers import SentenceTransformer, models\n",
    "from sklearn.decomposition import PCA"
   ]
  },
  {
   "cell_type": "markdown",
   "metadata": {},
   "source": [
    "## Setting up environment\n"
   ]
  },
  {
   "cell_type": "code",
   "execution_count": 2,
   "metadata": {},
   "outputs": [
    {
     "name": "stdout",
     "output_type": "stream",
     "text": [
      "cuda\n"
     ]
    }
   ],
   "source": [
    "dev = (\n",
    "    torch.device(\"mps\")\n",
    "    if torch.backends.mps.is_available()\n",
    "    else torch.device(\"cuda\") if torch.cuda.is_available() else torch.device(\"cpu\")\n",
    ")\n",
    "\n",
    "print(dev)\n",
    "\n",
    "seed = 42\n",
    "\n",
    "os.environ[\"PYTHONHASHSEED\"] = str(seed)\n",
    "random.seed(seed)\n",
    "np.random.seed(seed)\n",
    "\n",
    "torch.manual_seed(seed)\n",
    "torch.cuda.manual_seed(seed)\n",
    "torch.backends.cudnn.deterministic = True\n",
    "torch.backends.cudnn.benchmark = False"
   ]
  },
  {
   "cell_type": "code",
   "execution_count": null,
   "metadata": {},
   "outputs": [],
   "source": [
    "print(torch.cuda.device_count())\n",
    "print(torch.cuda.current_device())\n",
    "print(torch.cuda.get_device_name(torch.cuda.current_device()))"
   ]
  },
  {
   "cell_type": "markdown",
   "metadata": {},
   "source": [
    "## Helper functions\n"
   ]
  },
  {
   "cell_type": "markdown",
   "metadata": {},
   "source": [
    "### Binary Accuracy\n"
   ]
  },
  {
   "cell_type": "code",
   "execution_count": 3,
   "metadata": {},
   "outputs": [],
   "source": [
    "def binary_accuracy(preds: Tensor, y: Tensor):\n",
    "    \"\"\"\n",
    "    Returns accuracy per batch, i.e. if you get 8/10 right, this returns 0.8, NOT 8\n",
    "    \"\"\"\n",
    "\n",
    "    # round predictions to the closest integer\n",
    "    rounded_preds = preds.sigmoid().round()\n",
    "\n",
    "    correct = (rounded_preds == y).float()  # convert into float for division\n",
    "    acc = correct.sum() / len(correct)\n",
    "    return acc"
   ]
  },
  {
   "cell_type": "markdown",
   "metadata": {},
   "source": [
    "### Clone Model\n"
   ]
  },
  {
   "cell_type": "code",
   "execution_count": 4,
   "metadata": {},
   "outputs": [],
   "source": [
    "def get_clones(module: nn.Module, N: int):\n",
    "    return nn.ModuleList([deepcopy(module) for _ in range(N)])"
   ]
  },
  {
   "cell_type": "markdown",
   "metadata": {},
   "source": [
    "### Data Loader\n"
   ]
  },
  {
   "cell_type": "code",
   "execution_count": 5,
   "metadata": {},
   "outputs": [],
   "source": [
    "def clean_text(text):\n",
    "    # Remove HTML tags\n",
    "    text = re.sub(r\"<.*?>\", \"\", text)\n",
    "    # Replace single quotes that are not preceded by a backslash\n",
    "    text = re.sub(r\"(?<!\\\\)'\", '\"', text)\n",
    "    return text"
   ]
  },
  {
   "cell_type": "code",
   "execution_count": 6,
   "metadata": {},
   "outputs": [],
   "source": [
    "# def yield_tokens(data: list[tuple[int, str]], tokenizer: Callable[[str], list[str]]):\n",
    "#     for label, text in data:\n",
    "#         yield tokenizer(text.lower())\n",
    "\n",
    "\n",
    "# def text_transform(text: str, vocab: Vocab, tokenizer: Callable[[str], list[str]]):\n",
    "#     return vocab([token for token in tokenizer(text.lower())])\n",
    "\n",
    "\n",
    "# def label_transform(label: int):\n",
    "#     return torch.tensor(1.0 if label == 2 else 0.0, dtype=torch.float)\n",
    "\n",
    "\n",
    "# def collate_batch(\n",
    "#     batch: Iterable[tuple[int, str]],\n",
    "#     vocab: Vocab,\n",
    "#     tokenizer: Callable[[str], list[str]],\n",
    "# ):\n",
    "#     pad_idx = vocab[\"<pad>\"]\n",
    "#     label_list, text_list = [], []\n",
    "\n",
    "#     for label, text in batch:\n",
    "#         label_list.append(label_transform(label))\n",
    "#         processed_text = torch.tensor(text_transform(text, vocab, tokenizer))\n",
    "#         text_list.append(processed_text)\n",
    "#     return torch.tensor(label_list), pad_sequence(text_list, padding_value=pad_idx)\n",
    "\n",
    "\n",
    "# def batch_sampler(data: list, batch_size: int, tokenizer: Callable[[str], list[str]]):\n",
    "#     indices = [(i, len(tokenizer(s[1]))) for i, s in enumerate(data)]\n",
    "#     random.shuffle(indices)\n",
    "#     pooled_indices = []\n",
    "#     # create pool of indices with similar lengths\n",
    "#     for i in range(0, len(indices), batch_size * 100):\n",
    "#         pooled_indices.extend(\n",
    "#             sorted(indices[i : i + batch_size * 100], key=lambda x: x[1])\n",
    "#         )\n",
    "\n",
    "#     pooled_indices = [x[0] for x in pooled_indices]\n",
    "\n",
    "#     # yield indices for current batch\n",
    "#     for i in range(0, len(pooled_indices), batch_size):\n",
    "#         yield pooled_indices[i : i + batch_size]"
   ]
  },
  {
   "cell_type": "markdown",
   "metadata": {},
   "source": [
    "### Parameter Count\n"
   ]
  },
  {
   "cell_type": "code",
   "execution_count": 7,
   "metadata": {},
   "outputs": [],
   "source": [
    "def count_parameters(model: nn.Module):\n",
    "    return sum(p.numel() for p in model.parameters() if p.requires_grad)"
   ]
  },
  {
   "cell_type": "markdown",
   "metadata": {},
   "source": [
    "### Epoch Time\n"
   ]
  },
  {
   "cell_type": "code",
   "execution_count": 8,
   "metadata": {},
   "outputs": [],
   "source": [
    "def epoch_time(start_time: float, end_time: float):\n",
    "    elapsed_time = end_time - start_time\n",
    "    elapsed_mins = int(elapsed_time / 60)\n",
    "    elapsed_secs = int(elapsed_time - (elapsed_mins * 60))\n",
    "    return elapsed_mins, elapsed_secs"
   ]
  },
  {
   "cell_type": "markdown",
   "metadata": {},
   "source": [
    "### Train\n"
   ]
  },
  {
   "cell_type": "code",
   "execution_count": 9,
   "metadata": {},
   "outputs": [],
   "source": [
    "def train(\n",
    "    model: nn.Module,\n",
    "    dataloader: DataLoader,\n",
    "    optimizer: Optimizer,\n",
    "    criterion: _Loss,\n",
    "    max_seq_len: int,\n",
    "    progress_bar,\n",
    "):\n",
    "    epoch_loss = []\n",
    "    epoch_acc = []\n",
    "    epoch_true = []\n",
    "    epoch_pred = []\n",
    "\n",
    "    model.train()\n",
    "    for i, (lab, inputs) in enumerate(dataloader):\n",
    "\n",
    "        optimizer.zero_grad()\n",
    "        # inputs = torch.LongTensor(inputs).to(dev)\n",
    "        # if inputs.size(1) > max_seq_len:\n",
    "        #     inputs = inputs[:, :max_seq_len]\n",
    "        model.to(dev)\n",
    "        predictions = model(inputs).squeeze(1)\n",
    "\n",
    "        label = lab.to(dev)\n",
    "        # label = label.unsqueeze(1)\n",
    "        loss = criterion(predictions, label)\n",
    "        # loss = F.nll_loss(predictions, label)\n",
    "        acc = binary_accuracy(predictions, label)\n",
    "\n",
    "        loss.backward()\n",
    "        optimizer.step()\n",
    "\n",
    "        epoch_loss.append(loss.item())\n",
    "        epoch_acc.append(acc.item())\n",
    "        epoch_true.extend(label.tolist())\n",
    "        epoch_pred.extend(predictions.sigmoid().tolist())\n",
    "\n",
    "        progress_bar.update(dataloader.batch_size)\n",
    "\n",
    "    # print(epoch_loss, epoch_acc, len(dataloader.dataset))\n",
    "\n",
    "    epoch_auc = 100.0 * roc_auc_score(epoch_true, epoch_pred, multi_class=\"ovr\")\n",
    "    # divide the total loss by the total number of batches per epoch\n",
    "    return np.mean(epoch_loss), np.mean(epoch_acc), epoch_auc"
   ]
  },
  {
   "cell_type": "markdown",
   "metadata": {},
   "source": [
    "### Evaluate\n"
   ]
  },
  {
   "cell_type": "code",
   "execution_count": 10,
   "metadata": {},
   "outputs": [],
   "source": [
    "def evaluate(\n",
    "    model: nn.Module, dataloader: DataLoader, criterion: _Loss, max_seq_len: int\n",
    "):\n",
    "\n",
    "    epoch_loss = []\n",
    "    epoch_acc = []\n",
    "    epoch_true = []\n",
    "    epoch_pred = []\n",
    "\n",
    "    model.eval()\n",
    "    with torch.no_grad():\n",
    "        for i, (lab, inputs) in enumerate(dataloader):\n",
    "            # inputs = torch.LongTensor(inputs).to(dev)\n",
    "            # if inputs.size(1) > max_seq_len:\n",
    "            #     inputs = inputs[:, :max_seq_len]\n",
    "            predictions = model(inputs).squeeze(1)\n",
    "\n",
    "            label = lab.to(dev)\n",
    "            # label = label.unsqueeze(1)\n",
    "            loss = criterion(predictions, label)\n",
    "            # loss = F.nll_loss(predictions, label)\n",
    "            acc = binary_accuracy(predictions, label)\n",
    "\n",
    "            epoch_loss.append(loss.item())\n",
    "            epoch_acc.append(acc.item())\n",
    "            epoch_true.extend(label.tolist())\n",
    "            epoch_pred.extend(predictions.sigmoid().tolist())\n",
    "\n",
    "    epoch_auc = 100.0 * roc_auc_score(epoch_true, epoch_pred, multi_class=\"ovr\")\n",
    "\n",
    "    # divide the total loss by the total number of batches per epoch\n",
    "    return np.mean(epoch_loss), np.mean(epoch_acc), epoch_auc"
   ]
  },
  {
   "cell_type": "markdown",
   "metadata": {},
   "source": [
    "## Model\n"
   ]
  },
  {
   "cell_type": "markdown",
   "metadata": {},
   "source": [
    "### Positional Encoding\n"
   ]
  },
  {
   "cell_type": "code",
   "execution_count": 11,
   "metadata": {},
   "outputs": [],
   "source": [
    "class PositionalEncoder(nn.Module):\n",
    "    def __init__(self, d_model: int, dropout=0.1, max_len=512, device=device(\"cpu\")):\n",
    "        super().__init__()\n",
    "        self.dropout = nn.Dropout(p=dropout)\n",
    "\n",
    "        position = torch.arange(max_len).unsqueeze(1)\n",
    "        div_term = torch.exp(\n",
    "            torch.arange(0, d_model, 2) * (-math.log(10000.0) / d_model)\n",
    "        )\n",
    "        pe = torch.zeros(max_len, 1, d_model, device=device)\n",
    "        pe[:, 0, 0::2] = torch.sin(position * div_term)\n",
    "        pe[:, 0, 1::2] = torch.cos(position * div_term)\n",
    "        self.register_buffer(\"pe\", pe)\n",
    "\n",
    "    def forward(self, x: Tensor) -> Tensor:\n",
    "        \"\"\"\n",
    "        Arguments:\n",
    "            x: Tensor, shape ``[seq_len, batch_size, embedding_dim]``\n",
    "        \"\"\"\n",
    "        seq_len = x.size(1)\n",
    "        x = x + self.pe[: x.size(0)]\n",
    "        return self.dropout(x)"
   ]
  },
  {
   "cell_type": "markdown",
   "metadata": {},
   "source": [
    "### Attention\n"
   ]
  },
  {
   "cell_type": "code",
   "execution_count": 12,
   "metadata": {},
   "outputs": [],
   "source": [
    "def attention(\n",
    "    query: Tensor,\n",
    "    key: Tensor,\n",
    "    value: Tensor,\n",
    "    mask: Tensor | None = None,\n",
    "    dropout: nn.Dropout | None = None,\n",
    "):\n",
    "    \"\"\"Scaled Dot Product Attention\"\"\"\n",
    "    dim_k = query.size(-1)\n",
    "    # scaled = torch.matmul(query, key.transpose(-2, -1)) / math.sqrt(dim_k)\n",
    "    scaled = (query @ key.transpose(-2, -1)) / math.sqrt(dim_k)\n",
    "    if mask is not None:\n",
    "        mask = mask.unsqueeze(1)\n",
    "        scaled = scaled.masked_fill(mask == 0, -1e9)\n",
    "    scores = scaled.softmax(-1)\n",
    "    if dropout is not None:\n",
    "        scores: Tensor = dropout(scores)\n",
    "    # attn = torch.matmul(scores, value)\n",
    "    attn = scores @ value\n",
    "    return attn, scores"
   ]
  },
  {
   "cell_type": "markdown",
   "metadata": {},
   "source": [
    "### Multi-Head Attention\n"
   ]
  },
  {
   "cell_type": "code",
   "execution_count": 13,
   "metadata": {},
   "outputs": [],
   "source": [
    "class MultiHeadedAttention(nn.Module):\n",
    "    def __init__(\n",
    "        self,\n",
    "        embed_dim: int,\n",
    "        num_heads: int,\n",
    "        dropout=0.1,\n",
    "        mask: Tensor | None = None,\n",
    "        use_bias=False,\n",
    "    ):\n",
    "        super(MultiHeadedAttention, self).__init__()\n",
    "        assert (\n",
    "            embed_dim % num_heads == 0\n",
    "        ), f\"Embedding dimension ({embed_dim}) should be divisible by number of heads ({num_heads})\"\n",
    "\n",
    "        self.embed_dim = embed_dim\n",
    "        self.num_heads = num_heads\n",
    "        self.mask = mask\n",
    "        # We assume dim_v always equals dim_k\n",
    "        self.dim_k = embed_dim // num_heads  # projection dimensions\n",
    "\n",
    "        # The linear layers for the query, key, and value projections\n",
    "        self.linears = get_clones(nn.Linear(embed_dim, embed_dim, bias=use_bias), 3)\n",
    "        # The linear layer to combine the heads\n",
    "        self.combine_heads = nn.Linear(embed_dim, embed_dim, bias=use_bias)\n",
    "        self.attn_weights: Tensor | None = None\n",
    "        self.dropout = nn.Dropout(p=dropout)\n",
    "\n",
    "    def forward(\n",
    "        self, query: Tensor, key: Tensor, value: Tensor, mask: Tensor | None = None\n",
    "    ):\n",
    "        batch_size, seq_len, embed_dim = query.size()\n",
    "        # 1) Do all the linear projections in batch from embed_dim => num_heads x dim_k\n",
    "        query, key, value = [\n",
    "            lin(x).view(batch_size, -1, self.num_heads, self.dim_k).transpose(1, 2)\n",
    "            for lin, x in zip(self.linears, (query, key, value))\n",
    "        ]\n",
    "\n",
    "        # 2) Apply attention on all the projected vectors in batch.\n",
    "        x: Tensor\n",
    "        x, self.attn_weights = attention(\n",
    "            query, key, value, mask=mask, dropout=self.dropout\n",
    "        )\n",
    "\n",
    "        # 3) \"Concat\" using a view and apply a final linear.\n",
    "        x = x.transpose(1, 2).contiguous().view(batch_size, -1, embed_dim)\n",
    "        x = self.combine_heads(x)\n",
    "        return x"
   ]
  },
  {
   "cell_type": "markdown",
   "metadata": {},
   "source": [
    "### Feed-Forward Network\n"
   ]
  },
  {
   "cell_type": "code",
   "execution_count": 14,
   "metadata": {},
   "outputs": [],
   "source": [
    "class FeedForward(nn.Module):\n",
    "    \"\"\"\n",
    "    The x that is passed to the forward method is a tensor of shape (batch_size, sequence_length, embedding_dimension),\n",
    "    rather than a flattened version of it (with shape (batch_size, sequence_length * embedding_dimension)).\n",
    "    The (same) feed-forward layer applies to the last dimension only (the embedding dimension) for each batch and\n",
    "    for each position in the sequence, hence position-wise.\n",
    "    \"\"\"\n",
    "\n",
    "    def __init__(self, embed_dim: int, ffn_dim: int, dropout=0.1):\n",
    "        super(FeedForward, self).__init__()\n",
    "        self.linear_1 = nn.Linear(embed_dim, ffn_dim)\n",
    "        self.linear_2 = nn.Linear(ffn_dim, embed_dim)\n",
    "        self.dropout = nn.Dropout(dropout)\n",
    "\n",
    "    def forward(self, x: Tensor):\n",
    "        x = self.linear_1(x).relu()\n",
    "        x = self.dropout(x)\n",
    "        x = self.linear_2(x)\n",
    "        return x"
   ]
  },
  {
   "cell_type": "markdown",
   "metadata": {},
   "source": [
    "### Encoder\n"
   ]
  },
  {
   "cell_type": "code",
   "execution_count": 15,
   "metadata": {},
   "outputs": [],
   "source": [
    "class Encoder(nn.Module):\n",
    "    def __init__(\n",
    "        self,\n",
    "        embed_dim: int,\n",
    "        num_heads: int,\n",
    "        ffn_dim: int,\n",
    "        dropout: float = 0.1,\n",
    "        mask: Tensor | None = None,\n",
    "    ):\n",
    "        super(Encoder, self).__init__()\n",
    "\n",
    "        self.attn = MultiHeadedAttention(\n",
    "            embed_dim=embed_dim, num_heads=num_heads, dropout=dropout, mask=mask\n",
    "        )\n",
    "        self.norm1 = nn.LayerNorm(embed_dim)\n",
    "        self.dropout1 = nn.Dropout(dropout)\n",
    "\n",
    "        self.ffn = FeedForward(embed_dim, ffn_dim, dropout=dropout)\n",
    "        self.norm2 = nn.LayerNorm(embed_dim)\n",
    "        self.dropout2 = nn.Dropout(dropout)\n",
    "\n",
    "    def forward(self, x: Tensor):\n",
    "        attn_output: Tensor = self.attn(x, x, x)\n",
    "        x = self.norm1(attn_output + x)\n",
    "        x = self.dropout1(x)\n",
    "\n",
    "        ff_output: Tensor = self.ffn(x)\n",
    "        x = self.norm2(ff_output + x)\n",
    "        x = self.dropout2(x)\n",
    "\n",
    "        return x"
   ]
  },
  {
   "cell_type": "markdown",
   "metadata": {},
   "source": [
    "### Text Classifier\n"
   ]
  },
  {
   "cell_type": "code",
   "execution_count": 16,
   "metadata": {},
   "outputs": [],
   "source": [
    "class TextClassifier(nn.Module):\n",
    "    def __init__(\n",
    "        self,\n",
    "        embed_dim: int,\n",
    "        num_heads: int,\n",
    "        num_blocks: int,\n",
    "        ffn_dim=32,\n",
    "        dropout=0.1,\n",
    "    ):\n",
    "        super(TextClassifier, self).__init__()\n",
    "        print(f\"++ There will be {num_blocks} transformer blocks\")\n",
    "        self.transformers = get_clones(\n",
    "            Encoder(embed_dim, num_heads, ffn_dim), num_blocks\n",
    "        )\n",
    "        self.class_logits = nn.Linear(embed_dim, 1)\n",
    "        self.dropout = nn.Dropout(dropout)\n",
    "\n",
    "    def forward(self, x: Tensor):\n",
    "        for transformer in self.transformers:\n",
    "            x = transformer(x)\n",
    "\n",
    "        x = x.mean(dim=1)  # global average pooling, works in 1D\n",
    "        x = self.dropout(x)\n",
    "        x = self.class_logits(x)\n",
    "        return x"
   ]
  },
  {
   "cell_type": "markdown",
   "metadata": {},
   "source": [
    "### Main Function\n"
   ]
  },
  {
   "cell_type": "code",
   "execution_count": 20,
   "metadata": {},
   "outputs": [],
   "source": [
    "from typing import Literal\n",
    "from torch.optim.lr_scheduler import StepLR\n",
    "\n",
    "\n",
    "def main(\n",
    "    dataset_name: Literal[\"imdb\", \"yelp_polarity\", \"amazon_polarity\"] = \"imdb\",\n",
    "    dataset_cache_dir=\"./.cache/datasets\",\n",
    "    sentence_transformer_name=\"all-MiniLM-L6-v2\",\n",
    "    st_cache_folder=\"./.cache/sentence-transformers\",\n",
    "    batch_size=32,\n",
    "    total_size=3200,\n",
    "    n_epochs=20,\n",
    "    lr=0.001,\n",
    "    embed_dim=8,\n",
    "    num_heads=4,\n",
    "    num_blocks=6,\n",
    "    ffn_dim=16,\n",
    "    dropout=0.1,\n",
    "):\n",
    "\n",
    "    # size = total_size\n",
    "    # train_data = np.array(train_data)[\n",
    "    #     np.random.choice(len(train_data), size=size, replace=False)\n",
    "    # ].tolist()\n",
    "    # test_data = np.array(test_data)[\n",
    "    #     np.random.choice(len(test_data), size=size, replace=False)\n",
    "    # ].tolist()\n",
    "\n",
    "    print(\"Loading dataset...\")\n",
    "    dataset = load_dataset(dataset_name, cache_dir=dataset_cache_dir)\n",
    "    dataset_train_test = dataset[\"train\"].train_test_split(test_size=0.2, seed=42)  # type: ignore\n",
    "    dataset_train = dataset_train_test[\"train\"]\n",
    "    dataset_test = dataset_train_test[\"test\"]\n",
    "    dataset_train_labels = dataset_train[\"label\"]\n",
    "    dataset_test_labels = dataset_test[\"label\"]\n",
    "\n",
    "    dataset_train_labels = [float(label) for label in dataset_train_labels]\n",
    "    dataset_test_labels = [float(label) for label in dataset_test_labels]\n",
    "\n",
    "    dataset_train_text = [\n",
    "        clean_text(text) for _, text in enumerate(dataset_train[\"text\"])\n",
    "    ]\n",
    "    dataset_test_text = [\n",
    "        clean_text(text) for _, text in enumerate(dataset_test[\"text\"])\n",
    "    ]\n",
    "\n",
    "    model = SentenceTransformer(\n",
    "        sentence_transformer_name, cache_folder=st_cache_folder\n",
    "    ).to(dev)\n",
    "\n",
    "    max_seq_len = model.max_seq_length\n",
    "\n",
    "    print(\"Encoding text...\")\n",
    "    dataset_train_embeddings_raw = model.encode(\n",
    "        dataset_train_text, convert_to_numpy=True\n",
    "    )\n",
    "    pca = PCA(n_components=embed_dim)\n",
    "    pca.fit(dataset_train_embeddings_raw)  # type: ignore\n",
    "    pca_comp = np.asarray(pca.components_)\n",
    "\n",
    "    dense = models.Dense(\n",
    "        in_features=model.get_sentence_embedding_dimension(),\n",
    "        out_features=embed_dim,\n",
    "        bias=False,\n",
    "        activation_function=torch.nn.Identity(),\n",
    "    )\n",
    "    dense.linear.weight = torch.nn.Parameter(torch.tensor(pca_comp))\n",
    "    model.add_module(\"dense\", dense)\n",
    "\n",
    "    dataset_train_embeddings = model.encode(dataset_train_text, convert_to_tensor=True)\n",
    "    dataset_test_embeddings = model.encode(dataset_test_text, convert_to_tensor=True)\n",
    "\n",
    "    dataset_train_embeddings = dataset_train_embeddings.unsqueeze(1)\n",
    "    dataset_test_embeddings = dataset_test_embeddings.unsqueeze(1)\n",
    "\n",
    "    pos_encoder = PositionalEncoder(embed_dim, max_len=1, dropout=dropout, device=dev)\n",
    "    dataset_train_embeddings_pos = pos_encoder(dataset_train_embeddings)\n",
    "    dataset_test_embeddings_pos = pos_encoder(dataset_test_embeddings)\n",
    "\n",
    "    train_data = list(zip(dataset_train_labels, dataset_train_embeddings_pos))\n",
    "    test_data = list(zip(dataset_test_labels, dataset_test_embeddings_pos))\n",
    "\n",
    "    print(\"train pos: \", len([label for label, text in train_data if int(label) == 0]))\n",
    "    print(\"train neg: \", len([label for label, text in train_data if int(label) == 1]))\n",
    "    print(\"test pos: \", len([label for label, text in test_data if int(label) == 0]))\n",
    "    print(\"test neg: \", len([label for label, text in test_data if int(label) == 1]))\n",
    "\n",
    "    train_loader = DataLoader(\n",
    "        train_data,\n",
    "        batch_size=batch_size,\n",
    "        shuffle=True,\n",
    "    )\n",
    "    test_loader = DataLoader(\n",
    "        test_data,\n",
    "        batch_size=batch_size,\n",
    "        shuffle=True,\n",
    "    )\n",
    "\n",
    "    model = TextClassifier(\n",
    "        embed_dim=embed_dim,\n",
    "        num_heads=num_heads,\n",
    "        num_blocks=num_blocks,\n",
    "        ffn_dim=ffn_dim,\n",
    "        dropout=dropout,\n",
    "    )\n",
    "    print(f\"The model has {count_parameters(model):,} trainable parameters\")\n",
    "    start_time = time()\n",
    "\n",
    "    model.to(dev)\n",
    "\n",
    "    optimizer = torch.optim.Adam(lr=lr, params=model.parameters(), weight_decay=1e-4)\n",
    "    criterion = torch.nn.BCEWithLogitsLoss()  # logits -> sigmoid -> loss\n",
    "    scheduler = StepLR(optimizer, step_size=5, gamma=0.1)\n",
    "\n",
    "    # training loop\n",
    "    best_test_loss = float(\"inf\")\n",
    "    best_test_acc, best_epoch_acc = 0.0, 0\n",
    "    best_test_auc, best_epoch_auc = 0.0, 0\n",
    "\n",
    "    train_loss_list, train_acc_list, test_loss_list, test_acc_list = [], [], [], []\n",
    "    train_auc_list, test_auc_list = [], []\n",
    "    for iepoch in range(n_epochs):\n",
    "        with tqdm(\n",
    "            total=len(train_loader.dataset),\n",
    "            desc=f\"Epoch {iepoch+1:3}/{n_epochs}\",\n",
    "            unit=\"batch\",\n",
    "            bar_format=\"{l_bar}{bar:10}{r_bar}{bar:-10b}\",\n",
    "        ) as progress_bar:\n",
    "            operation_start_time = time()\n",
    "\n",
    "            train_loss, train_acc, train_auc = train(\n",
    "                model, train_loader, optimizer, criterion, max_seq_len, progress_bar\n",
    "            )\n",
    "\n",
    "            scheduler.step()\n",
    "\n",
    "            test_loss, test_acc, test_auc = evaluate(\n",
    "                model, test_loader, criterion, max_seq_len\n",
    "            )\n",
    "\n",
    "            end_time = time()\n",
    "\n",
    "            epoch_mins, epoch_secs = epoch_time(operation_start_time, end_time)\n",
    "\n",
    "            train_loss_list.append(train_loss)\n",
    "            train_acc_list.append(train_acc)\n",
    "            test_loss_list.append(test_loss)\n",
    "            test_acc_list.append(test_acc)\n",
    "            train_auc_list.append(train_auc)\n",
    "            test_auc_list.append(test_auc)\n",
    "\n",
    "            progress_bar.set_postfix_str(\n",
    "                f\"Epoch = {epoch_mins}m {epoch_secs}s, Loss = {train_loss:.4f}|{test_loss:.4f}, Acc = {train_acc:.3f}|{test_acc:.3f}, AUC = {train_auc:.3f}|{test_auc:.3f}\"\n",
    "            )\n",
    "            if test_acc > best_test_acc:\n",
    "                best_test_acc = test_acc\n",
    "                best_epoch_acc = iepoch + 1\n",
    "            if test_auc > best_test_auc:\n",
    "                best_test_auc = test_auc\n",
    "                best_epoch_auc = iepoch + 1\n",
    "\n",
    "    print(f\"TOTAL TIME = {time()-start_time:.2f}s\")\n",
    "    print(f\"BEST ACC = {best_test_acc:.2f}% AT EPOCH {best_epoch_acc}\")\n",
    "    print(f\"BEST AUC = {best_test_auc:.2f} AT EPOCH {best_epoch_auc}\")\n",
    "\n",
    "    return (\n",
    "        train_loss_list,\n",
    "        train_acc_list,\n",
    "        test_loss_list,\n",
    "        test_acc_list,\n",
    "        train_auc_list,\n",
    "        test_auc_list,\n",
    "    )"
   ]
  },
  {
   "cell_type": "markdown",
   "metadata": {},
   "source": [
    "## Training\n"
   ]
  },
  {
   "cell_type": "code",
   "execution_count": 21,
   "metadata": {},
   "outputs": [
    {
     "name": "stdout",
     "output_type": "stream",
     "text": [
      "Loading dataset...\n"
     ]
    },
    {
     "name": "stderr",
     "output_type": "stream",
     "text": [
      "f:\\web-dev\\qt\\Lib\\site-packages\\transformers\\tokenization_utils_base.py:1601: FutureWarning: `clean_up_tokenization_spaces` was not set. It will be set to `True` by default. This behavior will be depracted in transformers v4.45, and will be then set to `False` by default. For more details check this issue: https://github.com/huggingface/transformers/issues/31884\n",
      "  warnings.warn(\n"
     ]
    },
    {
     "name": "stdout",
     "output_type": "stream",
     "text": [
      "Encoding text...\n",
      "train pos:  10006\n",
      "train neg:  9994\n",
      "test pos:  2494\n",
      "test neg:  2506\n",
      "++ There will be 6 transformer blocks\n",
      "The model has 3,417 trainable parameters\n"
     ]
    },
    {
     "name": "stderr",
     "output_type": "stream",
     "text": [
      "Epoch   1/20: 100%|██████████| 20000/20000 [00:18<00:00, 1089.73batch/s, Epoch = 0m 18s, Loss = 0.6939|0.6447, Acc = 0.532|0.642, AUC = 54.711|68.678]\n",
      "Epoch   2/20: 100%|██████████| 20000/20000 [00:18<00:00, 1059.77batch/s, Epoch = 0m 18s, Loss = 0.6646|0.6402, Acc = 0.615|0.654, AUC = 63.634|69.317]\n",
      "Epoch   3/20: 100%|██████████| 20000/20000 [00:18<00:00, 1086.92batch/s, Epoch = 0m 18s, Loss = 0.6513|0.6362, Acc = 0.638|0.658, AUC = 66.129|70.399]\n",
      "Epoch   4/20: 100%|██████████| 20000/20000 [00:17<00:00, 1117.36batch/s, Epoch = 0m 17s, Loss = 0.6457|0.6385, Acc = 0.647|0.652, AUC = 67.019|70.499]\n",
      "Epoch   5/20: 100%|██████████| 20000/20000 [00:19<00:00, 1041.47batch/s, Epoch = 0m 19s, Loss = 0.6394|0.6204, Acc = 0.655|0.676, AUC = 67.996|72.559]\n",
      "Epoch   6/20: 100%|██████████| 20000/20000 [00:16<00:00, 1186.59batch/s, Epoch = 0m 16s, Loss = 0.6338|0.6207, Acc = 0.662|0.676, AUC = 68.798|72.331]\n",
      "Epoch   7/20: 100%|██████████| 20000/20000 [00:16<00:00, 1197.16batch/s, Epoch = 0m 16s, Loss = 0.6365|0.6207, Acc = 0.661|0.678, AUC = 68.282|72.652]\n",
      "Epoch   8/20: 100%|██████████| 20000/20000 [00:17<00:00, 1163.82batch/s, Epoch = 0m 17s, Loss = 0.6342|0.6187, Acc = 0.663|0.679, AUC = 68.598|72.630]\n",
      "Epoch   9/20: 100%|██████████| 20000/20000 [00:17<00:00, 1114.19batch/s, Epoch = 0m 17s, Loss = 0.6344|0.6199, Acc = 0.662|0.677, AUC = 68.783|72.868]\n",
      "Epoch  10/20: 100%|██████████| 20000/20000 [00:16<00:00, 1192.92batch/s, Epoch = 0m 16s, Loss = 0.6313|0.6167, Acc = 0.665|0.681, AUC = 69.309|72.804]\n",
      "Epoch  11/20: 100%|██████████| 20000/20000 [00:16<00:00, 1183.00batch/s, Epoch = 0m 16s, Loss = 0.6340|0.6164, Acc = 0.660|0.681, AUC = 68.808|72.833]\n",
      "Epoch  12/20: 100%|██████████| 20000/20000 [00:16<00:00, 1177.95batch/s, Epoch = 0m 16s, Loss = 0.6318|0.6164, Acc = 0.665|0.681, AUC = 69.159|72.861]\n",
      "Epoch  13/20: 100%|██████████| 20000/20000 [00:16<00:00, 1187.79batch/s, Epoch = 0m 16s, Loss = 0.6353|0.6167, Acc = 0.658|0.680, AUC = 68.638|72.861]\n",
      "Epoch  14/20: 100%|██████████| 20000/20000 [00:19<00:00, 1035.32batch/s, Epoch = 0m 19s, Loss = 0.6319|0.6170, Acc = 0.663|0.680, AUC = 69.252|72.882]\n",
      "Epoch  15/20: 100%|██████████| 20000/20000 [00:19<00:00, 1022.77batch/s, Epoch = 0m 19s, Loss = 0.6330|0.6160, Acc = 0.662|0.680, AUC = 69.059|72.910]\n",
      "Epoch  16/20: 100%|██████████| 20000/20000 [00:17<00:00, 1144.12batch/s, Epoch = 0m 17s, Loss = 0.6339|0.6170, Acc = 0.661|0.679, AUC = 68.968|72.909]\n",
      "Epoch  17/20: 100%|██████████| 20000/20000 [00:16<00:00, 1179.17batch/s, Epoch = 0m 16s, Loss = 0.6347|0.6175, Acc = 0.660|0.678, AUC = 68.827|72.910]\n",
      "Epoch  18/20: 100%|██████████| 20000/20000 [00:17<00:00, 1125.59batch/s, Epoch = 0m 17s, Loss = 0.6326|0.6171, Acc = 0.661|0.679, AUC = 69.192|72.910]\n",
      "Epoch  19/20: 100%|██████████| 20000/20000 [00:16<00:00, 1215.81batch/s, Epoch = 0m 16s, Loss = 0.6324|0.6160, Acc = 0.663|0.680, AUC = 69.036|72.911]\n",
      "Epoch  20/20: 100%|██████████| 20000/20000 [00:17<00:00, 1167.44batch/s, Epoch = 0m 17s, Loss = 0.6297|0.6163, Acc = 0.666|0.680, AUC = 69.623|72.912]"
     ]
    },
    {
     "name": "stdout",
     "output_type": "stream",
     "text": [
      "TOTAL TIME = 353.62s\n",
      "BEST ACC = 0.68% AT EPOCH 10\n",
      "BEST AUC = 72.91 AT EPOCH 20\n"
     ]
    },
    {
     "name": "stderr",
     "output_type": "stream",
     "text": [
      "\n"
     ]
    }
   ],
   "source": [
    "train_loss, train_acc, test_loss, test_acc, train_auc, test_auc = main()"
   ]
  },
  {
   "cell_type": "markdown",
   "metadata": {},
   "source": [
    "## Evaluation\n"
   ]
  },
  {
   "cell_type": "code",
   "execution_count": 22,
   "metadata": {},
   "outputs": [
    {
     "data": {
      "image/png": "[encoded data removed]",
      "text/plain": [
       "<Figure size 1200x500 with 2 Axes>"
      ]
     },
     "metadata": {},
     "output_type": "display_data"
    }
   ],
   "source": [
    "import matplotlib.pyplot as plt\n",
    "import seaborn as sns\n",
    "\n",
    "sns.set_theme()\n",
    "\n",
    "# plt.style.use(\"classic\")\n",
    "# plt.style.use(\"dark_background\")\n",
    "\n",
    "epochs = range(1, len(train_loss) + 1)\n",
    "\n",
    "plt.figure(figsize=(12, 5))\n",
    "plt.subplot(1, 2, 1)\n",
    "plt.plot(epochs, train_loss, \"b-\", label=\"Train Loss\")\n",
    "plt.plot(epochs, test_loss, \"r-\", label=\"Test Loss\")\n",
    "plt.title(\"Train and Test Loss\")\n",
    "plt.xlabel(\"Epochs\")\n",
    "plt.ylabel(\"Loss\")\n",
    "plt.legend()\n",
    "\n",
    "plt.subplot(1, 2, 2)\n",
    "plt.plot(epochs, train_acc, \"b-\", label=\"Train Accuracy\")\n",
    "plt.plot(epochs, test_acc, \"r-\", label=\"Test Accuracy\")\n",
    "plt.title(\"Train and Test Accuracy\")\n",
    "plt.xlabel(\"Epochs\")\n",
    "plt.ylabel(\"Accuracy\")\n",
    "plt.legend()\n",
    "\n",
    "plt.tight_layout()\n",
    "plt.show()"
   ]
  },
  {
   "cell_type": "code",
   "execution_count": 23,
   "metadata": {},
   "outputs": [
    {
     "data": {
      "image/png": "[encoded data removed]",
      "text/plain": [
       "<Figure size 640x480 with 1 Axes>"
      ]
     },
     "metadata": {},
     "output_type": "display_data"
    }
   ],
   "source": [
    "plt.plot(epochs, train_auc, \"b-\", label=\"Train\")\n",
    "plt.plot(epochs, test_auc, \"r-\", label=\"Test\")\n",
    "plt.title(\"Train and Test AUC\")\n",
    "plt.xlabel(\"Epochs\")\n",
    "plt.ylabel(\"AUC\")\n",
    "plt.legend()\n",
    "plt.show()"
   ]
  },
  {
   "cell_type": "code",
   "execution_count": 24,
   "metadata": {},
   "outputs": [],
   "source": [
    "# fig, ax = plt.subplots(figsize=(4, 3.5))\n",
    "# # ax.plot(classical_qg_metrics['train_aucs'], label='Classical Training', color='orange', linestyle='--')\n",
    "# # ax.plot(quantum_qg_metrics['train_aucs'], label='Quantum Training', color='purple', linestyle='--')\n",
    "# # ax.plot(classical_qg_metrics['val_aucs'], label='Classical Validation', color='orange')\n",
    "# # ax.plot(quantum_qg_metrics['val_aucs'], label='Quantum Validation', color='purple')\n",
    "# ax.plot(epochs, train_auc, label=\"Classical Training\", color=\"purple\")\n",
    "# ax.plot(epochs, test_auc, label=\"Classical Validation\", color=\"purple\")\n",
    "# ax.set_xlabel(\"Epoch\")\n",
    "# ax.set_ylabel(\"AUC\")\n",
    "# ax.legend()\n",
    "# ax.grid()\n",
    "# ax.set_ylim(0.5, 1)"
   ]
  }
 ],
 "metadata": {
  "kernelspec": {
   "display_name": "quantum",
   "language": "python",
   "name": "python3"
  },
  "language_info": {
   "codemirror_mode": {
    "name": "ipython",
    "version": 3
   },
   "file_extension": ".py",
   "mimetype": "text/x-python",
   "name": "python",
   "nbconvert_exporter": "python",
   "pygments_lexer": "ipython3",
   "version": "3.11.8"
  }
 },
 "nbformat": 4,
 "nbformat_minor": 2
}
