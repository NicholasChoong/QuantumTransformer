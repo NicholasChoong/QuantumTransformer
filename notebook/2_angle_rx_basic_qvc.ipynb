{
 "cells": [
  {
   "cell_type": "markdown",
   "metadata": {},
   "source": [
    "# Classical Transformer\n"
   ]
  },
  {
   "cell_type": "code",
   "execution_count": 1,
   "metadata": {},
   "outputs": [],
   "source": [
    "import os\n",
    "import math\n",
    "import random\n",
    "from typing import Callable, Iterable\n",
    "from copy import deepcopy\n",
    "import numpy as np\n",
    "from time import time\n",
    "\n",
    "from tqdm import tqdm\n",
    "\n",
    "from sklearn.metrics import roc_auc_score\n",
    "\n",
    "import torch\n",
    "import torch.nn as nn\n",
    "from torch import Tensor, device\n",
    "from torch.nn.utils.rnn import pad_sequence\n",
    "from torch.utils.data import DataLoader\n",
    "from torch.nn.modules.loss import _Loss\n",
    "from torch.optim import Optimizer\n",
    "\n",
    "from torchtext.vocab import Vocab\n",
    "from torchtext.datasets import IMDB\n",
    "from torchtext.data.utils import get_tokenizer\n",
    "from torchtext.data.functional import to_map_style_dataset\n",
    "from torchtext.vocab import build_vocab_from_iterator"
   ]
  },
  {
   "cell_type": "markdown",
   "metadata": {},
   "source": [
    "## Setting up environment\n"
   ]
  },
  {
   "cell_type": "code",
   "execution_count": 2,
   "metadata": {},
   "outputs": [
    {
     "name": "stdout",
     "output_type": "stream",
     "text": [
      "mps\n"
     ]
    }
   ],
   "source": [
    "dev = (\n",
    "    torch.device(\"mps\")\n",
    "    if torch.backends.mps.is_available()\n",
    "    else torch.device(\"cuda\") if torch.cuda.is_available() else torch.device(\"cpu\")\n",
    ")\n",
    "\n",
    "print(dev)\n",
    "\n",
    "seed = 42\n",
    "\n",
    "os.environ[\"PYTHONHASHSEED\"] = str(seed)\n",
    "random.seed(seed)\n",
    "np.random.seed(seed)\n",
    "\n",
    "torch.manual_seed(seed)\n",
    "torch.cuda.manual_seed(seed)\n",
    "torch.backends.cudnn.deterministic = True\n",
    "torch.backends.cudnn.benchmark = False"
   ]
  },
  {
   "cell_type": "markdown",
   "metadata": {},
   "source": [
    "## Helper functions\n"
   ]
  },
  {
   "cell_type": "markdown",
   "metadata": {},
   "source": [
    "### Binary Accuracy\n"
   ]
  },
  {
   "cell_type": "code",
   "execution_count": 3,
   "metadata": {},
   "outputs": [],
   "source": [
    "def binary_accuracy(preds: Tensor, y: Tensor):\n",
    "    \"\"\"\n",
    "    Returns accuracy per batch, i.e. if you get 8/10 right, this returns 0.8, NOT 8\n",
    "    \"\"\"\n",
    "    # round predictions to the closest integer\n",
    "    rounded_preds = preds.sigmoid().round()\n",
    "    correct = (rounded_preds == y).float()  # convert into float for division\n",
    "    acc = correct.sum() / len(correct)\n",
    "    return acc"
   ]
  },
  {
   "cell_type": "markdown",
   "metadata": {},
   "source": [
    "### Clone Model\n"
   ]
  },
  {
   "cell_type": "code",
   "execution_count": 4,
   "metadata": {},
   "outputs": [],
   "source": [
    "def get_clones(module: nn.Module, N: int):\n",
    "    return nn.ModuleList([deepcopy(module) for _ in range(N)])"
   ]
  },
  {
   "cell_type": "markdown",
   "metadata": {},
   "source": [
    "### Data Loader\n"
   ]
  },
  {
   "cell_type": "code",
   "execution_count": 5,
   "metadata": {},
   "outputs": [],
   "source": [
    "def yield_tokens(data: list[tuple[int, str]], tokenizer: Callable[[str], list[str]]):\n",
    "    for label, text in data:\n",
    "        yield tokenizer(text.lower())\n",
    "\n",
    "\n",
    "def text_transform(text: str, vocab: Vocab, tokenizer: Callable[[str], list[str]]):\n",
    "    return vocab([token for token in tokenizer(text.lower())])\n",
    "\n",
    "\n",
    "def label_transform(label: int):\n",
    "    return torch.tensor(1.0 if label == 2 else 0.0, dtype=torch.float)\n",
    "\n",
    "\n",
    "def collate_batch(\n",
    "    batch: Iterable[tuple[int, str]],\n",
    "    vocab: Vocab,\n",
    "    tokenizer: Callable[[str], list[str]],\n",
    "):\n",
    "    pad_idx = vocab[\"<pad>\"]\n",
    "    label_list, text_list = [], []\n",
    "\n",
    "    for label, text in batch:\n",
    "        label_list.append(label_transform(label))\n",
    "        processed_text = torch.tensor(text_transform(text, vocab, tokenizer))\n",
    "        text_list.append(processed_text)\n",
    "    return torch.tensor(label_list), pad_sequence(text_list, padding_value=pad_idx)\n",
    "\n",
    "\n",
    "def batch_sampler(data: list, batch_size: int, tokenizer: Callable[[str], list[str]]):\n",
    "    indices = [(i, len(tokenizer(s[1]))) for i, s in enumerate(data)]\n",
    "    random.shuffle(indices)\n",
    "    pooled_indices = []\n",
    "    # create pool of indices with similar lengths\n",
    "    for i in range(0, len(indices), batch_size * 100):\n",
    "        pooled_indices.extend(\n",
    "            sorted(indices[i : i + batch_size * 100], key=lambda x: x[1])\n",
    "        )\n",
    "\n",
    "    pooled_indices = [x[0] for x in pooled_indices]\n",
    "\n",
    "    # yield indices for current batch\n",
    "    for i in range(0, len(pooled_indices), batch_size):\n",
    "        yield pooled_indices[i : i + batch_size]"
   ]
  },
  {
   "cell_type": "markdown",
   "metadata": {},
   "source": [
    "### Parameter Count\n"
   ]
  },
  {
   "cell_type": "code",
   "execution_count": 6,
   "metadata": {},
   "outputs": [],
   "source": [
    "def count_parameters(model: nn.Module):\n",
    "    return sum(p.numel() for p in model.parameters() if p.requires_grad)"
   ]
  },
  {
   "cell_type": "markdown",
   "metadata": {},
   "source": [
    "### Epoch Time\n"
   ]
  },
  {
   "cell_type": "code",
   "execution_count": 7,
   "metadata": {},
   "outputs": [],
   "source": [
    "def epoch_time(start_time: float, end_time: float):\n",
    "    elapsed_time = end_time - start_time\n",
    "    elapsed_mins = int(elapsed_time / 60)\n",
    "    elapsed_secs = int(elapsed_time - (elapsed_mins * 60))\n",
    "    return elapsed_mins, elapsed_secs"
   ]
  },
  {
   "cell_type": "markdown",
   "metadata": {},
   "source": [
    "### Train\n"
   ]
  },
  {
   "cell_type": "code",
   "execution_count": 8,
   "metadata": {},
   "outputs": [],
   "source": [
    "def train(\n",
    "    model: nn.Module,\n",
    "    dataloader: DataLoader,\n",
    "    optimizer: Optimizer,\n",
    "    criterion: _Loss,\n",
    "    max_seq_len: int,\n",
    "    progress_bar,\n",
    "):\n",
    "    epoch_loss = []\n",
    "    epoch_acc = []\n",
    "    epoch_true = []\n",
    "    epoch_pred = []\n",
    "\n",
    "    model.train()\n",
    "    for i, (lab, text) in enumerate(dataloader):\n",
    "\n",
    "        optimizer.zero_grad()\n",
    "        inputs = torch.LongTensor(text.T).to(dev)\n",
    "        if inputs.size(1) > max_seq_len:\n",
    "            inputs = inputs[:, :max_seq_len]\n",
    "        # model.to(dev)\n",
    "        predictions = model(inputs).squeeze(1)\n",
    "\n",
    "        label = lab.to(dev)\n",
    "        # label = label.unsqueeze(1)\n",
    "        loss = criterion(predictions, label)\n",
    "        # loss = F.nll_loss(predictions, label)\n",
    "        acc = binary_accuracy(predictions, label)\n",
    "\n",
    "        loss.backward()\n",
    "        optimizer.step()\n",
    "\n",
    "        epoch_loss.append(loss.item())\n",
    "        epoch_acc.append(acc.item())\n",
    "        epoch_true.extend(label.tolist())\n",
    "        epoch_pred.extend(predictions.sigmoid().tolist())\n",
    "\n",
    "        progress_bar.update(dataloader.batch_size)\n",
    "\n",
    "    # print(epoch_loss, epoch_acc, len(dataloader.dataset))\n",
    "\n",
    "    epoch_auc = 100.0 * roc_auc_score(epoch_true, epoch_pred, multi_class=\"ovr\")\n",
    "    # divide the total loss by the total number of batches per epoch\n",
    "    return np.mean(epoch_loss), np.mean(epoch_acc), epoch_auc"
   ]
  },
  {
   "cell_type": "markdown",
   "metadata": {},
   "source": [
    "### Evaluate\n"
   ]
  },
  {
   "cell_type": "code",
   "execution_count": 9,
   "metadata": {},
   "outputs": [],
   "source": [
    "def evaluate(\n",
    "    model: nn.Module, dataloader: DataLoader, criterion: _Loss, max_seq_len: int\n",
    "):\n",
    "\n",
    "    epoch_loss = []\n",
    "    epoch_acc = []\n",
    "    epoch_true = []\n",
    "    epoch_pred = []\n",
    "\n",
    "    model.eval()\n",
    "\n",
    "    with torch.no_grad():\n",
    "        for i, (lab, text) in enumerate(dataloader):\n",
    "            inputs = torch.LongTensor(text.T).to(dev)\n",
    "            if inputs.size(1) > max_seq_len:\n",
    "                inputs = inputs[:, :max_seq_len]\n",
    "\n",
    "            predictions = model(inputs).squeeze(1)\n",
    "            label = lab.to(dev)\n",
    "\n",
    "            # label = label.unsqueeze(1)\n",
    "\n",
    "            loss = criterion(predictions, label)\n",
    "            # loss = F.nll_loss(predictions, label)\n",
    "\n",
    "            acc = binary_accuracy(predictions, label)\n",
    "\n",
    "            epoch_loss.append(loss.item())\n",
    "            epoch_acc.append(acc.item())\n",
    "            epoch_true.extend(label.tolist())\n",
    "            epoch_pred.extend(predictions.sigmoid().tolist())\n",
    "\n",
    "    epoch_auc = 100.0 * roc_auc_score(epoch_true, epoch_pred, multi_class=\"ovr\")\n",
    "\n",
    "    # divide the total loss by the total number of batches per epoch\n",
    "\n",
    "    return np.mean(epoch_loss), np.mean(epoch_acc), epoch_auc"
   ]
  },
  {
   "cell_type": "markdown",
   "metadata": {},
   "source": [
    "## Model\n"
   ]
  },
  {
   "cell_type": "markdown",
   "metadata": {},
   "source": [
    "### Positional Encoding\n"
   ]
  },
  {
   "cell_type": "code",
   "execution_count": 10,
   "metadata": {},
   "outputs": [],
   "source": [
    "class PositionalEncoder(nn.Module):\n",
    "\n",
    "    def __init__(self, d_model: int, dropout=0.1, max_len=512, device=device(\"cpu\")):\n",
    "        super().__init__()\n",
    "        self.dropout = nn.Dropout(p=dropout)\n",
    "\n",
    "        position = torch.arange(max_len).unsqueeze(1)\n",
    "        div_term = torch.exp(\n",
    "            torch.arange(0, d_model, 2) * (-math.log(10000.0) / d_model)\n",
    "        )\n",
    "        pe = torch.zeros(max_len, 1, d_model, device=device)\n",
    "        pe[:, 0, 0::2] = torch.sin(position * div_term)\n",
    "        pe[:, 0, 1::2] = torch.cos(position * div_term)\n",
    "        self.register_buffer(\"pe\", pe)\n",
    "\n",
    "    def forward(self, x: Tensor) -> Tensor:\n",
    "        \"\"\"\n",
    "        Arguments:\n",
    "            x: Tensor, shape ``[seq_len, batch_size, embedding_dim]``\n",
    "        \"\"\"\n",
    "        seq_len = x.size(1)\n",
    "        x = x + self.pe[: x.size(0)]\n",
    "        return self.dropout(x)"
   ]
  },
  {
   "cell_type": "markdown",
   "metadata": {},
   "source": [
    "### Attention\n"
   ]
  },
  {
   "cell_type": "code",
   "execution_count": 11,
   "metadata": {},
   "outputs": [],
   "source": [
    "def attention(\n",
    "    query: Tensor,\n",
    "    key: Tensor,\n",
    "    value: Tensor,\n",
    "    dropout: nn.Dropout | None = None,\n",
    "):\n",
    "    \"\"\"Scaled Dot Product Attention\"\"\"\n",
    "    dim_k = query.size(-1)\n",
    "    scaled = (query @ key.transpose(-2, -1)) / math.sqrt(dim_k)\n",
    "    scores = scaled.softmax(-1)\n",
    "    if dropout is not None:\n",
    "        scores: Tensor = dropout(scores)\n",
    "    attn = scores @ value\n",
    "    return attn, scores"
   ]
  },
  {
   "cell_type": "markdown",
   "metadata": {},
   "source": [
    "### Quantum Multi-Head Attention\n"
   ]
  },
  {
   "cell_type": "code",
   "execution_count": 12,
   "metadata": {},
   "outputs": [
    {
     "name": "stderr",
     "output_type": "stream",
     "text": [
      "Please first ``pip install -U qiskit`` to enable related functionality in translation module\n",
      "Please first ``pip install -U cirq`` to enable related functionality in translation module\n"
     ]
    }
   ],
   "source": [
    "from typing import Callable\n",
    "\n",
    "import tensorcircuit as tc\n",
    "import tensorflow as tf\n",
    "\n",
    "K = tc.set_backend(\"tensorflow\")\n",
    "\n",
    "\n",
    "def angle_embedding(c: tc.Circuit, inputs):\n",
    "    num_qubits = inputs.shape[-1]\n",
    "\n",
    "    for j in range(num_qubits):\n",
    "        c.rx(j, theta=inputs[j])\n",
    "\n",
    "\n",
    "def basic_vqc(c: tc.Circuit, inputs, weights):\n",
    "    num_qubits = inputs.shape[-1]\n",
    "    num_qlayers = weights.shape[-2]\n",
    "\n",
    "    for i in range(num_qlayers):\n",
    "        for j in range(num_qubits):\n",
    "            c.rx(j, theta=weights[i, j])\n",
    "        if num_qubits == 2:\n",
    "            c.cnot(0, 1)\n",
    "        elif num_qubits > 2:\n",
    "            for j in range(num_qubits):\n",
    "                c.cnot(j, (j + 1) % num_qubits)\n",
    "\n",
    "\n",
    "def get_quantum_layer_circuit(\n",
    "    inputs, weights, embedding: Callable = angle_embedding, vqc: Callable = basic_vqc\n",
    "):\n",
    "    \"\"\"\n",
    "    Equivalent to the following PennyLane circuit:\n",
    "        def circuit(inputs, weights):\n",
    "            qml.templates.AngleEmbedding(inputs, wires=range(num_qubits))\n",
    "            qml.templates.BasicEntanglerLayers(weights, wires=range(num_qubits))\n",
    "    \"\"\"\n",
    "\n",
    "    num_qubits = inputs.shape[-1]\n",
    "\n",
    "    c = tc.Circuit(num_qubits)\n",
    "    embedding(c, inputs)\n",
    "    vqc(c, inputs, weights)\n",
    "\n",
    "    return c\n",
    "\n",
    "\n",
    "def get_circuit(\n",
    "    embedding: Callable = angle_embedding,\n",
    "    vqc: Callable = basic_vqc,\n",
    "    torch_interface: bool = False,\n",
    "):\n",
    "    # @tf.function(reduce_retracing=True)\n",
    "    def qpred(inputs, weights):\n",
    "        c = get_quantum_layer_circuit(inputs, weights, embedding, vqc)\n",
    "        return K.real(\n",
    "            tf.convert_to_tensor(\n",
    "                [c.expectation_ps(z=[i]) for i in range(weights.shape[1])]\n",
    "            )\n",
    "        )\n",
    "\n",
    "    qpred_batch = K.vmap(qpred, vectorized_argnums=0)\n",
    "    if torch_interface:\n",
    "        qpred_batch = tc.interfaces.torch_interface(qpred_batch, jit=True)\n",
    "\n",
    "    return qpred_batch"
   ]
  },
  {
   "cell_type": "code",
   "execution_count": 13,
   "metadata": {},
   "outputs": [],
   "source": [
    "class QuantumLayer(torch.nn.Module):\n",
    "    def __init__(self, num_qubits, num_qlayers=1, **_):\n",
    "        super().__init__()\n",
    "\n",
    "        self.weights = torch.nn.Parameter(\n",
    "            torch.nn.init.xavier_normal_(torch.empty(num_qlayers, num_qubits))\n",
    "        )\n",
    "        self.linear = get_circuit(torch_interface=True)\n",
    "\n",
    "    def forward(self, x):\n",
    "        shape = x.shape\n",
    "        x = x.reshape(-1, shape[-1])\n",
    "        x = self.linear(x, self.weights)\n",
    "        x = x.reshape(shape)\n",
    "        return x"
   ]
  },
  {
   "cell_type": "code",
   "execution_count": 14,
   "metadata": {},
   "outputs": [],
   "source": [
    "class MultiHeadedAttention(nn.Module):\n",
    "    def __init__(\n",
    "        self,\n",
    "        embed_dim: int,\n",
    "        num_heads: int,\n",
    "        dropout=0.1,\n",
    "        mask: Tensor | None = None,\n",
    "        use_bias=False,\n",
    "        n_qubits=4,\n",
    "        n_qlayers=1,\n",
    "    ):\n",
    "        super(MultiHeadedAttention, self).__init__()\n",
    "\n",
    "        self.embed_dim = embed_dim\n",
    "        self.num_heads = num_heads\n",
    "        self.mask = mask\n",
    "        # We assume dim_v always equals dim_k\n",
    "        self.dim_k = embed_dim // num_heads  # projection dimensions\n",
    "\n",
    "        print(f\"weight_shapes = (n_qlayers, n_qubits) = ({n_qlayers}, {n_qubits})\")\n",
    "\n",
    "        # The quantum layers for the query, key, and value projections\n",
    "        self.k_linear = QuantumLayer(n_qubits, n_qlayers)\n",
    "        self.q_linear = QuantumLayer(n_qubits, n_qlayers)\n",
    "        self.v_linear = QuantumLayer(n_qubits, n_qlayers)\n",
    "        # The quantum layer to combine the heads\n",
    "        self.combine_heads = QuantumLayer(n_qubits, n_qlayers)\n",
    "\n",
    "        self.attn_weights: Tensor | None = None\n",
    "        self.dropout = nn.Dropout(p=dropout)\n",
    "\n",
    "    def forward(self, query: Tensor, key: Tensor, value: Tensor):\n",
    "        batch_size, seq_len, embed_dim = query.size()\n",
    "        assert (\n",
    "            embed_dim == self.embed_dim\n",
    "        ), f\"Input embedding ({embed_dim}) does not match layer embedding size ({self.embed_dim})\"\n",
    "\n",
    "        Q, K, V = [\n",
    "            linear(x)\n",
    "            .reshape(batch_size, seq_len, self.num_heads, self.dim_k)\n",
    "            .transpose(1, 2)\n",
    "            for linear, x in zip(\n",
    "                [self.k_linear, self.q_linear, self.v_linear], [query, key, value]\n",
    "            )\n",
    "        ]\n",
    "\n",
    "        x: Tensor\n",
    "        x, self.attn_weights = attention(Q, K, V, dropout=self.dropout)\n",
    "        x = x.transpose(1, 2).reshape(batch_size, seq_len, embed_dim)\n",
    "\n",
    "        output = self.combine_heads(x)\n",
    "        return output"
   ]
  },
  {
   "cell_type": "markdown",
   "metadata": {},
   "source": [
    "### Quantum Feed-Forward Network\n"
   ]
  },
  {
   "cell_type": "code",
   "execution_count": 15,
   "metadata": {},
   "outputs": [],
   "source": [
    "class FeedForward(nn.Module):\n",
    "    \"\"\"\n",
    "    The x that is passed to the forward method is a tensor of shape (batch_size, sequence_length, embedding_dimension),\n",
    "    rather than a flattened version of it (with shape (batch_size, sequence_length * embedding_dimension)).\n",
    "    The (same) feed-forward layer applies to the last dimension only (the embedding dimension) for each batch and\n",
    "    for each position in the sequence, hence position-wise.\n",
    "    \"\"\"\n",
    "\n",
    "    def __init__(\n",
    "        self,\n",
    "        embed_dim: int,\n",
    "        n_qubits: int,\n",
    "        n_qlayers=1,\n",
    "        dropout=0.1,\n",
    "    ):\n",
    "        super(FeedForward, self).__init__()\n",
    "        self.ffn_dim = n_qubits\n",
    "\n",
    "        self.linear_1 = nn.Linear(embed_dim, self.ffn_dim)\n",
    "        self.linear_2 = nn.Linear(self.ffn_dim, embed_dim)\n",
    "        self.vqc = QuantumLayer(n_qubits, n_qlayers)\n",
    "        self.gelu = nn.GELU()\n",
    "        self.dropout = nn.Dropout(dropout)\n",
    "\n",
    "    def forward(self, x: Tensor):\n",
    "        batch_size, seq_len, embed_dim = x.size()\n",
    "        x = self.linear_1(x)\n",
    "        x = self.vqc(x)\n",
    "        x = self.gelu(x)\n",
    "        x = self.dropout(x)\n",
    "        x = self.linear_2(x)\n",
    "        return x"
   ]
  },
  {
   "cell_type": "markdown",
   "metadata": {},
   "source": [
    "### Quantum Encoder\n"
   ]
  },
  {
   "cell_type": "code",
   "execution_count": 16,
   "metadata": {},
   "outputs": [],
   "source": [
    "class Encoder(nn.Module):\n",
    "    def __init__(\n",
    "        self,\n",
    "        embed_dim: int,\n",
    "        num_heads: int,\n",
    "        ffn_dim: int,\n",
    "        dropout: float = 0.1,\n",
    "        mask: Tensor | None = None,\n",
    "        n_qubits_transformer=0,\n",
    "        n_qubits_ffn=0,\n",
    "        n_qlayers=1,\n",
    "    ):\n",
    "        super(Encoder, self).__init__()\n",
    "\n",
    "        self.n_qubits_transformer = n_qubits_transformer\n",
    "        self.n_qubits_ffn = n_qubits_ffn\n",
    "        self.n_qlayers = n_qlayers\n",
    "\n",
    "        self.attn = MultiHeadedAttention(\n",
    "            embed_dim=embed_dim,\n",
    "            num_heads=num_heads,\n",
    "            dropout=dropout,\n",
    "            n_qubits=n_qubits_transformer,\n",
    "            n_qlayers=n_qlayers,\n",
    "        )\n",
    "        self.norm1 = nn.LayerNorm(embed_dim)\n",
    "        self.dropout1 = nn.Dropout(dropout)\n",
    "\n",
    "        self.ffn = FeedForward(embed_dim, n_qubits_ffn, n_qlayers, dropout=dropout)\n",
    "\n",
    "        self.norm2 = nn.LayerNorm(embed_dim)\n",
    "        self.dropout2 = nn.Dropout(dropout)\n",
    "\n",
    "    def forward(self, x: Tensor):\n",
    "        attn_output = self.attn(x, x, x)\n",
    "        x = self.norm1(attn_output + x)\n",
    "        x = self.dropout1(x)\n",
    "\n",
    "        ff_output: Tensor = self.ffn(x)\n",
    "        x = self.norm2(ff_output + x)\n",
    "        x = self.dropout2(x)\n",
    "\n",
    "        return x"
   ]
  },
  {
   "cell_type": "markdown",
   "metadata": {},
   "source": [
    "### Text Classifier\n"
   ]
  },
  {
   "cell_type": "code",
   "execution_count": 17,
   "metadata": {},
   "outputs": [],
   "source": [
    "class TextClassifier(nn.Module):\n",
    "    def __init__(\n",
    "        self,\n",
    "        embed_dim: int,\n",
    "        num_heads: int,\n",
    "        num_blocks: int,\n",
    "        num_classes: int,\n",
    "        vocab_size: int,\n",
    "        max_seq_len: int,\n",
    "        ffn_dim=32,\n",
    "        dropout=0.1,\n",
    "        n_qubits_transformer=0,\n",
    "        n_qubits_ffn=0,\n",
    "        n_qlayers=1,\n",
    "    ):\n",
    "        super(TextClassifier, self).__init__()\n",
    "        self.embed_dim = embed_dim\n",
    "        self.num_heads = num_heads\n",
    "        self.num_blocks = num_blocks\n",
    "        self.num_classes = num_classes\n",
    "        self.vocab_size = vocab_size\n",
    "\n",
    "        self.token_embedding = nn.Embedding(vocab_size, embed_dim)\n",
    "        self.pos_embedding = PositionalEncoder(embed_dim, max_len=max_seq_len)\n",
    "\n",
    "        print(f\"++ There will be {num_blocks} transformer blocks\")\n",
    "\n",
    "        print(\n",
    "            f\"++ Transformer will use {n_qubits_transformer} qubits and {n_qlayers} q layers\"\n",
    "        )\n",
    "\n",
    "        print(f\"The feed-forward head will use {n_qubits_ffn} qubits\")\n",
    "\n",
    "        self.transformers = get_clones(\n",
    "            Encoder(\n",
    "                embed_dim,\n",
    "                num_heads,\n",
    "                ffn_dim,\n",
    "                n_qubits_transformer=n_qubits_transformer,\n",
    "                n_qubits_ffn=n_qubits_ffn,\n",
    "                n_qlayers=n_qlayers,\n",
    "            ),\n",
    "            num_blocks,\n",
    "        )\n",
    "\n",
    "        self.class_logits = nn.Linear(embed_dim, 1)\n",
    "        self.dropout = nn.Dropout(dropout)\n",
    "\n",
    "    def forward(self, x: Tensor):\n",
    "        tokens = self.token_embedding(x)\n",
    "        x = self.pos_embedding(tokens)\n",
    "\n",
    "        # # Normalise the data to range [0, 2*pi]\n",
    "        # min_val = x.min()\n",
    "        # max_val = x.max()\n",
    "\n",
    "        # x = (x - min_val) / (max_val - min_val) * (2 * torch.pi)\n",
    "\n",
    "        # print(f\"Minimum value: {x.min()}, Maximum value: {x.max()}\")\n",
    "\n",
    "        for transformer in self.transformers:\n",
    "            x = transformer(x)\n",
    "\n",
    "        x = x.mean(dim=1)  # global average pooling, works in 1D\n",
    "        x = self.dropout(x)\n",
    "        x = self.class_logits(x)\n",
    "        return x"
   ]
  },
  {
   "cell_type": "markdown",
   "metadata": {},
   "source": [
    "### Main Function\n"
   ]
  },
  {
   "cell_type": "code",
   "execution_count": 18,
   "metadata": {},
   "outputs": [],
   "source": [
    "from torch.optim.lr_scheduler import StepLR\n",
    "from sklearn.model_selection import train_test_split\n",
    "\n",
    "\n",
    "def main(\n",
    "    max_seq_len=128,\n",
    "    batch_size=32,\n",
    "    total_size=3200,\n",
    "    n_epochs=30,\n",
    "    lr=0.001,\n",
    "    embed_dim=8,\n",
    "    num_heads=2,\n",
    "    num_blocks=2,\n",
    "    num_classes=2,\n",
    "    vocab_size=50000,\n",
    "    ffn_dim=16,\n",
    "    n_qubits_transformer=0,\n",
    "    n_qubits_ffn=0,\n",
    "    n_qlayers=0,\n",
    "    dropout_rate=0.1,\n",
    "):\n",
    "\n",
    "    SAVE = False\n",
    "    if SAVE:\n",
    "        save_dir = (\n",
    "            f\".models_{n_epochs}_{n_qubits_transformer}_{n_qubits_ffn}_{n_qlayers}\"\n",
    "        )\n",
    "        save_path = os.path.join(save_dir, \"model_and_metrics_epoch_{}.pt\")\n",
    "        os.makedirs(save_dir, exist_ok=True)\n",
    "\n",
    "    # train_iter = IMDB(root=\"./.datatext\", split=\"train\")\n",
    "    # test_iter = IMDB(root=\"./.datatext\", split=\"test\")\n",
    "\n",
    "    # train_data = to_map_style_dataset(train_iter)\n",
    "    # test_data = to_map_style_dataset(test_iter)\n",
    "\n",
    "    size = total_size\n",
    "\n",
    "    # test_data = np.array(test_data)[\n",
    "    #     np.random.choice(len(test_data), size=size, replace=False)\n",
    "    # ].tolist()\n",
    "\n",
    "    train_iter = IMDB(root=\"./.datatext\", split=\"train\")\n",
    "\n",
    "    train_data = to_map_style_dataset(train_iter)\n",
    "    train_data = np.array(train_data)[\n",
    "        np.random.choice(len(train_data), size=size, replace=False)\n",
    "    ].tolist()\n",
    "\n",
    "    train_data, test_data = train_test_split(train_data, test_size=0.2, random_state=42)\n",
    "\n",
    "    train_data = [(int(label), text) for label, text in train_data]\n",
    "    test_data = [(int(label), text) for label, text in test_data]\n",
    "\n",
    "    print(\"pos: \", len([label for label, text in train_data if label == 1]))\n",
    "    print(\"neg: \", len([label for label, text in train_data if label == 2]))\n",
    "\n",
    "    tokenizer = get_tokenizer(\"basic_english\")\n",
    "    vocab = build_vocab_from_iterator(\n",
    "        yield_tokens(train_data, tokenizer),\n",
    "        specials=[\"<unk>\", \"<pad>\"],\n",
    "        max_tokens=vocab_size,\n",
    "    )\n",
    "    vocab.set_default_index(vocab[\"<unk>\"])\n",
    "\n",
    "    train_loader = DataLoader(\n",
    "        train_data,  # type: ignore\n",
    "        batch_size=batch_size,\n",
    "        shuffle=True,\n",
    "        collate_fn=lambda batch: collate_batch(batch, vocab, tokenizer),\n",
    "    )\n",
    "    test_loader = DataLoader(\n",
    "        test_data,  # type: ignore\n",
    "        batch_size=batch_size,\n",
    "        shuffle=True,\n",
    "        collate_fn=lambda batch: collate_batch(batch, vocab, tokenizer),\n",
    "    )\n",
    "\n",
    "    model = TextClassifier(\n",
    "        embed_dim=embed_dim,\n",
    "        num_heads=num_heads,\n",
    "        num_blocks=num_blocks,\n",
    "        num_classes=num_classes,\n",
    "        vocab_size=vocab_size,\n",
    "        ffn_dim=ffn_dim,\n",
    "        n_qubits_transformer=n_qubits_transformer,\n",
    "        n_qubits_ffn=n_qubits_ffn,\n",
    "        n_qlayers=n_qlayers,\n",
    "        dropout=dropout_rate,\n",
    "        max_seq_len=max_seq_len,\n",
    "    )\n",
    "\n",
    "    print(f\"The model has {count_parameters(model):,} trainable parameters\")\n",
    "    start_time = time()\n",
    "\n",
    "    model.to(dev)\n",
    "\n",
    "    optimizer = torch.optim.Adam(lr=lr, params=model.parameters())\n",
    "    criterion = torch.nn.BCEWithLogitsLoss()  # logits -> sigmoid -> loss\n",
    "    scheduler = StepLR(optimizer, step_size=5, gamma=0.1)\n",
    "\n",
    "    # training loop\n",
    "    best_test_loss = float(\"inf\")\n",
    "    best_test_acc, best_epoch_acc = 0.0, 0\n",
    "    best_test_auc, best_epoch_auc = 0.0, 0\n",
    "    train_loss_list, train_acc_list, test_loss_list, test_acc_list = [], [], [], []\n",
    "    train_auc_list, test_auc_list = [], []\n",
    "    for iepoch in range(n_epochs):\n",
    "        with tqdm(\n",
    "            total=len(train_loader.dataset),\n",
    "            desc=f\"Epoch {iepoch+1:3}/{n_epochs}\",\n",
    "            unit=\"batch\",\n",
    "            bar_format=\"{l_bar}{bar:10}{r_bar}{bar:-10b}\",\n",
    "            # position=0,\n",
    "            # leave=True,\n",
    "        ) as progress_bar:\n",
    "            operation_start_time = time()\n",
    "\n",
    "            train_loss, train_acc, train_auc = train(\n",
    "                model, train_loader, optimizer, criterion, max_seq_len, progress_bar\n",
    "            )\n",
    "\n",
    "            # scheduler.step()\n",
    "\n",
    "            test_loss, test_acc, test_auc = evaluate(\n",
    "                model, test_loader, criterion, max_seq_len\n",
    "            )\n",
    "\n",
    "            end_time = time()\n",
    "\n",
    "            epoch_mins, epoch_secs = epoch_time(operation_start_time, end_time)\n",
    "\n",
    "            train_loss_list.append(train_loss)\n",
    "            train_acc_list.append(train_acc)\n",
    "            test_loss_list.append(test_loss)\n",
    "            test_acc_list.append(test_acc)\n",
    "            train_auc_list.append(train_auc)\n",
    "            test_auc_list.append(test_auc)\n",
    "\n",
    "            progress_bar.set_postfix_str(\n",
    "                f\"Epoch = {epoch_mins}m {epoch_secs}s, Loss = {train_loss:.4f}|{test_loss:.4f}, Acc = {train_acc:.3f}|{test_acc:.3f}, AUC = {train_auc:.3f}|{test_auc:.3f}\"\n",
    "            )\n",
    "            if test_acc > best_test_acc:\n",
    "                best_test_acc = test_acc\n",
    "                best_epoch_acc = iepoch + 1\n",
    "            if test_auc > best_test_auc:\n",
    "                best_test_auc = test_auc\n",
    "                best_epoch_auc = iepoch + 1\n",
    "\n",
    "            if SAVE:\n",
    "                torch.save(\n",
    "                    {\n",
    "                        \"epoch\": iepoch + 1,\n",
    "                        \"model_state_dict\": model.state_dict(),\n",
    "                        \"optimizer_state_dict\": optimizer.state_dict(),\n",
    "                        \"scheduler_state_dict\": scheduler.state_dict(),\n",
    "                        \"train_loss\": train_loss_list,\n",
    "                        \"train_acc\": train_acc_list,\n",
    "                        \"train_auc\": train_auc_list,\n",
    "                        \"test_loss\": test_loss_list,\n",
    "                        \"test_acc\": test_acc_list,\n",
    "                        \"test_auc\": test_auc_list,\n",
    "                    },\n",
    "                    save_path.format(iepoch + 1),\n",
    "                )\n",
    "\n",
    "            # if test_loss < best_test_loss:\n",
    "            #     best_test_loss = test_loss\n",
    "            #     torch.save(model.state_dict(), \"model.pt\")\n",
    "\n",
    "    print(f\"TOTAL TIME = {time()-start_time:.2f}s\")\n",
    "    print(f\"BEST ACC = {best_test_acc:.2f}% AT EPOCH {best_epoch_acc}\")\n",
    "    print(f\"BEST AUC = {best_test_auc:.2f} AT EPOCH {best_epoch_auc}\")\n",
    "\n",
    "    return (\n",
    "        train_loss_list,\n",
    "        train_acc_list,\n",
    "        test_loss_list,\n",
    "        test_acc_list,\n",
    "        train_auc_list,\n",
    "        test_auc_list,\n",
    "    )"
   ]
  },
  {
   "cell_type": "markdown",
   "metadata": {},
   "source": [
    "## Training\n"
   ]
  },
  {
   "cell_type": "code",
   "execution_count": 19,
   "metadata": {},
   "outputs": [],
   "source": [
    "# qml.about()"
   ]
  },
  {
   "cell_type": "code",
   "execution_count": 20,
   "metadata": {},
   "outputs": [],
   "source": [
    "import gc\n",
    "\n",
    "gc.collect()\n",
    "\n",
    "torch.cuda.empty_cache()"
   ]
  },
  {
   "cell_type": "code",
   "execution_count": 21,
   "metadata": {},
   "outputs": [
    {
     "name": "stdout",
     "output_type": "stream",
     "text": [
      "pos:  1999\n",
      "neg:  2001\n",
      "++ There will be 2 transformer blocks\n",
      "++ Transformer will use 8 qubits and 3 q layers\n",
      "The feed-forward head will use 8 qubits\n",
      "weight_shapes = (n_qlayers, n_qubits) = (3, 8)\n",
      "The model has 400,601 trainable parameters\n"
     ]
    },
    {
     "name": "stderr",
     "output_type": "stream",
     "text": [
      "Epoch   1/30:   0%|          | 0/4000 [00:00<?, ?batch/s]"
     ]
    },
    {
     "name": "stdout",
     "output_type": "stream",
     "text": [
      "WARNING:tensorflow:5 out of the last 5 calls to <function TensorFlowBackend.vmap.<locals>.wrapper at 0x34117bc40> triggered tf.function retracing. Tracing is expensive and the excessive number of tracings could be due to (1) creating @tf.function repeatedly in a loop, (2) passing tensors with different shapes, (3) passing Python objects instead of tensors. For (1), please define your @tf.function outside of the loop. For (2), @tf.function has reduce_retracing=True option that can avoid unnecessary retracing. For (3), please refer to https://www.tensorflow.org/guide/function#controlling_retracing and https://www.tensorflow.org/api_docs/python/tf/function for  more details.\n",
      "WARNING:tensorflow:5 out of the last 5 calls to <function torch_interface.<locals>.vjp_fun at 0x34117a7a0> triggered tf.function retracing. Tracing is expensive and the excessive number of tracings could be due to (1) creating @tf.function repeatedly in a loop, (2) passing tensors with different shapes, (3) passing Python objects instead of tensors. For (1), please define your @tf.function outside of the loop. For (2), @tf.function has reduce_retracing=True option that can avoid unnecessary retracing. For (3), please refer to https://www.tensorflow.org/guide/function#controlling_retracing and https://www.tensorflow.org/api_docs/python/tf/function for  more details.\n"
     ]
    },
    {
     "name": "stderr",
     "output_type": "stream",
     "text": [
      "Epoch   1/30: 100%|██████████| 4000/4000 [05:20<00:00, 14.50batch/s]"
     ]
    },
    {
     "name": "stdout",
     "output_type": "stream",
     "text": [
      "WARNING:tensorflow:5 out of the last 1560 calls to <function TensorFlowBackend.vmap.<locals>.wrapper at 0x341179b20> triggered tf.function retracing. Tracing is expensive and the excessive number of tracings could be due to (1) creating @tf.function repeatedly in a loop, (2) passing tensors with different shapes, (3) passing Python objects instead of tensors. For (1), please define your @tf.function outside of the loop. For (2), @tf.function has reduce_retracing=True option that can avoid unnecessary retracing. For (3), please refer to https://www.tensorflow.org/guide/function#controlling_retracing and https://www.tensorflow.org/api_docs/python/tf/function for  more details.\n"
     ]
    },
    {
     "name": "stderr",
     "output_type": "stream",
     "text": [
      "Epoch   1/30: 100%|██████████| 4000/4000 [05:59<00:00, 11.13batch/s, Epoch = 5m 59s, Loss = 0.7026|0.6937, Acc = 0.504|0.508, AUC = 49.862|50.403]\n",
      "Epoch   2/30: 100%|██████████| 4000/4000 [04:55<00:00, 13.55batch/s, Epoch = 4m 55s, Loss = 0.6946|0.6968, Acc = 0.506|0.496, AUC = 50.996|49.458]\n",
      "Epoch   3/30: 100%|██████████| 4000/4000 [04:52<00:00, 13.68batch/s, Epoch = 4m 52s, Loss = 0.6932|0.6935, Acc = 0.512|0.512, AUC = 51.818|52.506]\n",
      "Epoch   4/30: 100%|██████████| 4000/4000 [10:02<00:00,  6.64batch/s, Epoch = 10m 2s, Loss = 0.6905|0.6887, Acc = 0.526|0.547, AUC = 53.987|56.216]\n",
      "Epoch   5/30: 100%|██████████| 4000/4000 [04:50<00:00, 13.75batch/s, Epoch = 4m 50s, Loss = 0.6890|0.6870, Acc = 0.539|0.540, AUC = 55.147|55.999]\n",
      "Epoch   6/30: 100%|██████████| 4000/4000 [2:12:04<00:00,  1.98s/batch, Epoch = 132m 4s, Loss = 0.6853|0.6838, Acc = 0.549|0.562, AUC = 57.320|60.629]\n",
      "Epoch   7/30: 100%|██████████| 4000/4000 [04:45<00:00, 13.99batch/s, Epoch = 4m 45s, Loss = 0.6777|0.6799, Acc = 0.585|0.557, AUC = 61.637|61.241]\n",
      "Epoch   8/30: 100%|██████████| 4000/4000 [04:50<00:00, 13.77batch/s, Epoch = 4m 50s, Loss = 0.6675|0.6937, Acc = 0.603|0.526, AUC = 64.646|64.465]\n",
      "Epoch   9/30: 100%|██████████| 4000/4000 [04:50<00:00, 13.77batch/s, Epoch = 4m 50s, Loss = 0.6596|0.6641, Acc = 0.621|0.620, AUC = 66.185|66.993]\n",
      "Epoch  10/30: 100%|██████████| 4000/4000 [04:50<00:00, 13.75batch/s, Epoch = 4m 50s, Loss = 0.6446|0.6632, Acc = 0.645|0.599, AUC = 69.425|67.049]\n",
      "Epoch  11/30: 100%|██████████| 4000/4000 [04:49<00:00, 13.80batch/s, Epoch = 4m 49s, Loss = 0.6286|0.6856, Acc = 0.660|0.578, AUC = 71.580|69.052]\n",
      "Epoch  12/30: 100%|██████████| 4000/4000 [04:49<00:00, 13.83batch/s, Epoch = 4m 49s, Loss = 0.6064|0.6773, Acc = 0.684|0.604, AUC = 74.939|70.867]\n",
      "Epoch  13/30: 100%|██████████| 4000/4000 [04:49<00:00, 13.80batch/s, Epoch = 4m 49s, Loss = 0.5894|0.6363, Acc = 0.695|0.626, AUC = 76.494|70.771]\n",
      "Epoch  14/30: 100%|██████████| 4000/4000 [04:51<00:00, 13.71batch/s, Epoch = 4m 51s, Loss = 0.5683|0.6634, Acc = 0.710|0.618, AUC = 78.303|72.189]\n",
      "Epoch  15/30: 100%|██████████| 4000/4000 [04:49<00:00, 13.81batch/s, Epoch = 4m 49s, Loss = 0.5513|0.6753, Acc = 0.723|0.624, AUC = 79.984|74.093]\n",
      "Epoch  16/30: 100%|██████████| 4000/4000 [04:50<00:00, 13.76batch/s, Epoch = 4m 50s, Loss = 0.5386|0.6392, Acc = 0.732|0.644, AUC = 80.750|74.702]\n",
      "Epoch  17/30: 100%|██████████| 4000/4000 [04:52<00:00, 13.66batch/s, Epoch = 4m 52s, Loss = 0.5287|0.6978, Acc = 0.741|0.622, AUC = 81.816|76.126]\n",
      "Epoch  18/30: 100%|██████████| 4000/4000 [04:50<00:00, 13.76batch/s, Epoch = 4m 50s, Loss = 0.5155|0.6765, Acc = 0.751|0.641, AUC = 82.716|76.483]\n",
      "Epoch  19/30: 100%|██████████| 4000/4000 [04:51<00:00, 13.71batch/s, Epoch = 4m 51s, Loss = 0.4940|0.6354, Acc = 0.754|0.662, AUC = 84.243|77.796]\n",
      "Epoch  20/30: 100%|██████████| 4000/4000 [04:59<00:00, 13.36batch/s, Epoch = 4m 59s, Loss = 0.4808|0.6392, Acc = 0.773|0.662, AUC = 85.344|77.657]\n",
      "Epoch  21/30: 100%|██████████| 4000/4000 [2:22:19<00:00,  2.13s/batch, Epoch = 142m 19s, Loss = 0.4716|0.6377, Acc = 0.774|0.667, AUC = 85.982|77.979]\n",
      "Epoch  22/30: 100%|██████████| 4000/4000 [8:18:53<00:00,  7.48s/batch, Epoch = 498m 53s, Loss = 0.4671|0.6469, Acc = 0.784|0.654, AUC = 86.313|78.650]\n",
      "Epoch  23/30: 100%|██████████| 4000/4000 [04:50<00:00, 13.79batch/s, Epoch = 4m 50s, Loss = 0.4512|0.6853, Acc = 0.789|0.654, AUC = 87.127|78.109]\n",
      "Epoch  24/30: 100%|██████████| 4000/4000 [04:49<00:00, 13.84batch/s, Epoch = 4m 49s, Loss = 0.4399|0.6228, Acc = 0.790|0.685, AUC = 87.811|79.688]\n",
      "Epoch  25/30: 100%|██████████| 4000/4000 [04:56<00:00, 13.51batch/s, Epoch = 4m 56s, Loss = 0.4312|0.6387, Acc = 0.802|0.678, AUC = 88.392|79.069]\n",
      "Epoch  26/30: 100%|██████████| 4000/4000 [04:55<00:00, 13.54batch/s, Epoch = 4m 55s, Loss = 0.4313|0.6677, Acc = 0.794|0.669, AUC = 88.272|80.900]\n",
      "Epoch  27/30: 100%|██████████| 4000/4000 [04:56<00:00, 13.48batch/s, Epoch = 4m 56s, Loss = 0.4157|0.6513, Acc = 0.811|0.679, AUC = 89.386|80.036]\n",
      "Epoch  28/30: 100%|██████████| 4000/4000 [04:42<00:00, 14.17batch/s, Epoch = 4m 42s, Loss = 0.4032|0.7852, Acc = 0.821|0.637, AUC = 90.074|80.904]\n",
      "Epoch  29/30: 100%|██████████| 4000/4000 [04:35<00:00, 14.50batch/s, Epoch = 4m 35s, Loss = 0.3938|0.6211, Acc = 0.826|0.700, AUC = 90.552|81.409]\n",
      "Epoch  30/30: 100%|██████████| 4000/4000 [04:50<00:00, 13.79batch/s, Epoch = 4m 50s, Loss = 0.3830|0.6505, Acc = 0.831|0.697, AUC = 90.958|81.047]"
     ]
    },
    {
     "name": "stdout",
     "output_type": "stream",
     "text": [
      "TOTAL TIME = 54629.22s\n",
      "BEST ACC = 0.70% AT EPOCH 29\n",
      "BEST AUC = 81.41 AT EPOCH 29\n"
     ]
    },
    {
     "name": "stderr",
     "output_type": "stream",
     "text": [
      "\n"
     ]
    }
   ],
   "source": [
    "train_loss, train_acc, test_loss, test_acc, train_auc, test_auc = main(\n",
    "    n_epochs=30,\n",
    "    embed_dim=8,\n",
    "    n_qubits_transformer=8,\n",
    "    n_qubits_ffn=8,\n",
    "    n_qlayers=3,\n",
    "    num_blocks=2,\n",
    "    num_heads=2,\n",
    "    total_size=5000,\n",
    ")"
   ]
  },
  {
   "cell_type": "markdown",
   "metadata": {},
   "source": [
    "## Evaluation\n"
   ]
  },
  {
   "cell_type": "code",
   "execution_count": 22,
   "metadata": {},
   "outputs": [
    {
     "data": {
      "image/png": "[encoded data removed]",
      "text/plain": [
       "<Figure size 1200x500 with 2 Axes>"
      ]
     },
     "metadata": {},
     "output_type": "display_data"
    }
   ],
   "source": [
    "import matplotlib.pyplot as plt\n",
    "import seaborn as sns\n",
    "\n",
    "sns.set_theme()\n",
    "\n",
    "# plt.style.use(\"classic\")\n",
    "# plt.style.use(\"dark_background\")\n",
    "\n",
    "epochs = range(1, len(train_loss) + 1)\n",
    "\n",
    "plt.figure(figsize=(12, 5))\n",
    "plt.subplot(1, 2, 1)\n",
    "plt.plot(epochs, train_loss, \"b-\", label=\"Train Loss\")\n",
    "plt.plot(epochs, test_loss, \"r-\", label=\"Test Loss\")\n",
    "plt.title(\"Train and Test Loss\")\n",
    "plt.xlabel(\"Epochs\")\n",
    "plt.ylabel(\"Loss\")\n",
    "plt.legend()\n",
    "\n",
    "plt.subplot(1, 2, 2)\n",
    "plt.plot(epochs, train_acc, \"b-\", label=\"Train Accuracy\")\n",
    "plt.plot(epochs, test_acc, \"r-\", label=\"Test Accuracy\")\n",
    "plt.title(\"Train and Test Accuracy\")\n",
    "plt.xlabel(\"Epochs\")\n",
    "plt.ylabel(\"Accuracy\")\n",
    "plt.legend()\n",
    "\n",
    "plt.tight_layout()\n",
    "plt.show()"
   ]
  },
  {
   "cell_type": "code",
   "execution_count": 23,
   "metadata": {},
   "outputs": [
    {
     "data": {
      "image/png": "[encoded data removed]",
      "text/plain": [
       "<Figure size 640x480 with 1 Axes>"
      ]
     },
     "metadata": {},
     "output_type": "display_data"
    }
   ],
   "source": [
    "plt.plot(epochs, train_auc, \"b-\", label=\"Train\")\n",
    "plt.plot(epochs, test_auc, \"r-\", label=\"Test\")\n",
    "plt.title(\"Train and Test AUC\")\n",
    "plt.xlabel(\"Epochs\")\n",
    "plt.ylabel(\"AUC\")\n",
    "plt.legend()\n",
    "plt.show()"
   ]
  },
  {
   "cell_type": "code",
   "execution_count": 24,
   "metadata": {},
   "outputs": [],
   "source": [
    "# checkpoint = torch.load(\n",
    "#     \".models/model_and_metrics_epoch_10.pt\"\n",
    "# )  # Replace x with the epoch number\n",
    "\n",
    "# # Load the metrics\n",
    "# epoch = checkpoint[\"epoch\"]\n",
    "# train_loss = checkpoint[\"train_loss\"]\n",
    "# train_acc = checkpoint[\"train_acc\"]\n",
    "# train_auc = checkpoint[\"train_auc\"]\n",
    "# test_loss = checkpoint[\"test_loss\"]\n",
    "# test_acc = checkpoint[\"test_acc\"]\n",
    "# test_auc = checkpoint[\"test_auc\"]\n",
    "\n",
    "# test_acc"
   ]
  },
  {
   "cell_type": "code",
   "execution_count": 25,
   "metadata": {},
   "outputs": [],
   "source": [
    "# fig, ax = plt.subplots(figsize=(4, 3.5))\n",
    "# # ax.plot(classical_qg_metrics['train_aucs'], label='Classical Training', color='orange', linestyle='--')\n",
    "# # ax.plot(quantum_qg_metrics['train_aucs'], label='Quantum Training', color='purple', linestyle='--')\n",
    "# # ax.plot(classical_qg_metrics['val_aucs'], label='Classical Validation', color='orange')\n",
    "# # ax.plot(quantum_qg_metrics['val_aucs'], label='Quantum Validation', color='purple')\n",
    "# ax.plot(auc, label=\"Quantum Validation\", color=\"purple\")\n",
    "# ax.set_xlabel(\"Epoch\")\n",
    "# ax.set_ylabel(\"AUC\")\n",
    "# ax.legend()\n",
    "# ax.grid()\n",
    "# ax.set_ylim(0.5, 1)"
   ]
  }
 ],
 "metadata": {
  "kernelspec": {
   "display_name": "Python 3",
   "language": "python",
   "name": "python3"
  },
  "language_info": {
   "codemirror_mode": {
    "name": "ipython",
    "version": 3
   },
   "file_extension": ".py",
   "mimetype": "text/x-python",
   "name": "python",
   "nbconvert_exporter": "python",
   "pygments_lexer": "ipython3",
   "version": "3.11.8"
  }
 },
 "nbformat": 4,
 "nbformat_minor": 4
}
