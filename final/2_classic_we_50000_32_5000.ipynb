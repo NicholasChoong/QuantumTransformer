{
 "cells": [
  {
   "cell_type": "code",
   "execution_count": 1,
   "metadata": {
    "metadata": {}
   },
   "outputs": [
    {
     "data": {
      "text/plain": [
       "'/Users/nicholaschoong/Documents/QuantumTransformer/old'"
      ]
     },
     "execution_count": 1,
     "metadata": {},
     "output_type": "execute_result"
    }
   ],
   "source": [
    "import os\n",
    "import sys\n",
    "\n",
    "os.chdir(\"..\")\n",
    "sys.path.append(os.getcwd())\n",
    "os.getcwd()"
   ]
  },
  {
   "cell_type": "code",
   "execution_count": 2,
   "metadata": {},
   "outputs": [],
   "source": [
    "from text_classifier.main import main"
   ]
  },
  {
   "cell_type": "code",
   "execution_count": 3,
   "metadata": {
    "metadata": {}
   },
   "outputs": [
    {
     "data": {
      "text/plain": [
       "device(type='mps')"
      ]
     },
     "execution_count": 3,
     "metadata": {},
     "output_type": "execute_result"
    }
   ],
   "source": [
    "from config import dev\n",
    "\n",
    "dev"
   ]
  },
  {
   "cell_type": "code",
   "execution_count": 10,
   "metadata": {
    "metadata": {}
   },
   "outputs": [
    {
     "name": "stdout",
     "output_type": "stream",
     "text": [
      "pos:  1571\n",
      "neg:  1629\n",
      "++ There will be 2 transformer blocks\n",
      "The model has 400,873 trainable parameters\n"
     ]
    },
    {
     "name": "stderr",
     "output_type": "stream",
     "text": [
      "Epoch   1/30:   4%|▍         | 128/3200 [00:00<00:02, 1179.67batch/s]"
     ]
    },
    {
     "name": "stdout",
     "output_type": "stream",
     "text": [
      "Epoch 1/30\n"
     ]
    },
    {
     "name": "stderr",
     "output_type": "stream",
     "text": [
      "Epoch   1/30: 100%|██████████| 3200/3200 [00:03<00:00, 926.05batch/s, Loss = 0.6965, AUC = 0.49%] \n"
     ]
    },
    {
     "name": "stdout",
     "output_type": "stream",
     "text": [
      "Epoch: 01 | Epoch Time: 0m 3s\n",
      "\tTrain Loss: 0.696 | Train Acc: 50.69%\n",
      "\tTest Loss: 0.696 |  Test Acc: 49.00%\n"
     ]
    },
    {
     "name": "stderr",
     "output_type": "stream",
     "text": [
      "Epoch   2/30:   4%|▍         | 128/3200 [00:00<00:02, 1256.24batch/s]"
     ]
    },
    {
     "name": "stdout",
     "output_type": "stream",
     "text": [
      "Epoch 2/30\n"
     ]
    },
    {
     "name": "stderr",
     "output_type": "stream",
     "text": [
      "Epoch   2/30: 100%|██████████| 3200/3200 [00:03<00:00, 916.11batch/s, Loss = 0.6943, AUC = 0.51%] \n"
     ]
    },
    {
     "name": "stdout",
     "output_type": "stream",
     "text": [
      "Epoch: 02 | Epoch Time: 0m 3s\n",
      "\tTrain Loss: 0.694 | Train Acc: 50.03%\n",
      "\tTest Loss: 0.694 |  Test Acc: 50.50%\n"
     ]
    },
    {
     "name": "stderr",
     "output_type": "stream",
     "text": [
      "Epoch   3/30:   4%|▍         | 128/3200 [00:00<00:02, 1256.49batch/s]"
     ]
    },
    {
     "name": "stdout",
     "output_type": "stream",
     "text": [
      "Epoch 3/30\n"
     ]
    },
    {
     "name": "stderr",
     "output_type": "stream",
     "text": [
      "Epoch   3/30: 100%|██████████| 3200/3200 [00:03<00:00, 932.83batch/s, Loss = 0.6940, AUC = 0.49%] \n"
     ]
    },
    {
     "name": "stdout",
     "output_type": "stream",
     "text": [
      "Epoch: 03 | Epoch Time: 0m 3s\n",
      "\tTrain Loss: 0.693 | Train Acc: 51.28%\n",
      "\tTest Loss: 0.694 |  Test Acc: 49.34%\n"
     ]
    },
    {
     "name": "stderr",
     "output_type": "stream",
     "text": [
      "Epoch   4/30:   4%|▍         | 128/3200 [00:00<00:02, 1275.90batch/s]"
     ]
    },
    {
     "name": "stdout",
     "output_type": "stream",
     "text": [
      "Epoch 4/30\n"
     ]
    },
    {
     "name": "stderr",
     "output_type": "stream",
     "text": [
      "Epoch   4/30: 100%|██████████| 3200/3200 [00:03<00:00, 936.95batch/s, Loss = 0.6932, AUC = 0.51%] \n"
     ]
    },
    {
     "name": "stdout",
     "output_type": "stream",
     "text": [
      "Epoch: 04 | Epoch Time: 0m 3s\n",
      "\tTrain Loss: 0.693 | Train Acc: 51.12%\n",
      "\tTest Loss: 0.693 |  Test Acc: 50.66%\n"
     ]
    },
    {
     "name": "stderr",
     "output_type": "stream",
     "text": [
      "Epoch   5/30:   4%|▍         | 128/3200 [00:00<00:02, 1274.43batch/s]"
     ]
    },
    {
     "name": "stdout",
     "output_type": "stream",
     "text": [
      "Epoch 5/30\n"
     ]
    },
    {
     "name": "stderr",
     "output_type": "stream",
     "text": [
      "Epoch   5/30: 100%|██████████| 3200/3200 [00:03<00:00, 934.49batch/s, Loss = 0.6923, AUC = 0.52%] \n"
     ]
    },
    {
     "name": "stdout",
     "output_type": "stream",
     "text": [
      "Epoch: 05 | Epoch Time: 0m 3s\n",
      "\tTrain Loss: 0.693 | Train Acc: 52.44%\n",
      "\tTest Loss: 0.692 |  Test Acc: 52.25%\n"
     ]
    },
    {
     "name": "stderr",
     "output_type": "stream",
     "text": [
      "Epoch   6/30:   4%|▍         | 128/3200 [00:00<00:02, 1186.13batch/s]"
     ]
    },
    {
     "name": "stdout",
     "output_type": "stream",
     "text": [
      "Epoch 6/30\n"
     ]
    },
    {
     "name": "stderr",
     "output_type": "stream",
     "text": [
      "Epoch   6/30: 100%|██████████| 3200/3200 [00:03<00:00, 935.34batch/s, Loss = 0.6913, AUC = 0.53%] \n"
     ]
    },
    {
     "name": "stdout",
     "output_type": "stream",
     "text": [
      "Epoch: 06 | Epoch Time: 0m 3s\n",
      "\tTrain Loss: 0.693 | Train Acc: 51.22%\n",
      "\tTest Loss: 0.691 |  Test Acc: 52.66%\n"
     ]
    },
    {
     "name": "stderr",
     "output_type": "stream",
     "text": [
      "Epoch   7/30:   5%|▌         | 160/3200 [00:00<00:02, 1314.92batch/s]"
     ]
    },
    {
     "name": "stdout",
     "output_type": "stream",
     "text": [
      "Epoch 7/30\n"
     ]
    },
    {
     "name": "stderr",
     "output_type": "stream",
     "text": [
      "Epoch   7/30: 100%|██████████| 3200/3200 [00:03<00:00, 928.39batch/s, Loss = 0.6926, AUC = 0.50%] \n"
     ]
    },
    {
     "name": "stdout",
     "output_type": "stream",
     "text": [
      "Epoch: 07 | Epoch Time: 0m 3s\n",
      "\tTrain Loss: 0.690 | Train Acc: 54.16%\n",
      "\tTest Loss: 0.693 |  Test Acc: 50.31%\n"
     ]
    },
    {
     "name": "stderr",
     "output_type": "stream",
     "text": [
      "Epoch   8/30:   4%|▍         | 128/3200 [00:00<00:02, 1270.42batch/s]"
     ]
    },
    {
     "name": "stdout",
     "output_type": "stream",
     "text": [
      "Epoch 8/30\n"
     ]
    },
    {
     "name": "stderr",
     "output_type": "stream",
     "text": [
      "Epoch   8/30: 100%|██████████| 3200/3200 [00:03<00:00, 935.39batch/s, Loss = 0.6896, AUC = 0.53%] \n"
     ]
    },
    {
     "name": "stdout",
     "output_type": "stream",
     "text": [
      "Epoch: 08 | Epoch Time: 0m 3s\n",
      "\tTrain Loss: 0.691 | Train Acc: 51.66%\n",
      "\tTest Loss: 0.690 |  Test Acc: 53.37%\n"
     ]
    },
    {
     "name": "stderr",
     "output_type": "stream",
     "text": [
      "Epoch   9/30:   5%|▌         | 160/3200 [00:00<00:02, 1309.08batch/s]"
     ]
    },
    {
     "name": "stdout",
     "output_type": "stream",
     "text": [
      "Epoch 9/30\n"
     ]
    },
    {
     "name": "stderr",
     "output_type": "stream",
     "text": [
      "Epoch   9/30: 100%|██████████| 3200/3200 [00:03<00:00, 915.65batch/s, Loss = 0.6733, AUC = 0.59%] \n"
     ]
    },
    {
     "name": "stdout",
     "output_type": "stream",
     "text": [
      "Epoch: 09 | Epoch Time: 0m 3s\n",
      "\tTrain Loss: 0.683 | Train Acc: 57.38%\n",
      "\tTest Loss: 0.673 |  Test Acc: 58.53%\n"
     ]
    },
    {
     "name": "stderr",
     "output_type": "stream",
     "text": [
      "Epoch  10/30:   4%|▍         | 128/3200 [00:00<00:02, 1274.54batch/s]"
     ]
    },
    {
     "name": "stdout",
     "output_type": "stream",
     "text": [
      "Epoch 10/30\n"
     ]
    },
    {
     "name": "stderr",
     "output_type": "stream",
     "text": [
      "Epoch  10/30: 100%|██████████| 3200/3200 [00:03<00:00, 932.78batch/s, Loss = 0.6598, AUC = 0.60%] \n"
     ]
    },
    {
     "name": "stdout",
     "output_type": "stream",
     "text": [
      "Epoch: 10 | Epoch Time: 0m 3s\n",
      "\tTrain Loss: 0.660 | Train Acc: 61.19%\n",
      "\tTest Loss: 0.660 |  Test Acc: 59.91%\n"
     ]
    },
    {
     "name": "stderr",
     "output_type": "stream",
     "text": [
      "Epoch  11/30:   4%|▍         | 128/3200 [00:00<00:02, 1279.28batch/s]"
     ]
    },
    {
     "name": "stdout",
     "output_type": "stream",
     "text": [
      "Epoch 11/30\n"
     ]
    },
    {
     "name": "stderr",
     "output_type": "stream",
     "text": [
      "Epoch  11/30: 100%|██████████| 3200/3200 [00:03<00:00, 877.19batch/s, Loss = 0.6452, AUC = 0.63%] \n"
     ]
    },
    {
     "name": "stdout",
     "output_type": "stream",
     "text": [
      "Epoch: 11 | Epoch Time: 0m 3s\n",
      "\tTrain Loss: 0.632 | Train Acc: 65.06%\n",
      "\tTest Loss: 0.645 |  Test Acc: 63.44%\n"
     ]
    },
    {
     "name": "stderr",
     "output_type": "stream",
     "text": [
      "Epoch  12/30:   5%|▌         | 160/3200 [00:00<00:02, 1328.64batch/s]"
     ]
    },
    {
     "name": "stdout",
     "output_type": "stream",
     "text": [
      "Epoch 12/30\n"
     ]
    },
    {
     "name": "stderr",
     "output_type": "stream",
     "text": [
      "Epoch  12/30: 100%|██████████| 3200/3200 [00:03<00:00, 931.93batch/s, Loss = 0.6363, AUC = 0.66%] \n"
     ]
    },
    {
     "name": "stdout",
     "output_type": "stream",
     "text": [
      "Epoch: 12 | Epoch Time: 0m 3s\n",
      "\tTrain Loss: 0.594 | Train Acc: 69.28%\n",
      "\tTest Loss: 0.636 |  Test Acc: 65.81%\n"
     ]
    },
    {
     "name": "stderr",
     "output_type": "stream",
     "text": [
      "Epoch  13/30:   4%|▍         | 128/3200 [00:00<00:02, 1272.10batch/s]"
     ]
    },
    {
     "name": "stdout",
     "output_type": "stream",
     "text": [
      "Epoch 13/30\n"
     ]
    },
    {
     "name": "stderr",
     "output_type": "stream",
     "text": [
      "Epoch  13/30: 100%|██████████| 3200/3200 [00:03<00:00, 920.23batch/s, Loss = 0.6413, AUC = 0.66%] \n"
     ]
    },
    {
     "name": "stdout",
     "output_type": "stream",
     "text": [
      "Epoch: 13 | Epoch Time: 0m 3s\n",
      "\tTrain Loss: 0.565 | Train Acc: 70.81%\n",
      "\tTest Loss: 0.641 |  Test Acc: 66.06%\n"
     ]
    },
    {
     "name": "stderr",
     "output_type": "stream",
     "text": [
      "Epoch  14/30:   5%|▌         | 160/3200 [00:00<00:02, 1320.17batch/s]"
     ]
    },
    {
     "name": "stdout",
     "output_type": "stream",
     "text": [
      "Epoch 14/30\n"
     ]
    },
    {
     "name": "stderr",
     "output_type": "stream",
     "text": [
      "Epoch  14/30: 100%|██████████| 3200/3200 [00:03<00:00, 942.18batch/s, Loss = 0.6431, AUC = 0.66%] \n"
     ]
    },
    {
     "name": "stdout",
     "output_type": "stream",
     "text": [
      "Epoch: 14 | Epoch Time: 0m 3s\n",
      "\tTrain Loss: 0.535 | Train Acc: 74.28%\n",
      "\tTest Loss: 0.643 |  Test Acc: 65.81%\n"
     ]
    },
    {
     "name": "stderr",
     "output_type": "stream",
     "text": [
      "Epoch  15/30:   5%|▌         | 160/3200 [00:00<00:02, 1318.67batch/s]"
     ]
    },
    {
     "name": "stdout",
     "output_type": "stream",
     "text": [
      "Epoch 15/30\n"
     ]
    },
    {
     "name": "stderr",
     "output_type": "stream",
     "text": [
      "Epoch  15/30: 100%|██████████| 3200/3200 [00:03<00:00, 945.70batch/s, Loss = 0.6279, AUC = 0.68%] \n"
     ]
    },
    {
     "name": "stdout",
     "output_type": "stream",
     "text": [
      "Epoch: 15 | Epoch Time: 0m 3s\n",
      "\tTrain Loss: 0.514 | Train Acc: 75.62%\n",
      "\tTest Loss: 0.628 |  Test Acc: 68.06%\n"
     ]
    },
    {
     "name": "stderr",
     "output_type": "stream",
     "text": [
      "Epoch  16/30:   5%|▌         | 160/3200 [00:00<00:02, 1332.93batch/s]"
     ]
    },
    {
     "name": "stdout",
     "output_type": "stream",
     "text": [
      "Epoch 16/30\n"
     ]
    },
    {
     "name": "stderr",
     "output_type": "stream",
     "text": [
      "Epoch  16/30: 100%|██████████| 3200/3200 [00:03<00:00, 947.80batch/s, Loss = 0.6312, AUC = 0.68%] \n"
     ]
    },
    {
     "name": "stdout",
     "output_type": "stream",
     "text": [
      "Epoch: 16 | Epoch Time: 0m 3s\n",
      "\tTrain Loss: 0.488 | Train Acc: 77.84%\n",
      "\tTest Loss: 0.631 |  Test Acc: 68.28%\n"
     ]
    },
    {
     "name": "stderr",
     "output_type": "stream",
     "text": [
      "Epoch  17/30:   5%|▌         | 160/3200 [00:00<00:02, 1321.87batch/s]"
     ]
    },
    {
     "name": "stdout",
     "output_type": "stream",
     "text": [
      "Epoch 17/30\n"
     ]
    },
    {
     "name": "stderr",
     "output_type": "stream",
     "text": [
      "Epoch  17/30: 100%|██████████| 3200/3200 [00:03<00:00, 932.15batch/s, Loss = 0.6296, AUC = 0.70%] \n"
     ]
    },
    {
     "name": "stdout",
     "output_type": "stream",
     "text": [
      "Epoch: 17 | Epoch Time: 0m 3s\n",
      "\tTrain Loss: 0.468 | Train Acc: 78.38%\n",
      "\tTest Loss: 0.630 |  Test Acc: 69.53%\n"
     ]
    },
    {
     "name": "stderr",
     "output_type": "stream",
     "text": [
      "Epoch  18/30:   5%|▌         | 160/3200 [00:00<00:02, 1333.21batch/s]"
     ]
    },
    {
     "name": "stdout",
     "output_type": "stream",
     "text": [
      "Epoch 18/30\n"
     ]
    },
    {
     "name": "stderr",
     "output_type": "stream",
     "text": [
      "Epoch  18/30: 100%|██████████| 3200/3200 [00:03<00:00, 934.30batch/s, Loss = 0.6336, AUC = 0.71%] \n"
     ]
    },
    {
     "name": "stdout",
     "output_type": "stream",
     "text": [
      "Epoch: 18 | Epoch Time: 0m 3s\n",
      "\tTrain Loss: 0.439 | Train Acc: 80.69%\n",
      "\tTest Loss: 0.634 |  Test Acc: 70.56%\n"
     ]
    },
    {
     "name": "stderr",
     "output_type": "stream",
     "text": [
      "Epoch  19/30:   5%|▌         | 160/3200 [00:00<00:02, 1307.03batch/s]"
     ]
    },
    {
     "name": "stdout",
     "output_type": "stream",
     "text": [
      "Epoch 19/30\n"
     ]
    },
    {
     "name": "stderr",
     "output_type": "stream",
     "text": [
      "Epoch  19/30: 100%|██████████| 3200/3200 [00:03<00:00, 921.81batch/s, Loss = 0.6502, AUC = 0.70%] \n"
     ]
    },
    {
     "name": "stdout",
     "output_type": "stream",
     "text": [
      "Epoch: 19 | Epoch Time: 0m 3s\n",
      "\tTrain Loss: 0.426 | Train Acc: 81.44%\n",
      "\tTest Loss: 0.650 |  Test Acc: 69.69%\n"
     ]
    },
    {
     "name": "stderr",
     "output_type": "stream",
     "text": [
      "Epoch  20/30:   4%|▍         | 128/3200 [00:00<00:02, 1240.73batch/s]"
     ]
    },
    {
     "name": "stdout",
     "output_type": "stream",
     "text": [
      "Epoch 20/30\n"
     ]
    },
    {
     "name": "stderr",
     "output_type": "stream",
     "text": [
      "Epoch  20/30: 100%|██████████| 3200/3200 [00:03<00:00, 939.64batch/s, Loss = 0.6568, AUC = 0.71%] \n"
     ]
    },
    {
     "name": "stdout",
     "output_type": "stream",
     "text": [
      "Epoch: 20 | Epoch Time: 0m 3s\n",
      "\tTrain Loss: 0.403 | Train Acc: 82.91%\n",
      "\tTest Loss: 0.657 |  Test Acc: 70.56%\n"
     ]
    },
    {
     "name": "stderr",
     "output_type": "stream",
     "text": [
      "Epoch  21/30:   5%|▌         | 160/3200 [00:00<00:02, 1320.44batch/s]"
     ]
    },
    {
     "name": "stdout",
     "output_type": "stream",
     "text": [
      "Epoch 21/30\n"
     ]
    },
    {
     "name": "stderr",
     "output_type": "stream",
     "text": [
      "Epoch  21/30: 100%|██████████| 3200/3200 [00:03<00:00, 937.13batch/s, Loss = 0.6531, AUC = 0.70%] \n"
     ]
    },
    {
     "name": "stdout",
     "output_type": "stream",
     "text": [
      "Epoch: 21 | Epoch Time: 0m 3s\n",
      "\tTrain Loss: 0.397 | Train Acc: 82.91%\n",
      "\tTest Loss: 0.653 |  Test Acc: 70.06%\n"
     ]
    },
    {
     "name": "stderr",
     "output_type": "stream",
     "text": [
      "Epoch  22/30:   5%|▌         | 160/3200 [00:00<00:02, 1309.31batch/s]"
     ]
    },
    {
     "name": "stdout",
     "output_type": "stream",
     "text": [
      "Epoch 22/30\n"
     ]
    },
    {
     "name": "stderr",
     "output_type": "stream",
     "text": [
      "Epoch  22/30: 100%|██████████| 3200/3200 [00:03<00:00, 908.73batch/s, Loss = 0.6512, AUC = 0.71%] \n"
     ]
    },
    {
     "name": "stdout",
     "output_type": "stream",
     "text": [
      "Epoch: 22 | Epoch Time: 0m 3s\n",
      "\tTrain Loss: 0.373 | Train Acc: 84.47%\n",
      "\tTest Loss: 0.651 |  Test Acc: 71.16%\n"
     ]
    },
    {
     "name": "stderr",
     "output_type": "stream",
     "text": [
      "Epoch  23/30:   4%|▍         | 128/3200 [00:00<00:02, 1268.87batch/s]"
     ]
    },
    {
     "name": "stdout",
     "output_type": "stream",
     "text": [
      "Epoch 23/30\n"
     ]
    },
    {
     "name": "stderr",
     "output_type": "stream",
     "text": [
      "Epoch  23/30: 100%|██████████| 3200/3200 [00:03<00:00, 923.67batch/s, Loss = 0.6574, AUC = 0.71%] \n"
     ]
    },
    {
     "name": "stdout",
     "output_type": "stream",
     "text": [
      "Epoch: 23 | Epoch Time: 0m 3s\n",
      "\tTrain Loss: 0.352 | Train Acc: 85.38%\n",
      "\tTest Loss: 0.657 |  Test Acc: 71.34%\n"
     ]
    },
    {
     "name": "stderr",
     "output_type": "stream",
     "text": [
      "Epoch  24/30:   5%|▌         | 160/3200 [00:00<00:02, 1328.81batch/s]"
     ]
    },
    {
     "name": "stdout",
     "output_type": "stream",
     "text": [
      "Epoch 24/30\n"
     ]
    },
    {
     "name": "stderr",
     "output_type": "stream",
     "text": [
      "Epoch  24/30: 100%|██████████| 3200/3200 [00:03<00:00, 914.15batch/s, Loss = 0.6698, AUC = 0.72%] \n"
     ]
    },
    {
     "name": "stdout",
     "output_type": "stream",
     "text": [
      "Epoch: 24 | Epoch Time: 0m 3s\n",
      "\tTrain Loss: 0.335 | Train Acc: 85.66%\n",
      "\tTest Loss: 0.670 |  Test Acc: 71.62%\n"
     ]
    },
    {
     "name": "stderr",
     "output_type": "stream",
     "text": [
      "Epoch  25/30:   5%|▌         | 160/3200 [00:00<00:02, 1304.72batch/s]"
     ]
    },
    {
     "name": "stdout",
     "output_type": "stream",
     "text": [
      "Epoch 25/30\n"
     ]
    },
    {
     "name": "stderr",
     "output_type": "stream",
     "text": [
      "Epoch  25/30: 100%|██████████| 3200/3200 [00:03<00:00, 941.05batch/s, Loss = 0.6968, AUC = 0.71%] \n"
     ]
    },
    {
     "name": "stdout",
     "output_type": "stream",
     "text": [
      "Epoch: 25 | Epoch Time: 0m 3s\n",
      "\tTrain Loss: 0.313 | Train Acc: 87.66%\n",
      "\tTest Loss: 0.697 |  Test Acc: 71.34%\n"
     ]
    },
    {
     "name": "stderr",
     "output_type": "stream",
     "text": [
      "Epoch  26/30:   5%|▌         | 160/3200 [00:00<00:02, 1312.21batch/s]"
     ]
    },
    {
     "name": "stdout",
     "output_type": "stream",
     "text": [
      "Epoch 26/30\n"
     ]
    },
    {
     "name": "stderr",
     "output_type": "stream",
     "text": [
      "Epoch  26/30: 100%|██████████| 3200/3200 [00:03<00:00, 941.97batch/s, Loss = 0.6892, AUC = 0.72%] \n"
     ]
    },
    {
     "name": "stdout",
     "output_type": "stream",
     "text": [
      "Epoch: 26 | Epoch Time: 0m 3s\n",
      "\tTrain Loss: 0.312 | Train Acc: 87.22%\n",
      "\tTest Loss: 0.689 |  Test Acc: 71.88%\n"
     ]
    },
    {
     "name": "stderr",
     "output_type": "stream",
     "text": [
      "Epoch  27/30:   5%|▌         | 160/3200 [00:00<00:02, 1293.86batch/s]"
     ]
    },
    {
     "name": "stdout",
     "output_type": "stream",
     "text": [
      "Epoch 27/30\n"
     ]
    },
    {
     "name": "stderr",
     "output_type": "stream",
     "text": [
      "Epoch  27/30: 100%|██████████| 3200/3200 [00:03<00:00, 944.26batch/s, Loss = 0.7057, AUC = 0.72%] \n"
     ]
    },
    {
     "name": "stdout",
     "output_type": "stream",
     "text": [
      "Epoch: 27 | Epoch Time: 0m 3s\n",
      "\tTrain Loss: 0.293 | Train Acc: 87.81%\n",
      "\tTest Loss: 0.706 |  Test Acc: 71.66%\n"
     ]
    },
    {
     "name": "stderr",
     "output_type": "stream",
     "text": [
      "Epoch  28/30:   5%|▌         | 160/3200 [00:00<00:02, 1321.47batch/s]"
     ]
    },
    {
     "name": "stdout",
     "output_type": "stream",
     "text": [
      "Epoch 28/30\n"
     ]
    },
    {
     "name": "stderr",
     "output_type": "stream",
     "text": [
      "Epoch  28/30: 100%|██████████| 3200/3200 [00:03<00:00, 949.22batch/s, Loss = 0.7419, AUC = 0.72%] \n"
     ]
    },
    {
     "name": "stdout",
     "output_type": "stream",
     "text": [
      "Epoch: 28 | Epoch Time: 0m 3s\n",
      "\tTrain Loss: 0.265 | Train Acc: 89.34%\n",
      "\tTest Loss: 0.742 |  Test Acc: 72.19%\n"
     ]
    },
    {
     "name": "stderr",
     "output_type": "stream",
     "text": [
      "Epoch  29/30:   5%|▌         | 160/3200 [00:00<00:02, 1322.03batch/s]"
     ]
    },
    {
     "name": "stdout",
     "output_type": "stream",
     "text": [
      "Epoch 29/30\n"
     ]
    },
    {
     "name": "stderr",
     "output_type": "stream",
     "text": [
      "Epoch  29/30: 100%|██████████| 3200/3200 [00:03<00:00, 948.10batch/s, Loss = 0.7753, AUC = 0.72%] \n"
     ]
    },
    {
     "name": "stdout",
     "output_type": "stream",
     "text": [
      "Epoch: 29 | Epoch Time: 0m 3s\n",
      "\tTrain Loss: 0.239 | Train Acc: 90.66%\n",
      "\tTest Loss: 0.775 |  Test Acc: 71.88%\n"
     ]
    },
    {
     "name": "stderr",
     "output_type": "stream",
     "text": [
      "Epoch  30/30:   5%|▌         | 160/3200 [00:00<00:02, 1318.63batch/s]"
     ]
    },
    {
     "name": "stdout",
     "output_type": "stream",
     "text": [
      "Epoch 30/30\n"
     ]
    },
    {
     "name": "stderr",
     "output_type": "stream",
     "text": [
      "Epoch  30/30: 100%|██████████| 3200/3200 [00:03<00:00, 941.75batch/s, Loss = 0.7727, AUC = 0.73%] "
     ]
    },
    {
     "name": "stdout",
     "output_type": "stream",
     "text": [
      "Epoch: 30 | Epoch Time: 0m 3s\n",
      "\tTrain Loss: 0.244 | Train Acc: 90.62%\n",
      "\tTest Loss: 0.773 |  Test Acc: 72.53%\n",
      "TOTAL TIME = 103.15s\n",
      "BEST ACC = 0.73% AT EPOCH 30\n"
     ]
    },
    {
     "name": "stderr",
     "output_type": "stream",
     "text": [
      "\n"
     ]
    }
   ],
   "source": [
    "train_loss, train_acc, test_loss, test_acc = main(total_size=3200, batch_size=32)"
   ]
  },
  {
   "cell_type": "code",
   "execution_count": 11,
   "metadata": {
    "metadata": {}
   },
   "outputs": [
    {
     "data": {
      "image/png": "[encoded data removed]",
      "text/plain": [
       "<Figure size 1200x500 with 2 Axes>"
      ]
     },
     "metadata": {},
     "output_type": "display_data"
    }
   ],
   "source": [
    "import matplotlib.pyplot as plt\n",
    "import seaborn as sns\n",
    "\n",
    "sns.set_theme()\n",
    "\n",
    "# plt.style.use(\"classic\")\n",
    "# plt.style.use(\"dark_background\")\n",
    "\n",
    "epochs = range(1, len(train_loss) + 1)\n",
    "\n",
    "plt.figure(figsize=(12, 5))\n",
    "plt.subplot(1, 2, 1)\n",
    "plt.plot(epochs, train_loss, \"b-\", label=\"Train Loss\")\n",
    "plt.plot(epochs, test_loss, \"r-\", label=\"Test Loss\")\n",
    "plt.title(\"Train and Test Loss\")\n",
    "plt.xlabel(\"Epochs\")\n",
    "plt.ylabel(\"Loss\")\n",
    "plt.legend()\n",
    "\n",
    "plt.subplot(1, 2, 2)\n",
    "plt.plot(epochs, train_acc, \"b-\", label=\"Train Accuracy\")\n",
    "plt.plot(epochs, test_acc, \"r-\", label=\"Test Accuracy\")\n",
    "plt.title(\"Train and Test Accuracy\")\n",
    "plt.xlabel(\"Epochs\")\n",
    "plt.ylabel(\"Accuracy\")\n",
    "plt.legend()\n",
    "\n",
    "plt.tight_layout()\n",
    "plt.show()"
   ]
  },
  {
   "cell_type": "code",
   "execution_count": 12,
   "metadata": {},
   "outputs": [
    {
     "data": {
      "text/plain": [
       "[0.6960169613361359,\n",
       " 0.6940807330608368,\n",
       " 0.6931605803966522,\n",
       " 0.6929070317745208,\n",
       " 0.6926468902826309,\n",
       " 0.6927391982078552,\n",
       " 0.6900188666582108,\n",
       " 0.6905308216810226,\n",
       " 0.6832095766067505,\n",
       " 0.6598665809631348,\n",
       " 0.6316676437854767,\n",
       " 0.5936006125807762,\n",
       " 0.5654897522926331,\n",
       " 0.5354303461313248,\n",
       " 0.5140927800536156,\n",
       " 0.48789903372526167,\n",
       " 0.46828561812639236,\n",
       " 0.43878044188022614,\n",
       " 0.4257997040450573,\n",
       " 0.4031629540026188,\n",
       " 0.3965213057398796,\n",
       " 0.37282002344727516,\n",
       " 0.35159814536571504,\n",
       " 0.3349228938668966,\n",
       " 0.3132855226844549,\n",
       " 0.31213269479572775,\n",
       " 0.29266745269298555,\n",
       " 0.2649648032337427,\n",
       " 0.23948229864239692,\n",
       " 0.24437259294092656]"
      ]
     },
     "execution_count": 12,
     "metadata": {},
     "output_type": "execute_result"
    }
   ],
   "source": [
    "train_loss"
   ]
  },
  {
   "cell_type": "code",
   "execution_count": 13,
   "metadata": {},
   "outputs": [
    {
     "data": {
      "text/plain": [
       "[0.506875,\n",
       " 0.5003125,\n",
       " 0.5128125,\n",
       " 0.51125,\n",
       " 0.524375,\n",
       " 0.5121875,\n",
       " 0.5415625,\n",
       " 0.5165625,\n",
       " 0.57375,\n",
       " 0.611875,\n",
       " 0.650625,\n",
       " 0.6928125,\n",
       " 0.708125,\n",
       " 0.7428125,\n",
       " 0.75625,\n",
       " 0.7784375,\n",
       " 0.78375,\n",
       " 0.806875,\n",
       " 0.814375,\n",
       " 0.8290625,\n",
       " 0.8290625,\n",
       " 0.8446875,\n",
       " 0.85375,\n",
       " 0.8565625,\n",
       " 0.8765625,\n",
       " 0.8721875,\n",
       " 0.878125,\n",
       " 0.8934375,\n",
       " 0.9065625,\n",
       " 0.90625]"
      ]
     },
     "execution_count": 13,
     "metadata": {},
     "output_type": "execute_result"
    }
   ],
   "source": [
    "train_acc"
   ]
  },
  {
   "cell_type": "code",
   "execution_count": 14,
   "metadata": {},
   "outputs": [
    {
     "data": {
      "text/plain": [
       "[0.696473097205162,\n",
       " 0.6943355756998062,\n",
       " 0.6939944142103195,\n",
       " 0.6932471340894699,\n",
       " 0.6923388373851777,\n",
       " 0.6912820023298264,\n",
       " 0.6926061433553695,\n",
       " 0.6895923453569412,\n",
       " 0.6732681506872177,\n",
       " 0.6598484015464783,\n",
       " 0.6451687866449356,\n",
       " 0.6363254252076149,\n",
       " 0.6413342693448066,\n",
       " 0.6431222108006477,\n",
       " 0.627896381020546,\n",
       " 0.6312106484174729,\n",
       " 0.6295885029435158,\n",
       " 0.6335701704025268,\n",
       " 0.6502384832501411,\n",
       " 0.6568005946278572,\n",
       " 0.6531363624334335,\n",
       " 0.651213350892067,\n",
       " 0.6573942810297012,\n",
       " 0.6698039978742599,\n",
       " 0.6967843732237816,\n",
       " 0.6891774147748947,\n",
       " 0.7057016584277153,\n",
       " 0.741902285516262,\n",
       " 0.7752729111909866,\n",
       " 0.772712664604187]"
      ]
     },
     "execution_count": 14,
     "metadata": {},
     "output_type": "execute_result"
    }
   ],
   "source": [
    "test_loss"
   ]
  },
  {
   "cell_type": "code",
   "execution_count": 15,
   "metadata": {},
   "outputs": [
    {
     "data": {
      "text/plain": [
       "[0.49,\n",
       " 0.505,\n",
       " 0.4934375,\n",
       " 0.5065625,\n",
       " 0.5225,\n",
       " 0.5265625,\n",
       " 0.503125,\n",
       " 0.53375,\n",
       " 0.5853125,\n",
       " 0.5990625,\n",
       " 0.634375,\n",
       " 0.658125,\n",
       " 0.660625,\n",
       " 0.658125,\n",
       " 0.680625,\n",
       " 0.6828125,\n",
       " 0.6953125,\n",
       " 0.705625,\n",
       " 0.696875,\n",
       " 0.705625,\n",
       " 0.700625,\n",
       " 0.7115625,\n",
       " 0.7134375,\n",
       " 0.71625,\n",
       " 0.7134375,\n",
       " 0.71875,\n",
       " 0.7165625,\n",
       " 0.721875,\n",
       " 0.71875,\n",
       " 0.7253125]"
      ]
     },
     "execution_count": 15,
     "metadata": {},
     "output_type": "execute_result"
    }
   ],
   "source": [
    "test_acc "
   ]
  }
 ],
 "metadata": {
  "kernelspec": {
   "display_name": "quantum",
   "language": "python",
   "name": "python3"
  },
  "language_info": {
   "codemirror_mode": {
    "name": "ipython",
    "version": 3
   },
   "file_extension": ".py",
   "mimetype": "text/x-python",
   "name": "python",
   "nbconvert_exporter": "python",
   "pygments_lexer": "ipython3",
   "version": "3.11.8"
  }
 },
 "nbformat": 4,
 "nbformat_minor": 2
}
