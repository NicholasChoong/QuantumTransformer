{
 "cells": [
  {
   "cell_type": "code",
   "execution_count": 1,
   "metadata": {
    "metadata": {}
   },
   "outputs": [
    {
     "data": {
      "text/plain": [
       "'/Users/nicholaschoong/Documents/QuantumTransformer/old'"
      ]
     },
     "execution_count": 1,
     "metadata": {},
     "output_type": "execute_result"
    }
   ],
   "source": [
    "import os\n",
    "import sys\n",
    "\n",
    "os.chdir(\"..\")\n",
    "sys.path.append(os.getcwd())\n",
    "os.getcwd()"
   ]
  },
  {
   "cell_type": "code",
   "execution_count": 2,
   "metadata": {},
   "outputs": [],
   "source": [
    "from text_classifier.main import main"
   ]
  },
  {
   "cell_type": "code",
   "execution_count": 3,
   "metadata": {
    "metadata": {}
   },
   "outputs": [
    {
     "data": {
      "text/plain": [
       "device(type='mps')"
      ]
     },
     "execution_count": 3,
     "metadata": {},
     "output_type": "execute_result"
    }
   ],
   "source": [
    "from config import dev\n",
    "\n",
    "dev"
   ]
  },
  {
   "cell_type": "code",
   "execution_count": 4,
   "metadata": {
    "metadata": {}
   },
   "outputs": [
    {
     "name": "stdout",
     "output_type": "stream",
     "text": [
      "pos:  1613\n",
      "neg:  1587\n",
      "++ There will be 2 transformer blocks\n",
      "The model has 400,873 trainable parameters\n"
     ]
    },
    {
     "name": "stderr",
     "output_type": "stream",
     "text": [
      "Epoch   1/30:   0%|          | 0/3200 [00:00<?, ?batch/s]"
     ]
    },
    {
     "name": "stdout",
     "output_type": "stream",
     "text": [
      "Epoch 1/30\n"
     ]
    },
    {
     "name": "stderr",
     "output_type": "stream",
     "text": [
      "Epoch   1/30: 100%|██████████| 3200/3200 [00:02<00:00, 1210.02batch/s, Loss = 0.6977, AUC = 0.50%]\n"
     ]
    },
    {
     "name": "stdout",
     "output_type": "stream",
     "text": [
      "Epoch: 01 | Epoch Time: 0m 2s\n",
      "\tTrain Loss: 0.707 | Train Acc: 49.12%\n",
      "\tTest Loss: 0.698 |  Test Acc: 50.44%\n"
     ]
    },
    {
     "name": "stderr",
     "output_type": "stream",
     "text": [
      "Epoch   2/30:   8%|▊         | 256/3200 [00:00<00:01, 2109.74batch/s]"
     ]
    },
    {
     "name": "stdout",
     "output_type": "stream",
     "text": [
      "Epoch 2/30\n"
     ]
    },
    {
     "name": "stderr",
     "output_type": "stream",
     "text": [
      "Epoch   2/30: 100%|██████████| 3200/3200 [00:02<00:00, 1391.82batch/s, Loss = 0.6944, AUC = 0.51%]\n"
     ]
    },
    {
     "name": "stdout",
     "output_type": "stream",
     "text": [
      "Epoch: 02 | Epoch Time: 0m 2s\n",
      "\tTrain Loss: 0.692 | Train Acc: 53.25%\n",
      "\tTest Loss: 0.694 |  Test Acc: 50.66%\n"
     ]
    },
    {
     "name": "stderr",
     "output_type": "stream",
     "text": [
      "Epoch   3/30:   8%|▊         | 256/3200 [00:00<00:01, 2112.66batch/s]"
     ]
    },
    {
     "name": "stdout",
     "output_type": "stream",
     "text": [
      "Epoch 3/30\n"
     ]
    },
    {
     "name": "stderr",
     "output_type": "stream",
     "text": [
      "Epoch   3/30: 100%|██████████| 3200/3200 [00:02<00:00, 1383.02batch/s, Loss = 0.6929, AUC = 0.51%]\n"
     ]
    },
    {
     "name": "stdout",
     "output_type": "stream",
     "text": [
      "Epoch: 03 | Epoch Time: 0m 2s\n",
      "\tTrain Loss: 0.693 | Train Acc: 52.41%\n",
      "\tTest Loss: 0.693 |  Test Acc: 51.28%\n"
     ]
    },
    {
     "name": "stderr",
     "output_type": "stream",
     "text": [
      "Epoch   4/30:   8%|▊         | 256/3200 [00:00<00:01, 2077.32batch/s]"
     ]
    },
    {
     "name": "stdout",
     "output_type": "stream",
     "text": [
      "Epoch 4/30\n"
     ]
    },
    {
     "name": "stderr",
     "output_type": "stream",
     "text": [
      "Epoch   4/30: 100%|██████████| 3200/3200 [00:02<00:00, 1386.06batch/s, Loss = 0.6913, AUC = 0.52%]\n"
     ]
    },
    {
     "name": "stdout",
     "output_type": "stream",
     "text": [
      "Epoch: 04 | Epoch Time: 0m 2s\n",
      "\tTrain Loss: 0.693 | Train Acc: 50.81%\n",
      "\tTest Loss: 0.691 |  Test Acc: 51.94%\n"
     ]
    },
    {
     "name": "stderr",
     "output_type": "stream",
     "text": [
      "Epoch   5/30:   4%|▍         | 128/3200 [00:00<00:02, 1027.55batch/s]"
     ]
    },
    {
     "name": "stdout",
     "output_type": "stream",
     "text": [
      "Epoch 5/30\n"
     ]
    },
    {
     "name": "stderr",
     "output_type": "stream",
     "text": [
      "Epoch   5/30: 100%|██████████| 3200/3200 [00:02<00:00, 1296.27batch/s, Loss = 0.6908, AUC = 0.53%]\n"
     ]
    },
    {
     "name": "stdout",
     "output_type": "stream",
     "text": [
      "Epoch: 05 | Epoch Time: 0m 2s\n",
      "\tTrain Loss: 0.690 | Train Acc: 52.84%\n",
      "\tTest Loss: 0.691 |  Test Acc: 52.56%\n"
     ]
    },
    {
     "name": "stderr",
     "output_type": "stream",
     "text": [
      "Epoch   6/30:   8%|▊         | 256/3200 [00:00<00:01, 2140.95batch/s]"
     ]
    },
    {
     "name": "stdout",
     "output_type": "stream",
     "text": [
      "Epoch 6/30\n"
     ]
    },
    {
     "name": "stderr",
     "output_type": "stream",
     "text": [
      "Epoch   6/30: 100%|██████████| 3200/3200 [00:02<00:00, 1393.04batch/s, Loss = 0.6928, AUC = 0.51%]\n"
     ]
    },
    {
     "name": "stdout",
     "output_type": "stream",
     "text": [
      "Epoch: 06 | Epoch Time: 0m 2s\n",
      "\tTrain Loss: 0.690 | Train Acc: 54.09%\n",
      "\tTest Loss: 0.693 |  Test Acc: 50.78%\n"
     ]
    },
    {
     "name": "stderr",
     "output_type": "stream",
     "text": [
      "Epoch   7/30:   8%|▊         | 256/3200 [00:00<00:01, 1941.69batch/s]"
     ]
    },
    {
     "name": "stdout",
     "output_type": "stream",
     "text": [
      "Epoch 7/30\n"
     ]
    },
    {
     "name": "stderr",
     "output_type": "stream",
     "text": [
      "Epoch   7/30: 100%|██████████| 3200/3200 [00:02<00:00, 1365.90batch/s, Loss = 0.6926, AUC = 0.50%]\n"
     ]
    },
    {
     "name": "stdout",
     "output_type": "stream",
     "text": [
      "Epoch: 07 | Epoch Time: 0m 2s\n",
      "\tTrain Loss: 0.688 | Train Acc: 54.81%\n",
      "\tTest Loss: 0.693 |  Test Acc: 50.22%\n"
     ]
    },
    {
     "name": "stderr",
     "output_type": "stream",
     "text": [
      "Epoch   8/30:   8%|▊         | 256/3200 [00:00<00:01, 2120.64batch/s]"
     ]
    },
    {
     "name": "stdout",
     "output_type": "stream",
     "text": [
      "Epoch 8/30\n"
     ]
    },
    {
     "name": "stderr",
     "output_type": "stream",
     "text": [
      "Epoch   8/30: 100%|██████████| 3200/3200 [00:02<00:00, 1284.64batch/s, Loss = 0.6850, AUC = 0.57%]\n"
     ]
    },
    {
     "name": "stdout",
     "output_type": "stream",
     "text": [
      "Epoch: 08 | Epoch Time: 0m 2s\n",
      "\tTrain Loss: 0.683 | Train Acc: 56.16%\n",
      "\tTest Loss: 0.685 |  Test Acc: 56.97%\n"
     ]
    },
    {
     "name": "stderr",
     "output_type": "stream",
     "text": [
      "Epoch   9/30:   8%|▊         | 256/3200 [00:00<00:01, 2048.47batch/s]"
     ]
    },
    {
     "name": "stdout",
     "output_type": "stream",
     "text": [
      "Epoch 9/30\n"
     ]
    },
    {
     "name": "stderr",
     "output_type": "stream",
     "text": [
      "Epoch   9/30: 100%|██████████| 3200/3200 [00:02<00:00, 1388.21batch/s, Loss = 0.6811, AUC = 0.58%]\n"
     ]
    },
    {
     "name": "stdout",
     "output_type": "stream",
     "text": [
      "Epoch: 09 | Epoch Time: 0m 2s\n",
      "\tTrain Loss: 0.677 | Train Acc: 58.25%\n",
      "\tTest Loss: 0.681 |  Test Acc: 57.63%\n"
     ]
    },
    {
     "name": "stderr",
     "output_type": "stream",
     "text": [
      "Epoch  10/30:   8%|▊         | 256/3200 [00:00<00:01, 2083.13batch/s]"
     ]
    },
    {
     "name": "stdout",
     "output_type": "stream",
     "text": [
      "Epoch 10/30\n"
     ]
    },
    {
     "name": "stderr",
     "output_type": "stream",
     "text": [
      "Epoch  10/30: 100%|██████████| 3200/3200 [00:02<00:00, 1381.59batch/s, Loss = 0.6741, AUC = 0.58%]\n"
     ]
    },
    {
     "name": "stdout",
     "output_type": "stream",
     "text": [
      "Epoch: 10 | Epoch Time: 0m 2s\n",
      "\tTrain Loss: 0.670 | Train Acc: 60.38%\n",
      "\tTest Loss: 0.674 |  Test Acc: 57.66%\n"
     ]
    },
    {
     "name": "stderr",
     "output_type": "stream",
     "text": [
      "Epoch  11/30:   8%|▊         | 256/3200 [00:00<00:01, 2039.60batch/s]"
     ]
    },
    {
     "name": "stdout",
     "output_type": "stream",
     "text": [
      "Epoch 11/30\n"
     ]
    },
    {
     "name": "stderr",
     "output_type": "stream",
     "text": [
      "Epoch  11/30: 100%|██████████| 3200/3200 [00:02<00:00, 1376.39batch/s, Loss = 0.6659, AUC = 0.59%]\n"
     ]
    },
    {
     "name": "stdout",
     "output_type": "stream",
     "text": [
      "Epoch: 11 | Epoch Time: 0m 2s\n",
      "\tTrain Loss: 0.650 | Train Acc: 64.56%\n",
      "\tTest Loss: 0.666 |  Test Acc: 58.81%\n"
     ]
    },
    {
     "name": "stderr",
     "output_type": "stream",
     "text": [
      "Epoch  12/30:   8%|▊         | 256/3200 [00:00<00:01, 2148.91batch/s]"
     ]
    },
    {
     "name": "stdout",
     "output_type": "stream",
     "text": [
      "Epoch 12/30\n"
     ]
    },
    {
     "name": "stderr",
     "output_type": "stream",
     "text": [
      "Epoch  12/30: 100%|██████████| 3200/3200 [00:02<00:00, 1403.84batch/s, Loss = 0.6426, AUC = 0.64%]\n"
     ]
    },
    {
     "name": "stdout",
     "output_type": "stream",
     "text": [
      "Epoch: 12 | Epoch Time: 0m 2s\n",
      "\tTrain Loss: 0.627 | Train Acc: 67.47%\n",
      "\tTest Loss: 0.643 |  Test Acc: 63.72%\n"
     ]
    },
    {
     "name": "stderr",
     "output_type": "stream",
     "text": [
      "Epoch  13/30:   8%|▊         | 256/3200 [00:00<00:01, 2117.56batch/s]"
     ]
    },
    {
     "name": "stdout",
     "output_type": "stream",
     "text": [
      "Epoch 13/30\n"
     ]
    },
    {
     "name": "stderr",
     "output_type": "stream",
     "text": [
      "Epoch  13/30: 100%|██████████| 3200/3200 [00:02<00:00, 1391.35batch/s, Loss = 0.6292, AUC = 0.65%]\n"
     ]
    },
    {
     "name": "stdout",
     "output_type": "stream",
     "text": [
      "Epoch: 13 | Epoch Time: 0m 2s\n",
      "\tTrain Loss: 0.587 | Train Acc: 69.69%\n",
      "\tTest Loss: 0.629 |  Test Acc: 64.75%\n"
     ]
    },
    {
     "name": "stderr",
     "output_type": "stream",
     "text": [
      "Epoch  14/30:   8%|▊         | 256/3200 [00:00<00:01, 2116.94batch/s]"
     ]
    },
    {
     "name": "stdout",
     "output_type": "stream",
     "text": [
      "Epoch 14/30\n"
     ]
    },
    {
     "name": "stderr",
     "output_type": "stream",
     "text": [
      "Epoch  14/30: 100%|██████████| 3200/3200 [00:02<00:00, 1375.91batch/s, Loss = 0.6202, AUC = 0.68%]\n"
     ]
    },
    {
     "name": "stdout",
     "output_type": "stream",
     "text": [
      "Epoch: 14 | Epoch Time: 0m 2s\n",
      "\tTrain Loss: 0.547 | Train Acc: 72.34%\n",
      "\tTest Loss: 0.620 |  Test Acc: 67.53%\n"
     ]
    },
    {
     "name": "stderr",
     "output_type": "stream",
     "text": [
      "Epoch  15/30:   8%|▊         | 256/3200 [00:00<00:01, 2041.18batch/s]"
     ]
    },
    {
     "name": "stdout",
     "output_type": "stream",
     "text": [
      "Epoch 15/30\n"
     ]
    },
    {
     "name": "stderr",
     "output_type": "stream",
     "text": [
      "Epoch  15/30: 100%|██████████| 3200/3200 [00:02<00:00, 1400.75batch/s, Loss = 0.6403, AUC = 0.67%]\n"
     ]
    },
    {
     "name": "stdout",
     "output_type": "stream",
     "text": [
      "Epoch: 15 | Epoch Time: 0m 2s\n",
      "\tTrain Loss: 0.514 | Train Acc: 75.22%\n",
      "\tTest Loss: 0.640 |  Test Acc: 67.19%\n"
     ]
    },
    {
     "name": "stderr",
     "output_type": "stream",
     "text": [
      "Epoch  16/30:   8%|▊         | 256/3200 [00:00<00:01, 2094.72batch/s]"
     ]
    },
    {
     "name": "stdout",
     "output_type": "stream",
     "text": [
      "Epoch 16/30\n"
     ]
    },
    {
     "name": "stderr",
     "output_type": "stream",
     "text": [
      "Epoch  16/30: 100%|██████████| 3200/3200 [00:02<00:00, 1396.50batch/s, Loss = 0.6261, AUC = 0.69%]\n"
     ]
    },
    {
     "name": "stdout",
     "output_type": "stream",
     "text": [
      "Epoch: 16 | Epoch Time: 0m 2s\n",
      "\tTrain Loss: 0.476 | Train Acc: 77.47%\n",
      "\tTest Loss: 0.626 |  Test Acc: 69.19%\n"
     ]
    },
    {
     "name": "stderr",
     "output_type": "stream",
     "text": [
      "Epoch  17/30:   8%|▊         | 256/3200 [00:00<00:01, 2143.14batch/s]"
     ]
    },
    {
     "name": "stdout",
     "output_type": "stream",
     "text": [
      "Epoch 17/30\n"
     ]
    },
    {
     "name": "stderr",
     "output_type": "stream",
     "text": [
      "Epoch  17/30: 100%|██████████| 3200/3200 [00:02<00:00, 1403.40batch/s, Loss = 0.6019, AUC = 0.71%]\n"
     ]
    },
    {
     "name": "stdout",
     "output_type": "stream",
     "text": [
      "Epoch: 17 | Epoch Time: 0m 2s\n",
      "\tTrain Loss: 0.459 | Train Acc: 78.69%\n",
      "\tTest Loss: 0.602 |  Test Acc: 70.66%\n"
     ]
    },
    {
     "name": "stderr",
     "output_type": "stream",
     "text": [
      "Epoch  18/30:   8%|▊         | 256/3200 [00:00<00:01, 2104.50batch/s]"
     ]
    },
    {
     "name": "stdout",
     "output_type": "stream",
     "text": [
      "Epoch 18/30\n"
     ]
    },
    {
     "name": "stderr",
     "output_type": "stream",
     "text": [
      "Epoch  18/30: 100%|██████████| 3200/3200 [00:02<00:00, 1394.41batch/s, Loss = 0.6160, AUC = 0.71%]\n"
     ]
    },
    {
     "name": "stdout",
     "output_type": "stream",
     "text": [
      "Epoch: 18 | Epoch Time: 0m 2s\n",
      "\tTrain Loss: 0.420 | Train Acc: 81.00%\n",
      "\tTest Loss: 0.616 |  Test Acc: 70.94%\n"
     ]
    },
    {
     "name": "stderr",
     "output_type": "stream",
     "text": [
      "Epoch  19/30:   8%|▊         | 256/3200 [00:00<00:01, 2074.63batch/s]"
     ]
    },
    {
     "name": "stdout",
     "output_type": "stream",
     "text": [
      "Epoch 19/30\n"
     ]
    },
    {
     "name": "stderr",
     "output_type": "stream",
     "text": [
      "Epoch  19/30: 100%|██████████| 3200/3200 [00:02<00:00, 1391.08batch/s, Loss = 0.6197, AUC = 0.71%]\n"
     ]
    },
    {
     "name": "stdout",
     "output_type": "stream",
     "text": [
      "Epoch: 19 | Epoch Time: 0m 2s\n",
      "\tTrain Loss: 0.408 | Train Acc: 81.91%\n",
      "\tTest Loss: 0.620 |  Test Acc: 71.22%\n"
     ]
    },
    {
     "name": "stderr",
     "output_type": "stream",
     "text": [
      "Epoch  20/30:   8%|▊         | 256/3200 [00:00<00:01, 2126.85batch/s]"
     ]
    },
    {
     "name": "stdout",
     "output_type": "stream",
     "text": [
      "Epoch 20/30\n"
     ]
    },
    {
     "name": "stderr",
     "output_type": "stream",
     "text": [
      "Epoch  20/30: 100%|██████████| 3200/3200 [00:02<00:00, 1393.94batch/s, Loss = 0.6326, AUC = 0.71%]\n"
     ]
    },
    {
     "name": "stdout",
     "output_type": "stream",
     "text": [
      "Epoch: 20 | Epoch Time: 0m 2s\n",
      "\tTrain Loss: 0.380 | Train Acc: 83.16%\n",
      "\tTest Loss: 0.633 |  Test Acc: 71.09%\n"
     ]
    },
    {
     "name": "stderr",
     "output_type": "stream",
     "text": [
      "Epoch  21/30:   8%|▊         | 256/3200 [00:00<00:01, 2136.61batch/s]"
     ]
    },
    {
     "name": "stdout",
     "output_type": "stream",
     "text": [
      "Epoch 21/30\n"
     ]
    },
    {
     "name": "stderr",
     "output_type": "stream",
     "text": [
      "Epoch  21/30: 100%|██████████| 3200/3200 [00:02<00:00, 1347.80batch/s, Loss = 0.6254, AUC = 0.72%]\n"
     ]
    },
    {
     "name": "stdout",
     "output_type": "stream",
     "text": [
      "Epoch: 21 | Epoch Time: 0m 2s\n",
      "\tTrain Loss: 0.356 | Train Acc: 84.66%\n",
      "\tTest Loss: 0.625 |  Test Acc: 72.09%\n"
     ]
    },
    {
     "name": "stderr",
     "output_type": "stream",
     "text": [
      "Epoch  22/30:   8%|▊         | 256/3200 [00:00<00:01, 2060.05batch/s]"
     ]
    },
    {
     "name": "stdout",
     "output_type": "stream",
     "text": [
      "Epoch 22/30\n"
     ]
    },
    {
     "name": "stderr",
     "output_type": "stream",
     "text": [
      "Epoch  22/30: 100%|██████████| 3200/3200 [00:02<00:00, 1401.37batch/s, Loss = 0.6340, AUC = 0.73%]\n"
     ]
    },
    {
     "name": "stdout",
     "output_type": "stream",
     "text": [
      "Epoch: 22 | Epoch Time: 0m 2s\n",
      "\tTrain Loss: 0.345 | Train Acc: 85.25%\n",
      "\tTest Loss: 0.634 |  Test Acc: 73.03%\n"
     ]
    },
    {
     "name": "stderr",
     "output_type": "stream",
     "text": [
      "Epoch  23/30:   8%|▊         | 256/3200 [00:00<00:01, 2090.09batch/s]"
     ]
    },
    {
     "name": "stdout",
     "output_type": "stream",
     "text": [
      "Epoch 23/30\n"
     ]
    },
    {
     "name": "stderr",
     "output_type": "stream",
     "text": [
      "Epoch  23/30: 100%|██████████| 3200/3200 [00:02<00:00, 1396.87batch/s, Loss = 0.6425, AUC = 0.73%]\n"
     ]
    },
    {
     "name": "stdout",
     "output_type": "stream",
     "text": [
      "Epoch: 23 | Epoch Time: 0m 2s\n",
      "\tTrain Loss: 0.312 | Train Acc: 87.03%\n",
      "\tTest Loss: 0.643 |  Test Acc: 73.34%\n"
     ]
    },
    {
     "name": "stderr",
     "output_type": "stream",
     "text": [
      "Epoch  24/30:   8%|▊         | 256/3200 [00:00<00:01, 2078.08batch/s]"
     ]
    },
    {
     "name": "stdout",
     "output_type": "stream",
     "text": [
      "Epoch 24/30\n"
     ]
    },
    {
     "name": "stderr",
     "output_type": "stream",
     "text": [
      "Epoch  24/30: 100%|██████████| 3200/3200 [00:02<00:00, 1372.11batch/s, Loss = 0.6287, AUC = 0.74%]\n"
     ]
    },
    {
     "name": "stdout",
     "output_type": "stream",
     "text": [
      "Epoch: 24 | Epoch Time: 0m 2s\n",
      "\tTrain Loss: 0.303 | Train Acc: 87.31%\n",
      "\tTest Loss: 0.629 |  Test Acc: 74.47%\n"
     ]
    },
    {
     "name": "stderr",
     "output_type": "stream",
     "text": [
      "Epoch  25/30:   4%|▍         | 128/3200 [00:00<00:03, 817.90batch/s]"
     ]
    },
    {
     "name": "stdout",
     "output_type": "stream",
     "text": [
      "Epoch 25/30\n"
     ]
    },
    {
     "name": "stderr",
     "output_type": "stream",
     "text": [
      "Epoch  25/30: 100%|██████████| 3200/3200 [00:02<00:00, 1324.98batch/s, Loss = 0.6579, AUC = 0.74%]\n"
     ]
    },
    {
     "name": "stdout",
     "output_type": "stream",
     "text": [
      "Epoch: 25 | Epoch Time: 0m 2s\n",
      "\tTrain Loss: 0.283 | Train Acc: 88.47%\n",
      "\tTest Loss: 0.658 |  Test Acc: 73.88%\n"
     ]
    },
    {
     "name": "stderr",
     "output_type": "stream",
     "text": [
      "Epoch  26/30:   8%|▊         | 256/3200 [00:00<00:01, 2027.63batch/s]"
     ]
    },
    {
     "name": "stdout",
     "output_type": "stream",
     "text": [
      "Epoch 26/30\n"
     ]
    },
    {
     "name": "stderr",
     "output_type": "stream",
     "text": [
      "Epoch  26/30: 100%|██████████| 3200/3200 [00:02<00:00, 1366.80batch/s, Loss = 0.6571, AUC = 0.74%]\n"
     ]
    },
    {
     "name": "stdout",
     "output_type": "stream",
     "text": [
      "Epoch: 26 | Epoch Time: 0m 2s\n",
      "\tTrain Loss: 0.268 | Train Acc: 89.22%\n",
      "\tTest Loss: 0.657 |  Test Acc: 74.34%\n"
     ]
    },
    {
     "name": "stderr",
     "output_type": "stream",
     "text": [
      "Epoch  27/30:   8%|▊         | 256/3200 [00:00<00:01, 2004.39batch/s]"
     ]
    },
    {
     "name": "stdout",
     "output_type": "stream",
     "text": [
      "Epoch 27/30\n"
     ]
    },
    {
     "name": "stderr",
     "output_type": "stream",
     "text": [
      "Epoch  27/30: 100%|██████████| 3200/3200 [00:02<00:00, 1384.02batch/s, Loss = 0.6956, AUC = 0.74%]\n"
     ]
    },
    {
     "name": "stdout",
     "output_type": "stream",
     "text": [
      "Epoch: 27 | Epoch Time: 0m 2s\n",
      "\tTrain Loss: 0.248 | Train Acc: 90.12%\n",
      "\tTest Loss: 0.696 |  Test Acc: 74.31%\n"
     ]
    },
    {
     "name": "stderr",
     "output_type": "stream",
     "text": [
      "Epoch  28/30:   8%|▊         | 256/3200 [00:00<00:01, 2064.70batch/s]"
     ]
    },
    {
     "name": "stdout",
     "output_type": "stream",
     "text": [
      "Epoch 28/30\n"
     ]
    },
    {
     "name": "stderr",
     "output_type": "stream",
     "text": [
      "Epoch  28/30: 100%|██████████| 3200/3200 [00:02<00:00, 1386.06batch/s, Loss = 0.6986, AUC = 0.74%]\n"
     ]
    },
    {
     "name": "stdout",
     "output_type": "stream",
     "text": [
      "Epoch: 28 | Epoch Time: 0m 2s\n",
      "\tTrain Loss: 0.250 | Train Acc: 90.09%\n",
      "\tTest Loss: 0.699 |  Test Acc: 73.94%\n"
     ]
    },
    {
     "name": "stderr",
     "output_type": "stream",
     "text": [
      "Epoch  29/30:   8%|▊         | 256/3200 [00:00<00:01, 2007.64batch/s]"
     ]
    },
    {
     "name": "stdout",
     "output_type": "stream",
     "text": [
      "Epoch 29/30\n"
     ]
    },
    {
     "name": "stderr",
     "output_type": "stream",
     "text": [
      "Epoch  29/30: 100%|██████████| 3200/3200 [00:02<00:00, 1383.44batch/s, Loss = 0.7113, AUC = 0.75%]\n"
     ]
    },
    {
     "name": "stdout",
     "output_type": "stream",
     "text": [
      "Epoch: 29 | Epoch Time: 0m 2s\n",
      "\tTrain Loss: 0.222 | Train Acc: 92.06%\n",
      "\tTest Loss: 0.711 |  Test Acc: 74.75%\n"
     ]
    },
    {
     "name": "stderr",
     "output_type": "stream",
     "text": [
      "Epoch  30/30:   8%|▊         | 256/3200 [00:00<00:01, 2108.24batch/s]"
     ]
    },
    {
     "name": "stdout",
     "output_type": "stream",
     "text": [
      "Epoch 30/30\n"
     ]
    },
    {
     "name": "stderr",
     "output_type": "stream",
     "text": [
      "Epoch  30/30: 100%|██████████| 3200/3200 [00:02<00:00, 1369.59batch/s, Loss = 0.7155, AUC = 0.75%]"
     ]
    },
    {
     "name": "stdout",
     "output_type": "stream",
     "text": [
      "Epoch: 30 | Epoch Time: 0m 2s\n",
      "\tTrain Loss: 0.214 | Train Acc: 91.56%\n",
      "\tTest Loss: 0.715 |  Test Acc: 74.88%\n",
      "TOTAL TIME = 70.62s\n",
      "BEST ACC = 0.75% AT EPOCH 30\n"
     ]
    },
    {
     "name": "stderr",
     "output_type": "stream",
     "text": [
      "\n"
     ]
    }
   ],
   "source": [
    "train_loss, train_acc, test_loss, test_acc = main(total_size=3200, batch_size=64)"
   ]
  },
  {
   "cell_type": "code",
   "execution_count": 5,
   "metadata": {
    "metadata": {}
   },
   "outputs": [
    {
     "data": {
      "image/png": "[encoded data removed]",
      "text/plain": [
       "<Figure size 1200x500 with 2 Axes>"
      ]
     },
     "metadata": {},
     "output_type": "display_data"
    }
   ],
   "source": [
    "import matplotlib.pyplot as plt\n",
    "import seaborn as sns\n",
    "\n",
    "sns.set_theme()\n",
    "\n",
    "# plt.style.use(\"classic\")\n",
    "# plt.style.use(\"dark_background\")\n",
    "\n",
    "epochs = range(1, len(train_loss) + 1)\n",
    "\n",
    "plt.figure(figsize=(12, 5))\n",
    "plt.subplot(1, 2, 1)\n",
    "plt.plot(epochs, train_loss, \"b-\", label=\"Train Loss\")\n",
    "plt.plot(epochs, test_loss, \"r-\", label=\"Test Loss\")\n",
    "plt.title(\"Train and Test Loss\")\n",
    "plt.xlabel(\"Epochs\")\n",
    "plt.ylabel(\"Loss\")\n",
    "plt.legend()\n",
    "\n",
    "plt.subplot(1, 2, 2)\n",
    "plt.plot(epochs, train_acc, \"b-\", label=\"Train Accuracy\")\n",
    "plt.plot(epochs, test_acc, \"r-\", label=\"Test Accuracy\")\n",
    "plt.title(\"Train and Test Accuracy\")\n",
    "plt.xlabel(\"Epochs\")\n",
    "plt.ylabel(\"Accuracy\")\n",
    "plt.legend()\n",
    "\n",
    "plt.tight_layout()\n",
    "plt.show()"
   ]
  }
 ],
 "metadata": {
  "kernelspec": {
   "display_name": "quantum",
   "language": "python",
   "name": "python3"
  },
  "language_info": {
   "codemirror_mode": {
    "name": "ipython",
    "version": 3
   },
   "file_extension": ".py",
   "mimetype": "text/x-python",
   "name": "python",
   "nbconvert_exporter": "python",
   "pygments_lexer": "ipython3",
   "version": "3.11.8"
  }
 },
 "nbformat": 4,
 "nbformat_minor": 2
}
