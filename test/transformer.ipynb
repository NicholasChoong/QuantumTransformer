{
 "cells": [
  {
   "cell_type": "code",
   "execution_count": 1,
   "metadata": {},
   "outputs": [
    {
     "data": {
      "text/plain": [
       "'c:\\\\web-dev\\\\QuantumTransformer'"
      ]
     },
     "execution_count": 1,
     "metadata": {},
     "output_type": "execute_result"
    }
   ],
   "source": [
    "import os\n",
    "import sys\n",
    "\n",
    "os.chdir(\"..\")\n",
    "sys.path.append(os.getcwd())\n",
    "os.getcwd()"
   ]
  },
  {
   "cell_type": "code",
   "execution_count": 2,
   "metadata": {},
   "outputs": [],
   "source": [
    "from text_classifier.main import main"
   ]
  },
  {
   "cell_type": "code",
   "execution_count": 3,
   "metadata": {},
   "outputs": [
    {
     "data": {
      "text/plain": [
       "device(type='cuda')"
      ]
     },
     "execution_count": 3,
     "metadata": {},
     "output_type": "execute_result"
    }
   ],
   "source": [
    "from config import dev\n",
    "\n",
    "dev"
   ]
  },
  {
   "cell_type": "code",
   "execution_count": 4,
   "metadata": {},
   "outputs": [
    {
     "name": "stdout",
     "output_type": "stream",
     "text": [
      "++ There will be 2 transformer blocks\n",
      "++ Transformer will use 2 qubits and 1 q layers\n",
      "The feed-forward head will use 2 qubits\n",
      "Using quantum device default.qubit.torch\n",
      "weight_shapes = (n_qlayers, n_qubits) = (1, 2)\n",
      "The model has 40,063 trainable parameters\n",
      "Epoch 1/5\n",
      "Epoch: 01 | Epoch Time: 21m 53s\n",
      "\tTrain Loss: 0.023 | Train Acc: 1.58%\n",
      "\t Val. Loss: 0.022 |  Val. Acc: 1.54%\n",
      "Epoch 2/5\n",
      "Epoch: 02 | Epoch Time: 22m 2s\n",
      "\tTrain Loss: 0.022 | Train Acc: 1.58%\n",
      "\t Val. Loss: 0.022 |  Val. Acc: 1.54%\n",
      "Epoch 3/5\n",
      "Epoch: 03 | Epoch Time: 20m 40s\n",
      "\tTrain Loss: 0.022 | Train Acc: 1.58%\n",
      "\t Val. Loss: 0.022 |  Val. Acc: 1.54%\n",
      "Epoch 4/5\n",
      "Epoch: 04 | Epoch Time: 21m 20s\n",
      "\tTrain Loss: 0.022 | Train Acc: 1.58%\n",
      "\t Val. Loss: 0.022 |  Val. Acc: 1.55%\n",
      "Epoch 5/5\n",
      "Epoch: 05 | Epoch Time: 24m 0s\n",
      "\tTrain Loss: 0.022 | Train Acc: 1.58%\n",
      "\t Val. Loss: 0.022 |  Val. Acc: 1.55%\n"
     ]
    }
   ],
   "source": [
    "main()"
   ]
  }
 ],
 "metadata": {
  "kernelspec": {
   "display_name": "quantum",
   "language": "python",
   "name": "python3"
  },
  "language_info": {
   "codemirror_mode": {
    "name": "ipython",
    "version": 3
   },
   "file_extension": ".py",
   "mimetype": "text/x-python",
   "name": "python",
   "nbconvert_exporter": "python",
   "pygments_lexer": "ipython3",
   "version": "3.11.8"
  }
 },
 "nbformat": 4,
 "nbformat_minor": 2
}
