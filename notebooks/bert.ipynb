{
 "cells": [
  {
   "cell_type": "code",
   "execution_count": 1,
   "metadata": {},
   "outputs": [
    {
     "data": {
      "text/plain": [
       "'/group/pmc026/nchoong/QuantumTransformer'"
      ]
     },
     "execution_count": 1,
     "metadata": {},
     "output_type": "execute_result"
    }
   ],
   "source": [
    "import torch\n",
    "import glob\n",
    "import pickle\n",
    "import os\n",
    "import sys\n",
    "\n",
    "from typing import Literal\n",
    "\n",
    "os.chdir(\"..\")\n",
    "sys.path.append(os.getcwd())\n",
    "os.getcwd()"
   ]
  },
  {
   "cell_type": "code",
   "execution_count": 2,
   "metadata": {},
   "outputs": [
    {
     "data": {
      "text/plain": [
       "['data/word_embeddings/imdb_train_batch_0.pt',\n",
       " 'data/word_embeddings/imdb_train_batch_1.pt',\n",
       " 'data/word_embeddings/imdb_train_batch_2.pt',\n",
       " 'data/word_embeddings/imdb_train_batch_3.pt',\n",
       " 'data/word_embeddings/imdb_train_batch_4.pt',\n",
       " 'data/word_embeddings/imdb_train_batch_5.pt',\n",
       " 'data/word_embeddings/imdb_train_batch_6.pt']"
      ]
     },
     "execution_count": 2,
     "metadata": {},
     "output_type": "execute_result"
    }
   ],
   "source": [
    "file_list = glob.glob(\"data/word_embeddings/imdb_train_batch_*.pt\")\n",
    "file_list"
   ]
  },
  {
   "cell_type": "code",
   "execution_count": 3,
   "metadata": {},
   "outputs": [
    {
     "name": "stdout",
     "output_type": "stream",
     "text": [
      "Combined tensor shape: torch.Size([20000, 128, 768])\n"
     ]
    }
   ],
   "source": [
    "tensor_list = [torch.load(f) for f in sorted(file_list)]\n",
    "combined_tensor = torch.cat(tensor_list, dim=0)\n",
    "print(f\"Combined tensor shape: {combined_tensor.shape}\")"
   ]
  },
  {
   "cell_type": "code",
   "execution_count": 6,
   "metadata": {},
   "outputs": [
    {
     "name": "stdout",
     "output_type": "stream",
     "text": [
      "Combined tensor shape: 768\n"
     ]
    }
   ],
   "source": [
    "print(f\"Combined tensor shape: {combined_tensor.shape[-1]}\")"
   ]
  },
  {
   "cell_type": "code",
   "execution_count": 4,
   "metadata": {},
   "outputs": [
    {
     "data": {
      "text/plain": [
       "20000"
      ]
     },
     "execution_count": 4,
     "metadata": {},
     "output_type": "execute_result"
    }
   ],
   "source": [
    "with open(\"data/word_labels/imdb_train_labels.pkl\", \"rb\") as f:\n",
    "    word_labels = pickle.load(f)\n",
    "\n",
    "len(word_labels)"
   ]
  },
  {
   "cell_type": "code",
   "execution_count": 5,
   "metadata": {},
   "outputs": [
    {
     "data": {
      "text/plain": [
       "[(1,\n",
       "  tensor([[-0.3903, -0.0062,  0.1094,  ...,  0.0678,  0.3269,  0.7495],\n",
       "          [ 0.2963,  0.5473, -0.3386,  ..., -0.0206,  0.5701, -0.6230],\n",
       "          [ 0.9159,  0.4148,  0.0028,  ..., -0.0825,  0.0944, -0.0690],\n",
       "          ...,\n",
       "          [ 0.6324,  0.2350,  0.2655,  ...,  0.5840, -0.2324, -0.5139],\n",
       "          [-0.4939, -0.4040, -0.1704,  ...,  0.7217,  0.3663,  0.2065],\n",
       "          [ 0.2580,  0.3487,  0.1932,  ...,  0.2904, -0.0251,  0.0480]])),\n",
       " (1,\n",
       "  tensor([[-0.3592, -0.3627,  0.4163,  ..., -0.8001,  0.5461, -0.0842],\n",
       "          [-0.3706, -0.3693, -0.4358,  ...,  0.4339,  1.2432, -0.6204],\n",
       "          [-0.5736, -0.9523, -0.3636,  ...,  0.6015,  0.9186, -0.3631],\n",
       "          ...,\n",
       "          [-0.2705, -0.4833,  0.4079,  ...,  0.4919, -0.0573, -0.3485],\n",
       "          [-0.3036, -0.5303,  0.4728,  ...,  0.4990, -0.0118, -0.3851],\n",
       "          [-0.3089, -0.4907,  0.6327,  ...,  0.3892,  0.0110, -0.3043]])),\n",
       " (0,\n",
       "  tensor([[-0.0461, -0.6313,  0.1569,  ..., -0.3000,  0.7552, -0.0166],\n",
       "          [ 0.3028,  0.2247,  0.8393,  ..., -0.3268,  0.7876,  0.1043],\n",
       "          [-0.7206,  0.3292,  0.2570,  ..., -0.3020,  0.5969,  0.4579],\n",
       "          ...,\n",
       "          [ 0.2439, -0.0170,  0.1010,  ...,  0.3932, -0.3401, -0.5761],\n",
       "          [ 0.3808, -1.0065,  0.0922,  ..., -0.1214,  0.4704,  0.0235],\n",
       "          [-0.2495, -0.2737,  0.7075,  ...,  0.1674,  0.3373, -0.4742]])),\n",
       " (1,\n",
       "  tensor([[-0.4862, -0.0267,  0.3505,  ..., -0.7800,  0.9434, -0.2540],\n",
       "          [-0.0014, -0.1268,  0.0442,  ..., -0.0073,  0.7484,  0.1181],\n",
       "          [-0.0409,  0.5697,  0.7639,  ..., -0.6050,  0.4366, -0.3351],\n",
       "          ...,\n",
       "          [ 0.6502,  0.1962,  0.2786,  ..., -0.7292,  0.6918,  0.5466],\n",
       "          [ 0.2281, -0.4339,  0.7597,  ..., -0.3222,  0.1333, -0.0520],\n",
       "          [-0.2376,  0.2884,  0.7169,  ...,  0.0553,  0.2371, -0.1903]])),\n",
       " (1,\n",
       "  tensor([[-0.1443, -0.1774, -0.0300,  ..., -0.7464,  0.9347,  0.1723],\n",
       "          [ 0.1815,  0.2755,  0.1911,  ...,  0.2878,  1.3501,  0.2548],\n",
       "          [-0.4836,  0.3115,  0.7501,  ..., -0.5132,  0.6822,  0.5592],\n",
       "          ...,\n",
       "          [-0.6757, -0.4079,  0.1045,  ...,  0.2391, -0.1476, -0.1092],\n",
       "          [-0.2741, -1.2326,  0.0383,  ...,  0.0142,  0.2291, -0.2850],\n",
       "          [-0.0903,  0.4222,  0.4869,  ...,  0.1782,  0.1808,  0.1749]])),\n",
       " (1,\n",
       "  tensor([[-0.3231,  0.0020, -0.1189,  ..., -0.3418,  0.8438,  0.3410],\n",
       "          [-1.0063,  0.2528, -0.3713,  ...,  0.0144,  0.7163,  1.0223],\n",
       "          [-0.5847, -0.1755,  0.6043,  ..., -0.7570,  0.9494,  0.5706],\n",
       "          ...,\n",
       "          [-0.4766, -0.0964,  0.6742,  ...,  0.2342,  0.0141, -0.1953],\n",
       "          [-0.5937, -0.3553,  0.6114,  ...,  0.3614,  0.3669, -0.2255],\n",
       "          [-0.3289, -0.0299,  0.7094,  ...,  0.1403,  0.0116, -0.1420]])),\n",
       " (1,\n",
       "  tensor([[-0.4249, -0.5773, -0.6459,  ...,  0.0789,  0.3825,  0.5529],\n",
       "          [-0.5178, -0.2923, -0.9528,  ...,  0.5817,  1.0837,  0.5754],\n",
       "          [-0.4177, -0.3394,  0.0211,  ..., -0.1875,  0.1057,  0.7818],\n",
       "          ...,\n",
       "          [-0.4937,  0.2867,  0.1805,  ..., -0.3844, -0.2141,  0.8838],\n",
       "          [-1.3784, -1.0144, -1.2423,  ...,  0.3367, -0.8453,  0.7353],\n",
       "          [ 0.2211,  0.4499, -0.0798,  ..., -0.1267,  0.2750,  0.3535]])),\n",
       " (1,\n",
       "  tensor([[-0.0098, -0.1989, -0.3775,  ...,  0.2189,  0.6265,  0.2613],\n",
       "          [ 0.1589,  0.1022, -0.0402,  ..., -0.1099,  0.3537,  0.7623],\n",
       "          [-1.0694, -0.4815, -0.1728,  ..., -0.9815, -0.2486,  0.1122],\n",
       "          ...,\n",
       "          [ 0.4504, -0.2292,  0.0134,  ..., -0.4522,  0.7414, -0.3418],\n",
       "          [-0.1710,  0.0127,  0.6273,  ..., -0.7344,  0.4658, -0.4237],\n",
       "          [ 0.5757,  0.3443, -0.1458,  ...,  0.0327, -0.6552, -0.2364]])),\n",
       " (1,\n",
       "  tensor([[-1.2372, -0.5373,  0.1108,  ..., -0.1787,  0.9492, -0.0580],\n",
       "          [ 0.7294, -0.3506, -0.0503,  ...,  0.7312,  0.4811, -0.7311],\n",
       "          [ 0.2646,  0.0065,  0.6647,  ...,  0.1607,  0.7946, -0.4404],\n",
       "          ...,\n",
       "          [-0.2548, -0.6338,  0.6092,  ...,  0.0924,  0.5482, -0.1335],\n",
       "          [-0.9569, -0.7244, -0.5321,  ...,  0.5601,  0.8775, -0.7199],\n",
       "          [-0.5423, -0.5257, -0.0261,  ...,  0.2129,  0.3512, -0.4687]])),\n",
       " (0,\n",
       "  tensor([[ 0.1814,  0.2389,  0.4056,  ..., -0.2946,  0.6424,  0.0807],\n",
       "          [-0.8128,  0.5659,  0.4551,  ...,  0.6464,  0.7926,  0.2147],\n",
       "          [-1.3376,  0.2608,  0.6123,  ...,  0.8167,  0.3490, -0.0674],\n",
       "          ...,\n",
       "          [ 0.0435,  0.6339,  1.6690,  ..., -0.2033,  0.4278, -0.4160],\n",
       "          [ 0.2786,  0.0544,  0.3246,  ..., -0.1270,  0.7541,  0.3631],\n",
       "          [ 0.4599,  0.5879,  0.5191,  ...,  0.3945, -0.5525, -0.4727]]))]"
      ]
     },
     "execution_count": 5,
     "metadata": {},
     "output_type": "execute_result"
    }
   ],
   "source": [
    "list(zip(word_labels, combined_tensor))[0:10]"
   ]
  },
  {
   "cell_type": "code",
   "execution_count": 5,
   "metadata": {},
   "outputs": [],
   "source": [
    "def get_dataset(\n",
    "    name: Literal[\"amazon\", \"imdb\", \"yelp\"], type: Literal[\"train\", \"val\", \"test\"]\n",
    "):\n",
    "    file_list = glob.glob(f\"data/word_embeddings/{name}_{type}_batch_*.pt\")\n",
    "    tensor_list = [torch.load(f) for f in sorted(file_list)]\n",
    "    combined_tensor = torch.cat(tensor_list, dim=0)\n",
    "    with open(f\"data/word_labels/{name}_{type}_labels.pkl\", \"rb\") as f:\n",
    "        word_labels = pickle.load(f)\n",
    "    return combined_tensor, word_labels"
   ]
  },
  {
   "cell_type": "code",
   "execution_count": 6,
   "metadata": {},
   "outputs": [],
   "source": [
    "def load_dataset(name: Literal[\"amazon\", \"imdb\", \"yelp\"]):\n",
    "    train_data, train_labels = get_dataset(name, \"train\")\n",
    "    val_data, val_labels = get_dataset(name, \"val\")\n",
    "    test_data, test_labels = get_dataset(name, \"test\")\n",
    "    dataset = {}\n",
    "    dataset[\"train\"] = (train_labels, train_data)\n",
    "    dataset[\"val\"] = (val_labels, val_data)\n",
    "    dataset[\"test\"] = (test_labels, test_data)\n",
    "    return dataset"
   ]
  },
  {
   "cell_type": "code",
   "execution_count": 8,
   "metadata": {},
   "outputs": [],
   "source": [
    "dataset = load_dataset(\"imdb\")"
   ]
  },
  {
   "cell_type": "code",
   "execution_count": 11,
   "metadata": {},
   "outputs": [
    {
     "data": {
      "text/plain": [
       "(20000, torch.Size([20000, 128, 768]))"
      ]
     },
     "execution_count": 11,
     "metadata": {},
     "output_type": "execute_result"
    }
   ],
   "source": [
    "len(dataset[\"train\"][0]), dataset[\"train\"][1].shape"
   ]
  }
 ],
 "metadata": {
  "kernelspec": {
   "display_name": "Python 3",
   "language": "python",
   "name": "python3"
  },
  "language_info": {
   "codemirror_mode": {
    "name": "ipython",
    "version": 3
   },
   "file_extension": ".py",
   "mimetype": "text/x-python",
   "name": "python",
   "nbconvert_exporter": "python",
   "pygments_lexer": "ipython3",
   "version": "3.11.8"
  }
 },
 "nbformat": 4,
 "nbformat_minor": 2
}
