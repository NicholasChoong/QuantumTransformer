{
 "cells": [
  {
   "cell_type": "code",
   "execution_count": 1,
   "metadata": {
    "execution": {
     "iopub.execute_input": "2024-05-28T14:04:06.243095Z",
     "iopub.status.busy": "2024-05-28T14:04:06.242575Z",
     "iopub.status.idle": "2024-05-28T14:04:06.254466Z",
     "shell.execute_reply": "2024-05-28T14:04:06.253696Z"
    },
    "metadata": {}
   },
   "outputs": [
    {
     "data": {
      "text/plain": [
       "'/home/nchoong/QuantumTransformer'"
      ]
     },
     "execution_count": 1,
     "metadata": {},
     "output_type": "execute_result"
    }
   ],
   "source": [
    "import os\n",
    "import sys\n",
    "\n",
    "os.chdir(\"..\")\n",
    "sys.path.append(os.getcwd())\n",
    "os.getcwd()"
   ]
  },
  {
   "cell_type": "code",
   "execution_count": 2,
   "metadata": {
    "execution": {
     "iopub.execute_input": "2024-05-28T14:04:06.294440Z",
     "iopub.status.busy": "2024-05-28T14:04:06.294013Z",
     "iopub.status.idle": "2024-05-28T14:04:08.948820Z",
     "shell.execute_reply": "2024-05-28T14:04:08.947860Z"
    }
   },
   "outputs": [],
   "source": [
    "from text_classifier.main import main"
   ]
  },
  {
   "cell_type": "code",
   "execution_count": 3,
   "metadata": {
    "execution": {
     "iopub.execute_input": "2024-05-28T14:04:08.956376Z",
     "iopub.status.busy": "2024-05-28T14:04:08.955307Z",
     "iopub.status.idle": "2024-05-28T14:04:08.961918Z",
     "shell.execute_reply": "2024-05-28T14:04:08.961087Z"
    },
    "metadata": {}
   },
   "outputs": [
    {
     "data": {
      "text/plain": [
       "device(type='cuda')"
      ]
     },
     "execution_count": 3,
     "metadata": {},
     "output_type": "execute_result"
    }
   ],
   "source": [
    "from config import dev\n",
    "\n",
    "dev"
   ]
  },
  {
   "cell_type": "code",
   "execution_count": 4,
   "metadata": {
    "execution": {
     "iopub.execute_input": "2024-05-28T14:04:08.965683Z",
     "iopub.status.busy": "2024-05-28T14:04:08.965301Z",
     "iopub.status.idle": "2024-05-28T14:13:04.223205Z",
     "shell.execute_reply": "2024-05-28T14:13:04.222611Z"
    },
    "metadata": {}
   },
   "outputs": [
    {
     "name": "stdout",
     "output_type": "stream",
     "text": [
      "pos:  12500\n",
      "neg:  12500\n"
     ]
    },
    {
     "name": "stdout",
     "output_type": "stream",
     "text": [
      "++ There will be 6 transformer blocks\n",
      "The model has 402,601 trainable parameters\n"
     ]
    },
    {
     "name": "stdout",
     "output_type": "stream",
     "text": [
      "Epoch 1/30\n"
     ]
    },
    {
     "name": "stdout",
     "output_type": "stream",
     "text": [
      "| ID | GPU | MEM |\n",
      "------------------\n",
      "|  0 | 59% | 10% |\n",
      "|  1 |  0% |  0% |\n"
     ]
    },
    {
     "name": "stdout",
     "output_type": "stream",
     "text": [
      "Epoch: 01 | Epoch Time: 0m 18s\n",
      "\tTrain Loss: 0.696 | Train Acc: 49.53%\n",
      "\tTest Loss: 0.693 |  Test Acc: 50.95%\n",
      "Epoch 2/30\n"
     ]
    },
    {
     "name": "stdout",
     "output_type": "stream",
     "text": [
      "| ID | GPU | MEM |\n",
      "------------------\n",
      "|  0 | 51% | 10% |\n",
      "|  1 |  0% |  0% |\n"
     ]
    },
    {
     "name": "stdout",
     "output_type": "stream",
     "text": [
      "Epoch: 02 | Epoch Time: 0m 17s\n",
      "\tTrain Loss: 0.694 | Train Acc: 50.67%\n",
      "\tTest Loss: 0.693 |  Test Acc: 51.49%\n",
      "Epoch 3/30\n"
     ]
    },
    {
     "name": "stdout",
     "output_type": "stream",
     "text": [
      "| ID | GPU | MEM |\n",
      "------------------\n",
      "|  0 | 59% | 10% |\n",
      "|  1 |  0% |  0% |\n"
     ]
    },
    {
     "name": "stdout",
     "output_type": "stream",
     "text": [
      "Epoch: 03 | Epoch Time: 0m 17s\n",
      "\tTrain Loss: 0.693 | Train Acc: 51.23%\n",
      "\tTest Loss: 0.692 |  Test Acc: 52.17%\n",
      "Epoch 4/30\n"
     ]
    },
    {
     "name": "stdout",
     "output_type": "stream",
     "text": [
      "| ID | GPU | MEM |\n",
      "------------------\n",
      "|  0 | 55% | 10% |\n",
      "|  1 |  0% |  0% |\n"
     ]
    },
    {
     "name": "stdout",
     "output_type": "stream",
     "text": [
      "Epoch: 04 | Epoch Time: 0m 17s\n",
      "\tTrain Loss: 0.685 | Train Acc: 54.83%\n",
      "\tTest Loss: 0.668 |  Test Acc: 59.06%\n",
      "Epoch 5/30\n"
     ]
    },
    {
     "name": "stdout",
     "output_type": "stream",
     "text": [
      "| ID | GPU | MEM |\n",
      "------------------\n",
      "|  0 | 58% | 10% |\n",
      "|  1 |  0% |  0% |\n"
     ]
    },
    {
     "name": "stdout",
     "output_type": "stream",
     "text": [
      "Epoch: 05 | Epoch Time: 0m 17s\n",
      "\tTrain Loss: 0.614 | Train Acc: 66.77%\n",
      "\tTest Loss: 0.580 |  Test Acc: 70.68%\n",
      "Epoch 6/30\n"
     ]
    },
    {
     "name": "stdout",
     "output_type": "stream",
     "text": [
      "| ID | GPU | MEM |\n",
      "------------------\n",
      "|  0 | 59% | 10% |\n",
      "|  1 |  0% |  0% |\n"
     ]
    },
    {
     "name": "stdout",
     "output_type": "stream",
     "text": [
      "Epoch: 06 | Epoch Time: 0m 17s\n",
      "\tTrain Loss: 0.541 | Train Acc: 73.36%\n",
      "\tTest Loss: 0.510 |  Test Acc: 75.59%\n",
      "Epoch 7/30\n"
     ]
    },
    {
     "name": "stdout",
     "output_type": "stream",
     "text": [
      "| ID | GPU | MEM |\n",
      "------------------\n",
      "|  0 | 51% | 10% |\n",
      "|  1 |  0% |  0% |\n"
     ]
    },
    {
     "name": "stdout",
     "output_type": "stream",
     "text": [
      "Epoch: 07 | Epoch Time: 0m 17s\n",
      "\tTrain Loss: 0.475 | Train Acc: 78.04%\n",
      "\tTest Loss: 0.459 |  Test Acc: 78.70%\n",
      "Epoch 8/30\n"
     ]
    },
    {
     "name": "stdout",
     "output_type": "stream",
     "text": [
      "| ID | GPU | MEM |\n",
      "------------------\n",
      "|  0 | 50% | 10% |\n",
      "|  1 |  0% |  0% |\n"
     ]
    },
    {
     "name": "stdout",
     "output_type": "stream",
     "text": [
      "Epoch: 08 | Epoch Time: 0m 17s\n",
      "\tTrain Loss: 0.435 | Train Acc: 80.65%\n",
      "\tTest Loss: 0.478 |  Test Acc: 79.28%\n",
      "Epoch 9/30\n"
     ]
    },
    {
     "name": "stdout",
     "output_type": "stream",
     "text": [
      "| ID | GPU | MEM |\n",
      "------------------\n",
      "|  0 | 59% | 10% |\n",
      "|  1 |  0% |  0% |\n"
     ]
    },
    {
     "name": "stdout",
     "output_type": "stream",
     "text": [
      "Epoch: 09 | Epoch Time: 0m 17s\n",
      "\tTrain Loss: 0.399 | Train Acc: 82.64%\n",
      "\tTest Loss: 0.421 |  Test Acc: 81.24%\n",
      "Epoch 10/30\n"
     ]
    },
    {
     "name": "stdout",
     "output_type": "stream",
     "text": [
      "| ID | GPU | MEM |\n",
      "------------------\n",
      "|  0 | 59% | 10% |\n",
      "|  1 |  0% |  0% |\n"
     ]
    },
    {
     "name": "stdout",
     "output_type": "stream",
     "text": [
      "Epoch: 10 | Epoch Time: 0m 17s\n",
      "\tTrain Loss: 0.372 | Train Acc: 84.11%\n",
      "\tTest Loss: 0.431 |  Test Acc: 81.84%\n",
      "Epoch 11/30\n"
     ]
    },
    {
     "name": "stdout",
     "output_type": "stream",
     "text": [
      "| ID | GPU | MEM |\n",
      "------------------\n",
      "|  0 | 58% | 10% |\n",
      "|  1 |  0% |  0% |\n"
     ]
    },
    {
     "name": "stdout",
     "output_type": "stream",
     "text": [
      "Epoch: 11 | Epoch Time: 0m 17s\n",
      "\tTrain Loss: 0.348 | Train Acc: 85.11%\n",
      "\tTest Loss: 0.419 |  Test Acc: 82.52%\n",
      "Epoch 12/30\n"
     ]
    },
    {
     "name": "stdout",
     "output_type": "stream",
     "text": [
      "| ID | GPU | MEM |\n",
      "------------------\n",
      "|  0 | 59% | 10% |\n",
      "|  1 |  0% |  0% |\n"
     ]
    },
    {
     "name": "stdout",
     "output_type": "stream",
     "text": [
      "Epoch: 12 | Epoch Time: 0m 17s\n",
      "\tTrain Loss: 0.334 | Train Acc: 86.00%\n",
      "\tTest Loss: 0.391 |  Test Acc: 83.41%\n",
      "Epoch 13/30\n"
     ]
    },
    {
     "name": "stdout",
     "output_type": "stream",
     "text": [
      "| ID | GPU | MEM |\n",
      "------------------\n",
      "|  0 | 51% | 10% |\n",
      "|  1 |  0% |  0% |\n"
     ]
    },
    {
     "name": "stdout",
     "output_type": "stream",
     "text": [
      "Epoch: 13 | Epoch Time: 0m 17s\n",
      "\tTrain Loss: 0.321 | Train Acc: 86.77%\n",
      "\tTest Loss: 0.400 |  Test Acc: 83.51%\n",
      "Epoch 14/30\n"
     ]
    },
    {
     "name": "stdout",
     "output_type": "stream",
     "text": [
      "| ID | GPU | MEM |\n",
      "------------------\n",
      "|  0 | 53% | 10% |\n",
      "|  1 |  0% |  0% |\n"
     ]
    },
    {
     "name": "stdout",
     "output_type": "stream",
     "text": [
      "Epoch: 14 | Epoch Time: 0m 17s\n",
      "\tTrain Loss: 0.307 | Train Acc: 87.22%\n",
      "\tTest Loss: 0.387 |  Test Acc: 83.80%\n",
      "Epoch 15/30\n"
     ]
    },
    {
     "name": "stdout",
     "output_type": "stream",
     "text": [
      "| ID | GPU | MEM |\n",
      "------------------\n",
      "|  0 | 59% | 10% |\n",
      "|  1 |  0% |  0% |\n"
     ]
    },
    {
     "name": "stdout",
     "output_type": "stream",
     "text": [
      "Epoch: 15 | Epoch Time: 0m 17s\n",
      "\tTrain Loss: 0.292 | Train Acc: 87.87%\n",
      "\tTest Loss: 0.389 |  Test Acc: 84.06%\n",
      "Epoch 16/30\n"
     ]
    },
    {
     "name": "stdout",
     "output_type": "stream",
     "text": [
      "| ID | GPU | MEM |\n",
      "------------------\n",
      "|  0 | 52% | 10% |\n",
      "|  1 |  0% |  0% |\n"
     ]
    },
    {
     "name": "stdout",
     "output_type": "stream",
     "text": [
      "Epoch: 16 | Epoch Time: 0m 17s\n",
      "\tTrain Loss: 0.280 | Train Acc: 88.60%\n",
      "\tTest Loss: 0.397 |  Test Acc: 84.32%\n",
      "Epoch 17/30\n"
     ]
    },
    {
     "name": "stdout",
     "output_type": "stream",
     "text": [
      "| ID | GPU | MEM |\n",
      "------------------\n",
      "|  0 | 54% | 10% |\n",
      "|  1 |  0% |  0% |\n"
     ]
    },
    {
     "name": "stdout",
     "output_type": "stream",
     "text": [
      "Epoch: 17 | Epoch Time: 0m 17s\n",
      "\tTrain Loss: 0.274 | Train Acc: 89.06%\n",
      "\tTest Loss: 0.439 |  Test Acc: 83.45%\n",
      "Epoch 18/30\n"
     ]
    },
    {
     "name": "stdout",
     "output_type": "stream",
     "text": [
      "| ID | GPU | MEM |\n",
      "------------------\n",
      "|  0 | 55% | 10% |\n",
      "|  1 |  0% |  0% |\n"
     ]
    },
    {
     "name": "stdout",
     "output_type": "stream",
     "text": [
      "Epoch: 18 | Epoch Time: 0m 17s\n",
      "\tTrain Loss: 0.264 | Train Acc: 89.38%\n",
      "\tTest Loss: 0.432 |  Test Acc: 83.92%\n",
      "Epoch 19/30\n"
     ]
    },
    {
     "name": "stdout",
     "output_type": "stream",
     "text": [
      "| ID | GPU | MEM |\n",
      "------------------\n",
      "|  0 | 54% | 10% |\n",
      "|  1 |  0% |  0% |\n"
     ]
    },
    {
     "name": "stdout",
     "output_type": "stream",
     "text": [
      "Epoch: 19 | Epoch Time: 0m 17s\n",
      "\tTrain Loss: 0.255 | Train Acc: 90.03%\n",
      "\tTest Loss: 0.378 |  Test Acc: 84.84%\n",
      "Epoch 20/30\n"
     ]
    },
    {
     "name": "stdout",
     "output_type": "stream",
     "text": [
      "| ID | GPU | MEM |\n",
      "------------------\n",
      "|  0 | 59% | 10% |\n",
      "|  1 |  0% |  0% |\n"
     ]
    },
    {
     "name": "stdout",
     "output_type": "stream",
     "text": [
      "Epoch: 20 | Epoch Time: 0m 17s\n",
      "\tTrain Loss: 0.246 | Train Acc: 90.44%\n",
      "\tTest Loss: 0.392 |  Test Acc: 84.92%\n",
      "Epoch 21/30\n"
     ]
    },
    {
     "name": "stdout",
     "output_type": "stream",
     "text": [
      "| ID | GPU | MEM |\n",
      "------------------\n",
      "|  0 | 53% | 10% |\n",
      "|  1 |  0% |  0% |\n"
     ]
    },
    {
     "name": "stdout",
     "output_type": "stream",
     "text": [
      "Epoch: 21 | Epoch Time: 0m 17s\n",
      "\tTrain Loss: 0.232 | Train Acc: 90.86%\n",
      "\tTest Loss: 0.411 |  Test Acc: 84.91%\n",
      "Epoch 22/30\n"
     ]
    },
    {
     "name": "stdout",
     "output_type": "stream",
     "text": [
      "| ID | GPU | MEM |\n",
      "------------------\n",
      "|  0 | 52% | 10% |\n",
      "|  1 |  0% |  0% |\n"
     ]
    },
    {
     "name": "stdout",
     "output_type": "stream",
     "text": [
      "Epoch: 22 | Epoch Time: 0m 17s\n",
      "\tTrain Loss: 0.227 | Train Acc: 91.16%\n",
      "\tTest Loss: 0.401 |  Test Acc: 85.11%\n",
      "Epoch 23/30\n"
     ]
    },
    {
     "name": "stdout",
     "output_type": "stream",
     "text": [
      "| ID | GPU | MEM |\n",
      "------------------\n",
      "|  0 | 56% | 10% |\n",
      "|  1 |  0% |  0% |\n"
     ]
    },
    {
     "name": "stdout",
     "output_type": "stream",
     "text": [
      "Epoch: 23 | Epoch Time: 0m 17s\n",
      "\tTrain Loss: 0.219 | Train Acc: 91.64%\n",
      "\tTest Loss: 0.427 |  Test Acc: 84.55%\n",
      "Epoch 24/30\n"
     ]
    },
    {
     "name": "stdout",
     "output_type": "stream",
     "text": [
      "| ID | GPU | MEM |\n",
      "------------------\n",
      "|  0 | 53% | 10% |\n",
      "|  1 |  0% |  0% |\n"
     ]
    },
    {
     "name": "stdout",
     "output_type": "stream",
     "text": [
      "Epoch: 24 | Epoch Time: 0m 17s\n",
      "\tTrain Loss: 0.211 | Train Acc: 91.82%\n",
      "\tTest Loss: 0.405 |  Test Acc: 85.10%\n",
      "Epoch 25/30\n"
     ]
    },
    {
     "name": "stdout",
     "output_type": "stream",
     "text": [
      "| ID | GPU | MEM |\n",
      "------------------\n",
      "|  0 | 59% | 10% |\n",
      "|  1 |  0% |  0% |\n"
     ]
    },
    {
     "name": "stdout",
     "output_type": "stream",
     "text": [
      "Epoch: 25 | Epoch Time: 0m 17s\n",
      "\tTrain Loss: 0.205 | Train Acc: 92.32%\n",
      "\tTest Loss: 0.427 |  Test Acc: 85.39%\n",
      "Epoch 26/30\n"
     ]
    },
    {
     "name": "stdout",
     "output_type": "stream",
     "text": [
      "| ID | GPU | MEM |\n",
      "------------------\n",
      "|  0 | 56% | 10% |\n",
      "|  1 |  0% |  0% |\n"
     ]
    },
    {
     "name": "stdout",
     "output_type": "stream",
     "text": [
      "Epoch: 26 | Epoch Time: 0m 17s\n",
      "\tTrain Loss: 0.195 | Train Acc: 92.57%\n",
      "\tTest Loss: 0.423 |  Test Acc: 85.50%\n",
      "Epoch 27/30\n"
     ]
    },
    {
     "name": "stdout",
     "output_type": "stream",
     "text": [
      "| ID | GPU | MEM |\n",
      "------------------\n",
      "|  0 | 59% | 10% |\n",
      "|  1 |  0% |  0% |\n"
     ]
    },
    {
     "name": "stdout",
     "output_type": "stream",
     "text": [
      "Epoch: 27 | Epoch Time: 0m 17s\n",
      "\tTrain Loss: 0.190 | Train Acc: 92.96%\n",
      "\tTest Loss: 0.459 |  Test Acc: 84.78%\n",
      "Epoch 28/30\n"
     ]
    },
    {
     "name": "stdout",
     "output_type": "stream",
     "text": [
      "| ID | GPU | MEM |\n",
      "------------------\n",
      "|  0 | 57% | 10% |\n",
      "|  1 |  0% |  0% |\n"
     ]
    },
    {
     "name": "stdout",
     "output_type": "stream",
     "text": [
      "Epoch: 28 | Epoch Time: 0m 17s\n",
      "\tTrain Loss: 0.184 | Train Acc: 92.95%\n",
      "\tTest Loss: 0.429 |  Test Acc: 85.16%\n",
      "Epoch 29/30\n"
     ]
    },
    {
     "name": "stdout",
     "output_type": "stream",
     "text": [
      "| ID | GPU | MEM |\n",
      "------------------\n",
      "|  0 | 59% | 10% |\n",
      "|  1 |  0% |  0% |\n"
     ]
    },
    {
     "name": "stdout",
     "output_type": "stream",
     "text": [
      "Epoch: 29 | Epoch Time: 0m 17s\n",
      "\tTrain Loss: 0.175 | Train Acc: 93.49%\n",
      "\tTest Loss: 0.441 |  Test Acc: 85.16%\n",
      "Epoch 30/30\n"
     ]
    },
    {
     "name": "stdout",
     "output_type": "stream",
     "text": [
      "| ID | GPU | MEM |\n",
      "------------------\n",
      "|  0 | 53% | 10% |\n",
      "|  1 |  0% |  0% |\n"
     ]
    },
    {
     "name": "stdout",
     "output_type": "stream",
     "text": [
      "Epoch: 30 | Epoch Time: 0m 17s\n",
      "\tTrain Loss: 0.169 | Train Acc: 93.60%\n",
      "\tTest Loss: 0.457 |  Test Acc: 84.43%\n"
     ]
    }
   ],
   "source": [
    "train_loss, train_acc, test_loss, test_acc = main()"
   ]
  },
  {
   "cell_type": "code",
   "execution_count": 5,
   "metadata": {
    "execution": {
     "iopub.execute_input": "2024-05-28T14:13:04.226952Z",
     "iopub.status.busy": "2024-05-28T14:13:04.226390Z",
     "iopub.status.idle": "2024-05-28T14:13:05.007044Z",
     "shell.execute_reply": "2024-05-28T14:13:05.006467Z"
    },
    "metadata": {}
   },
   "outputs": [
    {
     "data": {
      "image/png": "[encoded data removed]",
      "text/plain": [
       "<Figure size 1200x500 with 2 Axes>"
      ]
     },
     "metadata": {},
     "output_type": "display_data"
    }
   ],
   "source": [
    "import matplotlib.pyplot as plt\n",
    "import seaborn as sns\n",
    "\n",
    "sns.set_theme()\n",
    "\n",
    "# plt.style.use(\"classic\")\n",
    "# plt.style.use(\"dark_background\")\n",
    "\n",
    "epochs = range(1, len(train_loss) + 1)\n",
    "\n",
    "plt.figure(figsize=(12, 5))\n",
    "plt.subplot(1, 2, 1)\n",
    "plt.plot(epochs, train_loss, \"b-\", label=\"Train Loss\")\n",
    "plt.plot(epochs, test_loss, \"r-\", label=\"Test Loss\")\n",
    "plt.title(\"Train and Test Loss\")\n",
    "plt.xlabel(\"Epochs\")\n",
    "plt.ylabel(\"Loss\")\n",
    "plt.legend()\n",
    "\n",
    "plt.subplot(1, 2, 2)\n",
    "plt.plot(epochs, train_acc, \"b-\", label=\"Train Accuracy\")\n",
    "plt.plot(epochs, test_acc, \"r-\", label=\"Test Accuracy\")\n",
    "plt.title(\"Train and Test Accuracy\")\n",
    "plt.xlabel(\"Epochs\")\n",
    "plt.ylabel(\"Accuracy\")\n",
    "plt.legend()\n",
    "\n",
    "plt.tight_layout()\n",
    "plt.show()"
   ]
  }
 ],
 "metadata": {
  "kernelspec": {
   "display_name": "quantum",
   "language": "python",
   "name": "python3"
  },
  "language_info": {
   "codemirror_mode": {
    "name": "ipython",
    "version": 3
   },
   "file_extension": ".py",
   "mimetype": "text/x-python",
   "name": "python",
   "nbconvert_exporter": "python",
   "pygments_lexer": "ipython3",
   "version": "3.12.3"
  }
 },
 "nbformat": 4,
 "nbformat_minor": 2
}
