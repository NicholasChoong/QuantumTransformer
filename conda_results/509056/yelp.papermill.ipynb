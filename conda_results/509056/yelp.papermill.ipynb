{
 "cells": [
  {
   "cell_type": "markdown",
   "id": "35abd913",
   "metadata": {
    "tags": [
     "papermill-error-cell-tag"
    ]
   },
   "source": [
    "<span style=\"color:red; font-family:Helvetica Neue, Helvetica, Arial, sans-serif; font-size:2em;\">An Exception was encountered at '<a href=\"#papermill-error-cell\">In [6]</a>'.</span>"
   ]
  },
  {
   "cell_type": "markdown",
   "id": "85f04e5f",
   "metadata": {
    "papermill": {
     "duration": 0.00751,
     "end_time": "2024-09-29T04:58:31.779011",
     "exception": false,
     "start_time": "2024-09-29T04:58:31.771501",
     "status": "completed"
    },
    "tags": []
   },
   "source": [
    "# Transformers"
   ]
  },
  {
   "cell_type": "code",
   "execution_count": 1,
   "id": "84e13eda",
   "metadata": {
    "execution": {
     "iopub.execute_input": "2024-09-29T04:58:31.792718Z",
     "iopub.status.busy": "2024-09-29T04:58:31.792207Z",
     "iopub.status.idle": "2024-09-29T04:58:31.808913Z",
     "shell.execute_reply": "2024-09-29T04:58:31.807918Z"
    },
    "papermill": {
     "duration": 0.024956,
     "end_time": "2024-09-29T04:58:31.810473",
     "exception": false,
     "start_time": "2024-09-29T04:58:31.785517",
     "status": "completed"
    },
    "tags": []
   },
   "outputs": [
    {
     "data": {
      "text/plain": [
       "'/scratch/pmc026/nchoong/run_conda/509056'"
      ]
     },
     "execution_count": 1,
     "metadata": {},
     "output_type": "execute_result"
    }
   ],
   "source": [
    "import os\n",
    "import sys\n",
    "\n",
    "# os.chdir(\"..\")\n",
    "sys.path.append(os.getcwd())\n",
    "os.getcwd()"
   ]
  },
  {
   "cell_type": "code",
   "execution_count": 2,
   "id": "16676dd6",
   "metadata": {
    "execution": {
     "iopub.execute_input": "2024-09-29T04:58:31.825715Z",
     "iopub.status.busy": "2024-09-29T04:58:31.825323Z",
     "iopub.status.idle": "2024-09-29T04:58:45.231520Z",
     "shell.execute_reply": "2024-09-29T04:58:45.229686Z"
    },
    "papermill": {
     "duration": 13.416933,
     "end_time": "2024-09-29T04:58:45.234105",
     "exception": false,
     "start_time": "2024-09-29T04:58:31.817172",
     "status": "completed"
    },
    "tags": []
   },
   "outputs": [
    {
     "name": "stderr",
     "output_type": "stream",
     "text": [
      "2024-09-29 12:58:35.576662: I tensorflow/core/util/port.cc:153] oneDNN custom operations are on. You may see slightly different numerical results due to floating-point round-off errors from different computation orders. To turn them off, set the environment variable `TF_ENABLE_ONEDNN_OPTS=0`.\n",
      "2024-09-29 12:58:35.588937: E external/local_xla/xla/stream_executor/cuda/cuda_fft.cc:485] Unable to register cuFFT factory: Attempting to register factory for plugin cuFFT when one has already been registered\n",
      "2024-09-29 12:58:35.603977: E external/local_xla/xla/stream_executor/cuda/cuda_dnn.cc:8454] Unable to register cuDNN factory: Attempting to register factory for plugin cuDNN when one has already been registered\n",
      "2024-09-29 12:58:35.608556: E external/local_xla/xla/stream_executor/cuda/cuda_blas.cc:1452] Unable to register cuBLAS factory: Attempting to register factory for plugin cuBLAS when one has already been registered\n",
      "2024-09-29 12:58:35.620064: I tensorflow/core/platform/cpu_feature_guard.cc:210] This TensorFlow binary is optimized to use available CPU instructions in performance-critical operations.\n",
      "To enable the following instructions: AVX2 AVX512F AVX512_VNNI FMA, in other operations, rebuild TensorFlow with the appropriate compiler flags.\n"
     ]
    },
    {
     "name": "stderr",
     "output_type": "stream",
     "text": [
      "2024-09-29 12:58:37.821911: W tensorflow/compiler/tf2tensorrt/utils/py_utils.cc:38] TF-TRT Warning: Could not find TensorRT\n"
     ]
    },
    {
     "name": "stderr",
     "output_type": "stream",
     "text": [
      "Please first ``pip install -U qiskit`` to enable related functionality in translation module\n"
     ]
    }
   ],
   "source": [
    "from transformer.pytorch.main_no_embed import main\n",
    "from transformer.pytorch.utils.plots import plot_metrics\n",
    "from transformer.pytorch.utils.load_dataloader import load_dataloader"
   ]
  },
  {
   "cell_type": "code",
   "execution_count": 3,
   "id": "d905e53b",
   "metadata": {
    "execution": {
     "iopub.execute_input": "2024-09-29T04:58:45.251587Z",
     "iopub.status.busy": "2024-09-29T04:58:45.250382Z",
     "iopub.status.idle": "2024-09-29T04:58:45.260384Z",
     "shell.execute_reply": "2024-09-29T04:58:45.259573Z"
    },
    "papermill": {
     "duration": 0.020303,
     "end_time": "2024-09-29T04:58:45.262204",
     "exception": false,
     "start_time": "2024-09-29T04:58:45.241901",
     "status": "completed"
    },
    "tags": []
   },
   "outputs": [
    {
     "data": {
      "text/plain": [
       "device(type='cuda')"
      ]
     },
     "execution_count": 3,
     "metadata": {},
     "output_type": "execute_result"
    }
   ],
   "source": [
    "from config import dev\n",
    "\n",
    "dev"
   ]
  },
  {
   "cell_type": "code",
   "execution_count": 4,
   "id": "5663392f",
   "metadata": {
    "execution": {
     "iopub.execute_input": "2024-09-29T04:58:45.276851Z",
     "iopub.status.busy": "2024-09-29T04:58:45.276394Z",
     "iopub.status.idle": "2024-09-29T04:58:45.281286Z",
     "shell.execute_reply": "2024-09-29T04:58:45.280250Z"
    },
    "papermill": {
     "duration": 0.01304,
     "end_time": "2024-09-29T04:58:45.282759",
     "exception": false,
     "start_time": "2024-09-29T04:58:45.269719",
     "status": "completed"
    },
    "tags": []
   },
   "outputs": [],
   "source": [
    "import random\n",
    "import numpy as np\n",
    "import torch\n",
    "import tensorflow as tf"
   ]
  },
  {
   "cell_type": "code",
   "execution_count": 5,
   "id": "dafe6f1e",
   "metadata": {
    "execution": {
     "iopub.execute_input": "2024-09-29T04:58:45.296900Z",
     "iopub.status.busy": "2024-09-29T04:58:45.296357Z",
     "iopub.status.idle": "2024-09-29T04:58:45.313445Z",
     "shell.execute_reply": "2024-09-29T04:58:45.312570Z"
    },
    "papermill": {
     "duration": 0.027012,
     "end_time": "2024-09-29T04:58:45.315301",
     "exception": false,
     "start_time": "2024-09-29T04:58:45.288289",
     "status": "completed"
    },
    "tags": []
   },
   "outputs": [],
   "source": [
    "seed = 42\n",
    "\n",
    "os.environ[\"PYTHONHASHSEED\"] = str(seed)\n",
    "random.seed(seed)\n",
    "np.random.seed(seed)\n",
    "tf.random.set_seed(seed)\n",
    "\n",
    "os.environ[\"OMP_NUM_THREADS\"] = str(os.cpu_count())\n",
    "os.environ[\"TF_NUM_INTEROP_THREADS\"] = str(os.cpu_count())\n",
    "os.environ[\"TF_NUM_INTRAOP_THREADS\"] = str(os.cpu_count())\n",
    "\n",
    "tf.config.threading.set_intra_op_parallelism_threads(os.cpu_count())\n",
    "tf.config.threading.set_inter_op_parallelism_threads(os.cpu_count())\n",
    "\n",
    "torch.manual_seed(seed)\n",
    "torch.cuda.manual_seed(seed)\n",
    "torch.backends.cudnn.deterministic = True\n",
    "torch.backends.cudnn.benchmark = False"
   ]
  },
  {
   "cell_type": "markdown",
   "id": "8edaed3c",
   "metadata": {
    "tags": [
     "papermill-error-cell-tag"
    ]
   },
   "source": [
    "<span id=\"papermill-error-cell\" style=\"color:red; font-family:Helvetica Neue, Helvetica, Arial, sans-serif; font-size:2em;\">Execution using papermill encountered an exception here and stopped:</span>"
   ]
  },
  {
   "cell_type": "code",
   "execution_count": 6,
   "id": "ead1ec25",
   "metadata": {
    "execution": {
     "iopub.execute_input": "2024-09-29T04:58:45.331860Z",
     "iopub.status.busy": "2024-09-29T04:58:45.331431Z",
     "iopub.status.idle": "2024-09-29T05:01:57.741504Z",
     "shell.execute_reply": "2024-09-29T05:01:57.740025Z"
    },
    "papermill": {
     "duration": 192.436506,
     "end_time": "2024-09-29T05:01:57.759638",
     "exception": true,
     "start_time": "2024-09-29T04:58:45.323132",
     "status": "failed"
    },
    "tags": []
   },
   "outputs": [
    {
     "name": "stderr",
     "output_type": "stream",
     "text": [
      "\r",
      "Loading train tensors:   0%|          | 0/146 [00:00<?, ?it/s]"
     ]
    },
    {
     "name": "stderr",
     "output_type": "stream",
     "text": [
      "\r",
      "Loading train tensors:   1%|          | 1/146 [00:00<01:03,  2.28it/s]"
     ]
    },
    {
     "name": "stderr",
     "output_type": "stream",
     "text": [
      "\r",
      "Loading train tensors:   1%|▏         | 2/146 [00:00<00:56,  2.55it/s]"
     ]
    },
    {
     "name": "stderr",
     "output_type": "stream",
     "text": [
      "\r",
      "Loading train tensors:   2%|▏         | 3/146 [00:01<01:05,  2.18it/s]"
     ]
    },
    {
     "name": "stderr",
     "output_type": "stream",
     "text": [
      "\r",
      "Loading train tensors:   3%|▎         | 4/146 [00:01<01:15,  1.87it/s]"
     ]
    },
    {
     "name": "stderr",
     "output_type": "stream",
     "text": [
      "\r",
      "Loading train tensors:   3%|▎         | 5/146 [00:02<01:21,  1.74it/s]"
     ]
    },
    {
     "name": "stderr",
     "output_type": "stream",
     "text": [
      "\r",
      "Loading train tensors:   4%|▍         | 6/146 [00:03<01:26,  1.62it/s]"
     ]
    },
    {
     "name": "stderr",
     "output_type": "stream",
     "text": [
      "\r",
      "Loading train tensors:   5%|▍         | 7/146 [00:04<01:29,  1.55it/s]"
     ]
    },
    {
     "name": "stderr",
     "output_type": "stream",
     "text": [
      "\r",
      "Loading train tensors:   5%|▌         | 8/146 [00:04<01:31,  1.51it/s]"
     ]
    },
    {
     "name": "stderr",
     "output_type": "stream",
     "text": [
      "\r",
      "Loading train tensors:   6%|▌         | 9/146 [00:05<01:29,  1.54it/s]"
     ]
    },
    {
     "name": "stderr",
     "output_type": "stream",
     "text": [
      "\r",
      "Loading train tensors:   7%|▋         | 10/146 [00:05<01:25,  1.59it/s]"
     ]
    },
    {
     "name": "stderr",
     "output_type": "stream",
     "text": [
      "\r",
      "Loading train tensors:   8%|▊         | 11/146 [00:06<01:23,  1.63it/s]"
     ]
    },
    {
     "name": "stderr",
     "output_type": "stream",
     "text": [
      "\r",
      "Loading train tensors:   8%|▊         | 12/146 [00:07<01:20,  1.66it/s]"
     ]
    },
    {
     "name": "stderr",
     "output_type": "stream",
     "text": [
      "\r",
      "Loading train tensors:   9%|▉         | 13/146 [00:07<01:23,  1.60it/s]"
     ]
    },
    {
     "name": "stderr",
     "output_type": "stream",
     "text": [
      "\r",
      "Loading train tensors:  10%|▉         | 14/146 [00:08<01:24,  1.56it/s]"
     ]
    },
    {
     "name": "stderr",
     "output_type": "stream",
     "text": [
      "\r",
      "Loading train tensors:  10%|█         | 15/146 [00:09<01:21,  1.61it/s]"
     ]
    },
    {
     "name": "stderr",
     "output_type": "stream",
     "text": [
      "\r",
      "Loading train tensors:  11%|█         | 16/146 [00:09<01:22,  1.57it/s]"
     ]
    },
    {
     "name": "stderr",
     "output_type": "stream",
     "text": [
      "\r",
      "Loading train tensors:  12%|█▏        | 17/146 [00:10<01:23,  1.55it/s]"
     ]
    },
    {
     "name": "stderr",
     "output_type": "stream",
     "text": [
      "\r",
      "Loading train tensors:  12%|█▏        | 18/146 [00:11<01:23,  1.54it/s]"
     ]
    },
    {
     "name": "stderr",
     "output_type": "stream",
     "text": [
      "\r",
      "Loading train tensors:  13%|█▎        | 19/146 [00:11<01:23,  1.53it/s]"
     ]
    },
    {
     "name": "stderr",
     "output_type": "stream",
     "text": [
      "\r",
      "Loading train tensors:  14%|█▎        | 20/146 [00:12<01:22,  1.52it/s]"
     ]
    },
    {
     "name": "stderr",
     "output_type": "stream",
     "text": [
      "\r",
      "Loading train tensors:  14%|█▍        | 21/146 [00:13<01:22,  1.52it/s]"
     ]
    },
    {
     "name": "stderr",
     "output_type": "stream",
     "text": [
      "\r",
      "Loading train tensors:  15%|█▌        | 22/146 [00:13<01:21,  1.52it/s]"
     ]
    },
    {
     "name": "stderr",
     "output_type": "stream",
     "text": [
      "\r",
      "Loading train tensors:  16%|█▌        | 23/146 [00:14<01:21,  1.52it/s]"
     ]
    },
    {
     "name": "stderr",
     "output_type": "stream",
     "text": [
      "\r",
      "Loading train tensors:  16%|█▋        | 24/146 [00:15<01:20,  1.51it/s]"
     ]
    },
    {
     "name": "stderr",
     "output_type": "stream",
     "text": [
      "\r",
      "Loading train tensors:  17%|█▋        | 25/146 [00:15<01:19,  1.52it/s]"
     ]
    },
    {
     "name": "stderr",
     "output_type": "stream",
     "text": [
      "\r",
      "Loading train tensors:  18%|█▊        | 26/146 [00:16<01:19,  1.52it/s]"
     ]
    },
    {
     "name": "stderr",
     "output_type": "stream",
     "text": [
      "\r",
      "Loading train tensors:  18%|█▊        | 27/146 [00:16<01:18,  1.52it/s]"
     ]
    },
    {
     "name": "stderr",
     "output_type": "stream",
     "text": [
      "\r",
      "Loading train tensors:  19%|█▉        | 28/146 [00:17<01:09,  1.70it/s]"
     ]
    },
    {
     "name": "stderr",
     "output_type": "stream",
     "text": [
      "\r",
      "Loading train tensors:  20%|█▉        | 29/146 [00:17<01:01,  1.89it/s]"
     ]
    },
    {
     "name": "stderr",
     "output_type": "stream",
     "text": [
      "\r",
      "Loading train tensors:  21%|██        | 30/146 [00:18<00:57,  2.02it/s]"
     ]
    },
    {
     "name": "stderr",
     "output_type": "stream",
     "text": [
      "\r",
      "Loading train tensors:  21%|██        | 31/146 [00:18<00:53,  2.16it/s]"
     ]
    },
    {
     "name": "stderr",
     "output_type": "stream",
     "text": [
      "\r",
      "Loading train tensors:  22%|██▏       | 32/146 [00:18<00:50,  2.26it/s]"
     ]
    },
    {
     "name": "stderr",
     "output_type": "stream",
     "text": [
      "\r",
      "Loading train tensors:  23%|██▎       | 33/146 [00:19<00:48,  2.32it/s]"
     ]
    },
    {
     "name": "stderr",
     "output_type": "stream",
     "text": [
      "\r",
      "Loading train tensors:  23%|██▎       | 34/146 [00:19<00:46,  2.38it/s]"
     ]
    },
    {
     "name": "stderr",
     "output_type": "stream",
     "text": [
      "\r",
      "Loading train tensors:  24%|██▍       | 35/146 [00:20<00:45,  2.43it/s]"
     ]
    },
    {
     "name": "stderr",
     "output_type": "stream",
     "text": [
      "\r",
      "Loading train tensors:  25%|██▍       | 36/146 [00:20<00:44,  2.46it/s]"
     ]
    },
    {
     "name": "stderr",
     "output_type": "stream",
     "text": [
      "\r",
      "Loading train tensors:  25%|██▌       | 37/146 [00:20<00:43,  2.49it/s]"
     ]
    },
    {
     "name": "stderr",
     "output_type": "stream",
     "text": [
      "\r",
      "Loading train tensors:  26%|██▌       | 38/146 [00:21<00:42,  2.52it/s]"
     ]
    },
    {
     "name": "stderr",
     "output_type": "stream",
     "text": [
      "\r",
      "Loading train tensors:  27%|██▋       | 39/146 [00:21<00:41,  2.57it/s]"
     ]
    },
    {
     "name": "stderr",
     "output_type": "stream",
     "text": [
      "\r",
      "Loading train tensors:  27%|██▋       | 40/146 [00:22<00:40,  2.59it/s]"
     ]
    },
    {
     "name": "stderr",
     "output_type": "stream",
     "text": [
      "\r",
      "Loading train tensors:  28%|██▊       | 41/146 [00:22<00:41,  2.56it/s]"
     ]
    },
    {
     "name": "stderr",
     "output_type": "stream",
     "text": [
      "\r",
      "Loading train tensors:  29%|██▉       | 42/146 [00:22<00:40,  2.56it/s]"
     ]
    },
    {
     "name": "stderr",
     "output_type": "stream",
     "text": [
      "\r",
      "Loading train tensors:  29%|██▉       | 43/146 [00:23<00:40,  2.57it/s]"
     ]
    },
    {
     "name": "stderr",
     "output_type": "stream",
     "text": [
      "\r",
      "Loading train tensors:  30%|███       | 44/146 [00:25<01:49,  1.08s/it]"
     ]
    },
    {
     "name": "stderr",
     "output_type": "stream",
     "text": [
      "\r",
      "Loading train tensors:  31%|███       | 45/146 [00:27<02:04,  1.23s/it]"
     ]
    },
    {
     "name": "stderr",
     "output_type": "stream",
     "text": [
      "\r",
      "Loading train tensors:  32%|███▏      | 46/146 [00:30<02:53,  1.73s/it]"
     ]
    },
    {
     "name": "stderr",
     "output_type": "stream",
     "text": [
      "\r",
      "Loading train tensors:  32%|███▏      | 47/146 [00:33<03:26,  2.08s/it]"
     ]
    },
    {
     "name": "stderr",
     "output_type": "stream",
     "text": [
      "\r",
      "Loading train tensors:  33%|███▎      | 48/146 [00:36<03:48,  2.33s/it]"
     ]
    },
    {
     "name": "stderr",
     "output_type": "stream",
     "text": [
      "\r",
      "Loading train tensors:  34%|███▎      | 49/146 [00:39<04:02,  2.50s/it]"
     ]
    },
    {
     "name": "stderr",
     "output_type": "stream",
     "text": [
      "\r",
      "Loading train tensors:  34%|███▍      | 50/146 [00:39<03:00,  1.88s/it]"
     ]
    },
    {
     "name": "stderr",
     "output_type": "stream",
     "text": [
      "\r",
      "Loading train tensors:  35%|███▍      | 51/146 [00:42<03:27,  2.19s/it]"
     ]
    },
    {
     "name": "stderr",
     "output_type": "stream",
     "text": [
      "\r",
      "Loading train tensors:  36%|███▌      | 52/146 [00:42<02:37,  1.67s/it]"
     ]
    },
    {
     "name": "stderr",
     "output_type": "stream",
     "text": [
      "\r",
      "Loading train tensors:  36%|███▋      | 53/146 [00:45<02:57,  1.91s/it]"
     ]
    },
    {
     "name": "stderr",
     "output_type": "stream",
     "text": [
      "\r",
      "Loading train tensors:  37%|███▋      | 54/146 [00:48<03:24,  2.22s/it]"
     ]
    },
    {
     "name": "stderr",
     "output_type": "stream",
     "text": [
      "\r",
      "Loading train tensors:  38%|███▊      | 55/146 [00:51<03:42,  2.44s/it]"
     ]
    },
    {
     "name": "stderr",
     "output_type": "stream",
     "text": [
      "\r",
      "Loading train tensors:  38%|███▊      | 56/146 [00:54<03:52,  2.58s/it]"
     ]
    },
    {
     "name": "stderr",
     "output_type": "stream",
     "text": [
      "\r",
      "Loading train tensors:  39%|███▉      | 57/146 [00:57<03:57,  2.67s/it]"
     ]
    },
    {
     "name": "stderr",
     "output_type": "stream",
     "text": [
      "\r",
      "Loading train tensors:  40%|███▉      | 58/146 [00:57<02:55,  1.99s/it]"
     ]
    },
    {
     "name": "stderr",
     "output_type": "stream",
     "text": [
      "\r",
      "Loading train tensors:  40%|████      | 59/146 [01:00<03:15,  2.25s/it]"
     ]
    },
    {
     "name": "stderr",
     "output_type": "stream",
     "text": [
      "\r",
      "Loading train tensors:  41%|████      | 60/146 [01:03<03:29,  2.44s/it]"
     ]
    },
    {
     "name": "stderr",
     "output_type": "stream",
     "text": [
      "\r",
      "Loading train tensors:  42%|████▏     | 61/146 [01:06<03:38,  2.57s/it]"
     ]
    },
    {
     "name": "stderr",
     "output_type": "stream",
     "text": [
      "\r",
      "Loading train tensors:  42%|████▏     | 62/146 [01:08<03:28,  2.49s/it]"
     ]
    },
    {
     "name": "stderr",
     "output_type": "stream",
     "text": [
      "\r",
      "Loading train tensors:  43%|████▎     | 63/146 [01:08<02:34,  1.86s/it]"
     ]
    },
    {
     "name": "stderr",
     "output_type": "stream",
     "text": [
      "\r",
      "Loading train tensors:  44%|████▍     | 64/146 [01:09<01:56,  1.42s/it]"
     ]
    },
    {
     "name": "stderr",
     "output_type": "stream",
     "text": [
      "\r",
      "Loading train tensors:  45%|████▍     | 65/146 [01:09<01:30,  1.12s/it]"
     ]
    },
    {
     "name": "stderr",
     "output_type": "stream",
     "text": [
      "\r",
      "Loading train tensors:  45%|████▌     | 66/146 [01:10<01:11,  1.12it/s]"
     ]
    },
    {
     "name": "stderr",
     "output_type": "stream",
     "text": [
      "\r",
      "Loading train tensors:  46%|████▌     | 67/146 [01:10<00:57,  1.37it/s]"
     ]
    },
    {
     "name": "stderr",
     "output_type": "stream",
     "text": [
      "\r",
      "Loading train tensors:  47%|████▋     | 68/146 [01:10<00:54,  1.44it/s]"
     ]
    },
    {
     "name": "stderr",
     "output_type": "stream",
     "text": [
      "\r",
      "Loading train tensors:  47%|████▋     | 69/146 [01:11<00:52,  1.48it/s]"
     ]
    },
    {
     "name": "stderr",
     "output_type": "stream",
     "text": [
      "\r",
      "Loading train tensors:  48%|████▊     | 70/146 [01:12<00:50,  1.51it/s]"
     ]
    },
    {
     "name": "stderr",
     "output_type": "stream",
     "text": [
      "\r",
      "Loading train tensors:  49%|████▊     | 71/146 [01:12<00:49,  1.52it/s]"
     ]
    },
    {
     "name": "stderr",
     "output_type": "stream",
     "text": [
      "\r",
      "Loading train tensors:  49%|████▉     | 72/146 [01:13<00:48,  1.53it/s]"
     ]
    },
    {
     "name": "stderr",
     "output_type": "stream",
     "text": [
      "\r",
      "Loading train tensors:  50%|█████     | 73/146 [01:14<00:47,  1.54it/s]"
     ]
    },
    {
     "name": "stderr",
     "output_type": "stream",
     "text": [
      "\r",
      "Loading train tensors:  51%|█████     | 74/146 [01:14<00:46,  1.54it/s]"
     ]
    },
    {
     "name": "stderr",
     "output_type": "stream",
     "text": [
      "\r",
      "Loading train tensors:  51%|█████▏    | 75/146 [01:15<00:45,  1.55it/s]"
     ]
    },
    {
     "name": "stderr",
     "output_type": "stream",
     "text": [
      "\r",
      "Loading train tensors:  52%|█████▏    | 76/146 [01:16<00:45,  1.55it/s]"
     ]
    },
    {
     "name": "stderr",
     "output_type": "stream",
     "text": [
      "\r",
      "Loading train tensors:  53%|█████▎    | 77/146 [01:16<00:44,  1.55it/s]"
     ]
    },
    {
     "name": "stderr",
     "output_type": "stream",
     "text": [
      "\r",
      "Loading train tensors:  53%|█████▎    | 78/146 [01:17<00:43,  1.55it/s]"
     ]
    },
    {
     "name": "stderr",
     "output_type": "stream",
     "text": [
      "\r",
      "Loading train tensors:  54%|█████▍    | 79/146 [01:18<00:43,  1.55it/s]"
     ]
    },
    {
     "name": "stderr",
     "output_type": "stream",
     "text": [
      "\r",
      "Loading train tensors:  55%|█████▍    | 80/146 [01:18<00:42,  1.56it/s]"
     ]
    },
    {
     "name": "stderr",
     "output_type": "stream",
     "text": [
      "\r",
      "Loading train tensors:  55%|█████▌    | 81/146 [01:19<00:41,  1.56it/s]"
     ]
    },
    {
     "name": "stderr",
     "output_type": "stream",
     "text": [
      "\r",
      "Loading train tensors:  56%|█████▌    | 82/146 [01:19<00:40,  1.57it/s]"
     ]
    },
    {
     "name": "stderr",
     "output_type": "stream",
     "text": [
      "\r",
      "Loading train tensors:  57%|█████▋    | 83/146 [01:20<00:39,  1.61it/s]"
     ]
    },
    {
     "name": "stderr",
     "output_type": "stream",
     "text": [
      "\r",
      "Loading train tensors:  58%|█████▊    | 84/146 [01:21<00:37,  1.65it/s]"
     ]
    },
    {
     "name": "stderr",
     "output_type": "stream",
     "text": [
      "\r",
      "Loading train tensors:  58%|█████▊    | 85/146 [01:21<00:36,  1.67it/s]"
     ]
    },
    {
     "name": "stderr",
     "output_type": "stream",
     "text": [
      "\r",
      "Loading train tensors:  59%|█████▉    | 86/146 [01:22<00:35,  1.69it/s]"
     ]
    },
    {
     "name": "stderr",
     "output_type": "stream",
     "text": [
      "\r",
      "Loading train tensors:  60%|█████▉    | 87/146 [01:22<00:34,  1.71it/s]"
     ]
    },
    {
     "name": "stderr",
     "output_type": "stream",
     "text": [
      "\r",
      "Loading train tensors:  60%|██████    | 88/146 [01:25<01:13,  1.27s/it]"
     ]
    },
    {
     "name": "stderr",
     "output_type": "stream",
     "text": [
      "\r",
      "Loading train tensors:  61%|██████    | 89/146 [01:28<01:38,  1.73s/it]"
     ]
    },
    {
     "name": "stderr",
     "output_type": "stream",
     "text": [
      "\r",
      "Loading train tensors:  62%|██████▏   | 90/146 [01:31<01:56,  2.08s/it]"
     ]
    },
    {
     "name": "stderr",
     "output_type": "stream",
     "text": [
      "\r",
      "Loading train tensors:  62%|██████▏   | 91/146 [01:31<01:29,  1.63s/it]"
     ]
    },
    {
     "name": "stderr",
     "output_type": "stream",
     "text": [
      "\r",
      "Loading train tensors:  63%|██████▎   | 92/146 [01:32<01:10,  1.31s/it]"
     ]
    },
    {
     "name": "stderr",
     "output_type": "stream",
     "text": [
      "\r",
      "Loading train tensors:  64%|██████▎   | 93/146 [01:33<00:57,  1.08s/it]"
     ]
    },
    {
     "name": "stderr",
     "output_type": "stream",
     "text": [
      "\r",
      "Loading train tensors:  64%|██████▍   | 94/146 [01:33<00:48,  1.08it/s]"
     ]
    },
    {
     "name": "stderr",
     "output_type": "stream",
     "text": [
      "\r",
      "Loading train tensors:  65%|██████▌   | 95/146 [01:34<00:42,  1.20it/s]"
     ]
    },
    {
     "name": "stderr",
     "output_type": "stream",
     "text": [
      "\r",
      "Loading train tensors:  66%|██████▌   | 96/146 [01:34<00:38,  1.30it/s]"
     ]
    },
    {
     "name": "stderr",
     "output_type": "stream",
     "text": [
      "\r",
      "Loading train tensors:  66%|██████▋   | 97/146 [01:35<00:34,  1.41it/s]"
     ]
    },
    {
     "name": "stderr",
     "output_type": "stream",
     "text": [
      "\r",
      "Loading train tensors:  67%|██████▋   | 98/146 [01:36<00:33,  1.44it/s]"
     ]
    },
    {
     "name": "stderr",
     "output_type": "stream",
     "text": [
      "\r",
      "Loading train tensors:  68%|██████▊   | 99/146 [01:38<01:03,  1.35s/it]"
     ]
    },
    {
     "name": "stderr",
     "output_type": "stream",
     "text": [
      "\r",
      "Loading train tensors:  68%|██████▊   | 100/146 [01:41<01:24,  1.83s/it]"
     ]
    },
    {
     "name": "stderr",
     "output_type": "stream",
     "text": [
      "\r",
      "Loading train tensors:  69%|██████▉   | 101/146 [01:43<01:17,  1.71s/it]"
     ]
    },
    {
     "name": "stderr",
     "output_type": "stream",
     "text": [
      "\r",
      "Loading train tensors:  70%|██████▉   | 102/146 [01:44<01:01,  1.39s/it]"
     ]
    },
    {
     "name": "stderr",
     "output_type": "stream",
     "text": [
      "\r",
      "Loading train tensors:  71%|███████   | 103/146 [01:44<00:50,  1.17s/it]"
     ]
    },
    {
     "name": "stderr",
     "output_type": "stream",
     "text": [
      "\r",
      "Loading train tensors:  71%|███████   | 104/146 [01:45<00:47,  1.12s/it]"
     ]
    },
    {
     "name": "stderr",
     "output_type": "stream",
     "text": [
      "\r",
      "Loading train tensors:  72%|███████▏  | 105/146 [01:48<01:08,  1.67s/it]"
     ]
    },
    {
     "name": "stderr",
     "output_type": "stream",
     "text": [
      "\r",
      "Loading train tensors:  73%|███████▎  | 106/146 [01:51<01:23,  2.08s/it]"
     ]
    },
    {
     "name": "stderr",
     "output_type": "stream",
     "text": [
      "\r",
      "Loading train tensors:  73%|███████▎  | 107/146 [01:52<01:04,  1.66s/it]"
     ]
    },
    {
     "name": "stderr",
     "output_type": "stream",
     "text": [
      "\r",
      "Loading train tensors:  74%|███████▍  | 108/146 [01:55<01:18,  2.07s/it]"
     ]
    },
    {
     "name": "stderr",
     "output_type": "stream",
     "text": [
      "\r",
      "Loading train tensors:  75%|███████▍  | 109/146 [01:56<01:01,  1.65s/it]"
     ]
    },
    {
     "name": "stderr",
     "output_type": "stream",
     "text": [
      "\r",
      "Loading train tensors:  75%|███████▌  | 110/146 [01:58<01:13,  2.04s/it]"
     ]
    },
    {
     "name": "stderr",
     "output_type": "stream",
     "text": [
      "\r",
      "Loading train tensors:  76%|███████▌  | 111/146 [02:02<01:21,  2.33s/it]"
     ]
    },
    {
     "name": "stderr",
     "output_type": "stream",
     "text": [
      "\r",
      "Loading train tensors:  77%|███████▋  | 112/146 [02:02<01:04,  1.90s/it]"
     ]
    },
    {
     "name": "stderr",
     "output_type": "stream",
     "text": [
      "\r",
      "Loading train tensors:  77%|███████▋  | 113/146 [02:03<00:50,  1.53s/it]"
     ]
    },
    {
     "name": "stderr",
     "output_type": "stream",
     "text": [
      "\r",
      "Loading train tensors:  78%|███████▊  | 114/146 [02:04<00:46,  1.46s/it]"
     ]
    },
    {
     "name": "stderr",
     "output_type": "stream",
     "text": [
      "\r",
      "Loading train tensors:  79%|███████▉  | 115/146 [02:06<00:46,  1.51s/it]"
     ]
    },
    {
     "name": "stderr",
     "output_type": "stream",
     "text": [
      "\r",
      "Loading train tensors:  79%|███████▉  | 116/146 [02:08<00:54,  1.80s/it]"
     ]
    },
    {
     "name": "stderr",
     "output_type": "stream",
     "text": [
      "\r",
      "Loading train tensors:  80%|████████  | 117/146 [02:11<01:02,  2.14s/it]"
     ]
    },
    {
     "name": "stderr",
     "output_type": "stream",
     "text": [
      "\r",
      "Loading train tensors:  81%|████████  | 118/146 [02:12<00:47,  1.70s/it]"
     ]
    },
    {
     "name": "stderr",
     "output_type": "stream",
     "text": [
      "\r",
      "Loading train tensors:  82%|████████▏ | 119/146 [02:14<00:51,  1.91s/it]"
     ]
    },
    {
     "name": "stderr",
     "output_type": "stream",
     "text": [
      "\r",
      "Loading train tensors:  82%|████████▏ | 120/146 [02:15<00:39,  1.54s/it]"
     ]
    },
    {
     "name": "stderr",
     "output_type": "stream",
     "text": [
      "\r",
      "Loading train tensors:  83%|████████▎ | 121/146 [02:18<00:48,  1.94s/it]"
     ]
    },
    {
     "name": "stderr",
     "output_type": "stream",
     "text": [
      "\r",
      "Loading train tensors:  84%|████████▎ | 122/146 [02:21<00:53,  2.24s/it]"
     ]
    },
    {
     "name": "stderr",
     "output_type": "stream",
     "text": [
      "\r",
      "Loading train tensors:  84%|████████▍ | 123/146 [02:24<00:56,  2.46s/it]"
     ]
    },
    {
     "name": "stderr",
     "output_type": "stream",
     "text": [
      "\r",
      "Loading train tensors:  85%|████████▍ | 124/146 [02:25<00:42,  1.92s/it]"
     ]
    },
    {
     "name": "stderr",
     "output_type": "stream",
     "text": [
      "\r",
      "Loading train tensors:  86%|████████▌ | 125/146 [02:27<00:46,  2.21s/it]"
     ]
    },
    {
     "name": "stderr",
     "output_type": "stream",
     "text": [
      "\r",
      "Loading train tensors:  86%|████████▋ | 126/146 [02:30<00:48,  2.43s/it]"
     ]
    },
    {
     "name": "stderr",
     "output_type": "stream",
     "text": [
      "\r",
      "Loading train tensors:  87%|████████▋ | 127/146 [02:33<00:48,  2.56s/it]"
     ]
    },
    {
     "name": "stderr",
     "output_type": "stream",
     "text": [
      "\r",
      "Loading train tensors:  88%|████████▊ | 128/146 [02:34<00:35,  1.99s/it]"
     ]
    },
    {
     "name": "stderr",
     "output_type": "stream",
     "text": [
      "\r",
      "Loading train tensors:  88%|████████▊ | 129/146 [02:36<00:33,  1.97s/it]"
     ]
    },
    {
     "name": "stderr",
     "output_type": "stream",
     "text": [
      "\r",
      "Loading train tensors:  89%|████████▉ | 130/146 [02:37<00:25,  1.57s/it]"
     ]
    },
    {
     "name": "stderr",
     "output_type": "stream",
     "text": [
      "\r",
      "Loading train tensors:  90%|████████▉ | 131/146 [02:39<00:29,  1.96s/it]"
     ]
    },
    {
     "name": "stderr",
     "output_type": "stream",
     "text": [
      "\r",
      "Loading train tensors:  90%|█████████ | 132/146 [02:42<00:31,  2.26s/it]"
     ]
    },
    {
     "name": "stderr",
     "output_type": "stream",
     "text": [
      "\r",
      "Loading train tensors:  91%|█████████ | 133/146 [02:44<00:28,  2.21s/it]"
     ]
    },
    {
     "name": "stderr",
     "output_type": "stream",
     "text": [
      "\r",
      "Loading train tensors:  92%|█████████▏| 134/146 [02:45<00:20,  1.73s/it]"
     ]
    },
    {
     "name": "stderr",
     "output_type": "stream",
     "text": [
      "\r",
      "Loading train tensors:  92%|█████████▏| 135/146 [02:46<00:15,  1.40s/it]"
     ]
    },
    {
     "name": "stderr",
     "output_type": "stream",
     "text": [
      "\r",
      "Loading train tensors:  93%|█████████▎| 136/146 [02:46<00:11,  1.16s/it]"
     ]
    },
    {
     "name": "stderr",
     "output_type": "stream",
     "text": [
      "\r",
      "Loading train tensors:  94%|█████████▍| 137/146 [02:47<00:09,  1.00s/it]"
     ]
    },
    {
     "name": "stderr",
     "output_type": "stream",
     "text": [
      "\r",
      "Loading train tensors:  95%|█████████▍| 138/146 [02:48<00:07,  1.12it/s]"
     ]
    },
    {
     "name": "stderr",
     "output_type": "stream",
     "text": [
      "\r",
      "Loading train tensors:  95%|█████████▌| 139/146 [02:48<00:05,  1.22it/s]"
     ]
    },
    {
     "name": "stderr",
     "output_type": "stream",
     "text": [
      "\r",
      "Loading train tensors:  96%|█████████▌| 140/146 [02:49<00:04,  1.30it/s]"
     ]
    },
    {
     "name": "stderr",
     "output_type": "stream",
     "text": [
      "\r",
      "Loading train tensors:  97%|█████████▋| 141/146 [02:49<00:03,  1.36it/s]"
     ]
    },
    {
     "name": "stderr",
     "output_type": "stream",
     "text": [
      "\r",
      "Loading train tensors:  97%|█████████▋| 142/146 [02:50<00:02,  1.41it/s]"
     ]
    },
    {
     "name": "stderr",
     "output_type": "stream",
     "text": [
      "\r",
      "Loading train tensors:  98%|█████████▊| 143/146 [02:51<00:02,  1.46it/s]"
     ]
    },
    {
     "name": "stderr",
     "output_type": "stream",
     "text": [
      "\r",
      "Loading train tensors:  99%|█████████▊| 144/146 [02:51<00:01,  1.51it/s]"
     ]
    },
    {
     "name": "stderr",
     "output_type": "stream",
     "text": [
      "\r",
      "Loading train tensors:  99%|█████████▉| 145/146 [02:52<00:00,  1.54it/s]"
     ]
    },
    {
     "name": "stderr",
     "output_type": "stream",
     "text": [
      "\r",
      "Loading train tensors: 100%|██████████| 146/146 [02:53<00:00,  1.57it/s]"
     ]
    },
    {
     "name": "stderr",
     "output_type": "stream",
     "text": [
      "\r",
      "Loading train tensors: 100%|██████████| 146/146 [02:53<00:00,  1.19s/it]"
     ]
    },
    {
     "name": "stderr",
     "output_type": "stream",
     "text": [
      "\n"
     ]
    },
    {
     "ename": "RuntimeError",
     "evalue": "stack expects a non-empty TensorList",
     "output_type": "error",
     "traceback": [
      "\u001b[0;31m---------------------------------------------------------------------------\u001b[0m",
      "\u001b[0;31mRuntimeError\u001b[0m                              Traceback (most recent call last)",
      "Cell \u001b[0;32mIn[6], line 1\u001b[0m\n\u001b[0;32m----> 1\u001b[0m train_dataloader, val_dataloader, test_dataloader \u001b[38;5;241m=\u001b[39m \u001b[43mload_dataloader\u001b[49m\u001b[43m(\u001b[49m\n\u001b[1;32m      2\u001b[0m \u001b[43m    \u001b[49m\u001b[38;5;124;43m\"\u001b[39;49m\u001b[38;5;124;43myelp\u001b[39;49m\u001b[38;5;124;43m\"\u001b[39;49m\u001b[43m,\u001b[49m\u001b[43m \u001b[49m\u001b[43msample_size\u001b[49m\u001b[38;5;241;43m=\u001b[39;49m\u001b[38;5;241;43m100_000\u001b[39;49m\n\u001b[1;32m      3\u001b[0m \u001b[43m)\u001b[49m\n",
      "File \u001b[0;32m/scratch/pmc026/nchoong/run_conda/509056/transformer/pytorch/utils/load_dataloader.py:19\u001b[0m, in \u001b[0;36mload_dataloader\u001b[0;34m(dataset_name, max_seq_len, batch_size, sample_size, label_count)\u001b[0m\n\u001b[1;32m     11\u001b[0m \u001b[38;5;28;01mdef\u001b[39;00m \u001b[38;5;21mload_dataloader\u001b[39m(\n\u001b[1;32m     12\u001b[0m     dataset_name: Literal[\u001b[38;5;124m\"\u001b[39m\u001b[38;5;124mamazon\u001b[39m\u001b[38;5;124m\"\u001b[39m, \u001b[38;5;124m\"\u001b[39m\u001b[38;5;124mimdb\u001b[39m\u001b[38;5;124m\"\u001b[39m, \u001b[38;5;124m\"\u001b[39m\u001b[38;5;124myelp\u001b[39m\u001b[38;5;124m\"\u001b[39m] \u001b[38;5;241m=\u001b[39m \u001b[38;5;124m\"\u001b[39m\u001b[38;5;124mimdb\u001b[39m\u001b[38;5;124m\"\u001b[39m,\n\u001b[1;32m     13\u001b[0m     max_seq_len: \u001b[38;5;28mint\u001b[39m \u001b[38;5;241m=\u001b[39m \u001b[38;5;241m128\u001b[39m,\n\u001b[0;32m   (...)\u001b[0m\n\u001b[1;32m     16\u001b[0m     label_count: \u001b[38;5;28mbool\u001b[39m \u001b[38;5;241m=\u001b[39m \u001b[38;5;28;01mTrue\u001b[39;00m,\n\u001b[1;32m     17\u001b[0m ):\n\u001b[0;32m---> 19\u001b[0m     dataset \u001b[38;5;241m=\u001b[39m \u001b[43mload_dataset\u001b[49m\u001b[43m(\u001b[49m\u001b[43mdataset_name\u001b[49m\u001b[43m)\u001b[49m\n\u001b[1;32m     20\u001b[0m     train_labels, train_embeddings \u001b[38;5;241m=\u001b[39m dataset[\u001b[38;5;124m\"\u001b[39m\u001b[38;5;124mtrain\u001b[39m\u001b[38;5;124m\"\u001b[39m]\n\u001b[1;32m     21\u001b[0m     val_labels, val_embeddings \u001b[38;5;241m=\u001b[39m dataset[\u001b[38;5;124m\"\u001b[39m\u001b[38;5;124mval\u001b[39m\u001b[38;5;124m\"\u001b[39m]\n",
      "File \u001b[0;32m/scratch/pmc026/nchoong/run_conda/509056/transformer/pytorch/utils/load_dataset.py:51\u001b[0m, in \u001b[0;36mload_dataset\u001b[0;34m(name)\u001b[0m\n\u001b[1;32m     49\u001b[0m sampled_train_labels, sampled_train_data \u001b[38;5;241m=\u001b[39m \u001b[38;5;28;01mNone\u001b[39;00m, \u001b[38;5;28;01mNone\u001b[39;00m\n\u001b[1;32m     50\u001b[0m \u001b[38;5;28;01mif\u001b[39;00m \u001b[38;5;28mlen\u001b[39m(train_labels) \u001b[38;5;241m>\u001b[39m \u001b[38;5;241m300_000\u001b[39m:\n\u001b[0;32m---> 51\u001b[0m     sampled_train_labels, sampled_train_data \u001b[38;5;241m=\u001b[39m \u001b[43msampling\u001b[49m\u001b[43m(\u001b[49m\u001b[43mtrain_labels\u001b[49m\u001b[43m,\u001b[49m\u001b[43m \u001b[49m\u001b[43mtrain_data\u001b[49m\u001b[43m,\u001b[49m\u001b[43m \u001b[49m\u001b[38;5;241;43m0\u001b[39;49m\u001b[43m)\u001b[49m\n\u001b[1;32m     53\u001b[0m     train_labels \u001b[38;5;241m=\u001b[39m \u001b[38;5;28;01mNone\u001b[39;00m\n\u001b[1;32m     54\u001b[0m     train_data \u001b[38;5;241m=\u001b[39m \u001b[38;5;28;01mNone\u001b[39;00m\n",
      "File \u001b[0;32m/scratch/pmc026/nchoong/run_conda/509056/transformer/pytorch/utils/load_dataset.py:18\u001b[0m, in \u001b[0;36msampling\u001b[0;34m(labels, embeddings, sample_size)\u001b[0m\n\u001b[1;32m     16\u001b[0m labels \u001b[38;5;241m=\u001b[39m [labels[i] \u001b[38;5;28;01mfor\u001b[39;00m i \u001b[38;5;129;01min\u001b[39;00m indices]\n\u001b[1;32m     17\u001b[0m embeddings \u001b[38;5;241m=\u001b[39m [embeddings[i]\u001b[38;5;241m.\u001b[39mdetach()\u001b[38;5;241m.\u001b[39mclone() \u001b[38;5;28;01mfor\u001b[39;00m i \u001b[38;5;129;01min\u001b[39;00m indices]\n\u001b[0;32m---> 18\u001b[0m combined_tensor \u001b[38;5;241m=\u001b[39m \u001b[43mtorch\u001b[49m\u001b[38;5;241;43m.\u001b[39;49m\u001b[43mstack\u001b[49m\u001b[43m(\u001b[49m\u001b[43membeddings\u001b[49m\u001b[43m,\u001b[49m\u001b[43m \u001b[49m\u001b[43mdim\u001b[49m\u001b[38;5;241;43m=\u001b[39;49m\u001b[38;5;241;43m0\u001b[39;49m\u001b[43m)\u001b[49m\n\u001b[1;32m     19\u001b[0m \u001b[38;5;28;01mreturn\u001b[39;00m labels, combined_tensor\n",
      "\u001b[0;31mRuntimeError\u001b[0m: stack expects a non-empty TensorList"
     ]
    }
   ],
   "source": [
    "train_dataloader, val_dataloader, test_dataloader = load_dataloader(\n",
    "    \"yelp\", sample_size=100_000\n",
    ")"
   ]
  },
  {
   "cell_type": "markdown",
   "id": "afad9a3d",
   "metadata": {
    "papermill": {
     "duration": null,
     "end_time": null,
     "exception": null,
     "start_time": null,
     "status": "pending"
    },
    "tags": []
   },
   "source": [
    "## Classical"
   ]
  },
  {
   "cell_type": "code",
   "execution_count": null,
   "id": "2f6a5c72",
   "metadata": {
    "papermill": {
     "duration": null,
     "end_time": null,
     "exception": null,
     "start_time": null,
     "status": "pending"
    },
    "tags": []
   },
   "outputs": [],
   "source": [
    "train_loss, train_acc, val_loss, val_acc, train_auc, val_auc, best_dict = main(\n",
    "    train_dataloader=train_dataloader,\n",
    "    val_dataloader=val_dataloader,\n",
    "    test_dataloader=test_dataloader,\n",
    "    n_epochs=20,\n",
    "    sample_size=0,\n",
    "    batch_size=64,\n",
    "    embed_dim=8,\n",
    "    num_heads=2,\n",
    "    num_blocks=2,\n",
    "    tqdm_disabled=True,\n",
    "    batch=True,\n",
    ")\n",
    "\n",
    "classiscal_metrics = {\n",
    "    \"train_loss\": train_loss,\n",
    "    \"train_acc\": train_acc,\n",
    "    \"val_loss\": val_loss,\n",
    "    \"val_acc\": val_acc,\n",
    "    \"train_auc\": train_auc,\n",
    "    \"val_auc\": val_auc,\n",
    "    \"best_dict\": best_dict,\n",
    "}"
   ]
  },
  {
   "cell_type": "code",
   "execution_count": null,
   "id": "d28f27a5",
   "metadata": {
    "papermill": {
     "duration": null,
     "end_time": null,
     "exception": null,
     "start_time": null,
     "status": "pending"
    },
    "tags": []
   },
   "outputs": [],
   "source": [
    "plot_metrics(train_loss, val_loss, train_acc, val_acc, train_auc, val_auc)"
   ]
  },
  {
   "cell_type": "markdown",
   "id": "c7fb0d7e",
   "metadata": {
    "papermill": {
     "duration": null,
     "end_time": null,
     "exception": null,
     "start_time": null,
     "status": "pending"
    },
    "tags": []
   },
   "source": [
    "## Quantum with Pennylane GPU"
   ]
  },
  {
   "cell_type": "code",
   "execution_count": null,
   "id": "df04d27b",
   "metadata": {
    "papermill": {
     "duration": null,
     "end_time": null,
     "exception": null,
     "start_time": null,
     "status": "pending"
    },
    "tags": []
   },
   "outputs": [],
   "source": [
    "train_loss, train_acc, val_loss, val_acc, train_auc, val_auc, best_dict = main(\n",
    "    train_dataloader=train_dataloader,\n",
    "    val_dataloader=val_dataloader,\n",
    "    test_dataloader=test_dataloader,\n",
    "    n_epochs=4,\n",
    "    sample_size=0,\n",
    "    batch_size=64,\n",
    "    embed_dim=8,\n",
    "    num_heads=2,\n",
    "    num_blocks=2,\n",
    "    n_qubits_transformer=8,\n",
    "    n_qubits_ffn=8,\n",
    "    n_qlayers=3,\n",
    "    tqdm_disabled=True,\n",
    "    q_device=\"default.qubit.torch\",\n",
    "    batch=True,\n",
    "    circuit_type=\"pennylane\",\n",
    ")\n",
    "\n",
    "quantum_pl_gpu_metrics_batch = {\n",
    "    \"train_loss\": train_loss,\n",
    "    \"train_acc\": train_acc,\n",
    "    \"val_loss\": val_loss,\n",
    "    \"val_acc\": val_acc,\n",
    "    \"train_auc\": train_auc,\n",
    "    \"val_auc\": val_auc,\n",
    "    \"best_dict\": best_dict,\n",
    "}"
   ]
  },
  {
   "cell_type": "code",
   "execution_count": null,
   "id": "fb3c9030",
   "metadata": {
    "papermill": {
     "duration": null,
     "end_time": null,
     "exception": null,
     "start_time": null,
     "status": "pending"
    },
    "tags": []
   },
   "outputs": [],
   "source": [
    "plot_metrics(train_loss, val_loss, train_acc, val_acc, train_auc, val_auc)"
   ]
  }
 ],
 "metadata": {
  "kernelspec": {
   "display_name": "Python 3",
   "language": "python",
   "name": "python3"
  },
  "language_info": {
   "codemirror_mode": {
    "name": "ipython",
    "version": 3
   },
   "file_extension": ".py",
   "mimetype": "text/x-python",
   "name": "python",
   "nbconvert_exporter": "python",
   "pygments_lexer": "ipython3",
   "version": "3.11.8"
  },
  "papermill": {
   "default_parameters": {},
   "duration": 218.89641,
   "end_time": "2024-09-29T05:02:08.274624",
   "environment_variables": {},
   "exception": true,
   "input_path": "./yelp.ipynb",
   "output_path": "./yelp.papermill.ipynb",
   "parameters": {},
   "start_time": "2024-09-29T04:58:29.378214",
   "version": "2.6.0"
  }
 },
 "nbformat": 4,
 "nbformat_minor": 5
}