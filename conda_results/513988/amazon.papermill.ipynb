{
 "cells": [
  {
   "cell_type": "markdown",
   "id": "8ada8382",
   "metadata": {
    "papermill": {
     "duration": 0.007656,
     "end_time": "2024-10-02T04:00:34.997471",
     "exception": false,
     "start_time": "2024-10-02T04:00:34.989815",
     "status": "completed"
    },
    "tags": []
   },
   "source": [
    "# Transformers"
   ]
  },
  {
   "cell_type": "code",
   "execution_count": 1,
   "id": "3b40e2f5",
   "metadata": {
    "execution": {
     "iopub.execute_input": "2024-10-02T04:00:35.011575Z",
     "iopub.status.busy": "2024-10-02T04:00:35.011063Z",
     "iopub.status.idle": "2024-10-02T04:00:35.025614Z",
     "shell.execute_reply": "2024-10-02T04:00:35.024784Z"
    },
    "papermill": {
     "duration": 0.022822,
     "end_time": "2024-10-02T04:00:35.027261",
     "exception": false,
     "start_time": "2024-10-02T04:00:35.004439",
     "status": "completed"
    },
    "tags": []
   },
   "outputs": [
    {
     "data": {
      "text/plain": [
       "'/scratch/pmc026/nchoong/run_conda/513988'"
      ]
     },
     "execution_count": 1,
     "metadata": {},
     "output_type": "execute_result"
    }
   ],
   "source": [
    "import os\n",
    "import sys\n",
    "\n",
    "# os.chdir(\"..\")\n",
    "sys.path.append(os.getcwd())\n",
    "os.getcwd()"
   ]
  },
  {
   "cell_type": "code",
   "execution_count": 2,
   "id": "631b2029",
   "metadata": {
    "execution": {
     "iopub.execute_input": "2024-10-02T04:00:35.041150Z",
     "iopub.status.busy": "2024-10-02T04:00:35.040646Z",
     "iopub.status.idle": "2024-10-02T04:00:49.097688Z",
     "shell.execute_reply": "2024-10-02T04:00:49.096395Z"
    },
    "papermill": {
     "duration": 14.065602,
     "end_time": "2024-10-02T04:00:49.099706",
     "exception": false,
     "start_time": "2024-10-02T04:00:35.034104",
     "status": "completed"
    },
    "tags": []
   },
   "outputs": [
    {
     "name": "stderr",
     "output_type": "stream",
     "text": [
      "2024-10-02 12:00:40.920124: I tensorflow/core/util/port.cc:153] oneDNN custom operations are on. You may see slightly different numerical results due to floating-point round-off errors from different computation orders. To turn them off, set the environment variable `TF_ENABLE_ONEDNN_OPTS=0`.\n",
      "2024-10-02 12:00:40.933191: E external/local_xla/xla/stream_executor/cuda/cuda_fft.cc:485] Unable to register cuFFT factory: Attempting to register factory for plugin cuFFT when one has already been registered\n",
      "2024-10-02 12:00:40.949049: E external/local_xla/xla/stream_executor/cuda/cuda_dnn.cc:8454] Unable to register cuDNN factory: Attempting to register factory for plugin cuDNN when one has already been registered\n",
      "2024-10-02 12:00:40.953885: E external/local_xla/xla/stream_executor/cuda/cuda_blas.cc:1452] Unable to register cuBLAS factory: Attempting to register factory for plugin cuBLAS when one has already been registered\n",
      "2024-10-02 12:00:40.965880: I tensorflow/core/platform/cpu_feature_guard.cc:210] This TensorFlow binary is optimized to use available CPU instructions in performance-critical operations.\n",
      "To enable the following instructions: AVX2 AVX512F AVX512_VNNI FMA, in other operations, rebuild TensorFlow with the appropriate compiler flags.\n"
     ]
    },
    {
     "name": "stderr",
     "output_type": "stream",
     "text": [
      "2024-10-02 12:00:43.432499: W tensorflow/compiler/tf2tensorrt/utils/py_utils.cc:38] TF-TRT Warning: Could not find TensorRT\n"
     ]
    },
    {
     "name": "stderr",
     "output_type": "stream",
     "text": [
      "Please first ``pip install -U qiskit`` to enable related functionality in translation module\n"
     ]
    }
   ],
   "source": [
    "from transformer.pytorch.main_no_embed import main\n",
    "from transformer.pytorch.utils.plots import plot_metrics\n",
    "from transformer.pytorch.utils.load_dataloader import load_dataloader"
   ]
  },
  {
   "cell_type": "code",
   "execution_count": 3,
   "id": "d4f78ae9",
   "metadata": {
    "execution": {
     "iopub.execute_input": "2024-10-02T04:00:49.117548Z",
     "iopub.status.busy": "2024-10-02T04:00:49.116466Z",
     "iopub.status.idle": "2024-10-02T04:00:49.124438Z",
     "shell.execute_reply": "2024-10-02T04:00:49.123385Z"
    },
    "papermill": {
     "duration": 0.018237,
     "end_time": "2024-10-02T04:00:49.126205",
     "exception": false,
     "start_time": "2024-10-02T04:00:49.107968",
     "status": "completed"
    },
    "tags": []
   },
   "outputs": [
    {
     "data": {
      "text/plain": [
       "device(type='cuda')"
      ]
     },
     "execution_count": 3,
     "metadata": {},
     "output_type": "execute_result"
    }
   ],
   "source": [
    "from config import dev\n",
    "\n",
    "dev"
   ]
  },
  {
   "cell_type": "code",
   "execution_count": 4,
   "id": "0743012e",
   "metadata": {
    "execution": {
     "iopub.execute_input": "2024-10-02T04:00:49.141270Z",
     "iopub.status.busy": "2024-10-02T04:00:49.140760Z",
     "iopub.status.idle": "2024-10-02T04:00:49.145754Z",
     "shell.execute_reply": "2024-10-02T04:00:49.144806Z"
    },
    "papermill": {
     "duration": 0.01417,
     "end_time": "2024-10-02T04:00:49.147545",
     "exception": false,
     "start_time": "2024-10-02T04:00:49.133375",
     "status": "completed"
    },
    "tags": []
   },
   "outputs": [],
   "source": [
    "import random\n",
    "import numpy as np\n",
    "import torch\n",
    "import tensorflow as tf"
   ]
  },
  {
   "cell_type": "code",
   "execution_count": 5,
   "id": "43596037",
   "metadata": {
    "execution": {
     "iopub.execute_input": "2024-10-02T04:00:49.162506Z",
     "iopub.status.busy": "2024-10-02T04:00:49.161713Z",
     "iopub.status.idle": "2024-10-02T04:00:49.176612Z",
     "shell.execute_reply": "2024-10-02T04:00:49.175501Z"
    },
    "papermill": {
     "duration": 0.023837,
     "end_time": "2024-10-02T04:00:49.178365",
     "exception": false,
     "start_time": "2024-10-02T04:00:49.154528",
     "status": "completed"
    },
    "tags": []
   },
   "outputs": [],
   "source": [
    "seed = 42\n",
    "\n",
    "os.environ[\"PYTHONHASHSEED\"] = str(seed)\n",
    "random.seed(seed)\n",
    "np.random.seed(seed)\n",
    "tf.random.set_seed(seed)\n",
    "\n",
    "os.environ[\"OMP_NUM_THREADS\"] = str(os.cpu_count())\n",
    "os.environ[\"TF_NUM_INTEROP_THREADS\"] = str(os.cpu_count())\n",
    "os.environ[\"TF_NUM_INTRAOP_THREADS\"] = str(os.cpu_count())\n",
    "\n",
    "tf.config.threading.set_intra_op_parallelism_threads(os.cpu_count())\n",
    "tf.config.threading.set_inter_op_parallelism_threads(os.cpu_count())\n",
    "\n",
    "torch.manual_seed(seed)\n",
    "torch.cuda.manual_seed(seed)\n",
    "torch.backends.cudnn.deterministic = True\n",
    "torch.backends.cudnn.benchmark = False"
   ]
  },
  {
   "cell_type": "code",
   "execution_count": 6,
   "id": "5f4cebda",
   "metadata": {
    "execution": {
     "iopub.execute_input": "2024-10-02T04:00:49.194202Z",
     "iopub.status.busy": "2024-10-02T04:00:49.193672Z",
     "iopub.status.idle": "2024-10-02T04:35:37.296528Z",
     "shell.execute_reply": "2024-10-02T04:35:37.293971Z"
    },
    "papermill": {
     "duration": 2088.112478,
     "end_time": "2024-10-02T04:35:37.298513",
     "exception": false,
     "start_time": "2024-10-02T04:00:49.186035",
     "status": "completed"
    },
    "tags": []
   },
   "outputs": [
    {
     "name": "stderr",
     "output_type": "stream",
     "text": [
      "\r",
      "Loading train tensors:   0%|          | 0/196 [00:00<?, ?it/s]"
     ]
    },
    {
     "name": "stderr",
     "output_type": "stream",
     "text": [
      "\r",
      "Loading train tensors:   1%|          | 1/196 [00:03<09:48,  3.02s/it]"
     ]
    },
    {
     "name": "stderr",
     "output_type": "stream",
     "text": [
      "\r",
      "Loading train tensors:   1%|          | 2/196 [00:06<09:42,  3.00s/it]"
     ]
    },
    {
     "name": "stderr",
     "output_type": "stream",
     "text": [
      "\r",
      "Loading train tensors:   2%|▏         | 3/196 [00:09<09:39,  3.00s/it]"
     ]
    },
    {
     "name": "stderr",
     "output_type": "stream",
     "text": [
      "\r",
      "Loading train tensors:   2%|▏         | 4/196 [00:12<09:39,  3.02s/it]"
     ]
    },
    {
     "name": "stderr",
     "output_type": "stream",
     "text": [
      "\r",
      "Loading train tensors:   3%|▎         | 5/196 [00:15<09:35,  3.01s/it]"
     ]
    },
    {
     "name": "stderr",
     "output_type": "stream",
     "text": [
      "\r",
      "Loading train tensors:   3%|▎         | 6/196 [00:18<09:33,  3.02s/it]"
     ]
    },
    {
     "name": "stderr",
     "output_type": "stream",
     "text": [
      "\r",
      "Loading train tensors:   4%|▎         | 7/196 [00:21<09:32,  3.03s/it]"
     ]
    },
    {
     "name": "stderr",
     "output_type": "stream",
     "text": [
      "\r",
      "Loading train tensors:   4%|▍         | 8/196 [00:24<09:29,  3.03s/it]"
     ]
    },
    {
     "name": "stderr",
     "output_type": "stream",
     "text": [
      "\r",
      "Loading train tensors:   5%|▍         | 9/196 [00:27<09:25,  3.03s/it]"
     ]
    },
    {
     "name": "stderr",
     "output_type": "stream",
     "text": [
      "\r",
      "Loading train tensors:   5%|▌         | 10/196 [00:30<09:23,  3.03s/it]"
     ]
    },
    {
     "name": "stderr",
     "output_type": "stream",
     "text": [
      "\r",
      "Loading train tensors:   6%|▌         | 11/196 [00:33<09:21,  3.03s/it]"
     ]
    },
    {
     "name": "stderr",
     "output_type": "stream",
     "text": [
      "\r",
      "Loading train tensors:   6%|▌         | 12/196 [00:36<09:17,  3.03s/it]"
     ]
    },
    {
     "name": "stderr",
     "output_type": "stream",
     "text": [
      "\r",
      "Loading train tensors:   7%|▋         | 13/196 [00:39<09:14,  3.03s/it]"
     ]
    },
    {
     "name": "stderr",
     "output_type": "stream",
     "text": [
      "\r",
      "Loading train tensors:   7%|▋         | 14/196 [00:42<09:12,  3.03s/it]"
     ]
    },
    {
     "name": "stderr",
     "output_type": "stream",
     "text": [
      "\r",
      "Loading train tensors:   8%|▊         | 15/196 [00:45<09:09,  3.04s/it]"
     ]
    },
    {
     "name": "stderr",
     "output_type": "stream",
     "text": [
      "\r",
      "Loading train tensors:   8%|▊         | 16/196 [00:48<09:07,  3.04s/it]"
     ]
    },
    {
     "name": "stderr",
     "output_type": "stream",
     "text": [
      "\r",
      "Loading train tensors:   9%|▊         | 17/196 [00:51<09:04,  3.04s/it]"
     ]
    },
    {
     "name": "stderr",
     "output_type": "stream",
     "text": [
      "\r",
      "Loading train tensors:   9%|▉         | 18/196 [00:54<08:59,  3.03s/it]"
     ]
    },
    {
     "name": "stderr",
     "output_type": "stream",
     "text": [
      "\r",
      "Loading train tensors:  10%|▉         | 19/196 [00:57<08:54,  3.02s/it]"
     ]
    },
    {
     "name": "stderr",
     "output_type": "stream",
     "text": [
      "\r",
      "Loading train tensors:  10%|█         | 20/196 [01:00<08:49,  3.01s/it]"
     ]
    },
    {
     "name": "stderr",
     "output_type": "stream",
     "text": [
      "\r",
      "Loading train tensors:  11%|█         | 21/196 [01:03<08:53,  3.05s/it]"
     ]
    },
    {
     "name": "stderr",
     "output_type": "stream",
     "text": [
      "\r",
      "Loading train tensors:  11%|█         | 22/196 [01:06<08:47,  3.03s/it]"
     ]
    },
    {
     "name": "stderr",
     "output_type": "stream",
     "text": [
      "\r",
      "Loading train tensors:  12%|█▏        | 23/196 [01:09<08:40,  3.01s/it]"
     ]
    },
    {
     "name": "stderr",
     "output_type": "stream",
     "text": [
      "\r",
      "Loading train tensors:  12%|█▏        | 24/196 [01:12<08:33,  2.99s/it]"
     ]
    },
    {
     "name": "stderr",
     "output_type": "stream",
     "text": [
      "\r",
      "Loading train tensors:  13%|█▎        | 25/196 [01:15<08:26,  2.96s/it]"
     ]
    },
    {
     "name": "stderr",
     "output_type": "stream",
     "text": [
      "\r",
      "Loading train tensors:  13%|█▎        | 26/196 [01:18<08:22,  2.96s/it]"
     ]
    },
    {
     "name": "stderr",
     "output_type": "stream",
     "text": [
      "\r",
      "Loading train tensors:  14%|█▍        | 27/196 [01:21<08:19,  2.96s/it]"
     ]
    },
    {
     "name": "stderr",
     "output_type": "stream",
     "text": [
      "\r",
      "Loading train tensors:  14%|█▍        | 28/196 [01:24<08:15,  2.95s/it]"
     ]
    },
    {
     "name": "stderr",
     "output_type": "stream",
     "text": [
      "\r",
      "Loading train tensors:  15%|█▍        | 29/196 [01:27<08:11,  2.94s/it]"
     ]
    },
    {
     "name": "stderr",
     "output_type": "stream",
     "text": [
      "\r",
      "Loading train tensors:  15%|█▌        | 30/196 [01:30<08:09,  2.95s/it]"
     ]
    },
    {
     "name": "stderr",
     "output_type": "stream",
     "text": [
      "\r",
      "Loading train tensors:  16%|█▌        | 31/196 [01:33<08:05,  2.94s/it]"
     ]
    },
    {
     "name": "stderr",
     "output_type": "stream",
     "text": [
      "\r",
      "Loading train tensors:  16%|█▋        | 32/196 [01:35<08:01,  2.94s/it]"
     ]
    },
    {
     "name": "stderr",
     "output_type": "stream",
     "text": [
      "\r",
      "Loading train tensors:  17%|█▋        | 33/196 [01:38<08:00,  2.95s/it]"
     ]
    },
    {
     "name": "stderr",
     "output_type": "stream",
     "text": [
      "\r",
      "Loading train tensors:  17%|█▋        | 34/196 [01:42<08:06,  3.00s/it]"
     ]
    },
    {
     "name": "stderr",
     "output_type": "stream",
     "text": [
      "\r",
      "Loading train tensors:  18%|█▊        | 35/196 [01:45<08:06,  3.02s/it]"
     ]
    },
    {
     "name": "stderr",
     "output_type": "stream",
     "text": [
      "\r",
      "Loading train tensors:  18%|█▊        | 36/196 [01:48<07:57,  2.99s/it]"
     ]
    },
    {
     "name": "stderr",
     "output_type": "stream",
     "text": [
      "\r",
      "Loading train tensors:  19%|█▉        | 37/196 [01:51<07:53,  2.98s/it]"
     ]
    },
    {
     "name": "stderr",
     "output_type": "stream",
     "text": [
      "\r",
      "Loading train tensors:  19%|█▉        | 38/196 [01:53<07:50,  2.98s/it]"
     ]
    },
    {
     "name": "stderr",
     "output_type": "stream",
     "text": [
      "\r",
      "Loading train tensors:  20%|█▉        | 39/196 [01:56<07:43,  2.95s/it]"
     ]
    },
    {
     "name": "stderr",
     "output_type": "stream",
     "text": [
      "\r",
      "Loading train tensors:  20%|██        | 40/196 [01:59<07:41,  2.96s/it]"
     ]
    },
    {
     "name": "stderr",
     "output_type": "stream",
     "text": [
      "\r",
      "Loading train tensors:  21%|██        | 41/196 [02:02<07:36,  2.95s/it]"
     ]
    },
    {
     "name": "stderr",
     "output_type": "stream",
     "text": [
      "\r",
      "Loading train tensors:  21%|██▏       | 42/196 [02:05<07:34,  2.95s/it]"
     ]
    },
    {
     "name": "stderr",
     "output_type": "stream",
     "text": [
      "\r",
      "Loading train tensors:  22%|██▏       | 43/196 [02:08<07:30,  2.94s/it]"
     ]
    },
    {
     "name": "stderr",
     "output_type": "stream",
     "text": [
      "\r",
      "Loading train tensors:  22%|██▏       | 44/196 [02:11<07:26,  2.94s/it]"
     ]
    },
    {
     "name": "stderr",
     "output_type": "stream",
     "text": [
      "\r",
      "Loading train tensors:  23%|██▎       | 45/196 [02:14<07:23,  2.94s/it]"
     ]
    },
    {
     "name": "stderr",
     "output_type": "stream",
     "text": [
      "\r",
      "Loading train tensors:  23%|██▎       | 46/196 [02:17<07:19,  2.93s/it]"
     ]
    },
    {
     "name": "stderr",
     "output_type": "stream",
     "text": [
      "\r",
      "Loading train tensors:  24%|██▍       | 47/196 [02:20<07:17,  2.94s/it]"
     ]
    },
    {
     "name": "stderr",
     "output_type": "stream",
     "text": [
      "\r",
      "Loading train tensors:  24%|██▍       | 48/196 [02:23<07:14,  2.93s/it]"
     ]
    },
    {
     "name": "stderr",
     "output_type": "stream",
     "text": [
      "\r",
      "Loading train tensors:  25%|██▌       | 49/196 [02:26<07:10,  2.93s/it]"
     ]
    },
    {
     "name": "stderr",
     "output_type": "stream",
     "text": [
      "\r",
      "Loading train tensors:  26%|██▌       | 50/196 [02:29<07:07,  2.93s/it]"
     ]
    },
    {
     "name": "stderr",
     "output_type": "stream",
     "text": [
      "\r",
      "Loading train tensors:  26%|██▌       | 51/196 [02:32<07:06,  2.94s/it]"
     ]
    },
    {
     "name": "stderr",
     "output_type": "stream",
     "text": [
      "\r",
      "Loading train tensors:  27%|██▋       | 52/196 [02:35<07:05,  2.96s/it]"
     ]
    },
    {
     "name": "stderr",
     "output_type": "stream",
     "text": [
      "\r",
      "Loading train tensors:  27%|██▋       | 53/196 [02:38<07:05,  2.98s/it]"
     ]
    },
    {
     "name": "stderr",
     "output_type": "stream",
     "text": [
      "\r",
      "Loading train tensors:  28%|██▊       | 54/196 [02:41<07:04,  2.99s/it]"
     ]
    },
    {
     "name": "stderr",
     "output_type": "stream",
     "text": [
      "\r",
      "Loading train tensors:  28%|██▊       | 55/196 [02:44<07:02,  3.00s/it]"
     ]
    },
    {
     "name": "stderr",
     "output_type": "stream",
     "text": [
      "\r",
      "Loading train tensors:  29%|██▊       | 56/196 [02:47<07:00,  3.01s/it]"
     ]
    },
    {
     "name": "stderr",
     "output_type": "stream",
     "text": [
      "\r",
      "Loading train tensors:  29%|██▉       | 57/196 [02:50<06:56,  3.00s/it]"
     ]
    },
    {
     "name": "stderr",
     "output_type": "stream",
     "text": [
      "\r",
      "Loading train tensors:  30%|██▉       | 58/196 [02:53<06:56,  3.02s/it]"
     ]
    },
    {
     "name": "stderr",
     "output_type": "stream",
     "text": [
      "\r",
      "Loading train tensors:  30%|███       | 59/196 [02:56<06:52,  3.01s/it]"
     ]
    },
    {
     "name": "stderr",
     "output_type": "stream",
     "text": [
      "\r",
      "Loading train tensors:  31%|███       | 60/196 [02:59<06:48,  3.01s/it]"
     ]
    },
    {
     "name": "stderr",
     "output_type": "stream",
     "text": [
      "\r",
      "Loading train tensors:  31%|███       | 61/196 [03:02<06:48,  3.02s/it]"
     ]
    },
    {
     "name": "stderr",
     "output_type": "stream",
     "text": [
      "\r",
      "Loading train tensors:  32%|███▏      | 62/196 [03:05<06:43,  3.01s/it]"
     ]
    },
    {
     "name": "stderr",
     "output_type": "stream",
     "text": [
      "\r",
      "Loading train tensors:  32%|███▏      | 63/196 [03:08<06:38,  3.00s/it]"
     ]
    },
    {
     "name": "stderr",
     "output_type": "stream",
     "text": [
      "\r",
      "Loading train tensors:  33%|███▎      | 64/196 [03:11<06:36,  3.00s/it]"
     ]
    },
    {
     "name": "stderr",
     "output_type": "stream",
     "text": [
      "\r",
      "Loading train tensors:  33%|███▎      | 65/196 [03:14<06:32,  2.99s/it]"
     ]
    },
    {
     "name": "stderr",
     "output_type": "stream",
     "text": [
      "\r",
      "Loading train tensors:  34%|███▎      | 66/196 [03:17<06:30,  3.00s/it]"
     ]
    },
    {
     "name": "stderr",
     "output_type": "stream",
     "text": [
      "\r",
      "Loading train tensors:  34%|███▍      | 67/196 [03:20<06:27,  3.01s/it]"
     ]
    },
    {
     "name": "stderr",
     "output_type": "stream",
     "text": [
      "\r",
      "Loading train tensors:  35%|███▍      | 68/196 [03:23<06:24,  3.00s/it]"
     ]
    },
    {
     "name": "stderr",
     "output_type": "stream",
     "text": [
      "\r",
      "Loading train tensors:  35%|███▌      | 69/196 [03:26<06:22,  3.01s/it]"
     ]
    },
    {
     "name": "stderr",
     "output_type": "stream",
     "text": [
      "\r",
      "Loading train tensors:  36%|███▌      | 70/196 [03:29<06:18,  3.00s/it]"
     ]
    },
    {
     "name": "stderr",
     "output_type": "stream",
     "text": [
      "\r",
      "Loading train tensors:  36%|███▌      | 71/196 [03:32<06:14,  3.00s/it]"
     ]
    },
    {
     "name": "stderr",
     "output_type": "stream",
     "text": [
      "\r",
      "Loading train tensors:  37%|███▋      | 72/196 [03:35<06:08,  2.97s/it]"
     ]
    },
    {
     "name": "stderr",
     "output_type": "stream",
     "text": [
      "\r",
      "Loading train tensors:  37%|███▋      | 73/196 [03:38<06:04,  2.97s/it]"
     ]
    },
    {
     "name": "stderr",
     "output_type": "stream",
     "text": [
      "\r",
      "Loading train tensors:  38%|███▊      | 74/196 [03:41<06:01,  2.96s/it]"
     ]
    },
    {
     "name": "stderr",
     "output_type": "stream",
     "text": [
      "\r",
      "Loading train tensors:  38%|███▊      | 75/196 [03:43<05:56,  2.95s/it]"
     ]
    },
    {
     "name": "stderr",
     "output_type": "stream",
     "text": [
      "\r",
      "Loading train tensors:  39%|███▉      | 76/196 [03:46<05:51,  2.93s/it]"
     ]
    },
    {
     "name": "stderr",
     "output_type": "stream",
     "text": [
      "\r",
      "Loading train tensors:  39%|███▉      | 77/196 [03:49<05:47,  2.92s/it]"
     ]
    },
    {
     "name": "stderr",
     "output_type": "stream",
     "text": [
      "\r",
      "Loading train tensors:  40%|███▉      | 78/196 [03:52<05:45,  2.93s/it]"
     ]
    },
    {
     "name": "stderr",
     "output_type": "stream",
     "text": [
      "\r",
      "Loading train tensors:  40%|████      | 79/196 [03:55<05:42,  2.92s/it]"
     ]
    },
    {
     "name": "stderr",
     "output_type": "stream",
     "text": [
      "\r",
      "Loading train tensors:  41%|████      | 80/196 [03:58<05:39,  2.93s/it]"
     ]
    },
    {
     "name": "stderr",
     "output_type": "stream",
     "text": [
      "\r",
      "Loading train tensors:  41%|████▏     | 81/196 [04:01<05:37,  2.93s/it]"
     ]
    },
    {
     "name": "stderr",
     "output_type": "stream",
     "text": [
      "\r",
      "Loading train tensors:  42%|████▏     | 82/196 [04:04<05:33,  2.92s/it]"
     ]
    },
    {
     "name": "stderr",
     "output_type": "stream",
     "text": [
      "\r",
      "Loading train tensors:  42%|████▏     | 83/196 [04:07<05:30,  2.93s/it]"
     ]
    },
    {
     "name": "stderr",
     "output_type": "stream",
     "text": [
      "\r",
      "Loading train tensors:  43%|████▎     | 84/196 [04:10<05:26,  2.92s/it]"
     ]
    },
    {
     "name": "stderr",
     "output_type": "stream",
     "text": [
      "\r",
      "Loading train tensors:  43%|████▎     | 85/196 [04:13<05:24,  2.92s/it]"
     ]
    },
    {
     "name": "stderr",
     "output_type": "stream",
     "text": [
      "\r",
      "Loading train tensors:  44%|████▍     | 86/196 [04:16<05:21,  2.92s/it]"
     ]
    },
    {
     "name": "stderr",
     "output_type": "stream",
     "text": [
      "\r",
      "Loading train tensors:  44%|████▍     | 87/196 [04:19<05:18,  2.92s/it]"
     ]
    },
    {
     "name": "stderr",
     "output_type": "stream",
     "text": [
      "\r",
      "Loading train tensors:  45%|████▍     | 88/196 [04:21<05:16,  2.93s/it]"
     ]
    },
    {
     "name": "stderr",
     "output_type": "stream",
     "text": [
      "\r",
      "Loading train tensors:  45%|████▌     | 89/196 [04:24<05:13,  2.93s/it]"
     ]
    },
    {
     "name": "stderr",
     "output_type": "stream",
     "text": [
      "\r",
      "Loading train tensors:  46%|████▌     | 90/196 [04:27<05:10,  2.93s/it]"
     ]
    },
    {
     "name": "stderr",
     "output_type": "stream",
     "text": [
      "\r",
      "Loading train tensors:  46%|████▋     | 91/196 [04:30<05:07,  2.93s/it]"
     ]
    },
    {
     "name": "stderr",
     "output_type": "stream",
     "text": [
      "\r",
      "Loading train tensors:  47%|████▋     | 92/196 [04:33<05:04,  2.93s/it]"
     ]
    },
    {
     "name": "stderr",
     "output_type": "stream",
     "text": [
      "\r",
      "Loading train tensors:  47%|████▋     | 93/196 [04:36<05:01,  2.92s/it]"
     ]
    },
    {
     "name": "stderr",
     "output_type": "stream",
     "text": [
      "\r",
      "Loading train tensors:  48%|████▊     | 94/196 [04:39<04:57,  2.91s/it]"
     ]
    },
    {
     "name": "stderr",
     "output_type": "stream",
     "text": [
      "\r",
      "Loading train tensors:  48%|████▊     | 95/196 [04:42<04:54,  2.92s/it]"
     ]
    },
    {
     "name": "stderr",
     "output_type": "stream",
     "text": [
      "\r",
      "Loading train tensors:  49%|████▉     | 96/196 [04:45<04:51,  2.91s/it]"
     ]
    },
    {
     "name": "stderr",
     "output_type": "stream",
     "text": [
      "\r",
      "Loading train tensors:  49%|████▉     | 97/196 [04:48<04:49,  2.93s/it]"
     ]
    },
    {
     "name": "stderr",
     "output_type": "stream",
     "text": [
      "\r",
      "Loading train tensors:  50%|█████     | 98/196 [04:51<04:50,  2.97s/it]"
     ]
    },
    {
     "name": "stderr",
     "output_type": "stream",
     "text": [
      "\r",
      "Loading train tensors:  51%|█████     | 99/196 [04:54<04:50,  2.99s/it]"
     ]
    },
    {
     "name": "stderr",
     "output_type": "stream",
     "text": [
      "\r",
      "Loading train tensors:  51%|█████     | 100/196 [04:57<04:47,  2.99s/it]"
     ]
    },
    {
     "name": "stderr",
     "output_type": "stream",
     "text": [
      "\r",
      "Loading train tensors:  52%|█████▏    | 101/196 [05:00<04:42,  2.98s/it]"
     ]
    },
    {
     "name": "stderr",
     "output_type": "stream",
     "text": [
      "\r",
      "Loading train tensors:  52%|█████▏    | 102/196 [05:03<04:37,  2.95s/it]"
     ]
    },
    {
     "name": "stderr",
     "output_type": "stream",
     "text": [
      "\r",
      "Loading train tensors:  53%|█████▎    | 103/196 [05:06<04:34,  2.95s/it]"
     ]
    },
    {
     "name": "stderr",
     "output_type": "stream",
     "text": [
      "\r",
      "Loading train tensors:  53%|█████▎    | 104/196 [05:09<04:31,  2.95s/it]"
     ]
    },
    {
     "name": "stderr",
     "output_type": "stream",
     "text": [
      "\r",
      "Loading train tensors:  54%|█████▎    | 105/196 [05:12<04:28,  2.95s/it]"
     ]
    },
    {
     "name": "stderr",
     "output_type": "stream",
     "text": [
      "\r",
      "Loading train tensors:  54%|█████▍    | 106/196 [05:15<04:27,  2.98s/it]"
     ]
    },
    {
     "name": "stderr",
     "output_type": "stream",
     "text": [
      "\r",
      "Loading train tensors:  55%|█████▍    | 107/196 [05:18<04:25,  2.99s/it]"
     ]
    },
    {
     "name": "stderr",
     "output_type": "stream",
     "text": [
      "\r",
      "Loading train tensors:  55%|█████▌    | 108/196 [05:21<04:26,  3.03s/it]"
     ]
    },
    {
     "name": "stderr",
     "output_type": "stream",
     "text": [
      "\r",
      "Loading train tensors:  56%|█████▌    | 109/196 [05:24<04:21,  3.01s/it]"
     ]
    },
    {
     "name": "stderr",
     "output_type": "stream",
     "text": [
      "\r",
      "Loading train tensors:  56%|█████▌    | 110/196 [05:27<04:18,  3.00s/it]"
     ]
    },
    {
     "name": "stderr",
     "output_type": "stream",
     "text": [
      "\r",
      "Loading train tensors:  57%|█████▋    | 111/196 [05:30<04:15,  3.01s/it]"
     ]
    },
    {
     "name": "stderr",
     "output_type": "stream",
     "text": [
      "\r",
      "Loading train tensors:  57%|█████▋    | 112/196 [05:33<04:12,  3.01s/it]"
     ]
    },
    {
     "name": "stderr",
     "output_type": "stream",
     "text": [
      "\r",
      "Loading train tensors:  58%|█████▊    | 113/196 [05:36<04:09,  3.00s/it]"
     ]
    },
    {
     "name": "stderr",
     "output_type": "stream",
     "text": [
      "\r",
      "Loading train tensors:  58%|█████▊    | 114/196 [05:39<04:05,  2.99s/it]"
     ]
    },
    {
     "name": "stderr",
     "output_type": "stream",
     "text": [
      "\r",
      "Loading train tensors:  59%|█████▊    | 115/196 [05:42<04:01,  2.98s/it]"
     ]
    },
    {
     "name": "stderr",
     "output_type": "stream",
     "text": [
      "\r",
      "Loading train tensors:  59%|█████▉    | 116/196 [05:45<03:59,  3.00s/it]"
     ]
    },
    {
     "name": "stderr",
     "output_type": "stream",
     "text": [
      "\r",
      "Loading train tensors:  60%|█████▉    | 117/196 [05:48<03:56,  3.00s/it]"
     ]
    },
    {
     "name": "stderr",
     "output_type": "stream",
     "text": [
      "\r",
      "Loading train tensors:  60%|██████    | 118/196 [05:51<03:54,  3.00s/it]"
     ]
    },
    {
     "name": "stderr",
     "output_type": "stream",
     "text": [
      "\r",
      "Loading train tensors:  61%|██████    | 119/196 [05:54<03:50,  3.00s/it]"
     ]
    },
    {
     "name": "stderr",
     "output_type": "stream",
     "text": [
      "\r",
      "Loading train tensors:  61%|██████    | 120/196 [05:57<03:47,  2.99s/it]"
     ]
    },
    {
     "name": "stderr",
     "output_type": "stream",
     "text": [
      "\r",
      "Loading train tensors:  62%|██████▏   | 121/196 [06:00<03:44,  3.00s/it]"
     ]
    },
    {
     "name": "stderr",
     "output_type": "stream",
     "text": [
      "\r",
      "Loading train tensors:  62%|██████▏   | 122/196 [06:03<03:40,  2.98s/it]"
     ]
    },
    {
     "name": "stderr",
     "output_type": "stream",
     "text": [
      "\r",
      "Loading train tensors:  63%|██████▎   | 123/196 [06:06<03:38,  3.00s/it]"
     ]
    },
    {
     "name": "stderr",
     "output_type": "stream",
     "text": [
      "\r",
      "Loading train tensors:  63%|██████▎   | 124/196 [06:09<03:36,  3.00s/it]"
     ]
    },
    {
     "name": "stderr",
     "output_type": "stream",
     "text": [
      "\r",
      "Loading train tensors:  64%|██████▍   | 125/196 [06:12<03:32,  2.99s/it]"
     ]
    },
    {
     "name": "stderr",
     "output_type": "stream",
     "text": [
      "\r",
      "Loading train tensors:  64%|██████▍   | 126/196 [06:15<03:29,  2.99s/it]"
     ]
    },
    {
     "name": "stderr",
     "output_type": "stream",
     "text": [
      "\r",
      "Loading train tensors:  65%|██████▍   | 127/196 [06:18<03:25,  2.98s/it]"
     ]
    },
    {
     "name": "stderr",
     "output_type": "stream",
     "text": [
      "\r",
      "Loading train tensors:  65%|██████▌   | 128/196 [06:21<03:22,  2.98s/it]"
     ]
    },
    {
     "name": "stderr",
     "output_type": "stream",
     "text": [
      "\r",
      "Loading train tensors:  66%|██████▌   | 129/196 [06:23<03:18,  2.97s/it]"
     ]
    },
    {
     "name": "stderr",
     "output_type": "stream",
     "text": [
      "\r",
      "Loading train tensors:  66%|██████▋   | 130/196 [06:26<03:15,  2.97s/it]"
     ]
    },
    {
     "name": "stderr",
     "output_type": "stream",
     "text": [
      "\r",
      "Loading train tensors:  67%|██████▋   | 131/196 [06:29<03:12,  2.96s/it]"
     ]
    },
    {
     "name": "stderr",
     "output_type": "stream",
     "text": [
      "\r",
      "Loading train tensors:  67%|██████▋   | 132/196 [06:32<03:09,  2.96s/it]"
     ]
    },
    {
     "name": "stderr",
     "output_type": "stream",
     "text": [
      "\r",
      "Loading train tensors:  68%|██████▊   | 133/196 [06:35<03:05,  2.94s/it]"
     ]
    },
    {
     "name": "stderr",
     "output_type": "stream",
     "text": [
      "\r",
      "Loading train tensors:  68%|██████▊   | 134/196 [06:38<03:02,  2.94s/it]"
     ]
    },
    {
     "name": "stderr",
     "output_type": "stream",
     "text": [
      "\r",
      "Loading train tensors:  69%|██████▉   | 135/196 [06:41<02:58,  2.93s/it]"
     ]
    },
    {
     "name": "stderr",
     "output_type": "stream",
     "text": [
      "\r",
      "Loading train tensors:  69%|██████▉   | 136/196 [06:44<02:56,  2.94s/it]"
     ]
    },
    {
     "name": "stderr",
     "output_type": "stream",
     "text": [
      "\r",
      "Loading train tensors:  70%|██████▉   | 137/196 [06:47<02:54,  2.96s/it]"
     ]
    },
    {
     "name": "stderr",
     "output_type": "stream",
     "text": [
      "\r",
      "Loading train tensors:  70%|███████   | 138/196 [06:50<02:52,  2.97s/it]"
     ]
    },
    {
     "name": "stderr",
     "output_type": "stream",
     "text": [
      "\r",
      "Loading train tensors:  71%|███████   | 139/196 [06:53<02:50,  2.99s/it]"
     ]
    },
    {
     "name": "stderr",
     "output_type": "stream",
     "text": [
      "\r",
      "Loading train tensors:  71%|███████▏  | 140/196 [06:56<02:46,  2.98s/it]"
     ]
    },
    {
     "name": "stderr",
     "output_type": "stream",
     "text": [
      "\r",
      "Loading train tensors:  72%|███████▏  | 141/196 [06:59<02:44,  2.99s/it]"
     ]
    },
    {
     "name": "stderr",
     "output_type": "stream",
     "text": [
      "\r",
      "Loading train tensors:  72%|███████▏  | 142/196 [07:02<02:41,  3.00s/it]"
     ]
    },
    {
     "name": "stderr",
     "output_type": "stream",
     "text": [
      "\r",
      "Loading train tensors:  73%|███████▎  | 143/196 [07:05<02:39,  3.01s/it]"
     ]
    },
    {
     "name": "stderr",
     "output_type": "stream",
     "text": [
      "\r",
      "Loading train tensors:  73%|███████▎  | 144/196 [07:08<02:38,  3.05s/it]"
     ]
    },
    {
     "name": "stderr",
     "output_type": "stream",
     "text": [
      "\r",
      "Loading train tensors:  74%|███████▍  | 145/196 [07:11<02:37,  3.08s/it]"
     ]
    },
    {
     "name": "stderr",
     "output_type": "stream",
     "text": [
      "\r",
      "Loading train tensors:  74%|███████▍  | 146/196 [07:14<02:32,  3.05s/it]"
     ]
    },
    {
     "name": "stderr",
     "output_type": "stream",
     "text": [
      "\r",
      "Loading train tensors:  75%|███████▌  | 147/196 [07:17<02:29,  3.04s/it]"
     ]
    },
    {
     "name": "stderr",
     "output_type": "stream",
     "text": [
      "\r",
      "Loading train tensors:  76%|███████▌  | 148/196 [07:21<02:28,  3.09s/it]"
     ]
    },
    {
     "name": "stderr",
     "output_type": "stream",
     "text": [
      "\r",
      "Loading train tensors:  76%|███████▌  | 149/196 [07:24<02:24,  3.08s/it]"
     ]
    },
    {
     "name": "stderr",
     "output_type": "stream",
     "text": [
      "\r",
      "Loading train tensors:  77%|███████▋  | 150/196 [07:27<02:21,  3.07s/it]"
     ]
    },
    {
     "name": "stderr",
     "output_type": "stream",
     "text": [
      "\r",
      "Loading train tensors:  77%|███████▋  | 151/196 [07:30<02:16,  3.04s/it]"
     ]
    },
    {
     "name": "stderr",
     "output_type": "stream",
     "text": [
      "\r",
      "Loading train tensors:  78%|███████▊  | 152/196 [07:33<02:13,  3.04s/it]"
     ]
    },
    {
     "name": "stderr",
     "output_type": "stream",
     "text": [
      "\r",
      "Loading train tensors:  78%|███████▊  | 153/196 [07:36<02:10,  3.03s/it]"
     ]
    },
    {
     "name": "stderr",
     "output_type": "stream",
     "text": [
      "\r",
      "Loading train tensors:  79%|███████▊  | 154/196 [07:39<02:08,  3.05s/it]"
     ]
    },
    {
     "name": "stderr",
     "output_type": "stream",
     "text": [
      "\r",
      "Loading train tensors:  79%|███████▉  | 155/196 [07:42<02:05,  3.07s/it]"
     ]
    },
    {
     "name": "stderr",
     "output_type": "stream",
     "text": [
      "\r",
      "Loading train tensors:  80%|███████▉  | 156/196 [07:45<02:03,  3.08s/it]"
     ]
    },
    {
     "name": "stderr",
     "output_type": "stream",
     "text": [
      "\r",
      "Loading train tensors:  80%|████████  | 157/196 [07:48<01:59,  3.07s/it]"
     ]
    },
    {
     "name": "stderr",
     "output_type": "stream",
     "text": [
      "\r",
      "Loading train tensors:  81%|████████  | 158/196 [07:51<01:56,  3.08s/it]"
     ]
    },
    {
     "name": "stderr",
     "output_type": "stream",
     "text": [
      "\r",
      "Loading train tensors:  81%|████████  | 159/196 [07:54<01:53,  3.08s/it]"
     ]
    },
    {
     "name": "stderr",
     "output_type": "stream",
     "text": [
      "\r",
      "Loading train tensors:  82%|████████▏ | 160/196 [07:57<01:50,  3.08s/it]"
     ]
    },
    {
     "name": "stderr",
     "output_type": "stream",
     "text": [
      "\r",
      "Loading train tensors:  82%|████████▏ | 161/196 [08:00<01:47,  3.08s/it]"
     ]
    },
    {
     "name": "stderr",
     "output_type": "stream",
     "text": [
      "\r",
      "Loading train tensors:  83%|████████▎ | 162/196 [08:03<01:44,  3.07s/it]"
     ]
    },
    {
     "name": "stderr",
     "output_type": "stream",
     "text": [
      "\r",
      "Loading train tensors:  83%|████████▎ | 163/196 [08:07<01:41,  3.08s/it]"
     ]
    },
    {
     "name": "stderr",
     "output_type": "stream",
     "text": [
      "\r",
      "Loading train tensors:  84%|████████▎ | 164/196 [08:10<01:39,  3.11s/it]"
     ]
    },
    {
     "name": "stderr",
     "output_type": "stream",
     "text": [
      "\r",
      "Loading train tensors:  84%|████████▍ | 165/196 [08:13<01:37,  3.14s/it]"
     ]
    },
    {
     "name": "stderr",
     "output_type": "stream",
     "text": [
      "\r",
      "Loading train tensors:  85%|████████▍ | 166/196 [08:16<01:34,  3.15s/it]"
     ]
    },
    {
     "name": "stderr",
     "output_type": "stream",
     "text": [
      "\r",
      "Loading train tensors:  85%|████████▌ | 167/196 [08:19<01:30,  3.13s/it]"
     ]
    },
    {
     "name": "stderr",
     "output_type": "stream",
     "text": [
      "\r",
      "Loading train tensors:  86%|████████▌ | 168/196 [08:22<01:27,  3.13s/it]"
     ]
    },
    {
     "name": "stderr",
     "output_type": "stream",
     "text": [
      "\r",
      "Loading train tensors:  86%|████████▌ | 169/196 [08:25<01:24,  3.12s/it]"
     ]
    },
    {
     "name": "stderr",
     "output_type": "stream",
     "text": [
      "\r",
      "Loading train tensors:  87%|████████▋ | 170/196 [08:29<01:21,  3.13s/it]"
     ]
    },
    {
     "name": "stderr",
     "output_type": "stream",
     "text": [
      "\r",
      "Loading train tensors:  87%|████████▋ | 171/196 [08:32<01:18,  3.12s/it]"
     ]
    },
    {
     "name": "stderr",
     "output_type": "stream",
     "text": [
      "\r",
      "Loading train tensors:  88%|████████▊ | 172/196 [08:35<01:14,  3.11s/it]"
     ]
    },
    {
     "name": "stderr",
     "output_type": "stream",
     "text": [
      "\r",
      "Loading train tensors:  88%|████████▊ | 173/196 [08:38<01:11,  3.11s/it]"
     ]
    },
    {
     "name": "stderr",
     "output_type": "stream",
     "text": [
      "\r",
      "Loading train tensors:  89%|████████▉ | 174/196 [08:41<01:08,  3.12s/it]"
     ]
    },
    {
     "name": "stderr",
     "output_type": "stream",
     "text": [
      "\r",
      "Loading train tensors:  89%|████████▉ | 175/196 [08:44<01:05,  3.14s/it]"
     ]
    },
    {
     "name": "stderr",
     "output_type": "stream",
     "text": [
      "\r",
      "Loading train tensors:  90%|████████▉ | 176/196 [08:47<01:02,  3.11s/it]"
     ]
    },
    {
     "name": "stderr",
     "output_type": "stream",
     "text": [
      "\r",
      "Loading train tensors:  90%|█████████ | 177/196 [08:50<00:59,  3.11s/it]"
     ]
    },
    {
     "name": "stderr",
     "output_type": "stream",
     "text": [
      "\r",
      "Loading train tensors:  91%|█████████ | 178/196 [08:53<00:55,  3.10s/it]"
     ]
    },
    {
     "name": "stderr",
     "output_type": "stream",
     "text": [
      "\r",
      "Loading train tensors:  91%|█████████▏| 179/196 [08:57<00:52,  3.11s/it]"
     ]
    },
    {
     "name": "stderr",
     "output_type": "stream",
     "text": [
      "\r",
      "Loading train tensors:  92%|█████████▏| 180/196 [09:00<00:49,  3.10s/it]"
     ]
    },
    {
     "name": "stderr",
     "output_type": "stream",
     "text": [
      "\r",
      "Loading train tensors:  92%|█████████▏| 181/196 [09:03<00:46,  3.10s/it]"
     ]
    },
    {
     "name": "stderr",
     "output_type": "stream",
     "text": [
      "\r",
      "Loading train tensors:  93%|█████████▎| 182/196 [09:06<00:43,  3.10s/it]"
     ]
    },
    {
     "name": "stderr",
     "output_type": "stream",
     "text": [
      "\r",
      "Loading train tensors:  93%|█████████▎| 183/196 [09:09<00:40,  3.11s/it]"
     ]
    },
    {
     "name": "stderr",
     "output_type": "stream",
     "text": [
      "\r",
      "Loading train tensors:  94%|█████████▍| 184/196 [09:12<00:37,  3.13s/it]"
     ]
    },
    {
     "name": "stderr",
     "output_type": "stream",
     "text": [
      "\r",
      "Loading train tensors:  94%|█████████▍| 185/196 [09:15<00:34,  3.12s/it]"
     ]
    },
    {
     "name": "stderr",
     "output_type": "stream",
     "text": [
      "\r",
      "Loading train tensors:  95%|█████████▍| 186/196 [09:18<00:30,  3.09s/it]"
     ]
    },
    {
     "name": "stderr",
     "output_type": "stream",
     "text": [
      "\r",
      "Loading train tensors:  95%|█████████▌| 187/196 [09:21<00:27,  3.10s/it]"
     ]
    },
    {
     "name": "stderr",
     "output_type": "stream",
     "text": [
      "\r",
      "Loading train tensors:  96%|█████████▌| 188/196 [09:25<00:24,  3.10s/it]"
     ]
    },
    {
     "name": "stderr",
     "output_type": "stream",
     "text": [
      "\r",
      "Loading train tensors:  96%|█████████▋| 189/196 [09:28<00:21,  3.11s/it]"
     ]
    },
    {
     "name": "stderr",
     "output_type": "stream",
     "text": [
      "\r",
      "Loading train tensors:  97%|█████████▋| 190/196 [09:31<00:18,  3.12s/it]"
     ]
    },
    {
     "name": "stderr",
     "output_type": "stream",
     "text": [
      "\r",
      "Loading train tensors:  97%|█████████▋| 191/196 [09:34<00:15,  3.11s/it]"
     ]
    },
    {
     "name": "stderr",
     "output_type": "stream",
     "text": [
      "\r",
      "Loading train tensors:  98%|█████████▊| 192/196 [09:37<00:12,  3.12s/it]"
     ]
    },
    {
     "name": "stderr",
     "output_type": "stream",
     "text": [
      "\r",
      "Loading train tensors:  98%|█████████▊| 193/196 [09:40<00:09,  3.12s/it]"
     ]
    },
    {
     "name": "stderr",
     "output_type": "stream",
     "text": [
      "\r",
      "Loading train tensors:  99%|█████████▉| 194/196 [09:43<00:06,  3.12s/it]"
     ]
    },
    {
     "name": "stderr",
     "output_type": "stream",
     "text": [
      "\r",
      "Loading train tensors:  99%|█████████▉| 195/196 [09:46<00:03,  3.11s/it]"
     ]
    },
    {
     "name": "stderr",
     "output_type": "stream",
     "text": [
      "\r",
      "Loading train tensors: 100%|██████████| 196/196 [09:47<00:00,  2.48s/it]"
     ]
    },
    {
     "name": "stderr",
     "output_type": "stream",
     "text": [
      "\r",
      "Loading train tensors: 100%|██████████| 196/196 [09:47<00:00,  3.00s/it]"
     ]
    },
    {
     "name": "stderr",
     "output_type": "stream",
     "text": [
      "\n"
     ]
    },
    {
     "name": "stdout",
     "output_type": "stream",
     "text": [
      "Sample size:  75000\n"
     ]
    },
    {
     "name": "stderr",
     "output_type": "stream",
     "text": [
      "\r",
      "Loading val tensors:   0%|          | 0/196 [00:00<?, ?it/s]"
     ]
    },
    {
     "name": "stderr",
     "output_type": "stream",
     "text": [
      "\r",
      "Loading val tensors:   1%|          | 1/196 [00:02<09:02,  2.78s/it]"
     ]
    },
    {
     "name": "stderr",
     "output_type": "stream",
     "text": [
      "\r",
      "Loading val tensors:   1%|          | 2/196 [00:05<09:01,  2.79s/it]"
     ]
    },
    {
     "name": "stderr",
     "output_type": "stream",
     "text": [
      "\r",
      "Loading val tensors:   2%|▏         | 3/196 [00:08<08:56,  2.78s/it]"
     ]
    },
    {
     "name": "stderr",
     "output_type": "stream",
     "text": [
      "\r",
      "Loading val tensors:   2%|▏         | 4/196 [00:11<08:52,  2.77s/it]"
     ]
    },
    {
     "name": "stderr",
     "output_type": "stream",
     "text": [
      "\r",
      "Loading val tensors:   3%|▎         | 5/196 [00:13<08:49,  2.77s/it]"
     ]
    },
    {
     "name": "stderr",
     "output_type": "stream",
     "text": [
      "\r",
      "Loading val tensors:   3%|▎         | 6/196 [00:16<08:48,  2.78s/it]"
     ]
    },
    {
     "name": "stderr",
     "output_type": "stream",
     "text": [
      "\r",
      "Loading val tensors:   4%|▎         | 7/196 [00:19<09:00,  2.86s/it]"
     ]
    },
    {
     "name": "stderr",
     "output_type": "stream",
     "text": [
      "\r",
      "Loading val tensors:   4%|▍         | 8/196 [00:22<09:10,  2.93s/it]"
     ]
    },
    {
     "name": "stderr",
     "output_type": "stream",
     "text": [
      "\r",
      "Loading val tensors:   5%|▍         | 9/196 [00:25<09:15,  2.97s/it]"
     ]
    },
    {
     "name": "stderr",
     "output_type": "stream",
     "text": [
      "\r",
      "Loading val tensors:   5%|▌         | 10/196 [00:28<09:19,  3.01s/it]"
     ]
    },
    {
     "name": "stderr",
     "output_type": "stream",
     "text": [
      "\r",
      "Loading val tensors:   6%|▌         | 11/196 [00:32<09:21,  3.03s/it]"
     ]
    },
    {
     "name": "stderr",
     "output_type": "stream",
     "text": [
      "\r",
      "Loading val tensors:   6%|▌         | 12/196 [00:35<09:20,  3.04s/it]"
     ]
    },
    {
     "name": "stderr",
     "output_type": "stream",
     "text": [
      "\r",
      "Loading val tensors:   7%|▋         | 13/196 [00:37<09:08,  3.00s/it]"
     ]
    },
    {
     "name": "stderr",
     "output_type": "stream",
     "text": [
      "\r",
      "Loading val tensors:   7%|▋         | 14/196 [00:40<08:59,  2.96s/it]"
     ]
    },
    {
     "name": "stderr",
     "output_type": "stream",
     "text": [
      "\r",
      "Loading val tensors:   8%|▊         | 15/196 [00:43<08:50,  2.93s/it]"
     ]
    },
    {
     "name": "stderr",
     "output_type": "stream",
     "text": [
      "\r",
      "Loading val tensors:   8%|▊         | 16/196 [00:46<08:47,  2.93s/it]"
     ]
    },
    {
     "name": "stderr",
     "output_type": "stream",
     "text": [
      "\r",
      "Loading val tensors:   9%|▊         | 17/196 [00:49<08:42,  2.92s/it]"
     ]
    },
    {
     "name": "stderr",
     "output_type": "stream",
     "text": [
      "\r",
      "Loading val tensors:   9%|▉         | 18/196 [00:52<08:41,  2.93s/it]"
     ]
    },
    {
     "name": "stderr",
     "output_type": "stream",
     "text": [
      "\r",
      "Loading val tensors:  10%|▉         | 19/196 [00:55<08:46,  2.98s/it]"
     ]
    },
    {
     "name": "stderr",
     "output_type": "stream",
     "text": [
      "\r",
      "Loading val tensors:  10%|█         | 20/196 [00:58<08:50,  3.01s/it]"
     ]
    },
    {
     "name": "stderr",
     "output_type": "stream",
     "text": [
      "\r",
      "Loading val tensors:  11%|█         | 21/196 [01:01<08:51,  3.04s/it]"
     ]
    },
    {
     "name": "stderr",
     "output_type": "stream",
     "text": [
      "\r",
      "Loading val tensors:  11%|█         | 22/196 [01:04<08:50,  3.05s/it]"
     ]
    },
    {
     "name": "stderr",
     "output_type": "stream",
     "text": [
      "\r",
      "Loading val tensors:  12%|█▏        | 23/196 [01:07<08:45,  3.04s/it]"
     ]
    },
    {
     "name": "stderr",
     "output_type": "stream",
     "text": [
      "\r",
      "Loading val tensors:  12%|█▏        | 24/196 [01:11<08:49,  3.08s/it]"
     ]
    },
    {
     "name": "stderr",
     "output_type": "stream",
     "text": [
      "\r",
      "Loading val tensors:  13%|█▎        | 25/196 [01:14<08:49,  3.10s/it]"
     ]
    },
    {
     "name": "stderr",
     "output_type": "stream",
     "text": [
      "\r",
      "Loading val tensors:  13%|█▎        | 26/196 [01:17<08:46,  3.10s/it]"
     ]
    },
    {
     "name": "stderr",
     "output_type": "stream",
     "text": [
      "\r",
      "Loading val tensors:  14%|█▍        | 27/196 [01:20<08:43,  3.10s/it]"
     ]
    },
    {
     "name": "stderr",
     "output_type": "stream",
     "text": [
      "\r",
      "Loading val tensors:  14%|█▍        | 28/196 [01:23<08:41,  3.10s/it]"
     ]
    },
    {
     "name": "stderr",
     "output_type": "stream",
     "text": [
      "\r",
      "Loading val tensors:  15%|█▍        | 29/196 [01:26<08:36,  3.09s/it]"
     ]
    },
    {
     "name": "stderr",
     "output_type": "stream",
     "text": [
      "\r",
      "Loading val tensors:  15%|█▌        | 30/196 [01:29<08:35,  3.10s/it]"
     ]
    },
    {
     "name": "stderr",
     "output_type": "stream",
     "text": [
      "\r",
      "Loading val tensors:  16%|█▌        | 31/196 [01:32<08:31,  3.10s/it]"
     ]
    },
    {
     "name": "stderr",
     "output_type": "stream",
     "text": [
      "\r",
      "Loading val tensors:  16%|█▋        | 32/196 [01:35<08:28,  3.10s/it]"
     ]
    },
    {
     "name": "stderr",
     "output_type": "stream",
     "text": [
      "\r",
      "Loading val tensors:  17%|█▋        | 33/196 [01:39<08:27,  3.11s/it]"
     ]
    },
    {
     "name": "stderr",
     "output_type": "stream",
     "text": [
      "\r",
      "Loading val tensors:  17%|█▋        | 34/196 [01:42<08:24,  3.12s/it]"
     ]
    },
    {
     "name": "stderr",
     "output_type": "stream",
     "text": [
      "\r",
      "Loading val tensors:  18%|█▊        | 35/196 [01:45<08:20,  3.11s/it]"
     ]
    },
    {
     "name": "stderr",
     "output_type": "stream",
     "text": [
      "\r",
      "Loading val tensors:  18%|█▊        | 36/196 [01:48<08:17,  3.11s/it]"
     ]
    },
    {
     "name": "stderr",
     "output_type": "stream",
     "text": [
      "\r",
      "Loading val tensors:  19%|█▉        | 37/196 [01:51<08:14,  3.11s/it]"
     ]
    },
    {
     "name": "stderr",
     "output_type": "stream",
     "text": [
      "\r",
      "Loading val tensors:  19%|█▉        | 38/196 [01:54<08:11,  3.11s/it]"
     ]
    },
    {
     "name": "stderr",
     "output_type": "stream",
     "text": [
      "\r",
      "Loading val tensors:  20%|█▉        | 39/196 [01:57<08:10,  3.12s/it]"
     ]
    },
    {
     "name": "stderr",
     "output_type": "stream",
     "text": [
      "\r",
      "Loading val tensors:  20%|██        | 40/196 [02:00<08:13,  3.16s/it]"
     ]
    },
    {
     "name": "stderr",
     "output_type": "stream",
     "text": [
      "\r",
      "Loading val tensors:  21%|██        | 41/196 [02:04<08:13,  3.18s/it]"
     ]
    },
    {
     "name": "stderr",
     "output_type": "stream",
     "text": [
      "\r",
      "Loading val tensors:  21%|██▏       | 42/196 [02:07<08:12,  3.20s/it]"
     ]
    },
    {
     "name": "stderr",
     "output_type": "stream",
     "text": [
      "\r",
      "Loading val tensors:  22%|██▏       | 43/196 [02:10<08:10,  3.20s/it]"
     ]
    },
    {
     "name": "stderr",
     "output_type": "stream",
     "text": [
      "\r",
      "Loading val tensors:  22%|██▏       | 44/196 [02:13<08:06,  3.20s/it]"
     ]
    },
    {
     "name": "stderr",
     "output_type": "stream",
     "text": [
      "\r",
      "Loading val tensors:  23%|██▎       | 45/196 [02:17<08:01,  3.19s/it]"
     ]
    },
    {
     "name": "stderr",
     "output_type": "stream",
     "text": [
      "\r",
      "Loading val tensors:  23%|██▎       | 46/196 [02:20<07:58,  3.19s/it]"
     ]
    },
    {
     "name": "stderr",
     "output_type": "stream",
     "text": [
      "\r",
      "Loading val tensors:  24%|██▍       | 47/196 [02:23<07:52,  3.17s/it]"
     ]
    },
    {
     "name": "stderr",
     "output_type": "stream",
     "text": [
      "\r",
      "Loading val tensors:  24%|██▍       | 48/196 [02:26<07:47,  3.16s/it]"
     ]
    },
    {
     "name": "stderr",
     "output_type": "stream",
     "text": [
      "\r",
      "Loading val tensors:  25%|██▌       | 49/196 [02:29<07:43,  3.15s/it]"
     ]
    },
    {
     "name": "stderr",
     "output_type": "stream",
     "text": [
      "\r",
      "Loading val tensors:  26%|██▌       | 50/196 [02:32<07:41,  3.16s/it]"
     ]
    },
    {
     "name": "stderr",
     "output_type": "stream",
     "text": [
      "\r",
      "Loading val tensors:  26%|██▌       | 51/196 [02:35<07:38,  3.16s/it]"
     ]
    },
    {
     "name": "stderr",
     "output_type": "stream",
     "text": [
      "\r",
      "Loading val tensors:  27%|██▋       | 52/196 [02:39<07:35,  3.16s/it]"
     ]
    },
    {
     "name": "stderr",
     "output_type": "stream",
     "text": [
      "\r",
      "Loading val tensors:  27%|██▋       | 53/196 [02:42<07:31,  3.16s/it]"
     ]
    },
    {
     "name": "stderr",
     "output_type": "stream",
     "text": [
      "\r",
      "Loading val tensors:  28%|██▊       | 54/196 [02:45<07:27,  3.15s/it]"
     ]
    },
    {
     "name": "stderr",
     "output_type": "stream",
     "text": [
      "\r",
      "Loading val tensors:  28%|██▊       | 55/196 [02:48<07:25,  3.16s/it]"
     ]
    },
    {
     "name": "stderr",
     "output_type": "stream",
     "text": [
      "\r",
      "Loading val tensors:  29%|██▊       | 56/196 [02:51<07:19,  3.14s/it]"
     ]
    },
    {
     "name": "stderr",
     "output_type": "stream",
     "text": [
      "\r",
      "Loading val tensors:  29%|██▉       | 57/196 [02:54<07:17,  3.15s/it]"
     ]
    },
    {
     "name": "stderr",
     "output_type": "stream",
     "text": [
      "\r",
      "Loading val tensors:  30%|██▉       | 58/196 [02:58<07:16,  3.16s/it]"
     ]
    },
    {
     "name": "stderr",
     "output_type": "stream",
     "text": [
      "\r",
      "Loading val tensors:  30%|███       | 59/196 [03:01<07:13,  3.17s/it]"
     ]
    },
    {
     "name": "stderr",
     "output_type": "stream",
     "text": [
      "\r",
      "Loading val tensors:  31%|███       | 60/196 [03:04<07:08,  3.15s/it]"
     ]
    },
    {
     "name": "stderr",
     "output_type": "stream",
     "text": [
      "\r",
      "Loading val tensors:  31%|███       | 61/196 [03:07<07:06,  3.16s/it]"
     ]
    },
    {
     "name": "stderr",
     "output_type": "stream",
     "text": [
      "\r",
      "Loading val tensors:  32%|███▏      | 62/196 [03:10<07:04,  3.16s/it]"
     ]
    },
    {
     "name": "stderr",
     "output_type": "stream",
     "text": [
      "\r",
      "Loading val tensors:  32%|███▏      | 63/196 [03:13<07:05,  3.20s/it]"
     ]
    },
    {
     "name": "stderr",
     "output_type": "stream",
     "text": [
      "\r",
      "Loading val tensors:  33%|███▎      | 64/196 [03:17<07:04,  3.21s/it]"
     ]
    },
    {
     "name": "stderr",
     "output_type": "stream",
     "text": [
      "\r",
      "Loading val tensors:  33%|███▎      | 65/196 [03:20<07:02,  3.23s/it]"
     ]
    },
    {
     "name": "stderr",
     "output_type": "stream",
     "text": [
      "\r",
      "Loading val tensors:  34%|███▎      | 66/196 [03:23<07:00,  3.23s/it]"
     ]
    },
    {
     "name": "stderr",
     "output_type": "stream",
     "text": [
      "\r",
      "Loading val tensors:  34%|███▍      | 67/196 [03:26<06:58,  3.24s/it]"
     ]
    },
    {
     "name": "stderr",
     "output_type": "stream",
     "text": [
      "\r",
      "Loading val tensors:  35%|███▍      | 68/196 [03:30<06:54,  3.24s/it]"
     ]
    },
    {
     "name": "stderr",
     "output_type": "stream",
     "text": [
      "\r",
      "Loading val tensors:  35%|███▌      | 69/196 [03:33<06:52,  3.25s/it]"
     ]
    },
    {
     "name": "stderr",
     "output_type": "stream",
     "text": [
      "\r",
      "Loading val tensors:  36%|███▌      | 70/196 [03:36<06:50,  3.26s/it]"
     ]
    },
    {
     "name": "stderr",
     "output_type": "stream",
     "text": [
      "\r",
      "Loading val tensors:  36%|███▌      | 71/196 [03:39<06:45,  3.25s/it]"
     ]
    },
    {
     "name": "stderr",
     "output_type": "stream",
     "text": [
      "\r",
      "Loading val tensors:  37%|███▋      | 72/196 [03:43<06:43,  3.25s/it]"
     ]
    },
    {
     "name": "stderr",
     "output_type": "stream",
     "text": [
      "\r",
      "Loading val tensors:  37%|███▋      | 73/196 [03:46<06:39,  3.25s/it]"
     ]
    },
    {
     "name": "stderr",
     "output_type": "stream",
     "text": [
      "\r",
      "Loading val tensors:  38%|███▊      | 74/196 [03:49<06:36,  3.25s/it]"
     ]
    },
    {
     "name": "stderr",
     "output_type": "stream",
     "text": [
      "\r",
      "Loading val tensors:  38%|███▊      | 75/196 [03:53<06:33,  3.26s/it]"
     ]
    },
    {
     "name": "stderr",
     "output_type": "stream",
     "text": [
      "\r",
      "Loading val tensors:  39%|███▉      | 76/196 [03:56<06:30,  3.25s/it]"
     ]
    },
    {
     "name": "stderr",
     "output_type": "stream",
     "text": [
      "\r",
      "Loading val tensors:  39%|███▉      | 77/196 [03:59<06:27,  3.26s/it]"
     ]
    },
    {
     "name": "stderr",
     "output_type": "stream",
     "text": [
      "\r",
      "Loading val tensors:  40%|███▉      | 78/196 [04:02<06:24,  3.26s/it]"
     ]
    },
    {
     "name": "stderr",
     "output_type": "stream",
     "text": [
      "\r",
      "Loading val tensors:  40%|████      | 79/196 [04:05<06:19,  3.24s/it]"
     ]
    },
    {
     "name": "stderr",
     "output_type": "stream",
     "text": [
      "\r",
      "Loading val tensors:  41%|████      | 80/196 [04:09<06:14,  3.23s/it]"
     ]
    },
    {
     "name": "stderr",
     "output_type": "stream",
     "text": [
      "\r",
      "Loading val tensors:  41%|████▏     | 81/196 [04:12<06:10,  3.22s/it]"
     ]
    },
    {
     "name": "stderr",
     "output_type": "stream",
     "text": [
      "\r",
      "Loading val tensors:  42%|████▏     | 82/196 [04:15<06:05,  3.20s/it]"
     ]
    },
    {
     "name": "stderr",
     "output_type": "stream",
     "text": [
      "\r",
      "Loading val tensors:  42%|████▏     | 83/196 [04:18<06:03,  3.22s/it]"
     ]
    },
    {
     "name": "stderr",
     "output_type": "stream",
     "text": [
      "\r",
      "Loading val tensors:  43%|████▎     | 84/196 [04:22<06:00,  3.22s/it]"
     ]
    },
    {
     "name": "stderr",
     "output_type": "stream",
     "text": [
      "\r",
      "Loading val tensors:  43%|████▎     | 85/196 [04:25<05:57,  3.22s/it]"
     ]
    },
    {
     "name": "stderr",
     "output_type": "stream",
     "text": [
      "\r",
      "Loading val tensors:  44%|████▍     | 86/196 [04:28<05:54,  3.22s/it]"
     ]
    },
    {
     "name": "stderr",
     "output_type": "stream",
     "text": [
      "\r",
      "Loading val tensors:  44%|████▍     | 87/196 [04:31<05:50,  3.21s/it]"
     ]
    },
    {
     "name": "stderr",
     "output_type": "stream",
     "text": [
      "\r",
      "Loading val tensors:  45%|████▍     | 88/196 [04:34<05:45,  3.20s/it]"
     ]
    },
    {
     "name": "stderr",
     "output_type": "stream",
     "text": [
      "\r",
      "Loading val tensors:  45%|████▌     | 89/196 [04:38<05:41,  3.19s/it]"
     ]
    },
    {
     "name": "stderr",
     "output_type": "stream",
     "text": [
      "\r",
      "Loading val tensors:  46%|████▌     | 90/196 [04:41<05:38,  3.19s/it]"
     ]
    },
    {
     "name": "stderr",
     "output_type": "stream",
     "text": [
      "\r",
      "Loading val tensors:  46%|████▋     | 91/196 [04:44<05:35,  3.20s/it]"
     ]
    },
    {
     "name": "stderr",
     "output_type": "stream",
     "text": [
      "\r",
      "Loading val tensors:  47%|████▋     | 92/196 [04:47<05:32,  3.20s/it]"
     ]
    },
    {
     "name": "stderr",
     "output_type": "stream",
     "text": [
      "\r",
      "Loading val tensors:  47%|████▋     | 93/196 [04:50<05:29,  3.20s/it]"
     ]
    },
    {
     "name": "stderr",
     "output_type": "stream",
     "text": [
      "\r",
      "Loading val tensors:  48%|████▊     | 94/196 [04:54<05:27,  3.21s/it]"
     ]
    },
    {
     "name": "stderr",
     "output_type": "stream",
     "text": [
      "\r",
      "Loading val tensors:  48%|████▊     | 95/196 [04:57<05:22,  3.20s/it]"
     ]
    },
    {
     "name": "stderr",
     "output_type": "stream",
     "text": [
      "\r",
      "Loading val tensors:  49%|████▉     | 96/196 [05:00<05:20,  3.21s/it]"
     ]
    },
    {
     "name": "stderr",
     "output_type": "stream",
     "text": [
      "\r",
      "Loading val tensors:  49%|████▉     | 97/196 [05:03<05:18,  3.22s/it]"
     ]
    },
    {
     "name": "stderr",
     "output_type": "stream",
     "text": [
      "\r",
      "Loading val tensors:  50%|█████     | 98/196 [05:06<05:16,  3.23s/it]"
     ]
    },
    {
     "name": "stderr",
     "output_type": "stream",
     "text": [
      "\r",
      "Loading val tensors:  51%|█████     | 99/196 [05:10<05:11,  3.21s/it]"
     ]
    },
    {
     "name": "stderr",
     "output_type": "stream",
     "text": [
      "\r",
      "Loading val tensors:  51%|█████     | 100/196 [05:13<05:08,  3.21s/it]"
     ]
    },
    {
     "name": "stderr",
     "output_type": "stream",
     "text": [
      "\r",
      "Loading val tensors:  52%|█████▏    | 101/196 [05:16<05:04,  3.21s/it]"
     ]
    },
    {
     "name": "stderr",
     "output_type": "stream",
     "text": [
      "\r",
      "Loading val tensors:  52%|█████▏    | 102/196 [05:19<05:00,  3.20s/it]"
     ]
    },
    {
     "name": "stderr",
     "output_type": "stream",
     "text": [
      "\r",
      "Loading val tensors:  53%|█████▎    | 103/196 [05:22<04:55,  3.18s/it]"
     ]
    },
    {
     "name": "stderr",
     "output_type": "stream",
     "text": [
      "\r",
      "Loading val tensors:  53%|█████▎    | 104/196 [05:25<04:49,  3.14s/it]"
     ]
    },
    {
     "name": "stderr",
     "output_type": "stream",
     "text": [
      "\r",
      "Loading val tensors:  54%|█████▎    | 105/196 [05:28<04:43,  3.12s/it]"
     ]
    },
    {
     "name": "stderr",
     "output_type": "stream",
     "text": [
      "\r",
      "Loading val tensors:  54%|█████▍    | 106/196 [05:32<04:41,  3.13s/it]"
     ]
    },
    {
     "name": "stderr",
     "output_type": "stream",
     "text": [
      "\r",
      "Loading val tensors:  55%|█████▍    | 107/196 [05:35<04:36,  3.11s/it]"
     ]
    },
    {
     "name": "stderr",
     "output_type": "stream",
     "text": [
      "\r",
      "Loading val tensors:  55%|█████▌    | 108/196 [05:38<04:30,  3.08s/it]"
     ]
    },
    {
     "name": "stderr",
     "output_type": "stream",
     "text": [
      "\r",
      "Loading val tensors:  56%|█████▌    | 109/196 [05:41<04:28,  3.09s/it]"
     ]
    },
    {
     "name": "stderr",
     "output_type": "stream",
     "text": [
      "\r",
      "Loading val tensors:  56%|█████▌    | 110/196 [05:44<04:24,  3.08s/it]"
     ]
    },
    {
     "name": "stderr",
     "output_type": "stream",
     "text": [
      "\r",
      "Loading val tensors:  57%|█████▋    | 111/196 [05:47<04:21,  3.07s/it]"
     ]
    },
    {
     "name": "stderr",
     "output_type": "stream",
     "text": [
      "\r",
      "Loading val tensors:  57%|█████▋    | 112/196 [05:50<04:18,  3.08s/it]"
     ]
    },
    {
     "name": "stderr",
     "output_type": "stream",
     "text": [
      "\r",
      "Loading val tensors:  58%|█████▊    | 113/196 [05:53<04:15,  3.08s/it]"
     ]
    },
    {
     "name": "stderr",
     "output_type": "stream",
     "text": [
      "\r",
      "Loading val tensors:  58%|█████▊    | 114/196 [05:56<04:12,  3.08s/it]"
     ]
    },
    {
     "name": "stderr",
     "output_type": "stream",
     "text": [
      "\r",
      "Loading val tensors:  59%|█████▊    | 115/196 [05:59<04:08,  3.07s/it]"
     ]
    },
    {
     "name": "stderr",
     "output_type": "stream",
     "text": [
      "\r",
      "Loading val tensors:  59%|█████▉    | 116/196 [06:02<04:06,  3.08s/it]"
     ]
    },
    {
     "name": "stderr",
     "output_type": "stream",
     "text": [
      "\r",
      "Loading val tensors:  60%|█████▉    | 117/196 [06:05<04:03,  3.08s/it]"
     ]
    },
    {
     "name": "stderr",
     "output_type": "stream",
     "text": [
      "\r",
      "Loading val tensors:  60%|██████    | 118/196 [06:09<04:01,  3.10s/it]"
     ]
    },
    {
     "name": "stderr",
     "output_type": "stream",
     "text": [
      "\r",
      "Loading val tensors:  61%|██████    | 119/196 [06:12<03:58,  3.10s/it]"
     ]
    },
    {
     "name": "stderr",
     "output_type": "stream",
     "text": [
      "\r",
      "Loading val tensors:  61%|██████    | 120/196 [06:15<03:58,  3.14s/it]"
     ]
    },
    {
     "name": "stderr",
     "output_type": "stream",
     "text": [
      "\r",
      "Loading val tensors:  62%|██████▏   | 121/196 [06:18<03:56,  3.16s/it]"
     ]
    },
    {
     "name": "stderr",
     "output_type": "stream",
     "text": [
      "\r",
      "Loading val tensors:  62%|██████▏   | 122/196 [06:21<03:56,  3.19s/it]"
     ]
    },
    {
     "name": "stderr",
     "output_type": "stream",
     "text": [
      "\r",
      "Loading val tensors:  63%|██████▎   | 123/196 [06:25<03:53,  3.20s/it]"
     ]
    },
    {
     "name": "stderr",
     "output_type": "stream",
     "text": [
      "\r",
      "Loading val tensors:  63%|██████▎   | 124/196 [06:28<03:49,  3.18s/it]"
     ]
    },
    {
     "name": "stderr",
     "output_type": "stream",
     "text": [
      "\r",
      "Loading val tensors:  64%|██████▍   | 125/196 [06:31<03:46,  3.18s/it]"
     ]
    },
    {
     "name": "stderr",
     "output_type": "stream",
     "text": [
      "\r",
      "Loading val tensors:  64%|██████▍   | 126/196 [06:34<03:43,  3.19s/it]"
     ]
    },
    {
     "name": "stderr",
     "output_type": "stream",
     "text": [
      "\r",
      "Loading val tensors:  65%|██████▍   | 127/196 [06:37<03:40,  3.20s/it]"
     ]
    },
    {
     "name": "stderr",
     "output_type": "stream",
     "text": [
      "\r",
      "Loading val tensors:  65%|██████▌   | 128/196 [06:41<03:38,  3.21s/it]"
     ]
    },
    {
     "name": "stderr",
     "output_type": "stream",
     "text": [
      "\r",
      "Loading val tensors:  66%|██████▌   | 129/196 [06:44<03:36,  3.23s/it]"
     ]
    },
    {
     "name": "stderr",
     "output_type": "stream",
     "text": [
      "\r",
      "Loading val tensors:  66%|██████▋   | 130/196 [06:47<03:33,  3.23s/it]"
     ]
    },
    {
     "name": "stderr",
     "output_type": "stream",
     "text": [
      "\r",
      "Loading val tensors:  67%|██████▋   | 131/196 [06:50<03:28,  3.21s/it]"
     ]
    },
    {
     "name": "stderr",
     "output_type": "stream",
     "text": [
      "\r",
      "Loading val tensors:  67%|██████▋   | 132/196 [06:53<03:25,  3.21s/it]"
     ]
    },
    {
     "name": "stderr",
     "output_type": "stream",
     "text": [
      "\r",
      "Loading val tensors:  68%|██████▊   | 133/196 [06:57<03:21,  3.20s/it]"
     ]
    },
    {
     "name": "stderr",
     "output_type": "stream",
     "text": [
      "\r",
      "Loading val tensors:  68%|██████▊   | 134/196 [07:00<03:17,  3.19s/it]"
     ]
    },
    {
     "name": "stderr",
     "output_type": "stream",
     "text": [
      "\r",
      "Loading val tensors:  69%|██████▉   | 135/196 [07:03<03:14,  3.19s/it]"
     ]
    },
    {
     "name": "stderr",
     "output_type": "stream",
     "text": [
      "\r",
      "Loading val tensors:  69%|██████▉   | 136/196 [07:06<03:10,  3.18s/it]"
     ]
    },
    {
     "name": "stderr",
     "output_type": "stream",
     "text": [
      "\r",
      "Loading val tensors:  70%|██████▉   | 137/196 [07:09<03:07,  3.18s/it]"
     ]
    },
    {
     "name": "stderr",
     "output_type": "stream",
     "text": [
      "\r",
      "Loading val tensors:  70%|███████   | 138/196 [07:13<03:04,  3.18s/it]"
     ]
    },
    {
     "name": "stderr",
     "output_type": "stream",
     "text": [
      "\r",
      "Loading val tensors:  71%|███████   | 139/196 [07:16<03:01,  3.18s/it]"
     ]
    },
    {
     "name": "stderr",
     "output_type": "stream",
     "text": [
      "\r",
      "Loading val tensors:  71%|███████▏  | 140/196 [07:19<02:57,  3.17s/it]"
     ]
    },
    {
     "name": "stderr",
     "output_type": "stream",
     "text": [
      "\r",
      "Loading val tensors:  72%|███████▏  | 141/196 [07:22<02:54,  3.18s/it]"
     ]
    },
    {
     "name": "stderr",
     "output_type": "stream",
     "text": [
      "\r",
      "Loading val tensors:  72%|███████▏  | 142/196 [07:25<02:52,  3.20s/it]"
     ]
    },
    {
     "name": "stderr",
     "output_type": "stream",
     "text": [
      "\r",
      "Loading val tensors:  73%|███████▎  | 143/196 [07:28<02:49,  3.20s/it]"
     ]
    },
    {
     "name": "stderr",
     "output_type": "stream",
     "text": [
      "\r",
      "Loading val tensors:  73%|███████▎  | 144/196 [07:32<02:46,  3.19s/it]"
     ]
    },
    {
     "name": "stderr",
     "output_type": "stream",
     "text": [
      "\r",
      "Loading val tensors:  74%|███████▍  | 145/196 [07:35<02:41,  3.18s/it]"
     ]
    },
    {
     "name": "stderr",
     "output_type": "stream",
     "text": [
      "\r",
      "Loading val tensors:  74%|███████▍  | 146/196 [07:38<02:39,  3.18s/it]"
     ]
    },
    {
     "name": "stderr",
     "output_type": "stream",
     "text": [
      "\r",
      "Loading val tensors:  75%|███████▌  | 147/196 [07:41<02:35,  3.18s/it]"
     ]
    },
    {
     "name": "stderr",
     "output_type": "stream",
     "text": [
      "\r",
      "Loading val tensors:  76%|███████▌  | 148/196 [07:44<02:33,  3.19s/it]"
     ]
    },
    {
     "name": "stderr",
     "output_type": "stream",
     "text": [
      "\r",
      "Loading val tensors:  76%|███████▌  | 149/196 [07:48<02:29,  3.19s/it]"
     ]
    },
    {
     "name": "stderr",
     "output_type": "stream",
     "text": [
      "\r",
      "Loading val tensors:  77%|███████▋  | 150/196 [07:51<02:27,  3.22s/it]"
     ]
    },
    {
     "name": "stderr",
     "output_type": "stream",
     "text": [
      "\r",
      "Loading val tensors:  77%|███████▋  | 151/196 [07:54<02:24,  3.21s/it]"
     ]
    },
    {
     "name": "stderr",
     "output_type": "stream",
     "text": [
      "\r",
      "Loading val tensors:  78%|███████▊  | 152/196 [07:57<02:21,  3.22s/it]"
     ]
    },
    {
     "name": "stderr",
     "output_type": "stream",
     "text": [
      "\r",
      "Loading val tensors:  78%|███████▊  | 153/196 [08:00<02:17,  3.20s/it]"
     ]
    },
    {
     "name": "stderr",
     "output_type": "stream",
     "text": [
      "\r",
      "Loading val tensors:  79%|███████▊  | 154/196 [08:04<02:14,  3.20s/it]"
     ]
    },
    {
     "name": "stderr",
     "output_type": "stream",
     "text": [
      "\r",
      "Loading val tensors:  79%|███████▉  | 155/196 [08:07<02:10,  3.19s/it]"
     ]
    },
    {
     "name": "stderr",
     "output_type": "stream",
     "text": [
      "\r",
      "Loading val tensors:  80%|███████▉  | 156/196 [08:10<02:07,  3.18s/it]"
     ]
    },
    {
     "name": "stderr",
     "output_type": "stream",
     "text": [
      "\r",
      "Loading val tensors:  80%|████████  | 157/196 [08:13<02:04,  3.19s/it]"
     ]
    },
    {
     "name": "stderr",
     "output_type": "stream",
     "text": [
      "\r",
      "Loading val tensors:  81%|████████  | 158/196 [08:16<02:01,  3.19s/it]"
     ]
    },
    {
     "name": "stderr",
     "output_type": "stream",
     "text": [
      "\r",
      "Loading val tensors:  81%|████████  | 159/196 [08:20<01:58,  3.19s/it]"
     ]
    },
    {
     "name": "stderr",
     "output_type": "stream",
     "text": [
      "\r",
      "Loading val tensors:  82%|████████▏ | 160/196 [08:23<01:54,  3.19s/it]"
     ]
    },
    {
     "name": "stderr",
     "output_type": "stream",
     "text": [
      "\r",
      "Loading val tensors:  82%|████████▏ | 161/196 [08:26<01:51,  3.20s/it]"
     ]
    },
    {
     "name": "stderr",
     "output_type": "stream",
     "text": [
      "\r",
      "Loading val tensors:  83%|████████▎ | 162/196 [08:29<01:47,  3.17s/it]"
     ]
    },
    {
     "name": "stderr",
     "output_type": "stream",
     "text": [
      "\r",
      "Loading val tensors:  83%|████████▎ | 163/196 [08:32<01:43,  3.14s/it]"
     ]
    },
    {
     "name": "stderr",
     "output_type": "stream",
     "text": [
      "\r",
      "Loading val tensors:  84%|████████▎ | 164/196 [08:35<01:40,  3.13s/it]"
     ]
    },
    {
     "name": "stderr",
     "output_type": "stream",
     "text": [
      "\r",
      "Loading val tensors:  84%|████████▍ | 165/196 [08:38<01:36,  3.11s/it]"
     ]
    },
    {
     "name": "stderr",
     "output_type": "stream",
     "text": [
      "\r",
      "Loading val tensors:  85%|████████▍ | 166/196 [08:41<01:32,  3.09s/it]"
     ]
    },
    {
     "name": "stderr",
     "output_type": "stream",
     "text": [
      "\r",
      "Loading val tensors:  85%|████████▌ | 167/196 [08:44<01:29,  3.08s/it]"
     ]
    },
    {
     "name": "stderr",
     "output_type": "stream",
     "text": [
      "\r",
      "Loading val tensors:  86%|████████▌ | 168/196 [08:47<01:25,  3.07s/it]"
     ]
    },
    {
     "name": "stderr",
     "output_type": "stream",
     "text": [
      "\r",
      "Loading val tensors:  86%|████████▌ | 169/196 [08:50<01:22,  3.06s/it]"
     ]
    },
    {
     "name": "stderr",
     "output_type": "stream",
     "text": [
      "\r",
      "Loading val tensors:  87%|████████▋ | 170/196 [08:54<01:19,  3.06s/it]"
     ]
    },
    {
     "name": "stderr",
     "output_type": "stream",
     "text": [
      "\r",
      "Loading val tensors:  87%|████████▋ | 171/196 [08:57<01:17,  3.08s/it]"
     ]
    },
    {
     "name": "stderr",
     "output_type": "stream",
     "text": [
      "\r",
      "Loading val tensors:  88%|████████▊ | 172/196 [09:00<01:14,  3.09s/it]"
     ]
    },
    {
     "name": "stderr",
     "output_type": "stream",
     "text": [
      "\r",
      "Loading val tensors:  88%|████████▊ | 173/196 [09:03<01:11,  3.09s/it]"
     ]
    },
    {
     "name": "stderr",
     "output_type": "stream",
     "text": [
      "\r",
      "Loading val tensors:  89%|████████▉ | 174/196 [09:06<01:07,  3.09s/it]"
     ]
    },
    {
     "name": "stderr",
     "output_type": "stream",
     "text": [
      "\r",
      "Loading val tensors:  89%|████████▉ | 175/196 [09:09<01:05,  3.14s/it]"
     ]
    },
    {
     "name": "stderr",
     "output_type": "stream",
     "text": [
      "\r",
      "Loading val tensors:  90%|████████▉ | 176/196 [09:13<01:03,  3.19s/it]"
     ]
    },
    {
     "name": "stderr",
     "output_type": "stream",
     "text": [
      "\r",
      "Loading val tensors:  90%|█████████ | 177/196 [09:16<01:00,  3.17s/it]"
     ]
    },
    {
     "name": "stderr",
     "output_type": "stream",
     "text": [
      "\r",
      "Loading val tensors:  91%|█████████ | 178/196 [09:19<00:57,  3.17s/it]"
     ]
    },
    {
     "name": "stderr",
     "output_type": "stream",
     "text": [
      "\r",
      "Loading val tensors:  91%|█████████▏| 179/196 [09:22<00:53,  3.16s/it]"
     ]
    },
    {
     "name": "stderr",
     "output_type": "stream",
     "text": [
      "\r",
      "Loading val tensors:  92%|█████████▏| 180/196 [09:25<00:50,  3.16s/it]"
     ]
    },
    {
     "name": "stderr",
     "output_type": "stream",
     "text": [
      "\r",
      "Loading val tensors:  92%|█████████▏| 181/196 [09:28<00:48,  3.21s/it]"
     ]
    },
    {
     "name": "stderr",
     "output_type": "stream",
     "text": [
      "\r",
      "Loading val tensors:  93%|█████████▎| 182/196 [09:32<00:45,  3.22s/it]"
     ]
    },
    {
     "name": "stderr",
     "output_type": "stream",
     "text": [
      "\r",
      "Loading val tensors:  93%|█████████▎| 183/196 [09:35<00:41,  3.19s/it]"
     ]
    },
    {
     "name": "stderr",
     "output_type": "stream",
     "text": [
      "\r",
      "Loading val tensors:  94%|█████████▍| 184/196 [09:38<00:37,  3.16s/it]"
     ]
    },
    {
     "name": "stderr",
     "output_type": "stream",
     "text": [
      "\r",
      "Loading val tensors:  94%|█████████▍| 185/196 [09:41<00:34,  3.14s/it]"
     ]
    },
    {
     "name": "stderr",
     "output_type": "stream",
     "text": [
      "\r",
      "Loading val tensors:  95%|█████████▍| 186/196 [09:44<00:30,  3.05s/it]"
     ]
    },
    {
     "name": "stderr",
     "output_type": "stream",
     "text": [
      "\r",
      "Loading val tensors:  95%|█████████▌| 187/196 [09:47<00:26,  2.97s/it]"
     ]
    },
    {
     "name": "stderr",
     "output_type": "stream",
     "text": [
      "\r",
      "Loading val tensors:  96%|█████████▌| 188/196 [09:50<00:23,  2.97s/it]"
     ]
    },
    {
     "name": "stderr",
     "output_type": "stream",
     "text": [
      "\r",
      "Loading val tensors:  96%|█████████▋| 189/196 [09:53<00:20,  2.98s/it]"
     ]
    },
    {
     "name": "stderr",
     "output_type": "stream",
     "text": [
      "\r",
      "Loading val tensors:  97%|█████████▋| 190/196 [09:55<00:17,  2.93s/it]"
     ]
    },
    {
     "name": "stderr",
     "output_type": "stream",
     "text": [
      "\r",
      "Loading val tensors:  97%|█████████▋| 191/196 [09:59<00:14,  2.98s/it]"
     ]
    },
    {
     "name": "stderr",
     "output_type": "stream",
     "text": [
      "\r",
      "Loading val tensors:  98%|█████████▊| 192/196 [10:02<00:12,  3.02s/it]"
     ]
    },
    {
     "name": "stderr",
     "output_type": "stream",
     "text": [
      "\r",
      "Loading val tensors:  98%|█████████▊| 193/196 [10:05<00:09,  3.04s/it]"
     ]
    },
    {
     "name": "stderr",
     "output_type": "stream",
     "text": [
      "\r",
      "Loading val tensors:  99%|█████████▉| 194/196 [10:08<00:06,  3.08s/it]"
     ]
    },
    {
     "name": "stderr",
     "output_type": "stream",
     "text": [
      "\r",
      "Loading val tensors:  99%|█████████▉| 195/196 [10:11<00:03,  3.11s/it]"
     ]
    },
    {
     "name": "stderr",
     "output_type": "stream",
     "text": [
      "\r",
      "Loading val tensors: 100%|██████████| 196/196 [10:12<00:00,  2.45s/it]"
     ]
    },
    {
     "name": "stderr",
     "output_type": "stream",
     "text": [
      "\r",
      "Loading val tensors: 100%|██████████| 196/196 [10:12<00:00,  3.12s/it]"
     ]
    },
    {
     "name": "stderr",
     "output_type": "stream",
     "text": [
      "\n"
     ]
    },
    {
     "name": "stderr",
     "output_type": "stream",
     "text": [
      "\r",
      "Loading test tensors:   0%|          | 0/131 [00:00<?, ?it/s]"
     ]
    },
    {
     "name": "stderr",
     "output_type": "stream",
     "text": [
      "\r",
      "Loading test tensors:   1%|          | 1/131 [00:02<06:22,  2.94s/it]"
     ]
    },
    {
     "name": "stderr",
     "output_type": "stream",
     "text": [
      "\r",
      "Loading test tensors:   2%|▏         | 2/131 [00:05<06:22,  2.97s/it]"
     ]
    },
    {
     "name": "stderr",
     "output_type": "stream",
     "text": [
      "\r",
      "Loading test tensors:   2%|▏         | 3/131 [00:08<06:20,  2.97s/it]"
     ]
    },
    {
     "name": "stderr",
     "output_type": "stream",
     "text": [
      "\r",
      "Loading test tensors:   3%|▎         | 4/131 [00:11<06:20,  2.99s/it]"
     ]
    },
    {
     "name": "stderr",
     "output_type": "stream",
     "text": [
      "\r",
      "Loading test tensors:   4%|▍         | 5/131 [00:14<06:18,  3.01s/it]"
     ]
    },
    {
     "name": "stderr",
     "output_type": "stream",
     "text": [
      "\r",
      "Loading test tensors:   5%|▍         | 6/131 [00:17<06:16,  3.01s/it]"
     ]
    },
    {
     "name": "stderr",
     "output_type": "stream",
     "text": [
      "\r",
      "Loading test tensors:   5%|▌         | 7/131 [00:21<06:15,  3.02s/it]"
     ]
    },
    {
     "name": "stderr",
     "output_type": "stream",
     "text": [
      "\r",
      "Loading test tensors:   6%|▌         | 8/131 [00:24<06:13,  3.03s/it]"
     ]
    },
    {
     "name": "stderr",
     "output_type": "stream",
     "text": [
      "\r",
      "Loading test tensors:   7%|▋         | 9/131 [00:27<06:11,  3.04s/it]"
     ]
    },
    {
     "name": "stderr",
     "output_type": "stream",
     "text": [
      "\r",
      "Loading test tensors:   8%|▊         | 10/131 [00:30<06:09,  3.05s/it]"
     ]
    },
    {
     "name": "stderr",
     "output_type": "stream",
     "text": [
      "\r",
      "Loading test tensors:   8%|▊         | 11/131 [00:33<06:06,  3.06s/it]"
     ]
    },
    {
     "name": "stderr",
     "output_type": "stream",
     "text": [
      "\r",
      "Loading test tensors:   9%|▉         | 12/131 [00:36<06:03,  3.06s/it]"
     ]
    },
    {
     "name": "stderr",
     "output_type": "stream",
     "text": [
      "\r",
      "Loading test tensors:  10%|▉         | 13/131 [00:39<06:02,  3.07s/it]"
     ]
    },
    {
     "name": "stderr",
     "output_type": "stream",
     "text": [
      "\r",
      "Loading test tensors:  11%|█         | 14/131 [00:42<06:01,  3.09s/it]"
     ]
    },
    {
     "name": "stderr",
     "output_type": "stream",
     "text": [
      "\r",
      "Loading test tensors:  11%|█▏        | 15/131 [00:45<05:58,  3.09s/it]"
     ]
    },
    {
     "name": "stderr",
     "output_type": "stream",
     "text": [
      "\r",
      "Loading test tensors:  12%|█▏        | 16/131 [00:48<05:56,  3.10s/it]"
     ]
    },
    {
     "name": "stderr",
     "output_type": "stream",
     "text": [
      "\r",
      "Loading test tensors:  13%|█▎        | 17/131 [00:51<05:53,  3.10s/it]"
     ]
    },
    {
     "name": "stderr",
     "output_type": "stream",
     "text": [
      "\r",
      "Loading test tensors:  14%|█▎        | 18/131 [00:54<05:49,  3.10s/it]"
     ]
    },
    {
     "name": "stderr",
     "output_type": "stream",
     "text": [
      "\r",
      "Loading test tensors:  15%|█▍        | 19/131 [00:58<05:48,  3.11s/it]"
     ]
    },
    {
     "name": "stderr",
     "output_type": "stream",
     "text": [
      "\r",
      "Loading test tensors:  15%|█▌        | 20/131 [01:01<05:44,  3.10s/it]"
     ]
    },
    {
     "name": "stderr",
     "output_type": "stream",
     "text": [
      "\r",
      "Loading test tensors:  16%|█▌        | 21/131 [01:04<05:42,  3.11s/it]"
     ]
    },
    {
     "name": "stderr",
     "output_type": "stream",
     "text": [
      "\r",
      "Loading test tensors:  17%|█▋        | 22/131 [01:07<05:39,  3.12s/it]"
     ]
    },
    {
     "name": "stderr",
     "output_type": "stream",
     "text": [
      "\r",
      "Loading test tensors:  18%|█▊        | 23/131 [01:10<05:37,  3.13s/it]"
     ]
    },
    {
     "name": "stderr",
     "output_type": "stream",
     "text": [
      "\r",
      "Loading test tensors:  18%|█▊        | 24/131 [01:13<05:33,  3.11s/it]"
     ]
    },
    {
     "name": "stderr",
     "output_type": "stream",
     "text": [
      "\r",
      "Loading test tensors:  19%|█▉        | 25/131 [01:16<05:29,  3.11s/it]"
     ]
    },
    {
     "name": "stderr",
     "output_type": "stream",
     "text": [
      "\r",
      "Loading test tensors:  20%|█▉        | 26/131 [01:19<05:27,  3.12s/it]"
     ]
    },
    {
     "name": "stderr",
     "output_type": "stream",
     "text": [
      "\r",
      "Loading test tensors:  21%|██        | 27/131 [01:23<05:25,  3.13s/it]"
     ]
    },
    {
     "name": "stderr",
     "output_type": "stream",
     "text": [
      "\r",
      "Loading test tensors:  21%|██▏       | 28/131 [01:26<05:21,  3.12s/it]"
     ]
    },
    {
     "name": "stderr",
     "output_type": "stream",
     "text": [
      "\r",
      "Loading test tensors:  22%|██▏       | 29/131 [01:29<05:17,  3.12s/it]"
     ]
    },
    {
     "name": "stderr",
     "output_type": "stream",
     "text": [
      "\r",
      "Loading test tensors:  23%|██▎       | 30/131 [01:32<05:14,  3.11s/it]"
     ]
    },
    {
     "name": "stderr",
     "output_type": "stream",
     "text": [
      "\r",
      "Loading test tensors:  24%|██▎       | 31/131 [01:35<05:10,  3.11s/it]"
     ]
    },
    {
     "name": "stderr",
     "output_type": "stream",
     "text": [
      "\r",
      "Loading test tensors:  24%|██▍       | 32/131 [01:38<05:08,  3.11s/it]"
     ]
    },
    {
     "name": "stderr",
     "output_type": "stream",
     "text": [
      "\r",
      "Loading test tensors:  25%|██▌       | 33/131 [01:41<04:52,  2.99s/it]"
     ]
    },
    {
     "name": "stderr",
     "output_type": "stream",
     "text": [
      "\r",
      "Loading test tensors:  26%|██▌       | 34/131 [01:44<04:44,  2.93s/it]"
     ]
    },
    {
     "name": "stderr",
     "output_type": "stream",
     "text": [
      "\r",
      "Loading test tensors:  27%|██▋       | 35/131 [01:45<04:06,  2.57s/it]"
     ]
    },
    {
     "name": "stderr",
     "output_type": "stream",
     "text": [
      "\r",
      "Loading test tensors:  27%|██▋       | 36/131 [01:46<03:11,  2.01s/it]"
     ]
    },
    {
     "name": "stderr",
     "output_type": "stream",
     "text": [
      "\r",
      "Loading test tensors:  28%|██▊       | 37/131 [01:47<02:32,  1.62s/it]"
     ]
    },
    {
     "name": "stderr",
     "output_type": "stream",
     "text": [
      "\r",
      "Loading test tensors:  29%|██▉       | 38/131 [01:48<02:05,  1.35s/it]"
     ]
    },
    {
     "name": "stderr",
     "output_type": "stream",
     "text": [
      "\r",
      "Loading test tensors:  30%|██▉       | 39/131 [01:48<01:46,  1.16s/it]"
     ]
    },
    {
     "name": "stderr",
     "output_type": "stream",
     "text": [
      "\r",
      "Loading test tensors:  31%|███       | 40/131 [01:49<01:33,  1.02s/it]"
     ]
    },
    {
     "name": "stderr",
     "output_type": "stream",
     "text": [
      "\r",
      "Loading test tensors:  31%|███▏      | 41/131 [01:50<01:23,  1.08it/s]"
     ]
    },
    {
     "name": "stderr",
     "output_type": "stream",
     "text": [
      "\r",
      "Loading test tensors:  32%|███▏      | 42/131 [01:50<01:16,  1.16it/s]"
     ]
    },
    {
     "name": "stderr",
     "output_type": "stream",
     "text": [
      "\r",
      "Loading test tensors:  33%|███▎      | 43/131 [01:51<01:12,  1.22it/s]"
     ]
    },
    {
     "name": "stderr",
     "output_type": "stream",
     "text": [
      "\r",
      "Loading test tensors:  34%|███▎      | 44/131 [01:52<01:09,  1.25it/s]"
     ]
    },
    {
     "name": "stderr",
     "output_type": "stream",
     "text": [
      "\r",
      "Loading test tensors:  34%|███▍      | 45/131 [01:53<01:06,  1.29it/s]"
     ]
    },
    {
     "name": "stderr",
     "output_type": "stream",
     "text": [
      "\r",
      "Loading test tensors:  35%|███▌      | 46/131 [01:53<01:04,  1.32it/s]"
     ]
    },
    {
     "name": "stderr",
     "output_type": "stream",
     "text": [
      "\r",
      "Loading test tensors:  36%|███▌      | 47/131 [01:54<01:02,  1.34it/s]"
     ]
    },
    {
     "name": "stderr",
     "output_type": "stream",
     "text": [
      "\r",
      "Loading test tensors:  37%|███▋      | 48/131 [01:55<01:01,  1.36it/s]"
     ]
    },
    {
     "name": "stderr",
     "output_type": "stream",
     "text": [
      "\r",
      "Loading test tensors:  37%|███▋      | 49/131 [01:55<00:59,  1.37it/s]"
     ]
    },
    {
     "name": "stderr",
     "output_type": "stream",
     "text": [
      "\r",
      "Loading test tensors:  38%|███▊      | 50/131 [01:56<00:58,  1.38it/s]"
     ]
    },
    {
     "name": "stderr",
     "output_type": "stream",
     "text": [
      "\r",
      "Loading test tensors:  39%|███▉      | 51/131 [01:57<00:57,  1.39it/s]"
     ]
    },
    {
     "name": "stderr",
     "output_type": "stream",
     "text": [
      "\r",
      "Loading test tensors:  40%|███▉      | 52/131 [01:58<00:56,  1.39it/s]"
     ]
    },
    {
     "name": "stderr",
     "output_type": "stream",
     "text": [
      "\r",
      "Loading test tensors:  40%|████      | 53/131 [01:58<00:56,  1.39it/s]"
     ]
    },
    {
     "name": "stderr",
     "output_type": "stream",
     "text": [
      "\r",
      "Loading test tensors:  41%|████      | 54/131 [01:59<00:55,  1.39it/s]"
     ]
    },
    {
     "name": "stderr",
     "output_type": "stream",
     "text": [
      "\r",
      "Loading test tensors:  42%|████▏     | 55/131 [02:00<00:54,  1.39it/s]"
     ]
    },
    {
     "name": "stderr",
     "output_type": "stream",
     "text": [
      "\r",
      "Loading test tensors:  43%|████▎     | 56/131 [02:00<00:53,  1.39it/s]"
     ]
    },
    {
     "name": "stderr",
     "output_type": "stream",
     "text": [
      "\r",
      "Loading test tensors:  44%|████▎     | 57/131 [02:01<00:52,  1.40it/s]"
     ]
    },
    {
     "name": "stderr",
     "output_type": "stream",
     "text": [
      "\r",
      "Loading test tensors:  44%|████▍     | 58/131 [02:02<00:52,  1.39it/s]"
     ]
    },
    {
     "name": "stderr",
     "output_type": "stream",
     "text": [
      "\r",
      "Loading test tensors:  45%|████▌     | 59/131 [02:03<00:51,  1.40it/s]"
     ]
    },
    {
     "name": "stderr",
     "output_type": "stream",
     "text": [
      "\r",
      "Loading test tensors:  46%|████▌     | 60/131 [02:03<00:50,  1.42it/s]"
     ]
    },
    {
     "name": "stderr",
     "output_type": "stream",
     "text": [
      "\r",
      "Loading test tensors:  47%|████▋     | 61/131 [02:04<00:49,  1.42it/s]"
     ]
    },
    {
     "name": "stderr",
     "output_type": "stream",
     "text": [
      "\r",
      "Loading test tensors:  47%|████▋     | 62/131 [02:05<00:48,  1.42it/s]"
     ]
    },
    {
     "name": "stderr",
     "output_type": "stream",
     "text": [
      "\r",
      "Loading test tensors:  48%|████▊     | 63/131 [02:05<00:47,  1.42it/s]"
     ]
    },
    {
     "name": "stderr",
     "output_type": "stream",
     "text": [
      "\r",
      "Loading test tensors:  49%|████▉     | 64/131 [02:06<00:47,  1.42it/s]"
     ]
    },
    {
     "name": "stderr",
     "output_type": "stream",
     "text": [
      "\r",
      "Loading test tensors:  50%|████▉     | 65/131 [02:07<00:46,  1.42it/s]"
     ]
    },
    {
     "name": "stderr",
     "output_type": "stream",
     "text": [
      "\r",
      "Loading test tensors:  50%|█████     | 66/131 [02:07<00:45,  1.42it/s]"
     ]
    },
    {
     "name": "stderr",
     "output_type": "stream",
     "text": [
      "\r",
      "Loading test tensors:  51%|█████     | 67/131 [02:08<00:44,  1.42it/s]"
     ]
    },
    {
     "name": "stderr",
     "output_type": "stream",
     "text": [
      "\r",
      "Loading test tensors:  52%|█████▏    | 68/131 [02:09<00:44,  1.42it/s]"
     ]
    },
    {
     "name": "stderr",
     "output_type": "stream",
     "text": [
      "\r",
      "Loading test tensors:  53%|█████▎    | 69/131 [02:10<00:43,  1.43it/s]"
     ]
    },
    {
     "name": "stderr",
     "output_type": "stream",
     "text": [
      "\r",
      "Loading test tensors:  53%|█████▎    | 70/131 [02:10<00:42,  1.43it/s]"
     ]
    },
    {
     "name": "stderr",
     "output_type": "stream",
     "text": [
      "\r",
      "Loading test tensors:  54%|█████▍    | 71/131 [02:13<01:14,  1.23s/it]"
     ]
    },
    {
     "name": "stderr",
     "output_type": "stream",
     "text": [
      "\r",
      "Loading test tensors:  55%|█████▍    | 72/131 [02:16<01:46,  1.80s/it]"
     ]
    },
    {
     "name": "stderr",
     "output_type": "stream",
     "text": [
      "\r",
      "Loading test tensors:  56%|█████▌    | 73/131 [02:19<02:07,  2.20s/it]"
     ]
    },
    {
     "name": "stderr",
     "output_type": "stream",
     "text": [
      "\r",
      "Loading test tensors:  56%|█████▋    | 74/131 [02:22<02:21,  2.48s/it]"
     ]
    },
    {
     "name": "stderr",
     "output_type": "stream",
     "text": [
      "\r",
      "Loading test tensors:  57%|█████▋    | 75/131 [02:25<02:29,  2.66s/it]"
     ]
    },
    {
     "name": "stderr",
     "output_type": "stream",
     "text": [
      "\r",
      "Loading test tensors:  58%|█████▊    | 76/131 [02:28<02:34,  2.81s/it]"
     ]
    },
    {
     "name": "stderr",
     "output_type": "stream",
     "text": [
      "\r",
      "Loading test tensors:  59%|█████▉    | 77/131 [02:31<02:36,  2.90s/it]"
     ]
    },
    {
     "name": "stderr",
     "output_type": "stream",
     "text": [
      "\r",
      "Loading test tensors:  60%|█████▉    | 78/131 [02:35<02:37,  2.97s/it]"
     ]
    },
    {
     "name": "stderr",
     "output_type": "stream",
     "text": [
      "\r",
      "Loading test tensors:  60%|██████    | 79/131 [02:38<02:36,  3.00s/it]"
     ]
    },
    {
     "name": "stderr",
     "output_type": "stream",
     "text": [
      "\r",
      "Loading test tensors:  61%|██████    | 80/131 [02:41<02:35,  3.05s/it]"
     ]
    },
    {
     "name": "stderr",
     "output_type": "stream",
     "text": [
      "\r",
      "Loading test tensors:  62%|██████▏   | 81/131 [02:44<02:34,  3.08s/it]"
     ]
    },
    {
     "name": "stderr",
     "output_type": "stream",
     "text": [
      "\r",
      "Loading test tensors:  63%|██████▎   | 82/131 [02:47<02:31,  3.10s/it]"
     ]
    },
    {
     "name": "stderr",
     "output_type": "stream",
     "text": [
      "\r",
      "Loading test tensors:  63%|██████▎   | 83/131 [02:50<02:29,  3.11s/it]"
     ]
    },
    {
     "name": "stderr",
     "output_type": "stream",
     "text": [
      "\r",
      "Loading test tensors:  64%|██████▍   | 84/131 [02:53<02:25,  3.10s/it]"
     ]
    },
    {
     "name": "stderr",
     "output_type": "stream",
     "text": [
      "\r",
      "Loading test tensors:  65%|██████▍   | 85/131 [02:56<02:22,  3.11s/it]"
     ]
    },
    {
     "name": "stderr",
     "output_type": "stream",
     "text": [
      "\r",
      "Loading test tensors:  66%|██████▌   | 86/131 [03:00<02:20,  3.12s/it]"
     ]
    },
    {
     "name": "stderr",
     "output_type": "stream",
     "text": [
      "\r",
      "Loading test tensors:  66%|██████▋   | 87/131 [03:03<02:16,  3.11s/it]"
     ]
    },
    {
     "name": "stderr",
     "output_type": "stream",
     "text": [
      "\r",
      "Loading test tensors:  67%|██████▋   | 88/131 [03:06<02:14,  3.12s/it]"
     ]
    },
    {
     "name": "stderr",
     "output_type": "stream",
     "text": [
      "\r",
      "Loading test tensors:  68%|██████▊   | 89/131 [03:09<02:11,  3.12s/it]"
     ]
    },
    {
     "name": "stderr",
     "output_type": "stream",
     "text": [
      "\r",
      "Loading test tensors:  69%|██████▊   | 90/131 [03:12<02:08,  3.13s/it]"
     ]
    },
    {
     "name": "stderr",
     "output_type": "stream",
     "text": [
      "\r",
      "Loading test tensors:  69%|██████▉   | 91/131 [03:15<02:05,  3.13s/it]"
     ]
    },
    {
     "name": "stderr",
     "output_type": "stream",
     "text": [
      "\r",
      "Loading test tensors:  70%|███████   | 92/131 [03:18<02:01,  3.12s/it]"
     ]
    },
    {
     "name": "stderr",
     "output_type": "stream",
     "text": [
      "\r",
      "Loading test tensors:  71%|███████   | 93/131 [03:22<01:58,  3.13s/it]"
     ]
    },
    {
     "name": "stderr",
     "output_type": "stream",
     "text": [
      "\r",
      "Loading test tensors:  72%|███████▏  | 94/131 [03:25<01:55,  3.13s/it]"
     ]
    },
    {
     "name": "stderr",
     "output_type": "stream",
     "text": [
      "\r",
      "Loading test tensors:  73%|███████▎  | 95/131 [03:28<01:52,  3.13s/it]"
     ]
    },
    {
     "name": "stderr",
     "output_type": "stream",
     "text": [
      "\r",
      "Loading test tensors:  73%|███████▎  | 96/131 [03:31<01:49,  3.13s/it]"
     ]
    },
    {
     "name": "stderr",
     "output_type": "stream",
     "text": [
      "\r",
      "Loading test tensors:  74%|███████▍  | 97/131 [03:34<01:46,  3.13s/it]"
     ]
    },
    {
     "name": "stderr",
     "output_type": "stream",
     "text": [
      "\r",
      "Loading test tensors:  75%|███████▍  | 98/131 [03:37<01:43,  3.14s/it]"
     ]
    },
    {
     "name": "stderr",
     "output_type": "stream",
     "text": [
      "\r",
      "Loading test tensors:  76%|███████▌  | 99/131 [03:40<01:40,  3.14s/it]"
     ]
    },
    {
     "name": "stderr",
     "output_type": "stream",
     "text": [
      "\r",
      "Loading test tensors:  76%|███████▋  | 100/131 [03:44<01:37,  3.16s/it]"
     ]
    },
    {
     "name": "stderr",
     "output_type": "stream",
     "text": [
      "\r",
      "Loading test tensors:  77%|███████▋  | 101/131 [03:47<01:34,  3.16s/it]"
     ]
    },
    {
     "name": "stderr",
     "output_type": "stream",
     "text": [
      "\r",
      "Loading test tensors:  78%|███████▊  | 102/131 [03:50<01:31,  3.16s/it]"
     ]
    },
    {
     "name": "stderr",
     "output_type": "stream",
     "text": [
      "\r",
      "Loading test tensors:  79%|███████▊  | 103/131 [03:53<01:28,  3.14s/it]"
     ]
    },
    {
     "name": "stderr",
     "output_type": "stream",
     "text": [
      "\r",
      "Loading test tensors:  79%|███████▉  | 104/131 [03:56<01:25,  3.15s/it]"
     ]
    },
    {
     "name": "stderr",
     "output_type": "stream",
     "text": [
      "\r",
      "Loading test tensors:  80%|████████  | 105/131 [03:59<01:21,  3.15s/it]"
     ]
    },
    {
     "name": "stderr",
     "output_type": "stream",
     "text": [
      "\r",
      "Loading test tensors:  81%|████████  | 106/131 [04:02<01:18,  3.15s/it]"
     ]
    },
    {
     "name": "stderr",
     "output_type": "stream",
     "text": [
      "\r",
      "Loading test tensors:  82%|████████▏ | 107/131 [04:06<01:16,  3.17s/it]"
     ]
    },
    {
     "name": "stderr",
     "output_type": "stream",
     "text": [
      "\r",
      "Loading test tensors:  82%|████████▏ | 108/131 [04:09<01:13,  3.20s/it]"
     ]
    },
    {
     "name": "stderr",
     "output_type": "stream",
     "text": [
      "\r",
      "Loading test tensors:  83%|████████▎ | 109/131 [04:12<01:10,  3.21s/it]"
     ]
    },
    {
     "name": "stderr",
     "output_type": "stream",
     "text": [
      "\r",
      "Loading test tensors:  84%|████████▍ | 110/131 [04:15<01:07,  3.21s/it]"
     ]
    },
    {
     "name": "stderr",
     "output_type": "stream",
     "text": [
      "\r",
      "Loading test tensors:  85%|████████▍ | 111/131 [04:19<01:04,  3.22s/it]"
     ]
    },
    {
     "name": "stderr",
     "output_type": "stream",
     "text": [
      "\r",
      "Loading test tensors:  85%|████████▌ | 112/131 [04:22<01:01,  3.23s/it]"
     ]
    },
    {
     "name": "stderr",
     "output_type": "stream",
     "text": [
      "\r",
      "Loading test tensors:  86%|████████▋ | 113/131 [04:25<00:57,  3.22s/it]"
     ]
    },
    {
     "name": "stderr",
     "output_type": "stream",
     "text": [
      "\r",
      "Loading test tensors:  87%|████████▋ | 114/131 [04:28<00:54,  3.21s/it]"
     ]
    },
    {
     "name": "stderr",
     "output_type": "stream",
     "text": [
      "\r",
      "Loading test tensors:  88%|████████▊ | 115/131 [04:31<00:51,  3.21s/it]"
     ]
    },
    {
     "name": "stderr",
     "output_type": "stream",
     "text": [
      "\r",
      "Loading test tensors:  89%|████████▊ | 116/131 [04:35<00:48,  3.23s/it]"
     ]
    },
    {
     "name": "stderr",
     "output_type": "stream",
     "text": [
      "\r",
      "Loading test tensors:  89%|████████▉ | 117/131 [04:38<00:45,  3.23s/it]"
     ]
    },
    {
     "name": "stderr",
     "output_type": "stream",
     "text": [
      "\r",
      "Loading test tensors:  90%|█████████ | 118/131 [04:41<00:42,  3.23s/it]"
     ]
    },
    {
     "name": "stderr",
     "output_type": "stream",
     "text": [
      "\r",
      "Loading test tensors:  91%|█████████ | 119/131 [04:44<00:38,  3.25s/it]"
     ]
    },
    {
     "name": "stderr",
     "output_type": "stream",
     "text": [
      "\r",
      "Loading test tensors:  92%|█████████▏| 120/131 [04:48<00:35,  3.23s/it]"
     ]
    },
    {
     "name": "stderr",
     "output_type": "stream",
     "text": [
      "\r",
      "Loading test tensors:  92%|█████████▏| 121/131 [04:51<00:32,  3.23s/it]"
     ]
    },
    {
     "name": "stderr",
     "output_type": "stream",
     "text": [
      "\r",
      "Loading test tensors:  93%|█████████▎| 122/131 [04:54<00:29,  3.23s/it]"
     ]
    },
    {
     "name": "stderr",
     "output_type": "stream",
     "text": [
      "\r",
      "Loading test tensors:  94%|█████████▍| 123/131 [04:57<00:26,  3.25s/it]"
     ]
    },
    {
     "name": "stderr",
     "output_type": "stream",
     "text": [
      "\r",
      "Loading test tensors:  95%|█████████▍| 124/131 [05:01<00:22,  3.27s/it]"
     ]
    },
    {
     "name": "stderr",
     "output_type": "stream",
     "text": [
      "\r",
      "Loading test tensors:  95%|█████████▌| 125/131 [05:04<00:19,  3.27s/it]"
     ]
    },
    {
     "name": "stderr",
     "output_type": "stream",
     "text": [
      "\r",
      "Loading test tensors:  96%|█████████▌| 126/131 [05:07<00:16,  3.25s/it]"
     ]
    },
    {
     "name": "stderr",
     "output_type": "stream",
     "text": [
      "\r",
      "Loading test tensors:  97%|█████████▋| 127/131 [05:08<00:10,  2.54s/it]"
     ]
    },
    {
     "name": "stderr",
     "output_type": "stream",
     "text": [
      "\r",
      "Loading test tensors:  98%|█████████▊| 128/131 [05:09<00:06,  2.05s/it]"
     ]
    },
    {
     "name": "stderr",
     "output_type": "stream",
     "text": [
      "\r",
      "Loading test tensors:  98%|█████████▊| 129/131 [05:11<00:03,  1.99s/it]"
     ]
    },
    {
     "name": "stderr",
     "output_type": "stream",
     "text": [
      "\r",
      "Loading test tensors:  99%|█████████▉| 130/131 [05:14<00:02,  2.39s/it]"
     ]
    },
    {
     "name": "stderr",
     "output_type": "stream",
     "text": [
      "\r",
      "Loading test tensors: 100%|██████████| 131/131 [05:15<00:00,  1.86s/it]"
     ]
    },
    {
     "name": "stderr",
     "output_type": "stream",
     "text": [
      "\r",
      "Loading test tensors: 100%|██████████| 131/131 [05:15<00:00,  2.41s/it]"
     ]
    },
    {
     "name": "stderr",
     "output_type": "stream",
     "text": [
      "\n"
     ]
    },
    {
     "name": "stdout",
     "output_type": "stream",
     "text": [
      "Test size:  75000\n"
     ]
    },
    {
     "name": "stdout",
     "output_type": "stream",
     "text": [
      "Sampled train tensor shape:  torch.Size([300000, 128, 768])\n",
      "Sampled val tensor shape:  torch.Size([75000, 128, 768])\n",
      "Sampled test tensor shape:  torch.Size([75000, 128, 768])\n"
     ]
    },
    {
     "name": "stdout",
     "output_type": "stream",
     "text": [
      "Train, Val, Test size:  80000 20000 20000\n",
      "pos:  39849\n",
      "neg:  40151\n",
      "pos:  10100\n",
      "neg:  9900\n",
      "pos:  10002\n",
      "neg:  9998\n"
     ]
    }
   ],
   "source": [
    "train_dataloader, val_dataloader, test_dataloader = load_dataloader(\n",
    "    \"amazon\", sample_size=100_000\n",
    ")"
   ]
  },
  {
   "cell_type": "markdown",
   "id": "b082662a",
   "metadata": {
    "papermill": {
     "duration": 0.022261,
     "end_time": "2024-10-02T04:35:37.355434",
     "exception": false,
     "start_time": "2024-10-02T04:35:37.333173",
     "status": "completed"
    },
    "tags": []
   },
   "source": [
    "## Classical"
   ]
  },
  {
   "cell_type": "code",
   "execution_count": 7,
   "id": "6f3d11ec",
   "metadata": {
    "execution": {
     "iopub.execute_input": "2024-10-02T04:35:37.407896Z",
     "iopub.status.busy": "2024-10-02T04:35:37.407367Z",
     "iopub.status.idle": "2024-10-02T04:50:19.733195Z",
     "shell.execute_reply": "2024-10-02T04:50:19.731905Z"
    },
    "papermill": {
     "duration": 882.378842,
     "end_time": "2024-10-02T04:50:19.756821",
     "exception": false,
     "start_time": "2024-10-02T04:35:37.377979",
     "status": "completed"
    },
    "tags": []
   },
   "outputs": [
    {
     "name": "stdout",
     "output_type": "stream",
     "text": [
      "++ There will be 2 transformer blocks\n",
      "TextClassifier(\n",
      "  (squeeze): Linear(in_features=768, out_features=8, bias=True)\n",
      "  (transformers): ModuleList(\n",
      "    (0-1): 2 x Encoder(\n",
      "      (attn): MultiHeadedAttention(\n",
      "        (linears): ModuleList(\n",
      "          (0-2): 3 x Linear(in_features=8, out_features=8, bias=False)\n",
      "        )\n",
      "        (combine_heads): Linear(in_features=8, out_features=8, bias=False)\n",
      "        (dropout): Dropout(p=0.1, inplace=False)\n",
      "      )\n",
      "      (norm1): LayerNorm((8,), eps=1e-05, elementwise_affine=True)\n",
      "      (dropout1): Dropout(p=0.1, inplace=False)\n",
      "      (ffn): FeedForward(\n",
      "        (linear_1): Linear(in_features=8, out_features=16, bias=True)\n",
      "        (linear_2): Linear(in_features=16, out_features=8, bias=True)\n",
      "        (dropout): Dropout(p=0.1, inplace=False)\n",
      "      )\n",
      "      (norm2): LayerNorm((8,), eps=1e-05, elementwise_affine=True)\n",
      "      (dropout2): Dropout(p=0.1, inplace=False)\n",
      "    )\n",
      "  )\n",
      "  (dropout): Dropout(p=0.1, inplace=False)\n",
      "  (layer_norm): LayerNorm((8,), eps=1e-05, elementwise_affine=True)\n",
      "  (class_logits): Linear(in_features=8, out_features=1, bias=True)\n",
      ")\n",
      "Layer Name                               Number of Parameters\n",
      "============================================================\n",
      "squeeze.weight                           6144\n",
      "squeeze.bias                             8\n",
      "transformers.0.attn.linears.0.weight     64\n",
      "transformers.0.attn.linears.1.weight     64\n",
      "transformers.0.attn.linears.2.weight     64\n",
      "transformers.0.attn.combine_heads.weight 64\n",
      "transformers.0.norm1.weight              8\n",
      "transformers.0.norm1.bias                8\n",
      "transformers.0.ffn.linear_1.weight       128\n",
      "transformers.0.ffn.linear_1.bias         16\n",
      "transformers.0.ffn.linear_2.weight       128\n",
      "transformers.0.ffn.linear_2.bias         8\n",
      "transformers.0.norm2.weight              8\n",
      "transformers.0.norm2.bias                8\n",
      "transformers.1.attn.linears.0.weight     64\n",
      "transformers.1.attn.linears.1.weight     64\n",
      "transformers.1.attn.linears.2.weight     64\n",
      "transformers.1.attn.combine_heads.weight 64\n",
      "transformers.1.norm1.weight              8\n",
      "transformers.1.norm1.bias                8\n",
      "transformers.1.ffn.linear_1.weight       128\n",
      "transformers.1.ffn.linear_1.bias         16\n",
      "transformers.1.ffn.linear_2.weight       128\n",
      "transformers.1.ffn.linear_2.bias         8\n",
      "transformers.1.norm2.weight              8\n",
      "transformers.1.norm2.bias                8\n",
      "layer_norm.weight                        8\n",
      "layer_norm.bias                          8\n",
      "class_logits.weight                      8\n",
      "class_logits.bias                        1\n",
      "The model has 7,313 trainable parameters\n"
     ]
    },
    {
     "name": "stdout",
     "output_type": "stream",
     "text": [
      "Epoch 01: 1316.70batch/s, Epoch = 1m 0s, Loss = 0.3255|0.2147, Acc = 0.866|0.920, AUC = 93.471|97.276\n"
     ]
    },
    {
     "name": "stdout",
     "output_type": "stream",
     "text": [
      "Epoch 02: 1456.55batch/s, Epoch = 0m 54s, Loss = 0.2210|0.2075, Acc = 0.917|0.925, AUC = 96.820|97.534\n"
     ]
    },
    {
     "name": "stdout",
     "output_type": "stream",
     "text": [
      "Epoch 03: 1459.12batch/s, Epoch = 0m 54s, Loss = 0.2062|0.2044, Acc = 0.923|0.927, AUC = 97.198|97.705\n"
     ]
    },
    {
     "name": "stdout",
     "output_type": "stream",
     "text": [
      "Epoch 04: 1152.82batch/s, Epoch = 1m 9s, Loss = 0.1996|0.2130, Acc = 0.925|0.919, AUC = 97.394|97.762\n"
     ]
    },
    {
     "name": "stdout",
     "output_type": "stream",
     "text": [
      "Epoch 05: 1928.44batch/s, Epoch = 0m 41s, Loss = 0.1955|0.1963, Acc = 0.926|0.927, AUC = 97.511|97.737\n"
     ]
    },
    {
     "name": "stdout",
     "output_type": "stream",
     "text": [
      "Epoch 06: 2250.61batch/s, Epoch = 0m 35s, Loss = 0.1785|0.1931, Acc = 0.933|0.929, AUC = 97.880|97.825\n"
     ]
    },
    {
     "name": "stdout",
     "output_type": "stream",
     "text": [
      "Epoch 07: 2537.26batch/s, Epoch = 0m 31s, Loss = 0.1774|0.1945, Acc = 0.934|0.929, AUC = 97.899|97.823\n"
     ]
    },
    {
     "name": "stdout",
     "output_type": "stream",
     "text": [
      "Epoch 08: 2156.26batch/s, Epoch = 0m 37s, Loss = 0.1750|0.1943, Acc = 0.934|0.929, AUC = 97.962|97.858\n"
     ]
    },
    {
     "name": "stdout",
     "output_type": "stream",
     "text": [
      "Epoch 09: 1938.30batch/s, Epoch = 0m 41s, Loss = 0.1743|0.1914, Acc = 0.935|0.928, AUC = 97.972|97.873\n"
     ]
    },
    {
     "name": "stdout",
     "output_type": "stream",
     "text": [
      "Epoch 10: 1443.20batch/s, Epoch = 0m 55s, Loss = 0.1737|0.1912, Acc = 0.935|0.930, AUC = 97.994|97.886\n"
     ]
    },
    {
     "name": "stdout",
     "output_type": "stream",
     "text": [
      "Epoch 11: 1646.72batch/s, Epoch = 0m 48s, Loss = 0.1714|0.1915, Acc = 0.935|0.929, AUC = 98.030|97.882\n"
     ]
    },
    {
     "name": "stdout",
     "output_type": "stream",
     "text": [
      "Epoch 12: 2171.20batch/s, Epoch = 0m 36s, Loss = 0.1713|0.1919, Acc = 0.936|0.930, AUC = 98.042|97.879\n"
     ]
    },
    {
     "name": "stdout",
     "output_type": "stream",
     "text": [
      "Epoch 13: 2154.36batch/s, Epoch = 0m 37s, Loss = 0.1707|0.1921, Acc = 0.937|0.930, AUC = 98.037|97.878\n"
     ]
    },
    {
     "name": "stdout",
     "output_type": "stream",
     "text": [
      "Epoch 14: 2148.32batch/s, Epoch = 0m 37s, Loss = 0.1706|0.1924, Acc = 0.936|0.930, AUC = 98.056|97.876\n"
     ]
    },
    {
     "name": "stdout",
     "output_type": "stream",
     "text": [
      "Epoch 15: 1847.63batch/s, Epoch = 0m 43s, Loss = 0.1707|0.1925, Acc = 0.936|0.930, AUC = 98.059|97.875\n"
     ]
    },
    {
     "name": "stdout",
     "output_type": "stream",
     "text": [
      "Epoch 16: 1762.17batch/s, Epoch = 0m 45s, Loss = 0.1708|0.1925, Acc = 0.936|0.930, AUC = 98.020|97.876\n"
     ]
    },
    {
     "name": "stdout",
     "output_type": "stream",
     "text": [
      "Epoch 17: 2516.87batch/s, Epoch = 0m 31s, Loss = 0.1709|0.1924, Acc = 0.936|0.930, AUC = 98.048|97.876\n"
     ]
    },
    {
     "name": "stdout",
     "output_type": "stream",
     "text": [
      "Epoch 18: 1751.24batch/s, Epoch = 0m 45s, Loss = 0.1700|0.1925, Acc = 0.936|0.930, AUC = 98.080|97.876\n"
     ]
    },
    {
     "name": "stdout",
     "output_type": "stream",
     "text": [
      "Epoch 19: 1922.14batch/s, Epoch = 0m 41s, Loss = 0.1701|0.1923, Acc = 0.936|0.930, AUC = 98.074|97.876\n"
     ]
    },
    {
     "name": "stdout",
     "output_type": "stream",
     "text": [
      "Epoch 20: 2600.91batch/s, Epoch = 0m 30s, Loss = 0.1700|0.1932, Acc = 0.936|0.929, AUC = 98.054|97.876\n",
      "TOTAL TIME = 882.30s\n",
      "BEST ACC = 0.93% AT EPOCH 10\n",
      "BEST AUC = 97.89 AT EPOCH 10\n"
     ]
    }
   ],
   "source": [
    "train_loss, train_acc, val_loss, val_acc, train_auc, val_auc, best_dict = main(\n",
    "    train_dataloader=train_dataloader,\n",
    "    val_dataloader=val_dataloader,\n",
    "    test_dataloader=test_dataloader,\n",
    "    n_epochs=20,\n",
    "    sample_size=0,\n",
    "    batch_size=64,\n",
    "    embed_dim=8,\n",
    "    num_heads=2,\n",
    "    num_blocks=2,\n",
    "    tqdm_disabled=True,\n",
    "    batch=True,\n",
    ")\n",
    "\n",
    "classiscal_metrics = {\n",
    "    \"train_loss\": train_loss,\n",
    "    \"train_acc\": train_acc,\n",
    "    \"val_loss\": val_loss,\n",
    "    \"val_acc\": val_acc,\n",
    "    \"train_auc\": train_auc,\n",
    "    \"val_auc\": val_auc,\n",
    "    \"best_dict\": best_dict,\n",
    "}"
   ]
  },
  {
   "cell_type": "code",
   "execution_count": 8,
   "id": "3c0b4242",
   "metadata": {
    "execution": {
     "iopub.execute_input": "2024-10-02T04:50:19.802055Z",
     "iopub.status.busy": "2024-10-02T04:50:19.801719Z",
     "iopub.status.idle": "2024-10-02T04:50:20.485028Z",
     "shell.execute_reply": "2024-10-02T04:50:20.484287Z"
    },
    "papermill": {
     "duration": 0.708641,
     "end_time": "2024-10-02T04:50:20.486582",
     "exception": false,
     "start_time": "2024-10-02T04:50:19.777941",
     "status": "completed"
    },
    "tags": []
   },
   "outputs": [
    {
     "data": {
      "image/png": "[encoded data removed]",
      "text/plain": [
       "<Figure size 1200x1000 with 3 Axes>"
      ]
     },
     "metadata": {},
     "output_type": "display_data"
    }
   ],
   "source": [
    "plot_metrics(train_loss, val_loss, train_acc, val_acc, train_auc, val_auc)"
   ]
  },
  {
   "cell_type": "markdown",
   "id": "5b5e945f",
   "metadata": {
    "papermill": {
     "duration": 0.022469,
     "end_time": "2024-10-02T04:50:20.538301",
     "exception": false,
     "start_time": "2024-10-02T04:50:20.515832",
     "status": "completed"
    },
    "tags": []
   },
   "source": [
    "## Quantum with Pennylane GPU"
   ]
  },
  {
   "cell_type": "code",
   "execution_count": 9,
   "id": "3a4b7833",
   "metadata": {
    "execution": {
     "iopub.execute_input": "2024-10-02T04:50:20.591225Z",
     "iopub.status.busy": "2024-10-02T04:50:20.590732Z",
     "iopub.status.idle": "2024-10-02T14:17:20.871024Z",
     "shell.execute_reply": "2024-10-02T14:17:20.869966Z"
    },
    "papermill": {
     "duration": 34020.34304,
     "end_time": "2024-10-02T14:17:20.909545",
     "exception": false,
     "start_time": "2024-10-02T04:50:20.566505",
     "status": "completed"
    },
    "tags": []
   },
   "outputs": [
    {
     "name": "stdout",
     "output_type": "stream",
     "text": [
      "++ There will be 2 transformer blocks\n",
      "++ Transformer will use 8 qubits and 3 q layers\n",
      "The feed-forward head will use 8 qubits\n",
      "Using PennyLane quantum device default.qubit.torch\n",
      "weight_shapes = (n_qlayers, n_qubits) = (3, 8)\n",
      "weight_shapes = (n_qlayers, n_qubits) = (3, 8)\n",
      "TextClassifier(\n",
      "  (squeeze): Linear(in_features=768, out_features=8, bias=True)\n",
      "  (transformers): ModuleList(\n",
      "    (0-1): 2 x Encoder(\n",
      "      (attn): MultiHeadedAttention(\n",
      "        (k_linear): QuantumLayer(\n",
      "          (linear): <Quantum Torch Layer: func=qlayer>\n",
      "        )\n",
      "        (q_linear): QuantumLayer(\n",
      "          (linear): <Quantum Torch Layer: func=qlayer>\n",
      "        )\n",
      "        (v_linear): QuantumLayer(\n",
      "          (linear): <Quantum Torch Layer: func=qlayer>\n",
      "        )\n",
      "        (combine_heads): QuantumLayer(\n",
      "          (linear): <Quantum Torch Layer: func=qlayer>\n",
      "        )\n",
      "        (dropout): Dropout(p=0.1, inplace=False)\n",
      "      )\n",
      "      (norm1): LayerNorm((8,), eps=1e-05, elementwise_affine=True)\n",
      "      (dropout1): Dropout(p=0.1, inplace=False)\n",
      "      (ffn): FeedForward(\n",
      "        (linear_1): Linear(in_features=8, out_features=8, bias=True)\n",
      "        (linear_2): Linear(in_features=8, out_features=8, bias=True)\n",
      "        (vqc): QuantumLayer(\n",
      "          (linear): <Quantum Torch Layer: func=qlayer>\n",
      "        )\n",
      "        (gelu): GELU(approximate='none')\n",
      "        (dropout): Dropout(p=0.1, inplace=False)\n",
      "      )\n",
      "      (norm2): LayerNorm((8,), eps=1e-05, elementwise_affine=True)\n",
      "      (dropout2): Dropout(p=0.1, inplace=False)\n",
      "    )\n",
      "  )\n",
      "  (dropout): Dropout(p=0.1, inplace=False)\n",
      "  (layer_norm): LayerNorm((8,), eps=1e-05, elementwise_affine=True)\n",
      "  (class_logits): Linear(in_features=8, out_features=1, bias=True)\n",
      ")\n",
      "Layer Name                               Number of Parameters\n",
      "============================================================\n",
      "squeeze.weight                           6144\n",
      "squeeze.bias                             8\n",
      "transformers.0.attn.k_linear.linear.weights 24\n",
      "transformers.0.attn.q_linear.linear.weights 24\n",
      "transformers.0.attn.v_linear.linear.weights 24\n",
      "transformers.0.attn.combine_heads.linear.weights 24\n",
      "transformers.0.norm1.weight              8\n",
      "transformers.0.norm1.bias                8\n",
      "transformers.0.ffn.linear_1.weight       64\n",
      "transformers.0.ffn.linear_1.bias         8\n",
      "transformers.0.ffn.linear_2.weight       64\n",
      "transformers.0.ffn.linear_2.bias         8\n",
      "transformers.0.ffn.vqc.linear.weights    24\n",
      "transformers.0.norm2.weight              8\n",
      "transformers.0.norm2.bias                8\n",
      "transformers.1.attn.k_linear.linear.weights 24\n",
      "transformers.1.attn.q_linear.linear.weights 24\n",
      "transformers.1.attn.v_linear.linear.weights 24\n",
      "transformers.1.attn.combine_heads.linear.weights 24\n",
      "transformers.1.norm1.weight              8\n",
      "transformers.1.norm1.bias                8\n",
      "transformers.1.ffn.linear_1.weight       64\n",
      "transformers.1.ffn.linear_1.bias         8\n",
      "transformers.1.ffn.linear_2.weight       64\n",
      "transformers.1.ffn.linear_2.bias         8\n",
      "transformers.1.ffn.vqc.linear.weights    24\n",
      "transformers.1.norm2.weight              8\n",
      "transformers.1.norm2.bias                8\n",
      "layer_norm.weight                        8\n",
      "layer_norm.bias                          8\n",
      "class_logits.weight                      8\n",
      "class_logits.bias                        1\n",
      "The model has 6,769 trainable parameters\n"
     ]
    },
    {
     "name": "stderr",
     "output_type": "stream",
     "text": [
      "/group/pmc026/nchoong/qt/lib/python3.11/site-packages/pennylane/devices/default_qubit_torch.py:173: PennyLaneDeprecationWarning: Use of 'default.qubit.torch' is deprecated. Instead, use 'default.qubit', which supports backpropagation. If you experience issues, reach out to the PennyLane team on the discussion forum: https://discuss.pennylane.ai/\n",
      "  warnings.warn(\n",
      "/group/pmc026/nchoong/qt/lib/python3.11/site-packages/pennylane/devices/default_qubit_legacy.py:211: PennyLaneDeprecationWarning: Use of 'default.qubit.torch' is deprecated. Instead, use 'default.qubit', which supports backpropagation. If you experience issues, reach out to the PennyLane team on the discussion forum: https://discuss.pennylane.ai/\n",
      "  warnings.warn(\n"
     ]
    },
    {
     "name": "stdout",
     "output_type": "stream",
     "text": [
      "Epoch 01: 47.55batch/s, Epoch = 28m 2s, Loss = 0.4108|0.3968, Acc = 0.827|0.841, AUC = 89.353|93.217\n"
     ]
    },
    {
     "name": "stdout",
     "output_type": "stream",
     "text": [
      "Epoch 02: 47.52batch/s, Epoch = 28m 3s, Loss = 0.3602|0.3709, Acc = 0.852|0.852, AUC = 91.860|93.435\n"
     ]
    },
    {
     "name": "stdout",
     "output_type": "stream",
     "text": [
      "Epoch 03: 47.43batch/s, Epoch = 28m 6s, Loss = 0.3490|0.3306, Acc = 0.857|0.863, AUC = 92.344|93.759\n"
     ]
    },
    {
     "name": "stdout",
     "output_type": "stream",
     "text": [
      "Epoch 04: 46.90batch/s, Epoch = 28m 25s, Loss = 0.3482|0.3307, Acc = 0.857|0.864, AUC = 92.379|93.850\n"
     ]
    },
    {
     "name": "stdout",
     "output_type": "stream",
     "text": [
      "Epoch 05: 47.36batch/s, Epoch = 28m 9s, Loss = 0.3439|0.3254, Acc = 0.859|0.864, AUC = 92.576|93.906\n"
     ]
    },
    {
     "name": "stdout",
     "output_type": "stream",
     "text": [
      "Epoch 06: 46.85batch/s, Epoch = 28m 27s, Loss = 0.3288|0.3285, Acc = 0.868|0.865, AUC = 93.196|93.911\n"
     ]
    },
    {
     "name": "stdout",
     "output_type": "stream",
     "text": [
      "Epoch 07: 47.17batch/s, Epoch = 28m 16s, Loss = 0.3282|0.3234, Acc = 0.869|0.865, AUC = 93.215|93.980\n"
     ]
    },
    {
     "name": "stdout",
     "output_type": "stream",
     "text": [
      "Epoch 08: 46.77batch/s, Epoch = 28m 30s, Loss = 0.3281|0.3266, Acc = 0.869|0.865, AUC = 93.211|93.969\n"
     ]
    },
    {
     "name": "stdout",
     "output_type": "stream",
     "text": [
      "Epoch 09: 46.73batch/s, Epoch = 28m 32s, Loss = 0.3266|0.3293, Acc = 0.868|0.865, AUC = 93.281|93.965\n"
     ]
    },
    {
     "name": "stdout",
     "output_type": "stream",
     "text": [
      "Epoch 10: 46.93batch/s, Epoch = 28m 24s, Loss = 0.3277|0.3226, Acc = 0.869|0.866, AUC = 93.231|93.994\n"
     ]
    },
    {
     "name": "stdout",
     "output_type": "stream",
     "text": [
      "Epoch 11: 46.78batch/s, Epoch = 28m 30s, Loss = 0.3247|0.3298, Acc = 0.869|0.865, AUC = 93.371|93.969\n"
     ]
    },
    {
     "name": "stdout",
     "output_type": "stream",
     "text": [
      "Epoch 12: 46.89batch/s, Epoch = 28m 26s, Loss = 0.3241|0.3257, Acc = 0.870|0.865, AUC = 93.369|93.988\n"
     ]
    },
    {
     "name": "stdout",
     "output_type": "stream",
     "text": [
      "Epoch 13: 46.99batch/s, Epoch = 28m 22s, Loss = 0.3252|0.3293, Acc = 0.869|0.865, AUC = 93.348|93.964\n"
     ]
    },
    {
     "name": "stdout",
     "output_type": "stream",
     "text": [
      "Epoch 14: 46.88batch/s, Epoch = 28m 26s, Loss = 0.3251|0.3269, Acc = 0.870|0.865, AUC = 93.301|93.973\n"
     ]
    },
    {
     "name": "stdout",
     "output_type": "stream",
     "text": [
      "Epoch 15: 47.01batch/s, Epoch = 28m 21s, Loss = 0.3246|0.3281, Acc = 0.871|0.865, AUC = 93.369|93.982\n"
     ]
    },
    {
     "name": "stdout",
     "output_type": "stream",
     "text": [
      "Epoch 16: 47.14batch/s, Epoch = 28m 17s, Loss = 0.3231|0.3282, Acc = 0.872|0.865, AUC = 93.405|93.981\n"
     ]
    },
    {
     "name": "stdout",
     "output_type": "stream",
     "text": [
      "Epoch 17: 46.62batch/s, Epoch = 28m 35s, Loss = 0.3249|0.3278, Acc = 0.870|0.865, AUC = 93.361|93.981\n"
     ]
    },
    {
     "name": "stdout",
     "output_type": "stream",
     "text": [
      "Epoch 18: 46.91batch/s, Epoch = 28m 25s, Loss = 0.3218|0.3276, Acc = 0.870|0.865, AUC = 93.487|93.982\n"
     ]
    },
    {
     "name": "stdout",
     "output_type": "stream",
     "text": [
      "Epoch 19: 47.00batch/s, Epoch = 28m 22s, Loss = 0.3248|0.3276, Acc = 0.870|0.865, AUC = 93.356|93.982\n"
     ]
    },
    {
     "name": "stdout",
     "output_type": "stream",
     "text": [
      "Epoch 20: 47.24batch/s, Epoch = 28m 13s, Loss = 0.3246|0.3272, Acc = 0.871|0.865, AUC = 93.347|93.982\n",
      "TOTAL TIME = 34020.24s\n",
      "BEST ACC = 0.87% AT EPOCH 10\n",
      "BEST AUC = 93.99 AT EPOCH 10\n"
     ]
    }
   ],
   "source": [
    "train_loss, train_acc, val_loss, val_acc, train_auc, val_auc, best_dict = main(\n",
    "    train_dataloader=train_dataloader,\n",
    "    val_dataloader=val_dataloader,\n",
    "    test_dataloader=test_dataloader,\n",
    "    n_epochs=20,\n",
    "    sample_size=0,\n",
    "    batch_size=64,\n",
    "    embed_dim=8,\n",
    "    num_heads=2,\n",
    "    num_blocks=2,\n",
    "    n_qubits_transformer=8,\n",
    "    n_qubits_ffn=8,\n",
    "    n_qlayers=3,\n",
    "    tqdm_disabled=True,\n",
    "    q_device=\"default.qubit.torch\",\n",
    "    batch=True,\n",
    "    circuit_type=\"pennylane\",\n",
    ")\n",
    "\n",
    "quantum_pl_gpu_metrics_batch = {\n",
    "    \"train_loss\": train_loss,\n",
    "    \"train_acc\": train_acc,\n",
    "    \"val_loss\": val_loss,\n",
    "    \"val_acc\": val_acc,\n",
    "    \"train_auc\": train_auc,\n",
    "    \"val_auc\": val_auc,\n",
    "    \"best_dict\": best_dict,\n",
    "}"
   ]
  },
  {
   "cell_type": "code",
   "execution_count": 10,
   "id": "cbf6acf4",
   "metadata": {
    "execution": {
     "iopub.execute_input": "2024-10-02T14:17:20.963587Z",
     "iopub.status.busy": "2024-10-02T14:17:20.963125Z",
     "iopub.status.idle": "2024-10-02T14:17:21.493026Z",
     "shell.execute_reply": "2024-10-02T14:17:21.492146Z"
    },
    "papermill": {
     "duration": 0.561629,
     "end_time": "2024-10-02T14:17:21.496319",
     "exception": false,
     "start_time": "2024-10-02T14:17:20.934690",
     "status": "completed"
    },
    "tags": []
   },
   "outputs": [
    {
     "data": {
      "image/png": "[encoded data removed]",
      "text/plain": [
       "<Figure size 1200x1000 with 3 Axes>"
      ]
     },
     "metadata": {},
     "output_type": "display_data"
    }
   ],
   "source": [
    "plot_metrics(train_loss, val_loss, train_acc, val_acc, train_auc, val_auc)"
   ]
  }
 ],
 "metadata": {
  "kernelspec": {
   "display_name": "Python 3",
   "language": "python",
   "name": "python3"
  },
  "language_info": {
   "codemirror_mode": {
    "name": "ipython",
    "version": 3
   },
   "file_extension": ".py",
   "mimetype": "text/x-python",
   "name": "python",
   "nbconvert_exporter": "python",
   "pygments_lexer": "ipython3",
   "version": "3.11.8"
  },
  "papermill": {
   "default_parameters": {},
   "duration": 37019.48236,
   "end_time": "2024-10-02T14:17:31.935667",
   "environment_variables": {},
   "exception": null,
   "input_path": "./amazon.ipynb",
   "output_path": "./amazon.papermill.ipynb",
   "parameters": {},
   "start_time": "2024-10-02T04:00:32.453307",
   "version": "2.6.0"
  }
 },
 "nbformat": 4,
 "nbformat_minor": 5
}