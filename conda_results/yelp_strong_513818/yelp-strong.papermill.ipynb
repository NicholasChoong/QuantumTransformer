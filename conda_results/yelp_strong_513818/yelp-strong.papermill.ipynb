{
 "cells": [
  {
   "cell_type": "markdown",
   "id": "1054c6c6",
   "metadata": {
    "papermill": {
     "duration": 0.006929,
     "end_time": "2024-10-01T16:16:35.935348",
     "exception": false,
     "start_time": "2024-10-01T16:16:35.928419",
     "status": "completed"
    },
    "tags": []
   },
   "source": [
    "# Transformers"
   ]
  },
  {
   "cell_type": "code",
   "execution_count": 1,
   "id": "23eaf04a",
   "metadata": {
    "execution": {
     "iopub.execute_input": "2024-10-01T16:16:35.950295Z",
     "iopub.status.busy": "2024-10-01T16:16:35.949492Z",
     "iopub.status.idle": "2024-10-01T16:16:35.964294Z",
     "shell.execute_reply": "2024-10-01T16:16:35.963418Z"
    },
    "papermill": {
     "duration": 0.023278,
     "end_time": "2024-10-01T16:16:35.965930",
     "exception": false,
     "start_time": "2024-10-01T16:16:35.942652",
     "status": "completed"
    },
    "tags": []
   },
   "outputs": [
    {
     "data": {
      "text/plain": [
       "'/scratch/pmc026/nchoong/run_conda/513818'"
      ]
     },
     "execution_count": 1,
     "metadata": {},
     "output_type": "execute_result"
    }
   ],
   "source": [
    "import os\n",
    "import sys\n",
    "\n",
    "# os.chdir(\"..\")\n",
    "sys.path.append(os.getcwd())\n",
    "os.getcwd()"
   ]
  },
  {
   "cell_type": "code",
   "execution_count": 2,
   "id": "c6c9dcb1",
   "metadata": {
    "execution": {
     "iopub.execute_input": "2024-10-01T16:16:35.979212Z",
     "iopub.status.busy": "2024-10-01T16:16:35.978723Z",
     "iopub.status.idle": "2024-10-01T16:16:50.072507Z",
     "shell.execute_reply": "2024-10-01T16:16:50.071414Z"
    },
    "papermill": {
     "duration": 14.102498,
     "end_time": "2024-10-01T16:16:50.074488",
     "exception": false,
     "start_time": "2024-10-01T16:16:35.971990",
     "status": "completed"
    },
    "tags": []
   },
   "outputs": [
    {
     "name": "stderr",
     "output_type": "stream",
     "text": [
      "2024-10-02 00:16:41.837425: I tensorflow/core/util/port.cc:153] oneDNN custom operations are on. You may see slightly different numerical results due to floating-point round-off errors from different computation orders. To turn them off, set the environment variable `TF_ENABLE_ONEDNN_OPTS=0`.\n",
      "2024-10-02 00:16:41.851202: E external/local_xla/xla/stream_executor/cuda/cuda_fft.cc:485] Unable to register cuFFT factory: Attempting to register factory for plugin cuFFT when one has already been registered\n",
      "2024-10-02 00:16:41.867210: E external/local_xla/xla/stream_executor/cuda/cuda_dnn.cc:8454] Unable to register cuDNN factory: Attempting to register factory for plugin cuDNN when one has already been registered\n",
      "2024-10-02 00:16:41.872090: E external/local_xla/xla/stream_executor/cuda/cuda_blas.cc:1452] Unable to register cuBLAS factory: Attempting to register factory for plugin cuBLAS when one has already been registered\n",
      "2024-10-02 00:16:41.886510: I tensorflow/core/platform/cpu_feature_guard.cc:210] This TensorFlow binary is optimized to use available CPU instructions in performance-critical operations.\n",
      "To enable the following instructions: AVX2 AVX512F AVX512_VNNI FMA, in other operations, rebuild TensorFlow with the appropriate compiler flags.\n"
     ]
    },
    {
     "name": "stderr",
     "output_type": "stream",
     "text": [
      "2024-10-02 00:16:44.251421: W tensorflow/compiler/tf2tensorrt/utils/py_utils.cc:38] TF-TRT Warning: Could not find TensorRT\n"
     ]
    },
    {
     "name": "stderr",
     "output_type": "stream",
     "text": [
      "Please first ``pip install -U qiskit`` to enable related functionality in translation module\n"
     ]
    }
   ],
   "source": [
    "from transformer.pytorch.main_no_embed import main\n",
    "from transformer.pytorch.utils.plots import plot_metrics\n",
    "from transformer.pytorch.utils.load_dataloader import load_dataloader"
   ]
  },
  {
   "cell_type": "code",
   "execution_count": 3,
   "id": "8a1b2038",
   "metadata": {
    "execution": {
     "iopub.execute_input": "2024-10-01T16:16:50.090441Z",
     "iopub.status.busy": "2024-10-01T16:16:50.089365Z",
     "iopub.status.idle": "2024-10-01T16:16:50.097183Z",
     "shell.execute_reply": "2024-10-01T16:16:50.096276Z"
    },
    "papermill": {
     "duration": 0.016992,
     "end_time": "2024-10-01T16:16:50.098811",
     "exception": false,
     "start_time": "2024-10-01T16:16:50.081819",
     "status": "completed"
    },
    "tags": []
   },
   "outputs": [
    {
     "data": {
      "text/plain": [
       "device(type='cuda')"
      ]
     },
     "execution_count": 3,
     "metadata": {},
     "output_type": "execute_result"
    }
   ],
   "source": [
    "from config import dev\n",
    "\n",
    "dev"
   ]
  },
  {
   "cell_type": "code",
   "execution_count": 4,
   "id": "0ddbc793",
   "metadata": {
    "execution": {
     "iopub.execute_input": "2024-10-01T16:16:50.112681Z",
     "iopub.status.busy": "2024-10-01T16:16:50.112154Z",
     "iopub.status.idle": "2024-10-01T16:16:50.117186Z",
     "shell.execute_reply": "2024-10-01T16:16:50.116219Z"
    },
    "papermill": {
     "duration": 0.013744,
     "end_time": "2024-10-01T16:16:50.118779",
     "exception": false,
     "start_time": "2024-10-01T16:16:50.105035",
     "status": "completed"
    },
    "tags": []
   },
   "outputs": [],
   "source": [
    "import random\n",
    "import numpy as np\n",
    "import torch\n",
    "import tensorflow as tf"
   ]
  },
  {
   "cell_type": "code",
   "execution_count": 5,
   "id": "0157a5d6",
   "metadata": {
    "execution": {
     "iopub.execute_input": "2024-10-01T16:16:50.132717Z",
     "iopub.status.busy": "2024-10-01T16:16:50.131921Z",
     "iopub.status.idle": "2024-10-01T16:16:50.147156Z",
     "shell.execute_reply": "2024-10-01T16:16:50.146059Z"
    },
    "papermill": {
     "duration": 0.024061,
     "end_time": "2024-10-01T16:16:50.148828",
     "exception": false,
     "start_time": "2024-10-01T16:16:50.124767",
     "status": "completed"
    },
    "tags": []
   },
   "outputs": [],
   "source": [
    "seed = 42\n",
    "\n",
    "os.environ[\"PYTHONHASHSEED\"] = str(seed)\n",
    "random.seed(seed)\n",
    "np.random.seed(seed)\n",
    "tf.random.set_seed(seed)\n",
    "\n",
    "os.environ[\"OMP_NUM_THREADS\"] = str(os.cpu_count())\n",
    "os.environ[\"TF_NUM_INTEROP_THREADS\"] = str(os.cpu_count())\n",
    "os.environ[\"TF_NUM_INTRAOP_THREADS\"] = str(os.cpu_count())\n",
    "\n",
    "tf.config.threading.set_intra_op_parallelism_threads(os.cpu_count())\n",
    "tf.config.threading.set_inter_op_parallelism_threads(os.cpu_count())\n",
    "\n",
    "torch.manual_seed(seed)\n",
    "torch.cuda.manual_seed(seed)\n",
    "torch.backends.cudnn.deterministic = True\n",
    "torch.backends.cudnn.benchmark = False"
   ]
  },
  {
   "cell_type": "code",
   "execution_count": 6,
   "id": "e479018c",
   "metadata": {
    "execution": {
     "iopub.execute_input": "2024-10-01T16:16:50.164762Z",
     "iopub.status.busy": "2024-10-01T16:16:50.164344Z",
     "iopub.status.idle": "2024-10-01T16:35:04.794960Z",
     "shell.execute_reply": "2024-10-01T16:35:04.794069Z"
    },
    "papermill": {
     "duration": 1094.64081,
     "end_time": "2024-10-01T16:35:04.796814",
     "exception": false,
     "start_time": "2024-10-01T16:16:50.156004",
     "status": "completed"
    },
    "tags": []
   },
   "outputs": [
    {
     "name": "stderr",
     "output_type": "stream",
     "text": [
      "\r",
      "Loading train tensors:   0%|          | 0/146 [00:00<?, ?it/s]"
     ]
    },
    {
     "name": "stderr",
     "output_type": "stream",
     "text": [
      "\r",
      "Loading train tensors:   1%|          | 1/146 [00:03<07:18,  3.03s/it]"
     ]
    },
    {
     "name": "stderr",
     "output_type": "stream",
     "text": [
      "\r",
      "Loading train tensors:   1%|▏         | 2/146 [00:06<07:17,  3.04s/it]"
     ]
    },
    {
     "name": "stderr",
     "output_type": "stream",
     "text": [
      "\r",
      "Loading train tensors:   2%|▏         | 3/146 [00:09<07:12,  3.03s/it]"
     ]
    },
    {
     "name": "stderr",
     "output_type": "stream",
     "text": [
      "\r",
      "Loading train tensors:   3%|▎         | 4/146 [00:12<07:11,  3.04s/it]"
     ]
    },
    {
     "name": "stderr",
     "output_type": "stream",
     "text": [
      "\r",
      "Loading train tensors:   3%|▎         | 5/146 [00:15<07:08,  3.04s/it]"
     ]
    },
    {
     "name": "stderr",
     "output_type": "stream",
     "text": [
      "\r",
      "Loading train tensors:   4%|▍         | 6/146 [00:18<07:03,  3.03s/it]"
     ]
    },
    {
     "name": "stderr",
     "output_type": "stream",
     "text": [
      "\r",
      "Loading train tensors:   5%|▍         | 7/146 [00:21<07:03,  3.04s/it]"
     ]
    },
    {
     "name": "stderr",
     "output_type": "stream",
     "text": [
      "\r",
      "Loading train tensors:   5%|▌         | 8/146 [00:24<07:02,  3.06s/it]"
     ]
    },
    {
     "name": "stderr",
     "output_type": "stream",
     "text": [
      "\r",
      "Loading train tensors:   6%|▌         | 9/146 [00:27<06:59,  3.06s/it]"
     ]
    },
    {
     "name": "stderr",
     "output_type": "stream",
     "text": [
      "\r",
      "Loading train tensors:   7%|▋         | 10/146 [00:30<06:56,  3.06s/it]"
     ]
    },
    {
     "name": "stderr",
     "output_type": "stream",
     "text": [
      "\r",
      "Loading train tensors:   8%|▊         | 11/146 [00:33<06:53,  3.07s/it]"
     ]
    },
    {
     "name": "stderr",
     "output_type": "stream",
     "text": [
      "\r",
      "Loading train tensors:   8%|▊         | 12/146 [00:36<06:53,  3.09s/it]"
     ]
    },
    {
     "name": "stderr",
     "output_type": "stream",
     "text": [
      "\r",
      "Loading train tensors:   9%|▉         | 13/146 [00:39<06:48,  3.07s/it]"
     ]
    },
    {
     "name": "stderr",
     "output_type": "stream",
     "text": [
      "\r",
      "Loading train tensors:  10%|▉         | 14/146 [00:42<06:41,  3.04s/it]"
     ]
    },
    {
     "name": "stderr",
     "output_type": "stream",
     "text": [
      "\r",
      "Loading train tensors:  10%|█         | 15/146 [00:45<06:34,  3.01s/it]"
     ]
    },
    {
     "name": "stderr",
     "output_type": "stream",
     "text": [
      "\r",
      "Loading train tensors:  11%|█         | 16/146 [00:48<06:27,  2.98s/it]"
     ]
    },
    {
     "name": "stderr",
     "output_type": "stream",
     "text": [
      "\r",
      "Loading train tensors:  12%|█▏        | 17/146 [00:51<06:21,  2.96s/it]"
     ]
    },
    {
     "name": "stderr",
     "output_type": "stream",
     "text": [
      "\r",
      "Loading train tensors:  12%|█▏        | 18/146 [00:54<06:16,  2.94s/it]"
     ]
    },
    {
     "name": "stderr",
     "output_type": "stream",
     "text": [
      "\r",
      "Loading train tensors:  13%|█▎        | 19/146 [00:57<06:12,  2.94s/it]"
     ]
    },
    {
     "name": "stderr",
     "output_type": "stream",
     "text": [
      "\r",
      "Loading train tensors:  14%|█▎        | 20/146 [01:00<06:09,  2.93s/it]"
     ]
    },
    {
     "name": "stderr",
     "output_type": "stream",
     "text": [
      "\r",
      "Loading train tensors:  14%|█▍        | 21/146 [01:03<06:08,  2.95s/it]"
     ]
    },
    {
     "name": "stderr",
     "output_type": "stream",
     "text": [
      "\r",
      "Loading train tensors:  15%|█▌        | 22/146 [01:06<06:05,  2.94s/it]"
     ]
    },
    {
     "name": "stderr",
     "output_type": "stream",
     "text": [
      "\r",
      "Loading train tensors:  16%|█▌        | 23/146 [01:09<06:03,  2.96s/it]"
     ]
    },
    {
     "name": "stderr",
     "output_type": "stream",
     "text": [
      "\r",
      "Loading train tensors:  16%|█▋        | 24/146 [01:12<06:01,  2.96s/it]"
     ]
    },
    {
     "name": "stderr",
     "output_type": "stream",
     "text": [
      "\r",
      "Loading train tensors:  17%|█▋        | 25/146 [01:15<05:57,  2.96s/it]"
     ]
    },
    {
     "name": "stderr",
     "output_type": "stream",
     "text": [
      "\r",
      "Loading train tensors:  18%|█▊        | 26/146 [01:17<05:53,  2.95s/it]"
     ]
    },
    {
     "name": "stderr",
     "output_type": "stream",
     "text": [
      "\r",
      "Loading train tensors:  18%|█▊        | 27/146 [01:20<05:49,  2.93s/it]"
     ]
    },
    {
     "name": "stderr",
     "output_type": "stream",
     "text": [
      "\r",
      "Loading train tensors:  19%|█▉        | 28/146 [01:23<05:44,  2.92s/it]"
     ]
    },
    {
     "name": "stderr",
     "output_type": "stream",
     "text": [
      "\r",
      "Loading train tensors:  20%|█▉        | 29/146 [01:26<05:41,  2.91s/it]"
     ]
    },
    {
     "name": "stderr",
     "output_type": "stream",
     "text": [
      "\r",
      "Loading train tensors:  21%|██        | 30/146 [01:29<05:38,  2.92s/it]"
     ]
    },
    {
     "name": "stderr",
     "output_type": "stream",
     "text": [
      "\r",
      "Loading train tensors:  21%|██        | 31/146 [01:32<05:34,  2.91s/it]"
     ]
    },
    {
     "name": "stderr",
     "output_type": "stream",
     "text": [
      "\r",
      "Loading train tensors:  22%|██▏       | 32/146 [01:35<05:32,  2.92s/it]"
     ]
    },
    {
     "name": "stderr",
     "output_type": "stream",
     "text": [
      "\r",
      "Loading train tensors:  23%|██▎       | 33/146 [01:38<05:30,  2.92s/it]"
     ]
    },
    {
     "name": "stderr",
     "output_type": "stream",
     "text": [
      "\r",
      "Loading train tensors:  23%|██▎       | 34/146 [01:41<05:27,  2.93s/it]"
     ]
    },
    {
     "name": "stderr",
     "output_type": "stream",
     "text": [
      "\r",
      "Loading train tensors:  24%|██▍       | 35/146 [01:44<05:24,  2.92s/it]"
     ]
    },
    {
     "name": "stderr",
     "output_type": "stream",
     "text": [
      "\r",
      "Loading train tensors:  25%|██▍       | 36/146 [01:47<05:20,  2.91s/it]"
     ]
    },
    {
     "name": "stderr",
     "output_type": "stream",
     "text": [
      "\r",
      "Loading train tensors:  25%|██▌       | 37/146 [01:49<05:17,  2.91s/it]"
     ]
    },
    {
     "name": "stderr",
     "output_type": "stream",
     "text": [
      "\r",
      "Loading train tensors:  26%|██▌       | 38/146 [01:52<05:14,  2.91s/it]"
     ]
    },
    {
     "name": "stderr",
     "output_type": "stream",
     "text": [
      "\r",
      "Loading train tensors:  27%|██▋       | 39/146 [01:55<05:13,  2.93s/it]"
     ]
    },
    {
     "name": "stderr",
     "output_type": "stream",
     "text": [
      "\r",
      "Loading train tensors:  27%|██▋       | 40/146 [01:58<05:10,  2.93s/it]"
     ]
    },
    {
     "name": "stderr",
     "output_type": "stream",
     "text": [
      "\r",
      "Loading train tensors:  28%|██▊       | 41/146 [02:01<05:07,  2.93s/it]"
     ]
    },
    {
     "name": "stderr",
     "output_type": "stream",
     "text": [
      "\r",
      "Loading train tensors:  29%|██▉       | 42/146 [02:04<05:04,  2.93s/it]"
     ]
    },
    {
     "name": "stderr",
     "output_type": "stream",
     "text": [
      "\r",
      "Loading train tensors:  29%|██▉       | 43/146 [02:07<05:01,  2.92s/it]"
     ]
    },
    {
     "name": "stderr",
     "output_type": "stream",
     "text": [
      "\r",
      "Loading train tensors:  30%|███       | 44/146 [02:10<04:58,  2.93s/it]"
     ]
    },
    {
     "name": "stderr",
     "output_type": "stream",
     "text": [
      "\r",
      "Loading train tensors:  31%|███       | 45/146 [02:13<04:55,  2.92s/it]"
     ]
    },
    {
     "name": "stderr",
     "output_type": "stream",
     "text": [
      "\r",
      "Loading train tensors:  32%|███▏      | 46/146 [02:16<04:53,  2.93s/it]"
     ]
    },
    {
     "name": "stderr",
     "output_type": "stream",
     "text": [
      "\r",
      "Loading train tensors:  32%|███▏      | 47/146 [02:19<04:48,  2.92s/it]"
     ]
    },
    {
     "name": "stderr",
     "output_type": "stream",
     "text": [
      "\r",
      "Loading train tensors:  33%|███▎      | 48/146 [02:22<04:45,  2.91s/it]"
     ]
    },
    {
     "name": "stderr",
     "output_type": "stream",
     "text": [
      "\r",
      "Loading train tensors:  34%|███▎      | 49/146 [02:25<04:42,  2.92s/it]"
     ]
    },
    {
     "name": "stderr",
     "output_type": "stream",
     "text": [
      "\r",
      "Loading train tensors:  34%|███▍      | 50/146 [02:28<04:40,  2.92s/it]"
     ]
    },
    {
     "name": "stderr",
     "output_type": "stream",
     "text": [
      "\r",
      "Loading train tensors:  35%|███▍      | 51/146 [02:30<04:35,  2.91s/it]"
     ]
    },
    {
     "name": "stderr",
     "output_type": "stream",
     "text": [
      "\r",
      "Loading train tensors:  36%|███▌      | 52/146 [02:33<04:32,  2.90s/it]"
     ]
    },
    {
     "name": "stderr",
     "output_type": "stream",
     "text": [
      "\r",
      "Loading train tensors:  36%|███▋      | 53/146 [02:36<04:31,  2.92s/it]"
     ]
    },
    {
     "name": "stderr",
     "output_type": "stream",
     "text": [
      "\r",
      "Loading train tensors:  37%|███▋      | 54/146 [02:39<04:28,  2.91s/it]"
     ]
    },
    {
     "name": "stderr",
     "output_type": "stream",
     "text": [
      "\r",
      "Loading train tensors:  38%|███▊      | 55/146 [02:42<04:24,  2.91s/it]"
     ]
    },
    {
     "name": "stderr",
     "output_type": "stream",
     "text": [
      "\r",
      "Loading train tensors:  38%|███▊      | 56/146 [02:45<04:21,  2.91s/it]"
     ]
    },
    {
     "name": "stderr",
     "output_type": "stream",
     "text": [
      "\r",
      "Loading train tensors:  39%|███▉      | 57/146 [02:48<04:18,  2.90s/it]"
     ]
    },
    {
     "name": "stderr",
     "output_type": "stream",
     "text": [
      "\r",
      "Loading train tensors:  40%|███▉      | 58/146 [02:51<04:15,  2.90s/it]"
     ]
    },
    {
     "name": "stderr",
     "output_type": "stream",
     "text": [
      "\r",
      "Loading train tensors:  40%|████      | 59/146 [02:54<04:12,  2.91s/it]"
     ]
    },
    {
     "name": "stderr",
     "output_type": "stream",
     "text": [
      "\r",
      "Loading train tensors:  41%|████      | 60/146 [02:57<04:10,  2.91s/it]"
     ]
    },
    {
     "name": "stderr",
     "output_type": "stream",
     "text": [
      "\r",
      "Loading train tensors:  42%|████▏     | 61/146 [03:00<04:09,  2.94s/it]"
     ]
    },
    {
     "name": "stderr",
     "output_type": "stream",
     "text": [
      "\r",
      "Loading train tensors:  42%|████▏     | 62/146 [03:03<04:06,  2.94s/it]"
     ]
    },
    {
     "name": "stderr",
     "output_type": "stream",
     "text": [
      "\r",
      "Loading train tensors:  43%|████▎     | 63/146 [03:05<04:03,  2.94s/it]"
     ]
    },
    {
     "name": "stderr",
     "output_type": "stream",
     "text": [
      "\r",
      "Loading train tensors:  44%|████▍     | 64/146 [03:08<04:00,  2.93s/it]"
     ]
    },
    {
     "name": "stderr",
     "output_type": "stream",
     "text": [
      "\r",
      "Loading train tensors:  45%|████▍     | 65/146 [03:11<03:57,  2.93s/it]"
     ]
    },
    {
     "name": "stderr",
     "output_type": "stream",
     "text": [
      "\r",
      "Loading train tensors:  45%|████▌     | 66/146 [03:14<03:53,  2.92s/it]"
     ]
    },
    {
     "name": "stderr",
     "output_type": "stream",
     "text": [
      "\r",
      "Loading train tensors:  46%|████▌     | 67/146 [03:17<03:50,  2.92s/it]"
     ]
    },
    {
     "name": "stderr",
     "output_type": "stream",
     "text": [
      "\r",
      "Loading train tensors:  47%|████▋     | 68/146 [03:20<03:48,  2.93s/it]"
     ]
    },
    {
     "name": "stderr",
     "output_type": "stream",
     "text": [
      "\r",
      "Loading train tensors:  47%|████▋     | 69/146 [03:23<03:44,  2.92s/it]"
     ]
    },
    {
     "name": "stderr",
     "output_type": "stream",
     "text": [
      "\r",
      "Loading train tensors:  48%|████▊     | 70/146 [03:26<03:42,  2.93s/it]"
     ]
    },
    {
     "name": "stderr",
     "output_type": "stream",
     "text": [
      "\r",
      "Loading train tensors:  49%|████▊     | 71/146 [03:29<03:39,  2.92s/it]"
     ]
    },
    {
     "name": "stderr",
     "output_type": "stream",
     "text": [
      "\r",
      "Loading train tensors:  49%|████▉     | 72/146 [03:32<03:35,  2.91s/it]"
     ]
    },
    {
     "name": "stderr",
     "output_type": "stream",
     "text": [
      "\r",
      "Loading train tensors:  50%|█████     | 73/146 [03:35<03:32,  2.92s/it]"
     ]
    },
    {
     "name": "stderr",
     "output_type": "stream",
     "text": [
      "\r",
      "Loading train tensors:  51%|█████     | 74/146 [03:38<03:30,  2.92s/it]"
     ]
    },
    {
     "name": "stderr",
     "output_type": "stream",
     "text": [
      "\r",
      "Loading train tensors:  51%|█████▏    | 75/146 [03:40<03:27,  2.93s/it]"
     ]
    },
    {
     "name": "stderr",
     "output_type": "stream",
     "text": [
      "\r",
      "Loading train tensors:  52%|█████▏    | 76/146 [03:43<03:25,  2.94s/it]"
     ]
    },
    {
     "name": "stderr",
     "output_type": "stream",
     "text": [
      "\r",
      "Loading train tensors:  53%|█████▎    | 77/146 [03:46<03:23,  2.95s/it]"
     ]
    },
    {
     "name": "stderr",
     "output_type": "stream",
     "text": [
      "\r",
      "Loading train tensors:  53%|█████▎    | 78/146 [03:49<03:21,  2.96s/it]"
     ]
    },
    {
     "name": "stderr",
     "output_type": "stream",
     "text": [
      "\r",
      "Loading train tensors:  54%|█████▍    | 79/146 [03:52<03:18,  2.97s/it]"
     ]
    },
    {
     "name": "stderr",
     "output_type": "stream",
     "text": [
      "\r",
      "Loading train tensors:  55%|█████▍    | 80/146 [03:55<03:17,  2.99s/it]"
     ]
    },
    {
     "name": "stderr",
     "output_type": "stream",
     "text": [
      "\r",
      "Loading train tensors:  55%|█████▌    | 81/146 [03:58<03:14,  2.99s/it]"
     ]
    },
    {
     "name": "stderr",
     "output_type": "stream",
     "text": [
      "\r",
      "Loading train tensors:  56%|█████▌    | 82/146 [04:01<03:12,  3.01s/it]"
     ]
    },
    {
     "name": "stderr",
     "output_type": "stream",
     "text": [
      "\r",
      "Loading train tensors:  57%|█████▋    | 83/146 [04:04<03:09,  3.00s/it]"
     ]
    },
    {
     "name": "stderr",
     "output_type": "stream",
     "text": [
      "\r",
      "Loading train tensors:  58%|█████▊    | 84/146 [04:07<03:06,  3.00s/it]"
     ]
    },
    {
     "name": "stderr",
     "output_type": "stream",
     "text": [
      "\r",
      "Loading train tensors:  58%|█████▊    | 85/146 [04:10<03:03,  3.00s/it]"
     ]
    },
    {
     "name": "stderr",
     "output_type": "stream",
     "text": [
      "\r",
      "Loading train tensors:  59%|█████▉    | 86/146 [04:13<02:59,  3.00s/it]"
     ]
    },
    {
     "name": "stderr",
     "output_type": "stream",
     "text": [
      "\r",
      "Loading train tensors:  60%|█████▉    | 87/146 [04:16<02:56,  3.00s/it]"
     ]
    },
    {
     "name": "stderr",
     "output_type": "stream",
     "text": [
      "\r",
      "Loading train tensors:  60%|██████    | 88/146 [04:19<02:53,  3.00s/it]"
     ]
    },
    {
     "name": "stderr",
     "output_type": "stream",
     "text": [
      "\r",
      "Loading train tensors:  61%|██████    | 89/146 [04:22<02:50,  2.99s/it]"
     ]
    },
    {
     "name": "stderr",
     "output_type": "stream",
     "text": [
      "\r",
      "Loading train tensors:  62%|██████▏   | 90/146 [04:25<02:46,  2.98s/it]"
     ]
    },
    {
     "name": "stderr",
     "output_type": "stream",
     "text": [
      "\r",
      "Loading train tensors:  62%|██████▏   | 91/146 [04:28<02:44,  2.98s/it]"
     ]
    },
    {
     "name": "stderr",
     "output_type": "stream",
     "text": [
      "\r",
      "Loading train tensors:  63%|██████▎   | 92/146 [04:31<02:41,  2.99s/it]"
     ]
    },
    {
     "name": "stderr",
     "output_type": "stream",
     "text": [
      "\r",
      "Loading train tensors:  64%|██████▎   | 93/146 [04:34<02:38,  2.99s/it]"
     ]
    },
    {
     "name": "stderr",
     "output_type": "stream",
     "text": [
      "\r",
      "Loading train tensors:  64%|██████▍   | 94/146 [04:37<02:35,  2.99s/it]"
     ]
    },
    {
     "name": "stderr",
     "output_type": "stream",
     "text": [
      "\r",
      "Loading train tensors:  65%|██████▌   | 95/146 [04:40<02:32,  3.00s/it]"
     ]
    },
    {
     "name": "stderr",
     "output_type": "stream",
     "text": [
      "\r",
      "Loading train tensors:  66%|██████▌   | 96/146 [04:43<02:29,  3.00s/it]"
     ]
    },
    {
     "name": "stderr",
     "output_type": "stream",
     "text": [
      "\r",
      "Loading train tensors:  66%|██████▋   | 97/146 [04:46<02:27,  3.00s/it]"
     ]
    },
    {
     "name": "stderr",
     "output_type": "stream",
     "text": [
      "\r",
      "Loading train tensors:  67%|██████▋   | 98/146 [04:49<02:24,  3.00s/it]"
     ]
    },
    {
     "name": "stderr",
     "output_type": "stream",
     "text": [
      "\r",
      "Loading train tensors:  68%|██████▊   | 99/146 [04:52<02:21,  3.01s/it]"
     ]
    },
    {
     "name": "stderr",
     "output_type": "stream",
     "text": [
      "\r",
      "Loading train tensors:  68%|██████▊   | 100/146 [04:55<02:18,  3.00s/it]"
     ]
    },
    {
     "name": "stderr",
     "output_type": "stream",
     "text": [
      "\r",
      "Loading train tensors:  69%|██████▉   | 101/146 [04:58<02:15,  3.01s/it]"
     ]
    },
    {
     "name": "stderr",
     "output_type": "stream",
     "text": [
      "\r",
      "Loading train tensors:  70%|██████▉   | 102/146 [05:01<02:12,  3.00s/it]"
     ]
    },
    {
     "name": "stderr",
     "output_type": "stream",
     "text": [
      "\r",
      "Loading train tensors:  71%|███████   | 103/146 [05:04<02:09,  3.01s/it]"
     ]
    },
    {
     "name": "stderr",
     "output_type": "stream",
     "text": [
      "\r",
      "Loading train tensors:  71%|███████   | 104/146 [05:07<02:06,  3.01s/it]"
     ]
    },
    {
     "name": "stderr",
     "output_type": "stream",
     "text": [
      "\r",
      "Loading train tensors:  72%|███████▏  | 105/146 [05:10<02:03,  3.01s/it]"
     ]
    },
    {
     "name": "stderr",
     "output_type": "stream",
     "text": [
      "\r",
      "Loading train tensors:  73%|███████▎  | 106/146 [05:13<02:00,  3.01s/it]"
     ]
    },
    {
     "name": "stderr",
     "output_type": "stream",
     "text": [
      "\r",
      "Loading train tensors:  73%|███████▎  | 107/146 [05:16<01:57,  3.00s/it]"
     ]
    },
    {
     "name": "stderr",
     "output_type": "stream",
     "text": [
      "\r",
      "Loading train tensors:  74%|███████▍  | 108/146 [05:19<01:53,  3.00s/it]"
     ]
    },
    {
     "name": "stderr",
     "output_type": "stream",
     "text": [
      "\r",
      "Loading train tensors:  75%|███████▍  | 109/146 [05:22<01:50,  2.98s/it]"
     ]
    },
    {
     "name": "stderr",
     "output_type": "stream",
     "text": [
      "\r",
      "Loading train tensors:  75%|███████▌  | 110/146 [05:25<01:47,  2.99s/it]"
     ]
    },
    {
     "name": "stderr",
     "output_type": "stream",
     "text": [
      "\r",
      "Loading train tensors:  76%|███████▌  | 111/146 [05:28<01:44,  2.99s/it]"
     ]
    },
    {
     "name": "stderr",
     "output_type": "stream",
     "text": [
      "\r",
      "Loading train tensors:  77%|███████▋  | 112/146 [05:31<01:41,  2.99s/it]"
     ]
    },
    {
     "name": "stderr",
     "output_type": "stream",
     "text": [
      "\r",
      "Loading train tensors:  77%|███████▋  | 113/146 [05:34<01:38,  2.98s/it]"
     ]
    },
    {
     "name": "stderr",
     "output_type": "stream",
     "text": [
      "\r",
      "Loading train tensors:  78%|███████▊  | 114/146 [05:37<01:35,  2.98s/it]"
     ]
    },
    {
     "name": "stderr",
     "output_type": "stream",
     "text": [
      "\r",
      "Loading train tensors:  79%|███████▉  | 115/146 [05:40<01:32,  2.98s/it]"
     ]
    },
    {
     "name": "stderr",
     "output_type": "stream",
     "text": [
      "\r",
      "Loading train tensors:  79%|███████▉  | 116/146 [05:43<01:29,  2.98s/it]"
     ]
    },
    {
     "name": "stderr",
     "output_type": "stream",
     "text": [
      "\r",
      "Loading train tensors:  80%|████████  | 117/146 [05:46<01:26,  2.97s/it]"
     ]
    },
    {
     "name": "stderr",
     "output_type": "stream",
     "text": [
      "\r",
      "Loading train tensors:  81%|████████  | 118/146 [05:49<01:23,  2.97s/it]"
     ]
    },
    {
     "name": "stderr",
     "output_type": "stream",
     "text": [
      "\r",
      "Loading train tensors:  82%|████████▏ | 119/146 [05:52<01:20,  2.98s/it]"
     ]
    },
    {
     "name": "stderr",
     "output_type": "stream",
     "text": [
      "\r",
      "Loading train tensors:  82%|████████▏ | 120/146 [05:55<01:17,  2.97s/it]"
     ]
    },
    {
     "name": "stderr",
     "output_type": "stream",
     "text": [
      "\r",
      "Loading train tensors:  83%|████████▎ | 121/146 [05:58<01:14,  2.97s/it]"
     ]
    },
    {
     "name": "stderr",
     "output_type": "stream",
     "text": [
      "\r",
      "Loading train tensors:  84%|████████▎ | 122/146 [06:01<01:11,  2.98s/it]"
     ]
    },
    {
     "name": "stderr",
     "output_type": "stream",
     "text": [
      "\r",
      "Loading train tensors:  84%|████████▍ | 123/146 [06:04<01:08,  2.97s/it]"
     ]
    },
    {
     "name": "stderr",
     "output_type": "stream",
     "text": [
      "\r",
      "Loading train tensors:  85%|████████▍ | 124/146 [06:07<01:05,  2.98s/it]"
     ]
    },
    {
     "name": "stderr",
     "output_type": "stream",
     "text": [
      "\r",
      "Loading train tensors:  86%|████████▌ | 125/146 [06:10<01:02,  2.99s/it]"
     ]
    },
    {
     "name": "stderr",
     "output_type": "stream",
     "text": [
      "\r",
      "Loading train tensors:  86%|████████▋ | 126/146 [06:13<00:59,  2.99s/it]"
     ]
    },
    {
     "name": "stderr",
     "output_type": "stream",
     "text": [
      "\r",
      "Loading train tensors:  87%|████████▋ | 127/146 [06:16<00:56,  2.98s/it]"
     ]
    },
    {
     "name": "stderr",
     "output_type": "stream",
     "text": [
      "\r",
      "Loading train tensors:  88%|████████▊ | 128/146 [06:19<00:53,  2.98s/it]"
     ]
    },
    {
     "name": "stderr",
     "output_type": "stream",
     "text": [
      "\r",
      "Loading train tensors:  88%|████████▊ | 129/146 [06:22<00:50,  2.99s/it]"
     ]
    },
    {
     "name": "stderr",
     "output_type": "stream",
     "text": [
      "\r",
      "Loading train tensors:  89%|████████▉ | 130/146 [06:25<00:47,  2.99s/it]"
     ]
    },
    {
     "name": "stderr",
     "output_type": "stream",
     "text": [
      "\r",
      "Loading train tensors:  90%|████████▉ | 131/146 [06:28<00:44,  2.99s/it]"
     ]
    },
    {
     "name": "stderr",
     "output_type": "stream",
     "text": [
      "\r",
      "Loading train tensors:  90%|█████████ | 132/146 [06:31<00:41,  2.99s/it]"
     ]
    },
    {
     "name": "stderr",
     "output_type": "stream",
     "text": [
      "\r",
      "Loading train tensors:  91%|█████████ | 133/146 [06:34<00:38,  2.98s/it]"
     ]
    },
    {
     "name": "stderr",
     "output_type": "stream",
     "text": [
      "\r",
      "Loading train tensors:  92%|█████████▏| 134/146 [06:37<00:35,  2.99s/it]"
     ]
    },
    {
     "name": "stderr",
     "output_type": "stream",
     "text": [
      "\r",
      "Loading train tensors:  92%|█████████▏| 135/146 [06:40<00:32,  2.98s/it]"
     ]
    },
    {
     "name": "stderr",
     "output_type": "stream",
     "text": [
      "\r",
      "Loading train tensors:  93%|█████████▎| 136/146 [06:43<00:29,  2.99s/it]"
     ]
    },
    {
     "name": "stderr",
     "output_type": "stream",
     "text": [
      "\r",
      "Loading train tensors:  94%|█████████▍| 137/146 [06:46<00:26,  2.98s/it]"
     ]
    },
    {
     "name": "stderr",
     "output_type": "stream",
     "text": [
      "\r",
      "Loading train tensors:  95%|█████████▍| 138/146 [06:49<00:23,  3.00s/it]"
     ]
    },
    {
     "name": "stderr",
     "output_type": "stream",
     "text": [
      "\r",
      "Loading train tensors:  95%|█████████▌| 139/146 [06:52<00:21,  3.00s/it]"
     ]
    },
    {
     "name": "stderr",
     "output_type": "stream",
     "text": [
      "\r",
      "Loading train tensors:  96%|█████████▌| 140/146 [06:55<00:17,  2.99s/it]"
     ]
    },
    {
     "name": "stderr",
     "output_type": "stream",
     "text": [
      "\r",
      "Loading train tensors:  97%|█████████▋| 141/146 [06:58<00:15,  3.00s/it]"
     ]
    },
    {
     "name": "stderr",
     "output_type": "stream",
     "text": [
      "\r",
      "Loading train tensors:  97%|█████████▋| 142/146 [07:01<00:11,  2.99s/it]"
     ]
    },
    {
     "name": "stderr",
     "output_type": "stream",
     "text": [
      "\r",
      "Loading train tensors:  98%|█████████▊| 143/146 [07:04<00:08,  2.99s/it]"
     ]
    },
    {
     "name": "stderr",
     "output_type": "stream",
     "text": [
      "\r",
      "Loading train tensors:  99%|█████████▊| 144/146 [07:07<00:05,  3.00s/it]"
     ]
    },
    {
     "name": "stderr",
     "output_type": "stream",
     "text": [
      "\r",
      "Loading train tensors:  99%|█████████▉| 145/146 [07:10<00:03,  3.01s/it]"
     ]
    },
    {
     "name": "stderr",
     "output_type": "stream",
     "text": [
      "\r",
      "Loading train tensors: 100%|██████████| 146/146 [07:12<00:00,  2.85s/it]"
     ]
    },
    {
     "name": "stderr",
     "output_type": "stream",
     "text": [
      "\r",
      "Loading train tensors: 100%|██████████| 146/146 [07:12<00:00,  2.97s/it]"
     ]
    },
    {
     "name": "stderr",
     "output_type": "stream",
     "text": [
      "\n"
     ]
    },
    {
     "name": "stdout",
     "output_type": "stream",
     "text": [
      "Sample size:  75000\n"
     ]
    },
    {
     "name": "stderr",
     "output_type": "stream",
     "text": [
      "\r",
      "Loading val tensors:   0%|          | 0/37 [00:00<?, ?it/s]"
     ]
    },
    {
     "name": "stderr",
     "output_type": "stream",
     "text": [
      "\r",
      "Loading val tensors:   3%|▎         | 1/37 [00:03<01:52,  3.13s/it]"
     ]
    },
    {
     "name": "stderr",
     "output_type": "stream",
     "text": [
      "\r",
      "Loading val tensors:   5%|▌         | 2/37 [00:06<01:47,  3.08s/it]"
     ]
    },
    {
     "name": "stderr",
     "output_type": "stream",
     "text": [
      "\r",
      "Loading val tensors:   8%|▊         | 3/37 [00:09<01:45,  3.10s/it]"
     ]
    },
    {
     "name": "stderr",
     "output_type": "stream",
     "text": [
      "\r",
      "Loading val tensors:  11%|█         | 4/37 [00:12<01:42,  3.12s/it]"
     ]
    },
    {
     "name": "stderr",
     "output_type": "stream",
     "text": [
      "\r",
      "Loading val tensors:  14%|█▎        | 5/37 [00:15<01:40,  3.13s/it]"
     ]
    },
    {
     "name": "stderr",
     "output_type": "stream",
     "text": [
      "\r",
      "Loading val tensors:  16%|█▌        | 6/37 [00:18<01:38,  3.17s/it]"
     ]
    },
    {
     "name": "stderr",
     "output_type": "stream",
     "text": [
      "\r",
      "Loading val tensors:  19%|█▉        | 7/37 [00:21<01:34,  3.14s/it]"
     ]
    },
    {
     "name": "stderr",
     "output_type": "stream",
     "text": [
      "\r",
      "Loading val tensors:  22%|██▏       | 8/37 [00:24<01:30,  3.11s/it]"
     ]
    },
    {
     "name": "stderr",
     "output_type": "stream",
     "text": [
      "\r",
      "Loading val tensors:  24%|██▍       | 9/37 [00:26<01:17,  2.75s/it]"
     ]
    },
    {
     "name": "stderr",
     "output_type": "stream",
     "text": [
      "\r",
      "Loading val tensors:  27%|██▋       | 10/37 [00:29<01:10,  2.63s/it]"
     ]
    },
    {
     "name": "stderr",
     "output_type": "stream",
     "text": [
      "\r",
      "Loading val tensors:  30%|██▉       | 11/37 [00:32<01:11,  2.75s/it]"
     ]
    },
    {
     "name": "stderr",
     "output_type": "stream",
     "text": [
      "\r",
      "Loading val tensors:  32%|███▏      | 12/37 [00:35<01:10,  2.83s/it]"
     ]
    },
    {
     "name": "stderr",
     "output_type": "stream",
     "text": [
      "\r",
      "Loading val tensors:  35%|███▌      | 13/37 [00:38<01:09,  2.89s/it]"
     ]
    },
    {
     "name": "stderr",
     "output_type": "stream",
     "text": [
      "\r",
      "Loading val tensors:  38%|███▊      | 14/37 [00:41<01:07,  2.92s/it]"
     ]
    },
    {
     "name": "stderr",
     "output_type": "stream",
     "text": [
      "\r",
      "Loading val tensors:  41%|████      | 15/37 [00:44<01:04,  2.95s/it]"
     ]
    },
    {
     "name": "stderr",
     "output_type": "stream",
     "text": [
      "\r",
      "Loading val tensors:  43%|████▎     | 16/37 [00:47<01:02,  2.97s/it]"
     ]
    },
    {
     "name": "stderr",
     "output_type": "stream",
     "text": [
      "\r",
      "Loading val tensors:  46%|████▌     | 17/37 [00:50<00:59,  2.96s/it]"
     ]
    },
    {
     "name": "stderr",
     "output_type": "stream",
     "text": [
      "\r",
      "Loading val tensors:  49%|████▊     | 18/37 [00:53<00:56,  2.96s/it]"
     ]
    },
    {
     "name": "stderr",
     "output_type": "stream",
     "text": [
      "\r",
      "Loading val tensors:  51%|█████▏    | 19/37 [00:56<00:53,  2.97s/it]"
     ]
    },
    {
     "name": "stderr",
     "output_type": "stream",
     "text": [
      "\r",
      "Loading val tensors:  54%|█████▍    | 20/37 [00:59<00:50,  2.98s/it]"
     ]
    },
    {
     "name": "stderr",
     "output_type": "stream",
     "text": [
      "\r",
      "Loading val tensors:  57%|█████▋    | 21/37 [01:02<00:47,  2.99s/it]"
     ]
    },
    {
     "name": "stderr",
     "output_type": "stream",
     "text": [
      "\r",
      "Loading val tensors:  59%|█████▉    | 22/37 [01:05<00:44,  3.00s/it]"
     ]
    },
    {
     "name": "stderr",
     "output_type": "stream",
     "text": [
      "\r",
      "Loading val tensors:  62%|██████▏   | 23/37 [01:08<00:42,  3.00s/it]"
     ]
    },
    {
     "name": "stderr",
     "output_type": "stream",
     "text": [
      "\r",
      "Loading val tensors:  65%|██████▍   | 24/37 [01:11<00:39,  3.01s/it]"
     ]
    },
    {
     "name": "stderr",
     "output_type": "stream",
     "text": [
      "\r",
      "Loading val tensors:  68%|██████▊   | 25/37 [01:14<00:36,  3.01s/it]"
     ]
    },
    {
     "name": "stderr",
     "output_type": "stream",
     "text": [
      "\r",
      "Loading val tensors:  70%|███████   | 26/37 [01:17<00:33,  3.02s/it]"
     ]
    },
    {
     "name": "stderr",
     "output_type": "stream",
     "text": [
      "\r",
      "Loading val tensors:  73%|███████▎  | 27/37 [01:20<00:30,  3.08s/it]"
     ]
    },
    {
     "name": "stderr",
     "output_type": "stream",
     "text": [
      "\r",
      "Loading val tensors:  76%|███████▌  | 28/37 [01:23<00:28,  3.15s/it]"
     ]
    },
    {
     "name": "stderr",
     "output_type": "stream",
     "text": [
      "\r",
      "Loading val tensors:  78%|███████▊  | 29/37 [01:27<00:25,  3.19s/it]"
     ]
    },
    {
     "name": "stderr",
     "output_type": "stream",
     "text": [
      "\r",
      "Loading val tensors:  81%|████████  | 30/37 [01:30<00:22,  3.25s/it]"
     ]
    },
    {
     "name": "stderr",
     "output_type": "stream",
     "text": [
      "\r",
      "Loading val tensors:  84%|████████▍ | 31/37 [01:33<00:19,  3.27s/it]"
     ]
    },
    {
     "name": "stderr",
     "output_type": "stream",
     "text": [
      "\r",
      "Loading val tensors:  86%|████████▋ | 32/37 [01:37<00:16,  3.30s/it]"
     ]
    },
    {
     "name": "stderr",
     "output_type": "stream",
     "text": [
      "\r",
      "Loading val tensors:  89%|████████▉ | 33/37 [01:40<00:13,  3.30s/it]"
     ]
    },
    {
     "name": "stderr",
     "output_type": "stream",
     "text": [
      "\r",
      "Loading val tensors:  92%|█████████▏| 34/37 [01:43<00:09,  3.30s/it]"
     ]
    },
    {
     "name": "stderr",
     "output_type": "stream",
     "text": [
      "\r",
      "Loading val tensors:  95%|█████████▍| 35/37 [01:47<00:06,  3.28s/it]"
     ]
    },
    {
     "name": "stderr",
     "output_type": "stream",
     "text": [
      "\r",
      "Loading val tensors:  97%|█████████▋| 36/37 [01:50<00:03,  3.26s/it]"
     ]
    },
    {
     "name": "stderr",
     "output_type": "stream",
     "text": [
      "\r",
      "Loading val tensors: 100%|██████████| 37/37 [01:51<00:00,  2.70s/it]"
     ]
    },
    {
     "name": "stderr",
     "output_type": "stream",
     "text": [
      "\r",
      "Loading val tensors: 100%|██████████| 37/37 [01:51<00:00,  3.02s/it]"
     ]
    },
    {
     "name": "stderr",
     "output_type": "stream",
     "text": [
      "\n"
     ]
    },
    {
     "name": "stderr",
     "output_type": "stream",
     "text": [
      "\r",
      "Loading test tensors:   0%|          | 0/13 [00:00<?, ?it/s]"
     ]
    },
    {
     "name": "stderr",
     "output_type": "stream",
     "text": [
      "\r",
      "Loading test tensors:   8%|▊         | 1/13 [00:02<00:32,  2.75s/it]"
     ]
    },
    {
     "name": "stderr",
     "output_type": "stream",
     "text": [
      "\r",
      "Loading test tensors:  15%|█▌        | 2/13 [00:05<00:30,  2.79s/it]"
     ]
    },
    {
     "name": "stderr",
     "output_type": "stream",
     "text": [
      "\r",
      "Loading test tensors:  23%|██▎       | 3/13 [00:08<00:27,  2.77s/it]"
     ]
    },
    {
     "name": "stderr",
     "output_type": "stream",
     "text": [
      "\r",
      "Loading test tensors:  31%|███       | 4/13 [00:11<00:24,  2.76s/it]"
     ]
    },
    {
     "name": "stderr",
     "output_type": "stream",
     "text": [
      "\r",
      "Loading test tensors:  38%|███▊      | 5/13 [00:13<00:22,  2.77s/it]"
     ]
    },
    {
     "name": "stderr",
     "output_type": "stream",
     "text": [
      "\r",
      "Loading test tensors:  46%|████▌     | 6/13 [00:16<00:19,  2.77s/it]"
     ]
    },
    {
     "name": "stderr",
     "output_type": "stream",
     "text": [
      "\r",
      "Loading test tensors:  54%|█████▍    | 7/13 [00:19<00:16,  2.83s/it]"
     ]
    },
    {
     "name": "stderr",
     "output_type": "stream",
     "text": [
      "\r",
      "Loading test tensors:  62%|██████▏   | 8/13 [00:22<00:14,  2.88s/it]"
     ]
    },
    {
     "name": "stderr",
     "output_type": "stream",
     "text": [
      "\r",
      "Loading test tensors:  69%|██████▉   | 9/13 [00:25<00:11,  2.91s/it]"
     ]
    },
    {
     "name": "stderr",
     "output_type": "stream",
     "text": [
      "\r",
      "Loading test tensors:  77%|███████▋  | 10/13 [00:28<00:08,  2.94s/it]"
     ]
    },
    {
     "name": "stderr",
     "output_type": "stream",
     "text": [
      "\r",
      "Loading test tensors:  85%|████████▍ | 11/13 [00:30<00:05,  2.60s/it]"
     ]
    },
    {
     "name": "stderr",
     "output_type": "stream",
     "text": [
      "\r",
      "Loading test tensors:  92%|█████████▏| 12/13 [00:30<00:01,  2.00s/it]"
     ]
    },
    {
     "name": "stderr",
     "output_type": "stream",
     "text": [
      "\r",
      "Loading test tensors: 100%|██████████| 13/13 [00:31<00:00,  1.44s/it]"
     ]
    },
    {
     "name": "stderr",
     "output_type": "stream",
     "text": [
      "\r",
      "Loading test tensors: 100%|██████████| 13/13 [00:31<00:00,  2.40s/it]"
     ]
    },
    {
     "name": "stderr",
     "output_type": "stream",
     "text": [
      "\n"
     ]
    },
    {
     "name": "stdout",
     "output_type": "stream",
     "text": [
      "Test size:  38000\n",
      "Sampled train tensor shape:  torch.Size([300000, 128, 768])\n",
      "Sampled val tensor shape:  torch.Size([75000, 128, 768])\n",
      "Sampled test tensor shape:  torch.Size([38000, 128, 768])\n"
     ]
    },
    {
     "name": "stdout",
     "output_type": "stream",
     "text": [
      "Train, Val, Test size:  80000 20000 20000\n",
      "pos:  39792\n",
      "neg:  40208\n",
      "pos:  10092\n",
      "neg:  9908\n",
      "pos:  9969\n",
      "neg:  10031\n"
     ]
    }
   ],
   "source": [
    "train_dataloader, val_dataloader, test_dataloader = load_dataloader(\n",
    "    \"yelp\", sample_size=100_000\n",
    ")"
   ]
  },
  {
   "cell_type": "markdown",
   "id": "d885d11f",
   "metadata": {
    "papermill": {
     "duration": 0.011292,
     "end_time": "2024-10-01T16:35:04.837626",
     "exception": false,
     "start_time": "2024-10-01T16:35:04.826334",
     "status": "completed"
    },
    "tags": []
   },
   "source": [
    "## Classical"
   ]
  },
  {
   "cell_type": "code",
   "execution_count": 7,
   "id": "f953e0d1",
   "metadata": {
    "execution": {
     "iopub.execute_input": "2024-10-01T16:35:04.858914Z",
     "iopub.status.busy": "2024-10-01T16:35:04.858481Z",
     "iopub.status.idle": "2024-10-02T02:21:58.930667Z",
     "shell.execute_reply": "2024-10-02T02:21:58.929757Z"
    },
    "papermill": {
     "duration": 35214.106983,
     "end_time": "2024-10-02T02:21:58.954655",
     "exception": false,
     "start_time": "2024-10-01T16:35:04.847672",
     "status": "completed"
    },
    "tags": []
   },
   "outputs": [
    {
     "name": "stdout",
     "output_type": "stream",
     "text": [
      "++ There will be 2 transformer blocks\n",
      "++ Transformer will use 8 qubits and 3 q layers\n",
      "The feed-forward head will use 8 qubits\n",
      "Using PennyLane quantum device default.qubit.torch\n",
      "weight_shapes = (n_qlayers, n_qubits) = (3, 8)\n"
     ]
    },
    {
     "name": "stderr",
     "output_type": "stream",
     "text": [
      "/group/pmc026/nchoong/qt/lib/python3.11/site-packages/pennylane/devices/default_qubit_torch.py:173: PennyLaneDeprecationWarning: Use of 'default.qubit.torch' is deprecated. Instead, use 'default.qubit', which supports backpropagation. If you experience issues, reach out to the PennyLane team on the discussion forum: https://discuss.pennylane.ai/\n",
      "  warnings.warn(\n",
      "/group/pmc026/nchoong/qt/lib/python3.11/site-packages/pennylane/devices/default_qubit_legacy.py:211: PennyLaneDeprecationWarning: Use of 'default.qubit.torch' is deprecated. Instead, use 'default.qubit', which supports backpropagation. If you experience issues, reach out to the PennyLane team on the discussion forum: https://discuss.pennylane.ai/\n",
      "  warnings.warn(\n"
     ]
    },
    {
     "name": "stdout",
     "output_type": "stream",
     "text": [
      "weight_shapes = (n_qlayers, n_qubits) = (3, 8)\n",
      "TextClassifier(\n",
      "  (squeeze): Linear(in_features=768, out_features=8, bias=True)\n",
      "  (transformers): ModuleList(\n",
      "    (0-1): 2 x Encoder(\n",
      "      (attn): MultiHeadedAttention(\n",
      "        (k_linear): QuantumLayer(\n",
      "          (linear): <Quantum Torch Layer: func=qlayer>\n",
      "        )\n",
      "        (q_linear): QuantumLayer(\n",
      "          (linear): <Quantum Torch Layer: func=qlayer>\n",
      "        )\n",
      "        (v_linear): QuantumLayer(\n",
      "          (linear): <Quantum Torch Layer: func=qlayer>\n",
      "        )\n",
      "        (combine_heads): QuantumLayer(\n",
      "          (linear): <Quantum Torch Layer: func=qlayer>\n",
      "        )\n",
      "        (dropout): Dropout(p=0.1, inplace=False)\n",
      "      )\n",
      "      (norm1): LayerNorm((8,), eps=1e-05, elementwise_affine=True)\n",
      "      (dropout1): Dropout(p=0.1, inplace=False)\n",
      "      (ffn): FeedForward(\n",
      "        (linear_1): Linear(in_features=8, out_features=8, bias=True)\n",
      "        (linear_2): Linear(in_features=8, out_features=8, bias=True)\n",
      "        (vqc): QuantumLayer(\n",
      "          (linear): <Quantum Torch Layer: func=qlayer>\n",
      "        )\n",
      "        (gelu): GELU(approximate='none')\n",
      "        (dropout): Dropout(p=0.1, inplace=False)\n",
      "      )\n",
      "      (norm2): LayerNorm((8,), eps=1e-05, elementwise_affine=True)\n",
      "      (dropout2): Dropout(p=0.1, inplace=False)\n",
      "    )\n",
      "  )\n",
      "  (dropout): Dropout(p=0.1, inplace=False)\n",
      "  (layer_norm): LayerNorm((8,), eps=1e-05, elementwise_affine=True)\n",
      "  (class_logits): Linear(in_features=8, out_features=1, bias=True)\n",
      ")\n",
      "Layer Name                               Number of Parameters\n",
      "============================================================\n",
      "squeeze.weight                           6144\n",
      "squeeze.bias                             8\n",
      "transformers.0.attn.k_linear.linear.weights 72\n",
      "transformers.0.attn.q_linear.linear.weights 72\n",
      "transformers.0.attn.v_linear.linear.weights 72\n",
      "transformers.0.attn.combine_heads.linear.weights 72\n",
      "transformers.0.norm1.weight              8\n",
      "transformers.0.norm1.bias                8\n",
      "transformers.0.ffn.linear_1.weight       64\n",
      "transformers.0.ffn.linear_1.bias         8\n",
      "transformers.0.ffn.linear_2.weight       64\n",
      "transformers.0.ffn.linear_2.bias         8\n",
      "transformers.0.ffn.vqc.linear.weights    72\n",
      "transformers.0.norm2.weight              8\n",
      "transformers.0.norm2.bias                8\n",
      "transformers.1.attn.k_linear.linear.weights 72\n",
      "transformers.1.attn.q_linear.linear.weights 72\n",
      "transformers.1.attn.v_linear.linear.weights 72\n",
      "transformers.1.attn.combine_heads.linear.weights 72\n",
      "transformers.1.norm1.weight              8\n",
      "transformers.1.norm1.bias                8\n",
      "transformers.1.ffn.linear_1.weight       64\n",
      "transformers.1.ffn.linear_1.bias         8\n",
      "transformers.1.ffn.linear_2.weight       64\n",
      "transformers.1.ffn.linear_2.bias         8\n",
      "transformers.1.ffn.vqc.linear.weights    72\n",
      "transformers.1.norm2.weight              8\n",
      "transformers.1.norm2.bias                8\n",
      "layer_norm.weight                        8\n",
      "layer_norm.bias                          8\n",
      "class_logits.weight                      8\n",
      "class_logits.bias                        1\n",
      "The model has 7,249 trainable parameters\n"
     ]
    },
    {
     "name": "stdout",
     "output_type": "stream",
     "text": [
      "Epoch 01: 33.83batch/s, Epoch = 39m 24s, Loss = 0.4105|0.3450, Acc = 0.823|0.853, AUC = 89.464|93.492\n"
     ]
    },
    {
     "name": "stdout",
     "output_type": "stream",
     "text": [
      "Epoch 02: 34.19batch/s, Epoch = 38m 59s, Loss = 0.3582|0.3342, Acc = 0.849|0.855, AUC = 92.070|94.084\n"
     ]
    },
    {
     "name": "stdout",
     "output_type": "stream",
     "text": [
      "Epoch 03: 33.84batch/s, Epoch = 39m 23s, Loss = 0.3340|0.2957, Acc = 0.861|0.878, AUC = 93.138|95.157\n"
     ]
    },
    {
     "name": "stdout",
     "output_type": "stream",
     "text": [
      "Epoch 04: 34.30batch/s, Epoch = 38m 52s, Loss = 0.3094|0.2901, Acc = 0.873|0.884, AUC = 94.110|95.793\n"
     ]
    },
    {
     "name": "stdout",
     "output_type": "stream",
     "text": [
      "Epoch 05: 34.20batch/s, Epoch = 38m 59s, Loss = 0.2921|0.2691, Acc = 0.881|0.891, AUC = 94.764|96.290\n"
     ]
    },
    {
     "name": "stdout",
     "output_type": "stream",
     "text": [
      "Epoch 06: 34.04batch/s, Epoch = 39m 10s, Loss = 0.2703|0.2559, Acc = 0.891|0.899, AUC = 95.508|96.406\n"
     ]
    },
    {
     "name": "stdout",
     "output_type": "stream",
     "text": [
      "Epoch 07: 34.06batch/s, Epoch = 39m 9s, Loss = 0.2673|0.2593, Acc = 0.893|0.899, AUC = 95.593|96.453\n"
     ]
    },
    {
     "name": "stdout",
     "output_type": "stream",
     "text": [
      "Epoch 08: 34.31batch/s, Epoch = 38m 51s, Loss = 0.2651|0.2526, Acc = 0.894|0.902, AUC = 95.663|96.494\n"
     ]
    },
    {
     "name": "stdout",
     "output_type": "stream",
     "text": [
      "Epoch 09: 34.25batch/s, Epoch = 38m 55s, Loss = 0.2629|0.2531, Acc = 0.896|0.902, AUC = 95.735|96.539\n"
     ]
    },
    {
     "name": "stdout",
     "output_type": "stream",
     "text": [
      "Epoch 10: 34.38batch/s, Epoch = 38m 46s, Loss = 0.2606|0.2473, Acc = 0.897|0.903, AUC = 95.807|96.601\n"
     ]
    },
    {
     "name": "stdout",
     "output_type": "stream",
     "text": [
      "Epoch 11: 34.23batch/s, Epoch = 38m 57s, Loss = 0.2600|0.2488, Acc = 0.897|0.903, AUC = 95.831|96.604\n"
     ]
    },
    {
     "name": "stdout",
     "output_type": "stream",
     "text": [
      "Epoch 12: 33.84batch/s, Epoch = 39m 23s, Loss = 0.2599|0.2465, Acc = 0.897|0.903, AUC = 95.840|96.615\n"
     ]
    },
    {
     "name": "stdout",
     "output_type": "stream",
     "text": [
      "Epoch 13: 33.91batch/s, Epoch = 39m 18s, Loss = 0.2580|0.2486, Acc = 0.898|0.903, AUC = 95.891|96.613\n"
     ]
    },
    {
     "name": "stdout",
     "output_type": "stream",
     "text": [
      "Epoch 14: 33.87batch/s, Epoch = 39m 22s, Loss = 0.2589|0.2484, Acc = 0.898|0.903, AUC = 95.860|96.615\n"
     ]
    },
    {
     "name": "stdout",
     "output_type": "stream",
     "text": [
      "Epoch 15: 34.06batch/s, Epoch = 39m 9s, Loss = 0.2571|0.2481, Acc = 0.897|0.903, AUC = 95.923|96.618\n",
      "TOTAL TIME = 35206.01s\n",
      "BEST ACC = 0.90% AT EPOCH 15\n",
      "BEST AUC = 96.62 AT EPOCH 15\n"
     ]
    }
   ],
   "source": [
    "train_loss, train_acc, val_loss, val_acc, train_auc, val_auc, best_dict = main(\n",
    "    train_dataloader=train_dataloader,\n",
    "    val_dataloader=val_dataloader,\n",
    "    test_dataloader=test_dataloader,\n",
    "    n_epochs=15,\n",
    "    sample_size=0,\n",
    "    batch_size=64,\n",
    "    embed_dim=8,\n",
    "    num_heads=2,\n",
    "    num_blocks=2,\n",
    "    n_qubits_transformer=8,\n",
    "    n_qubits_ffn=8,\n",
    "    n_qlayers=3,\n",
    "    tqdm_disabled=True,\n",
    "    q_device=\"default.qubit.torch\",\n",
    "    batch=True,\n",
    "    circuit_type=\"pennylane\",\n",
    "    pennylane_args={\n",
    "        \"hadamard\": False,\n",
    "        \"encoder\": \"angle\",\n",
    "        \"angle_rot\": \"X\",\n",
    "        \"entangler\": \"strong\",\n",
    "        \"rot\": \"X\",\n",
    "        \"imprimitive\": \"X\",\n",
    "    },\n",
    ")\n",
    "\n",
    "quantum_pl_gpu_metrics_batch = {\n",
    "    \"train_loss\": train_loss,\n",
    "    \"train_acc\": train_acc,\n",
    "    \"val_loss\": val_loss,\n",
    "    \"val_acc\": val_acc,\n",
    "    \"train_auc\": train_auc,\n",
    "    \"val_auc\": val_auc,\n",
    "    \"best_dict\": best_dict,\n",
    "}"
   ]
  },
  {
   "cell_type": "code",
   "execution_count": 8,
   "id": "cc4d7cd8",
   "metadata": {
    "execution": {
     "iopub.execute_input": "2024-10-02T02:21:58.985306Z",
     "iopub.status.busy": "2024-10-02T02:21:58.984835Z",
     "iopub.status.idle": "2024-10-02T02:21:59.900190Z",
     "shell.execute_reply": "2024-10-02T02:21:59.899261Z"
    },
    "papermill": {
     "duration": 0.931624,
     "end_time": "2024-10-02T02:21:59.903262",
     "exception": false,
     "start_time": "2024-10-02T02:21:58.971638",
     "status": "completed"
    },
    "tags": []
   },
   "outputs": [
    {
     "data": {
      "image/png": "[encoded data removed]",
      "text/plain": [
       "<Figure size 1200x1000 with 3 Axes>"
      ]
     },
     "metadata": {},
     "output_type": "display_data"
    }
   ],
   "source": [
    "plot_metrics(train_loss, val_loss, train_acc, val_acc, train_auc, val_auc)"
   ]
  },
  {
   "cell_type": "markdown",
   "id": "50092673",
   "metadata": {
    "papermill": {
     "duration": 0.012849,
     "end_time": "2024-10-02T02:21:59.938859",
     "exception": false,
     "start_time": "2024-10-02T02:21:59.926010",
     "status": "completed"
    },
    "tags": []
   },
   "source": [
    "## Quantum with Pennylane GPU"
   ]
  }
 ],
 "metadata": {
  "kernelspec": {
   "display_name": "Python 3",
   "language": "python",
   "name": "python3"
  },
  "language_info": {
   "codemirror_mode": {
    "name": "ipython",
    "version": 3
   },
   "file_extension": ".py",
   "mimetype": "text/x-python",
   "name": "python",
   "nbconvert_exporter": "python",
   "pygments_lexer": "ipython3",
   "version": "3.11.8"
  },
  "papermill": {
   "default_parameters": {},
   "duration": 36335.636347,
   "end_time": "2024-10-02T02:22:08.974764",
   "environment_variables": {},
   "exception": null,
   "input_path": "./yelp-strong.ipynb",
   "output_path": "./yelp-strong.papermill.ipynb",
   "parameters": {},
   "start_time": "2024-10-01T16:16:33.338417",
   "version": "2.6.0"
  }
 },
 "nbformat": 4,
 "nbformat_minor": 5
}